{
 "cells": [
  {
   "cell_type": "markdown",
   "id": "3310c0cd-13de-4801-aa21-de2b8702d968",
   "metadata": {},
   "source": [
    "## Preamble"
   ]
  },
  {
   "cell_type": "code",
   "execution_count": 47,
   "id": "493ab2e5-201c-47eb-9c7c-a1f36304e3b5",
   "metadata": {},
   "outputs": [],
   "source": [
    "#pip install sympy\n",
    "#pip install numpy\n",
    "#pip install pandas\n",
    "#pip install matplotlib"
   ]
  },
  {
   "cell_type": "code",
   "execution_count": 3,
   "id": "de92e9b7-b066-4c07-a8bd-1c5683c77c7e",
   "metadata": {},
   "outputs": [
    {
     "name": "stdout",
     "output_type": "stream",
     "text": [
      "Collecting datetime\n",
      "  Downloading DateTime-5.5-py3-none-any.whl.metadata (33 kB)\n",
      "Collecting zope.interface (from datetime)\n",
      "  Downloading zope.interface-7.2-cp313-cp313-win_amd64.whl.metadata (45 kB)\n",
      "Requirement already satisfied: pytz in c:\\users\\rinc\\appdata\\local\\programs\\python\\python313\\lib\\site-packages (from datetime) (2024.2)\n",
      "Requirement already satisfied: setuptools in c:\\users\\rinc\\appdata\\local\\programs\\python\\python313\\lib\\site-packages (from zope.interface->datetime) (75.6.0)\n",
      "Downloading DateTime-5.5-py3-none-any.whl (52 kB)\n",
      "Downloading zope.interface-7.2-cp313-cp313-win_amd64.whl (212 kB)\n",
      "Installing collected packages: zope.interface, datetime\n",
      "Successfully installed datetime-5.5 zope.interface-7.2\n",
      "Note: you may need to restart the kernel to use updated packages.\n"
     ]
    },
    {
     "name": "stderr",
     "output_type": "stream",
     "text": [
      "\n",
      "[notice] A new release of pip is available: 24.2 -> 24.3.1\n",
      "[notice] To update, run: python.exe -m pip install --upgrade pip\n"
     ]
    }
   ],
   "source": [
    "pip install datetime"
   ]
  },
  {
   "cell_type": "code",
   "execution_count": 26,
   "id": "d9239d7e-5f6e-4d3a-9476-169cd0c66ddd",
   "metadata": {},
   "outputs": [
    {
     "name": "stdout",
     "output_type": "stream",
     "text": [
      "Note: you may need to restart the kernel to use updated packages.\n"
     ]
    },
    {
     "name": "stderr",
     "output_type": "stream",
     "text": [
      "ERROR: Could not find a version that satisfies the requirement csv (from versions: none)\n",
      "\n",
      "[notice] A new release of pip is available: 24.2 -> 24.3.1\n",
      "[notice] To update, run: python.exe -m pip install --upgrade pip\n",
      "ERROR: No matching distribution found for csv\n"
     ]
    }
   ],
   "source": [
    "pip install csv"
   ]
  },
  {
   "cell_type": "code",
   "execution_count": 10,
   "id": "75259635-d777-411e-91c6-8b649d2e3871",
   "metadata": {},
   "outputs": [],
   "source": [
    "import numpy as np\n",
    "from sympy import symbols, Eq, solve\n",
    "from sympy.interactive import printing\n",
    "from sympy import pi\n",
    "import pandas as pd\n",
    "import matplotlib.pyplot as plt\n",
    "import datetime"
   ]
  },
  {
   "cell_type": "markdown",
   "id": "3584579e-7ef8-40af-b9a2-5d8038adc7d3",
   "metadata": {},
   "source": [
    "## 02.12 -03.12 Offline Kalibrierung"
   ]
  },
  {
   "cell_type": "markdown",
   "id": "24ad0771-2f29-4a08-8890-6807f7ec79e3",
   "metadata": {},
   "source": [
    "### Import data"
   ]
  },
  {
   "cell_type": "code",
   "execution_count": 49,
   "id": "62110b84-557b-417e-998e-2b19bd3c896c",
   "metadata": {},
   "outputs": [
    {
     "name": "stdout",
     "output_type": "stream",
     "text": [
      "  Frequency             Re(1ω)              Im(1ω)             Re(3ω)  \\\n",
      "0    10.000  0.128168420396861  -0.000000000000004  0.001201514320429   \n",
      "1    14.592  0.128929742917524   0.000000000000003  0.001113346330013   \n",
      "2    21.294  0.129612913502709   0.000000000000004  0.001029477080947   \n",
      "3    31.072  0.130401750345415   0.000000000000010  0.000950022228322   \n",
      "4    45.342  0.130923792752236   0.000000000000005  0.000871625278675   \n",
      "5    66.164  0.131501573258185  -0.000000000000018  0.000796766542770   \n",
      "6    96.549  0.131855597866627   0.000000000000010  0.000723240231149   \n",
      "7   140.887  0.132121031585632  -0.000000000000012  0.000650013159849   \n",
      "8   205.587  0.132404500544174   0.000000000000039  0.000577341312168   \n",
      "9   300.000  0.132491124737582   0.000000000000149  0.000507469009460   \n",
      "\n",
      "               Im(3ω)           Phase(1ω)            Phase(3ω)      Vref  \\\n",
      "0  -0.000279804426717  -0.000000000001870  -13.109195621472953  0.099384   \n",
      "1  -0.000277384384230   0.000000000001249  -13.990114035348618  0.099090   \n",
      "2  -0.000275458954937   0.000000000001636  -14.979819379861420  0.098844   \n",
      "3  -0.000273876427473   0.000000000004540  -16.081437325952354  0.098694   \n",
      "4  -0.000271773873834   0.000000000002236  -17.317545171358915  0.098499   \n",
      "5  -0.000270357226748  -0.000000000007992  -18.742999108909647  0.098368   \n",
      "6  -0.000267692321052   0.000000000004210  -20.310984168378134  0.098208   \n",
      "7  -0.000264381749779  -0.000000000005122  -22.133193942631220  0.098012   \n",
      "8  -0.000260149654714   0.000000000017062  -24.256299136321825  0.097772   \n",
      "9  -0.000254816879729   0.000000000064306  -26.662732169375502  0.097530   \n",
      "\n",
      "    Current    Re(ΔT) Δ[Re(ΔT)]     Im(ΔT) Δ[Im(ΔT)]     Power Temperature  \n",
      "0  0.009938  1.889020  0.000000  -0.439908  0.002101  0.001274     -145.23  \n",
      "1  0.009909  1.755598  0.000000  -0.437398  0.002089  0.001278     -144.34  \n",
      "2  0.009884  1.627391  0.000000  -0.435444  0.002080  0.001281     -143.54  \n",
      "3  0.009869  1.504062  0.000000  -0.433597  0.002071  0.001287     -142.76  \n",
      "4  0.009850  1.382681  0.000000  -0.431122  0.002059  0.001290     -142.14  \n",
      "5  0.009837  1.265610  0.000000  -0.429444  0.002051  0.001294     -141.55  \n",
      "6  0.009821  1.150694  0.000000  -0.425905  0.002035  0.001295     -141.09  \n",
      "7  0.009801  1.036261  0.000000  -0.421481  0.002014  0.001295     -140.67  \n",
      "8  0.009777  0.922663  0.000000  -0.415751  0.001987  0.001295     -140.19  \n",
      "9  0.009753  0.813010  0.000000  -0.408239  0.001951  0.001292     -139.86  \n"
     ]
    }
   ],
   "source": [
    "# File import\n",
    "with open('calibrationdata.txt', 'r') as file:\n",
    "    lines = file.readlines()[0:]\n",
    "\n",
    "data = []\n",
    "for line in lines:\n",
    "    # Split\n",
    "    parts = line.split()\n",
    "    \n",
    "    # Bye first column\n",
    "    row = parts[2:]\n",
    "    data.append(row)\n",
    "\n",
    "# Column names\n",
    "columns = [\n",
    "     \"Frequency\", \"Re(1ω)\", \"Im(1ω)\", \"Re(3ω)\", \"Im(3ω)\", \"Phase(1ω)\", \"Phase(3ω)\",\n",
    "    \"Vref\", \"Current\", \"Re(ΔT)\", \"Δ[Re(ΔT)]\", \"Im(ΔT)\", \"Δ[Im(ΔT)]\", \"Power\", \"Temperature\"\n",
    "]\n",
    "\n",
    "# DataFrame\n",
    "df = pd.DataFrame(data, columns=columns)\n",
    "print(df)"
   ]
  },
  {
   "cell_type": "code",
   "execution_count": 50,
   "id": "b8975dfc-52d3-41bf-b1b6-946573ec9c95",
   "metadata": {},
   "outputs": [
    {
     "data": {
      "text/html": [
       "<div>\n",
       "<style scoped>\n",
       "    .dataframe tbody tr th:only-of-type {\n",
       "        vertical-align: middle;\n",
       "    }\n",
       "\n",
       "    .dataframe tbody tr th {\n",
       "        vertical-align: top;\n",
       "    }\n",
       "\n",
       "    .dataframe thead th {\n",
       "        text-align: right;\n",
       "    }\n",
       "</style>\n",
       "<table border=\"1\" class=\"dataframe\">\n",
       "  <thead>\n",
       "    <tr style=\"text-align: right;\">\n",
       "      <th></th>\n",
       "      <th>Frequency</th>\n",
       "      <th>Re(1ω)</th>\n",
       "      <th>Im(1ω)</th>\n",
       "      <th>Re(3ω)</th>\n",
       "      <th>Im(3ω)</th>\n",
       "      <th>Phase(1ω)</th>\n",
       "      <th>Phase(3ω)</th>\n",
       "      <th>Vref</th>\n",
       "      <th>Current</th>\n",
       "      <th>Re(ΔT)</th>\n",
       "      <th>Δ[Re(ΔT)]</th>\n",
       "      <th>Im(ΔT)</th>\n",
       "      <th>Δ[Im(ΔT)]</th>\n",
       "      <th>Power</th>\n",
       "      <th>Temperature</th>\n",
       "    </tr>\n",
       "  </thead>\n",
       "  <tbody>\n",
       "    <tr>\n",
       "      <th>0</th>\n",
       "      <td>10.000</td>\n",
       "      <td>0.128168420396861</td>\n",
       "      <td>-0.000000000000004</td>\n",
       "      <td>0.001201514320429</td>\n",
       "      <td>-0.000279804426717</td>\n",
       "      <td>-0.000000000001870</td>\n",
       "      <td>-13.109195621472953</td>\n",
       "      <td>0.099384</td>\n",
       "      <td>0.009938</td>\n",
       "      <td>1.889020</td>\n",
       "      <td>0.000000</td>\n",
       "      <td>-0.439908</td>\n",
       "      <td>0.002101</td>\n",
       "      <td>0.001274</td>\n",
       "      <td>-145.23</td>\n",
       "    </tr>\n",
       "    <tr>\n",
       "      <th>1</th>\n",
       "      <td>14.592</td>\n",
       "      <td>0.128929742917524</td>\n",
       "      <td>0.000000000000003</td>\n",
       "      <td>0.001113346330013</td>\n",
       "      <td>-0.000277384384230</td>\n",
       "      <td>0.000000000001249</td>\n",
       "      <td>-13.990114035348618</td>\n",
       "      <td>0.099090</td>\n",
       "      <td>0.009909</td>\n",
       "      <td>1.755598</td>\n",
       "      <td>0.000000</td>\n",
       "      <td>-0.437398</td>\n",
       "      <td>0.002089</td>\n",
       "      <td>0.001278</td>\n",
       "      <td>-144.34</td>\n",
       "    </tr>\n",
       "    <tr>\n",
       "      <th>2</th>\n",
       "      <td>21.294</td>\n",
       "      <td>0.129612913502709</td>\n",
       "      <td>0.000000000000004</td>\n",
       "      <td>0.001029477080947</td>\n",
       "      <td>-0.000275458954937</td>\n",
       "      <td>0.000000000001636</td>\n",
       "      <td>-14.979819379861420</td>\n",
       "      <td>0.098844</td>\n",
       "      <td>0.009884</td>\n",
       "      <td>1.627391</td>\n",
       "      <td>0.000000</td>\n",
       "      <td>-0.435444</td>\n",
       "      <td>0.002080</td>\n",
       "      <td>0.001281</td>\n",
       "      <td>-143.54</td>\n",
       "    </tr>\n",
       "    <tr>\n",
       "      <th>3</th>\n",
       "      <td>31.072</td>\n",
       "      <td>0.130401750345415</td>\n",
       "      <td>0.000000000000010</td>\n",
       "      <td>0.000950022228322</td>\n",
       "      <td>-0.000273876427473</td>\n",
       "      <td>0.000000000004540</td>\n",
       "      <td>-16.081437325952354</td>\n",
       "      <td>0.098694</td>\n",
       "      <td>0.009869</td>\n",
       "      <td>1.504062</td>\n",
       "      <td>0.000000</td>\n",
       "      <td>-0.433597</td>\n",
       "      <td>0.002071</td>\n",
       "      <td>0.001287</td>\n",
       "      <td>-142.76</td>\n",
       "    </tr>\n",
       "    <tr>\n",
       "      <th>4</th>\n",
       "      <td>45.342</td>\n",
       "      <td>0.130923792752236</td>\n",
       "      <td>0.000000000000005</td>\n",
       "      <td>0.000871625278675</td>\n",
       "      <td>-0.000271773873834</td>\n",
       "      <td>0.000000000002236</td>\n",
       "      <td>-17.317545171358915</td>\n",
       "      <td>0.098499</td>\n",
       "      <td>0.009850</td>\n",
       "      <td>1.382681</td>\n",
       "      <td>0.000000</td>\n",
       "      <td>-0.431122</td>\n",
       "      <td>0.002059</td>\n",
       "      <td>0.001290</td>\n",
       "      <td>-142.14</td>\n",
       "    </tr>\n",
       "    <tr>\n",
       "      <th>5</th>\n",
       "      <td>66.164</td>\n",
       "      <td>0.131501573258185</td>\n",
       "      <td>-0.000000000000018</td>\n",
       "      <td>0.000796766542770</td>\n",
       "      <td>-0.000270357226748</td>\n",
       "      <td>-0.000000000007992</td>\n",
       "      <td>-18.742999108909647</td>\n",
       "      <td>0.098368</td>\n",
       "      <td>0.009837</td>\n",
       "      <td>1.265610</td>\n",
       "      <td>0.000000</td>\n",
       "      <td>-0.429444</td>\n",
       "      <td>0.002051</td>\n",
       "      <td>0.001294</td>\n",
       "      <td>-141.55</td>\n",
       "    </tr>\n",
       "    <tr>\n",
       "      <th>6</th>\n",
       "      <td>96.549</td>\n",
       "      <td>0.131855597866627</td>\n",
       "      <td>0.000000000000010</td>\n",
       "      <td>0.000723240231149</td>\n",
       "      <td>-0.000267692321052</td>\n",
       "      <td>0.000000000004210</td>\n",
       "      <td>-20.310984168378134</td>\n",
       "      <td>0.098208</td>\n",
       "      <td>0.009821</td>\n",
       "      <td>1.150694</td>\n",
       "      <td>0.000000</td>\n",
       "      <td>-0.425905</td>\n",
       "      <td>0.002035</td>\n",
       "      <td>0.001295</td>\n",
       "      <td>-141.09</td>\n",
       "    </tr>\n",
       "    <tr>\n",
       "      <th>7</th>\n",
       "      <td>140.887</td>\n",
       "      <td>0.132121031585632</td>\n",
       "      <td>-0.000000000000012</td>\n",
       "      <td>0.000650013159849</td>\n",
       "      <td>-0.000264381749779</td>\n",
       "      <td>-0.000000000005122</td>\n",
       "      <td>-22.133193942631220</td>\n",
       "      <td>0.098012</td>\n",
       "      <td>0.009801</td>\n",
       "      <td>1.036261</td>\n",
       "      <td>0.000000</td>\n",
       "      <td>-0.421481</td>\n",
       "      <td>0.002014</td>\n",
       "      <td>0.001295</td>\n",
       "      <td>-140.67</td>\n",
       "    </tr>\n",
       "    <tr>\n",
       "      <th>8</th>\n",
       "      <td>205.587</td>\n",
       "      <td>0.132404500544174</td>\n",
       "      <td>0.000000000000039</td>\n",
       "      <td>0.000577341312168</td>\n",
       "      <td>-0.000260149654714</td>\n",
       "      <td>0.000000000017062</td>\n",
       "      <td>-24.256299136321825</td>\n",
       "      <td>0.097772</td>\n",
       "      <td>0.009777</td>\n",
       "      <td>0.922663</td>\n",
       "      <td>0.000000</td>\n",
       "      <td>-0.415751</td>\n",
       "      <td>0.001987</td>\n",
       "      <td>0.001295</td>\n",
       "      <td>-140.19</td>\n",
       "    </tr>\n",
       "    <tr>\n",
       "      <th>9</th>\n",
       "      <td>300.000</td>\n",
       "      <td>0.132491124737582</td>\n",
       "      <td>0.000000000000149</td>\n",
       "      <td>0.000507469009460</td>\n",
       "      <td>-0.000254816879729</td>\n",
       "      <td>0.000000000064306</td>\n",
       "      <td>-26.662732169375502</td>\n",
       "      <td>0.097530</td>\n",
       "      <td>0.009753</td>\n",
       "      <td>0.813010</td>\n",
       "      <td>0.000000</td>\n",
       "      <td>-0.408239</td>\n",
       "      <td>0.001951</td>\n",
       "      <td>0.001292</td>\n",
       "      <td>-139.86</td>\n",
       "    </tr>\n",
       "  </tbody>\n",
       "</table>\n",
       "</div>"
      ],
      "text/plain": [
       "  Frequency             Re(1ω)              Im(1ω)             Re(3ω)  \\\n",
       "0    10.000  0.128168420396861  -0.000000000000004  0.001201514320429   \n",
       "1    14.592  0.128929742917524   0.000000000000003  0.001113346330013   \n",
       "2    21.294  0.129612913502709   0.000000000000004  0.001029477080947   \n",
       "3    31.072  0.130401750345415   0.000000000000010  0.000950022228322   \n",
       "4    45.342  0.130923792752236   0.000000000000005  0.000871625278675   \n",
       "5    66.164  0.131501573258185  -0.000000000000018  0.000796766542770   \n",
       "6    96.549  0.131855597866627   0.000000000000010  0.000723240231149   \n",
       "7   140.887  0.132121031585632  -0.000000000000012  0.000650013159849   \n",
       "8   205.587  0.132404500544174   0.000000000000039  0.000577341312168   \n",
       "9   300.000  0.132491124737582   0.000000000000149  0.000507469009460   \n",
       "\n",
       "               Im(3ω)           Phase(1ω)            Phase(3ω)      Vref  \\\n",
       "0  -0.000279804426717  -0.000000000001870  -13.109195621472953  0.099384   \n",
       "1  -0.000277384384230   0.000000000001249  -13.990114035348618  0.099090   \n",
       "2  -0.000275458954937   0.000000000001636  -14.979819379861420  0.098844   \n",
       "3  -0.000273876427473   0.000000000004540  -16.081437325952354  0.098694   \n",
       "4  -0.000271773873834   0.000000000002236  -17.317545171358915  0.098499   \n",
       "5  -0.000270357226748  -0.000000000007992  -18.742999108909647  0.098368   \n",
       "6  -0.000267692321052   0.000000000004210  -20.310984168378134  0.098208   \n",
       "7  -0.000264381749779  -0.000000000005122  -22.133193942631220  0.098012   \n",
       "8  -0.000260149654714   0.000000000017062  -24.256299136321825  0.097772   \n",
       "9  -0.000254816879729   0.000000000064306  -26.662732169375502  0.097530   \n",
       "\n",
       "    Current    Re(ΔT) Δ[Re(ΔT)]     Im(ΔT) Δ[Im(ΔT)]     Power Temperature  \n",
       "0  0.009938  1.889020  0.000000  -0.439908  0.002101  0.001274     -145.23  \n",
       "1  0.009909  1.755598  0.000000  -0.437398  0.002089  0.001278     -144.34  \n",
       "2  0.009884  1.627391  0.000000  -0.435444  0.002080  0.001281     -143.54  \n",
       "3  0.009869  1.504062  0.000000  -0.433597  0.002071  0.001287     -142.76  \n",
       "4  0.009850  1.382681  0.000000  -0.431122  0.002059  0.001290     -142.14  \n",
       "5  0.009837  1.265610  0.000000  -0.429444  0.002051  0.001294     -141.55  \n",
       "6  0.009821  1.150694  0.000000  -0.425905  0.002035  0.001295     -141.09  \n",
       "7  0.009801  1.036261  0.000000  -0.421481  0.002014  0.001295     -140.67  \n",
       "8  0.009777  0.922663  0.000000  -0.415751  0.001987  0.001295     -140.19  \n",
       "9  0.009753  0.813010  0.000000  -0.408239  0.001951  0.001292     -139.86  "
      ]
     },
     "execution_count": 50,
     "metadata": {},
     "output_type": "execute_result"
    }
   ],
   "source": [
    "df"
   ]
  },
  {
   "cell_type": "markdown",
   "id": "2667ddce-66cf-4f9e-bc3b-d698d59c891a",
   "metadata": {},
   "source": [
    "### Korrelationsgleichung fuer die Kalibrierung"
   ]
  },
  {
   "cell_type": "code",
   "execution_count": 51,
   "id": "7dece50b-9373-44fd-9510-b2418dd8fe85",
   "metadata": {},
   "outputs": [],
   "source": [
    "# LaTeX rendering\n",
    "printing.init_printing()"
   ]
  },
  {
   "cell_type": "code",
   "execution_count": 52,
   "id": "d12add72-f6c1-40ab-aa33-b95e34c292df",
   "metadata": {},
   "outputs": [],
   "source": [
    "# Define variables\n",
    "dRdT = symbols('dR/dT')\n",
    "dVdf= symbols('dV3w/dlnf')\n",
    "dR,dT,L,lambda_sub,lambda_air,f,P,I = symbols('dR dT L lambda_sub lambda_air f P I')\n"
   ]
  },
  {
   "cell_type": "code",
   "execution_count": 53,
   "id": "fa6c256f-7efd-48d9-bb20-adcfadd9f4d0",
   "metadata": {},
   "outputs": [],
   "source": [
    "equation_dRdT = Eq( ((-4*pi*L)/(P*I))*(lambda_sub)*(dVdf)- dRdT,0)"
   ]
  },
  {
   "cell_type": "code",
   "execution_count": 54,
   "id": "d549adb0-85e6-4259-9846-76653bb6521c",
   "metadata": {},
   "outputs": [
    {
     "data": {
      "image/png": "[encoded data removed]",
      "text/latex": [
       "$\\displaystyle - dR/dT - \\frac{4 \\pi L dV3w/dlnf \\lambda_{sub}}{I P} = 0$"
      ],
      "text/plain": [
       "         4⋅π⋅L⋅dV3w/dlnf⋅λ_sub    \n",
       "-dR/dT - ───────────────────── = 0\n",
       "                  I⋅P             "
      ]
     },
     "metadata": {},
     "output_type": "display_data"
    }
   ],
   "source": [
    "display(equation_dRdT)"
   ]
  },
  {
   "cell_type": "markdown",
   "id": "9cb0057c-b5fb-4569-9ef7-408f361be15f",
   "metadata": {},
   "source": [
    "### dR/dT Berechnung (unter Cryo)"
   ]
  },
  {
   "cell_type": "markdown",
   "id": "1db95f70-9ff9-4e90-9d71-573f32622ae3",
   "metadata": {},
   "source": [
    "#### Parameters fuer die Berechnung"
   ]
  },
  {
   "cell_type": "code",
   "execution_count": 59,
   "id": "000b0112-e37a-4a02-bdeb-0a26b86cccbb",
   "metadata": {},
   "outputs": [],
   "source": [
    "# Geometrie und Bedingungen\n",
    "T_ref=25                  # Room temperature, 25 03.12.24\n",
    "lambda_substrate_ref= 1.2 # Temperature 20C\n",
    "\n",
    "# Slope dRe(V3w)/dlnf Berechnung\n",
    "v3w=df['Re(3ω)'].values\n",
    "f=df['Frequency'].values\n",
    "v3w=v3w.astype(float)\n",
    "f=f.astype(float)\n",
    "\n",
    "## dRdT Berechnung\n",
    "\n",
    "L_mess=1000e-6\n",
    "P_mess= df['Power'].values\n",
    "P_mess=P_mess.astype(float)\n",
    "\n",
    "I_mess= df['Current'].values\n",
    "I_mess=I_mess.astype(float)"
   ]
  },
  {
   "cell_type": "markdown",
   "id": "de134b31-2608-499d-a043-e708e440f3ad",
   "metadata": {},
   "source": [
    "#### Substrate thermal conductivity"
   ]
  },
  {
   "cell_type": "code",
   "execution_count": 60,
   "id": "a479ef2e-5f25-4a60-a8a0-9e98d9b60215",
   "metadata": {},
   "outputs": [],
   "source": [
    "lambdaSubstrate=lambda T: 1.2 + 0.0013*(T-20)"
   ]
  },
  {
   "cell_type": "markdown",
   "id": "2fc418ad-e22d-4838-96a9-c791deab2731",
   "metadata": {},
   "source": [
    "#### Slope dRe(V3w)/dln(f)"
   ]
  },
  {
   "cell_type": "code",
   "execution_count": 61,
   "id": "81b51927-20d8-45c9-8441-4f7a93f12d5d",
   "metadata": {},
   "outputs": [
    {
     "data": {
      "text/plain": [
       "array([0.00120151, 0.00111335, 0.00102948, 0.00095002, 0.00087163,\n",
       "       0.00079677, 0.00072324, 0.00065001, 0.00057734, 0.00050747])"
      ]
     },
     "execution_count": 61,
     "metadata": {},
     "output_type": "execute_result"
    }
   ],
   "source": [
    "v3w"
   ]
  },
  {
   "cell_type": "code",
   "execution_count": 62,
   "id": "712ac750-3a84-4a5c-a491-89c07bbdde9d",
   "metadata": {},
   "outputs": [],
   "source": [
    "lnf=np.log(f)"
   ]
  },
  {
   "cell_type": "code",
   "execution_count": 63,
   "id": "b5c37aa2-7267-44be-888d-ee466c4ff365",
   "metadata": {},
   "outputs": [
    {
     "name": "stdout",
     "output_type": "stream",
     "text": [
      "[0.00120151 0.00111335 0.00102948 0.00095002 0.00087163 0.00079677\n",
      " 0.00072324 0.00065001 0.00057734 0.00050747]\n",
      "[ 10.     14.592  21.294  31.072  45.342  66.164  96.549 140.887 205.587\n",
      " 300.   ]\n",
      "[2.30258509 2.68047343 3.05842534 3.43630709 3.81423376 4.19213651\n",
      " 4.57005065 4.94795815 5.3258693  5.70378247]\n"
     ]
    }
   ],
   "source": [
    "print(v3w)\n",
    "print(f)\n",
    "print(lnf)"
   ]
  },
  {
   "cell_type": "code",
   "execution_count": 64,
   "id": "534e0809-9721-4a76-a07e-95cd5e66bce5",
   "metadata": {},
   "outputs": [
    {
     "name": "stdout",
     "output_type": "stream",
     "text": [
      "Slope: -0.00020288505883722638, Intercept: 0.0016542674015800065\n"
     ]
    },
    {
     "data": {
      "image/png": "[encoded data removed]",
      "text/plain": [
       "<Figure size 640x480 with 1 Axes>"
      ]
     },
     "metadata": {},
     "output_type": "display_data"
    }
   ],
   "source": [
    "X=lnf\n",
    "Y=v3w\n",
    "# Perform linear regression using NumPy's polyfit\n",
    "coefficients = np.polyfit(X, Y, 1)\n",
    "slope, intercept = coefficients\n",
    "\n",
    "# Print the slope and intercept\n",
    "print(f\"Slope: {slope}, Intercept: {intercept}\")\n",
    "\n",
    "# Linear regression\n",
    "Y_pred = slope * X + intercept\n",
    "\n",
    "# Plot the data and regression line\n",
    "plt.scatter(X, Y, label='Experimental Data')\n",
    "plt.plot(X, Y_pred, color='red', label='Regression Line')\n",
    "plt.xlabel('ln(f(Hz))')\n",
    "plt.ylabel('Re(V3w)')\n",
    "plt.legend()\n",
    "plt.show()"
   ]
  },
  {
   "cell_type": "code",
   "execution_count": 65,
   "id": "fbb73723-b624-4569-b28f-a20e69c96f29",
   "metadata": {},
   "outputs": [
    {
     "name": "stdout",
     "output_type": "stream",
     "text": [
      "-0.00020288505883722638\n"
     ]
    }
   ],
   "source": [
    "# Sölope 'dV3w/dlnf' calculated for dR/dT calculation\n",
    "\n",
    "dVdf_mess=slope\n",
    "print(dVdf_mess)"
   ]
  },
  {
   "cell_type": "markdown",
   "id": "842aa235-c5f6-4ef4-8d77-9b78d747e120",
   "metadata": {},
   "source": [
    "#### dR/dT Berechnung"
   ]
  },
  {
   "cell_type": "code",
   "execution_count": 66,
   "id": "fba2d118-9644-4754-9f0e-d213d71fe43a",
   "metadata": {},
   "outputs": [
    {
     "name": "stdout",
     "output_type": "stream",
     "text": [
      "0.0012881\n",
      "0.0098439\n",
      "1.2065\n"
     ]
    }
   ],
   "source": [
    "P_mean= np.mean(P_mess)\n",
    "I_mean= np.mean(I_mess)\n",
    "lambdaSubstrate_mess=lambdaSubstrate(T_ref)\n",
    "print(P_mean)\n",
    "print(I_mean)\n",
    "print(lambdaSubstrate_mess)"
   ]
  },
  {
   "cell_type": "code",
   "execution_count": 67,
   "id": "1d5bc669-2a7a-4f6f-9d4e-d767cddf6331",
   "metadata": {},
   "outputs": [],
   "source": [
    "substituted_eq = equation_dRdT.subs({P: P_mean, I:I_mean, lambda_sub:lambdaSubstrate_mess,dVdf:dVdf_mess, L:L_mess})"
   ]
  },
  {
   "cell_type": "code",
   "execution_count": 68,
   "id": "34b24e6b-4f1f-45c3-a0e5-2f7b099460db",
   "metadata": {},
   "outputs": [
    {
     "data": {
      "image/png": "[encoded data removed]",
      "text/latex": [
       "$\\displaystyle - dR/dT + 0.0772183663509749 \\pi = 0$"
      ],
      "text/plain": [
       "-dR/dT + 0.0772183663509749⋅π = 0"
      ]
     },
     "execution_count": 68,
     "metadata": {},
     "output_type": "execute_result"
    }
   ],
   "source": [
    "substituted_eq"
   ]
  },
  {
   "cell_type": "code",
   "execution_count": 69,
   "id": "28498572-d6a6-4fe9-92e1-e48409d29bd2",
   "metadata": {},
   "outputs": [],
   "source": [
    "sol = solve(substituted_eq, dRdT)"
   ]
  },
  {
   "cell_type": "code",
   "execution_count": 70,
   "id": "8b06134e-3c6a-48a2-998e-b1916c55cb5a",
   "metadata": {},
   "outputs": [
    {
     "name": "stdout",
     "output_type": "stream",
     "text": [
      "0.24258865245042804\n"
     ]
    }
   ],
   "source": [
    "dRdT_mess=float(sol[0])\n",
    "print(dRdT_mess)"
   ]
  },
  {
   "cell_type": "markdown",
   "id": "1f89e954-df84-42ff-96b9-75a13931fb1e",
   "metadata": {
    "jp-MarkdownHeadingCollapsed": true
   },
   "source": [
    "## 03.12 Messungtest"
   ]
  },
  {
   "cell_type": "markdown",
   "id": "d35a2811-3e60-4c3a-b9fc-683236af3885",
   "metadata": {},
   "source": [
    "### Import data"
   ]
  },
  {
   "cell_type": "code",
   "execution_count": 1,
   "id": "422956b7-be55-4af5-8673-8b58182083d0",
   "metadata": {},
   "outputs": [
    {
     "ename": "FileNotFoundError",
     "evalue": "[Errno 2] No such file or directory: 'testdata.txt'",
     "output_type": "error",
     "traceback": [
      "\u001b[1;31m---------------------------------------------------------------------------\u001b[0m",
      "\u001b[1;31mFileNotFoundError\u001b[0m                         Traceback (most recent call last)",
      "Cell \u001b[1;32mIn[1], line 2\u001b[0m\n\u001b[0;32m      1\u001b[0m \u001b[38;5;66;03m# File import\u001b[39;00m\n\u001b[1;32m----> 2\u001b[0m \u001b[38;5;28;01mwith\u001b[39;00m \u001b[38;5;28;43mopen\u001b[39;49m\u001b[43m(\u001b[49m\u001b[38;5;124;43m'\u001b[39;49m\u001b[38;5;124;43mtestdata.txt\u001b[39;49m\u001b[38;5;124;43m'\u001b[39;49m\u001b[43m,\u001b[49m\u001b[43m \u001b[49m\u001b[38;5;124;43m'\u001b[39;49m\u001b[38;5;124;43mr\u001b[39;49m\u001b[38;5;124;43m'\u001b[39;49m\u001b[43m)\u001b[49m \u001b[38;5;28;01mas\u001b[39;00m file:\n\u001b[0;32m      3\u001b[0m     lines \u001b[38;5;241m=\u001b[39m file\u001b[38;5;241m.\u001b[39mreadlines()[\u001b[38;5;241m0\u001b[39m:]\n\u001b[0;32m      5\u001b[0m data_sample \u001b[38;5;241m=\u001b[39m []\n",
      "File \u001b[1;32mP:\\Profil\\Anwendungsdaten\\Python\\Python313\\site-packages\\IPython\\core\\interactiveshell.py:324\u001b[0m, in \u001b[0;36m_modified_open\u001b[1;34m(file, *args, **kwargs)\u001b[0m\n\u001b[0;32m    317\u001b[0m \u001b[38;5;28;01mif\u001b[39;00m file \u001b[38;5;129;01min\u001b[39;00m {\u001b[38;5;241m0\u001b[39m, \u001b[38;5;241m1\u001b[39m, \u001b[38;5;241m2\u001b[39m}:\n\u001b[0;32m    318\u001b[0m     \u001b[38;5;28;01mraise\u001b[39;00m \u001b[38;5;167;01mValueError\u001b[39;00m(\n\u001b[0;32m    319\u001b[0m         \u001b[38;5;124mf\u001b[39m\u001b[38;5;124m\"\u001b[39m\u001b[38;5;124mIPython won\u001b[39m\u001b[38;5;124m'\u001b[39m\u001b[38;5;124mt let you open fd=\u001b[39m\u001b[38;5;132;01m{\u001b[39;00mfile\u001b[38;5;132;01m}\u001b[39;00m\u001b[38;5;124m by default \u001b[39m\u001b[38;5;124m\"\u001b[39m\n\u001b[0;32m    320\u001b[0m         \u001b[38;5;124m\"\u001b[39m\u001b[38;5;124mas it is likely to crash IPython. If you know what you are doing, \u001b[39m\u001b[38;5;124m\"\u001b[39m\n\u001b[0;32m    321\u001b[0m         \u001b[38;5;124m\"\u001b[39m\u001b[38;5;124myou can use builtins\u001b[39m\u001b[38;5;124m'\u001b[39m\u001b[38;5;124m open.\u001b[39m\u001b[38;5;124m\"\u001b[39m\n\u001b[0;32m    322\u001b[0m     )\n\u001b[1;32m--> 324\u001b[0m \u001b[38;5;28;01mreturn\u001b[39;00m \u001b[43mio_open\u001b[49m\u001b[43m(\u001b[49m\u001b[43mfile\u001b[49m\u001b[43m,\u001b[49m\u001b[43m \u001b[49m\u001b[38;5;241;43m*\u001b[39;49m\u001b[43margs\u001b[49m\u001b[43m,\u001b[49m\u001b[43m \u001b[49m\u001b[38;5;241;43m*\u001b[39;49m\u001b[38;5;241;43m*\u001b[39;49m\u001b[43mkwargs\u001b[49m\u001b[43m)\u001b[49m\n",
      "\u001b[1;31mFileNotFoundError\u001b[0m: [Errno 2] No such file or directory: 'testdata.txt'"
     ]
    }
   ],
   "source": [
    "# File import\n",
    "with open('testdata.txt', 'r') as file:\n",
    "    lines = file.readlines()[0:]\n",
    "\n",
    "data_sample = []\n",
    "for line in lines:\n",
    "    # Split\n",
    "    parts = line.split()\n",
    "    \n",
    "    # Bye first column\n",
    "    row = parts[2:]\n",
    "    data_sample.append(row)\n",
    "\n",
    "# Column names\n",
    "columns = [\n",
    "     \"Frequency\", \"Re(1ω)\", \"Im(1ω)\", \"Re(3ω)\", \"Im(3ω)\", \"Phase(1ω)\", \"Phase(3ω)\",\n",
    "    \"Vref\", \"Current\", \"Re(ΔT)\", \"Δ[Re(ΔT)]\", \"Im(ΔT)\", \"Δ[Im(ΔT)]\", \"Power\", \"Temperature\"\n",
    "]\n",
    "\n",
    "# DataFrame\n",
    "df_sample = pd.DataFrame(data_sample, columns=columns)\n",
    "print(df_sample)"
   ]
  },
  {
   "cell_type": "code",
   "execution_count": null,
   "id": "f044c8e5-c7ea-4f28-bbe5-93099e819f00",
   "metadata": {},
   "outputs": [],
   "source": [
    "dRdT_mess=float(sol[0])"
   ]
  },
  {
   "cell_type": "code",
   "execution_count": null,
   "id": "d208f9f1-7c69-4c24-a597-a97c7d570095",
   "metadata": {},
   "outputs": [],
   "source": [
    "print(dRdT_mess)"
   ]
  },
  {
   "cell_type": "markdown",
   "id": "81fbde05-b17d-4e12-8874-7f937b092a9b",
   "metadata": {},
   "source": [
    "### Korrelationsgleichung fuer die Messung"
   ]
  },
  {
   "cell_type": "code",
   "execution_count": null,
   "id": "15d42ce7-280e-46d1-a418-522408533bf0",
   "metadata": {},
   "outputs": [],
   "source": [
    "# Define variables\n",
    "dRdT = symbols('dR/dT')\n",
    "dVdf= symbols('dV3w/dlnf')\n",
    "dR,dT,L,lambda_sample,lambda_sub,f,P,I = symbols('dR dT L lambda_sample, lambda_sub f P I')"
   ]
  },
  {
   "cell_type": "code",
   "execution_count": 75,
   "id": "e96e7fcc-91e6-4347-86ff-1603a301342b",
   "metadata": {},
   "outputs": [],
   "source": [
    "equation_lambdaSample= Eq( (-P*I*dRdT/(4*pi*L))*(dVdf)**(-1)-lambda_sub-lambda_sample,0)"
   ]
  },
  {
   "cell_type": "code",
   "execution_count": 76,
   "id": "1e49480d-09e8-4a1c-a9fc-4e9b2ecbbfdd",
   "metadata": {},
   "outputs": [
    {
     "data": {
      "image/png": "[encoded data removed]",
      "text/latex": [
       "$\\displaystyle - \\frac{I P dR/dT}{4 \\pi L dV3w/dlnf} - \\lambda_{sample} - \\lambda_{sub} = 0$"
      ],
      "text/plain": [
       "     I⋅P⋅dR/dT                         \n",
       "- ─────────────── - λₛₐₘₚₗₑ - λ_sub = 0\n",
       "  4⋅π⋅L⋅dV3w/dlnf                      "
      ]
     },
     "metadata": {},
     "output_type": "display_data"
    }
   ],
   "source": [
    "display(equation_lambdaSample)"
   ]
  },
  {
   "cell_type": "markdown",
   "id": "ffba4f04-913b-4d45-b838-5ee967ba0ef4",
   "metadata": {},
   "source": [
    "### Thermal conductivity Berechnung"
   ]
  },
  {
   "cell_type": "markdown",
   "id": "2dcb9f2a-3952-4ed2-b4d4-6df058a20d54",
   "metadata": {},
   "source": [
    "#### Parameters fuer die Berechnung"
   ]
  },
  {
   "cell_type": "code",
   "execution_count": 77,
   "id": "be6f46b2-066e-4957-aae5-e533898bf58e",
   "metadata": {},
   "outputs": [
    {
     "name": "stdout",
     "output_type": "stream",
     "text": [
      "0.24258865245042804\n"
     ]
    }
   ],
   "source": [
    "# Geometrie und Bedingungen\n",
    "T_ref=24                  # Room temperature\n",
    "lambda_substrate_ref= 1.2 # Temperature 20C\n",
    "print(dRdT_mess)\n",
    "\n",
    "# Slope dRe(V3w)/dlnf Berechnung\n",
    "v3w=df['Re(3ω)'].values\n",
    "f=df['Frequency'].values\n",
    "v3w=v3w.astype(float)\n",
    "f=f.astype(float)\n",
    "\n",
    "## dRdT Berechnung\n",
    "\n",
    "L_mess=1000e-6\n",
    "P_mess= df['Power'].values\n",
    "P_mess=P_mess.astype(float)\n",
    "\n",
    "I_mess= df['Current'].values\n",
    "I_mess=I_mess.astype(float)"
   ]
  },
  {
   "cell_type": "markdown",
   "id": "ac890f85-5225-45a7-8117-65c576b840ea",
   "metadata": {},
   "source": [
    "#### Slope dRe(V3w)/dln(f)"
   ]
  },
  {
   "cell_type": "code",
   "execution_count": 78,
   "id": "da920f6d-a26e-4f8a-8f29-225d904457bf",
   "metadata": {},
   "outputs": [
    {
     "data": {
      "text/plain": [
       "array([0.00120151, 0.00111335, 0.00102948, 0.00095002, 0.00087163,\n",
       "       0.00079677, 0.00072324, 0.00065001, 0.00057734, 0.00050747])"
      ]
     },
     "execution_count": 78,
     "metadata": {},
     "output_type": "execute_result"
    }
   ],
   "source": [
    "v3w"
   ]
  },
  {
   "cell_type": "code",
   "execution_count": 79,
   "id": "7cd6eaa4-ef56-4235-9764-31ed0f1ec19d",
   "metadata": {},
   "outputs": [],
   "source": [
    "lnf=np.log(f)"
   ]
  },
  {
   "cell_type": "code",
   "execution_count": 80,
   "id": "47740b92-0567-4635-b869-f3ab400e057e",
   "metadata": {},
   "outputs": [
    {
     "name": "stdout",
     "output_type": "stream",
     "text": [
      "[0.00120151 0.00111335 0.00102948 0.00095002 0.00087163 0.00079677\n",
      " 0.00072324 0.00065001 0.00057734 0.00050747]\n",
      "[ 10.     14.592  21.294  31.072  45.342  66.164  96.549 140.887 205.587\n",
      " 300.   ]\n",
      "[2.30258509 2.68047343 3.05842534 3.43630709 3.81423376 4.19213651\n",
      " 4.57005065 4.94795815 5.3258693  5.70378247]\n"
     ]
    }
   ],
   "source": [
    "print(v3w)\n",
    "print(f)\n",
    "print(lnf)"
   ]
  },
  {
   "cell_type": "code",
   "execution_count": 81,
   "id": "cf69fc40-4e74-4965-aae5-597fc3c72440",
   "metadata": {},
   "outputs": [
    {
     "name": "stdout",
     "output_type": "stream",
     "text": [
      "Slope: -0.00020288505883722638, Intercept: 0.0016542674015800065\n"
     ]
    },
    {
     "data": {
      "image/png": "[encoded data removed]",
      "text/plain": [
       "<Figure size 640x480 with 1 Axes>"
      ]
     },
     "metadata": {},
     "output_type": "display_data"
    }
   ],
   "source": [
    "X=lnf\n",
    "Y=v3w\n",
    "# Perform linear regression using NumPy's polyfit\n",
    "coefficients = np.polyfit(X, Y, 1)\n",
    "slope, intercept = coefficients\n",
    "\n",
    "# Print the slope and intercept\n",
    "print(f\"Slope: {slope}, Intercept: {intercept}\")\n",
    "\n",
    "# Linear regression\n",
    "Y_pred = slope * X + intercept\n",
    "\n",
    "# Plot the data and regression line\n",
    "plt.scatter(X, Y, label='Experimental Data')\n",
    "plt.plot(X, Y_pred, color='red', label='Regression Line')\n",
    "plt.xlabel('ln(f(Hz))')\n",
    "plt.ylabel('Re(V3w)')\n",
    "plt.legend()\n",
    "plt.show()"
   ]
  },
  {
   "cell_type": "code",
   "execution_count": 82,
   "id": "6c23bee2-e62c-4c67-a020-eb2c43e91d5b",
   "metadata": {},
   "outputs": [
    {
     "name": "stdout",
     "output_type": "stream",
     "text": [
      "-0.00020288505883722638\n"
     ]
    }
   ],
   "source": [
    "# Sölope 'dV3w/dlnf' calculated for dR/dT calculation\n",
    "\n",
    "dVdf_mess=slope\n",
    "print(dVdf_mess)"
   ]
  },
  {
   "cell_type": "markdown",
   "id": "6cce0510-eba6-49da-81f9-3e56bb0e112a",
   "metadata": {},
   "source": [
    "#### Thermal conductivity der Probe Berechnung"
   ]
  },
  {
   "cell_type": "code",
   "execution_count": 83,
   "id": "7ae18ecf-f84b-44a1-a539-5cfa78c1c834",
   "metadata": {},
   "outputs": [
    {
     "name": "stdout",
     "output_type": "stream",
     "text": [
      "0.0012881\n",
      "0.0098439\n",
      "1.2052\n",
      "0.24258865245042804\n"
     ]
    }
   ],
   "source": [
    "P_mean= np.mean(P_mess)\n",
    "I_mean= np.mean(I_mess)\n",
    "lambdaSubstrate_mess=lambdaSubstrate(T_ref)\n",
    "print(P_mean)\n",
    "print(I_mean)\n",
    "print(lambdaSubstrate_mess)\n",
    "print(dRdT_mess)"
   ]
  },
  {
   "cell_type": "code",
   "execution_count": 84,
   "id": "8663fc88-29aa-4178-abd2-36afa0714734",
   "metadata": {},
   "outputs": [],
   "source": [
    "substituted_eqLambdaSample = equation_lambdaSample.subs({dRdT:dRdT_mess,P: P_mean, I:I_mean, lambda_sub:lambdaSubstrate_mess,dVdf:dVdf_mess, L:L_mess})"
   ]
  },
  {
   "cell_type": "code",
   "execution_count": 85,
   "id": "b6df04c2-9626-49ba-8f10-9100c303500d",
   "metadata": {},
   "outputs": [
    {
     "data": {
      "image/png": "[encoded data removed]",
      "text/latex": [
       "$\\displaystyle - \\lambda_{sample} - 1.2052 + \\frac{3.79033153655608}{\\pi} = 0$"
      ],
      "text/plain": [
       "                    3.79033153655608    \n",
       "-λₛₐₘₚₗₑ - 1.2052 + ──────────────── = 0\n",
       "                           π            "
      ]
     },
     "execution_count": 85,
     "metadata": {},
     "output_type": "execute_result"
    }
   ],
   "source": [
    "substituted_eqLambdaSample"
   ]
  },
  {
   "cell_type": "code",
   "execution_count": 86,
   "id": "0bf14efb-dacb-4cc6-afd0-7e84523442a9",
   "metadata": {},
   "outputs": [],
   "source": [
    "solSample = solve(substituted_eq, dRdT)"
   ]
  },
  {
   "cell_type": "code",
   "execution_count": 87,
   "id": "fd915224-7f86-444f-95e2-e33ce8ebd1a2",
   "metadata": {},
   "outputs": [
    {
     "name": "stdout",
     "output_type": "stream",
     "text": [
      "0.24258865245042804\n"
     ]
    }
   ],
   "source": [
    "lambdaSample_mess=float(solSample[0])\n",
    "print(lambdaSample_mess)"
   ]
  },
  {
   "cell_type": "markdown",
   "id": "8dbc1fef-6972-433b-9209-26f177c61981",
   "metadata": {},
   "source": [
    "## 04.12-05.12 Calibration mit Grease und Substrates thermal conductivity messung"
   ]
  },
  {
   "cell_type": "markdown",
   "id": "fde4605c-a386-4880-964e-658f80461e6c",
   "metadata": {
    "jp-MarkdownHeadingCollapsed": true
   },
   "source": [
    "## 06.12.24 Conductivity of multilayers"
   ]
  },
  {
   "cell_type": "markdown",
   "id": "21868aec-98f7-4a6c-82de-6b8a6b482c05",
   "metadata": {},
   "source": [
    "### Series"
   ]
  },
  {
   "cell_type": "code",
   "execution_count": 71,
   "id": "73908dd6-6d48-487d-944f-7184d6abf599",
   "metadata": {},
   "outputs": [],
   "source": [
    "k_glass=1.2\n",
    "k_pasivation=1.36\n",
    "k_al=237\n",
    "h_glass=0.7e-3\n",
    "h_pas=200e-9\n",
    "h_al=80e-9\n"
   ]
  },
  {
   "cell_type": "code",
   "execution_count": 72,
   "id": "2d307617-60e5-4c30-89b6-c99e1ab315fb",
   "metadata": {},
   "outputs": [],
   "source": [
    "h_eq=h_al+h_pas\n",
    "keq=h_eq/((h_al/k_al)+(h_pas/k_pasivation))"
   ]
  },
  {
   "cell_type": "code",
   "execution_count": 73,
   "id": "39705d17-511b-40ac-98ed-f5d11130a1b4",
   "metadata": {},
   "outputs": [
    {
     "data": {
      "text/plain": [
       "2.7999999999999997e-07"
      ]
     },
     "execution_count": 73,
     "metadata": {},
     "output_type": "execute_result"
    }
   ],
   "source": [
    "h_eq"
   ]
  },
  {
   "cell_type": "code",
   "execution_count": 81,
   "id": "b152911d-e6f9-4062-a353-1cd6815e8119",
   "metadata": {},
   "outputs": [
    {
     "data": {
      "text/plain": [
       "1.8996396457077427"
      ]
     },
     "execution_count": 81,
     "metadata": {},
     "output_type": "execute_result"
    }
   ],
   "source": [
    "keq"
   ]
  },
  {
   "cell_type": "markdown",
   "id": "4499c81d-51f8-4e9f-9912-84fc810b567e",
   "metadata": {},
   "source": [
    "### Parallel"
   ]
  },
  {
   "cell_type": "code",
   "execution_count": 82,
   "id": "7ed449b9-4d19-4c11-b9f6-712f38e89df2",
   "metadata": {},
   "outputs": [],
   "source": [
    "k_eq2=(h_eq)*(keq/h_eq + (k_glass/h_glass))"
   ]
  },
  {
   "cell_type": "code",
   "execution_count": 83,
   "id": "f1a33491-12eb-4db5-8ff0-2241a437aaa8",
   "metadata": {},
   "outputs": [
    {
     "data": {
      "text/plain": [
       "1.9001196457077425"
      ]
     },
     "execution_count": 83,
     "metadata": {},
     "output_type": "execute_result"
    }
   ],
   "source": [
    "k_eq2"
   ]
  },
  {
   "cell_type": "markdown",
   "id": "b6cd6558-d002-4f77-8e5f-38c4a7568356",
   "metadata": {},
   "source": [
    "## 10.12.24 T vs R\n"
   ]
  },
  {
   "cell_type": "code",
   "execution_count": 15,
   "id": "2232ee91-13ff-4f7b-8b68-e77a64411b6f",
   "metadata": {},
   "outputs": [
    {
     "ename": "ValueError",
     "evalue": "invalid literal for int() with base 10: ''",
     "output_type": "error",
     "traceback": [
      "\u001b[1;31m---------------------------------------------------------------------------\u001b[0m",
      "\u001b[1;31mValueError\u001b[0m                                Traceback (most recent call last)",
      "Cell \u001b[1;32mIn[15], line 7\u001b[0m\n\u001b[0;32m      4\u001b[0m \u001b[38;5;28;01mfor\u001b[39;00m line \u001b[38;5;129;01min\u001b[39;00m file:\n\u001b[0;32m      5\u001b[0m     \u001b[38;5;66;03m# Split the line into parts\u001b[39;00m\n\u001b[0;32m      6\u001b[0m     parts \u001b[38;5;241m=\u001b[39m line\u001b[38;5;241m.\u001b[39mstrip()\u001b[38;5;241m.\u001b[39msplit(\u001b[38;5;124m'\u001b[39m\u001b[38;5;124m\"\u001b[39m\u001b[38;5;124m'\u001b[39m)\n\u001b[1;32m----> 7\u001b[0m     date \u001b[38;5;241m=\u001b[39m \u001b[38;5;28;43mint\u001b[39;49m\u001b[43m(\u001b[49m\u001b[43mparts\u001b[49m\u001b[43m[\u001b[49m\u001b[38;5;241;43m0\u001b[39;49m\u001b[43m]\u001b[49m\u001b[38;5;241;43m.\u001b[39;49m\u001b[43mstrip\u001b[49m\u001b[43m(\u001b[49m\u001b[38;5;124;43m'\u001b[39;49m\u001b[38;5;124;43m\"\u001b[39;49m\u001b[38;5;124;43m'\u001b[39;49m\u001b[43m)\u001b[49m\u001b[43m)\u001b[49m  \u001b[38;5;66;03m# Remove leading/trailing quotes and convert to int\u001b[39;00m\n\u001b[0;32m      8\u001b[0m     temperature \u001b[38;5;241m=\u001b[39m \u001b[38;5;28mfloat\u001b[39m(parts[\u001b[38;5;241m1\u001b[39m]\u001b[38;5;241m.\u001b[39mstrip(\u001b[38;5;124m'\u001b[39m\u001b[38;5;124m\"\u001b[39m\u001b[38;5;124m'\u001b[39m)\u001b[38;5;241m.\u001b[39mreplace(\u001b[38;5;124m'\u001b[39m\u001b[38;5;124m,\u001b[39m\u001b[38;5;124m'\u001b[39m, \u001b[38;5;124m'\u001b[39m\u001b[38;5;124m.\u001b[39m\u001b[38;5;124m'\u001b[39m))  \u001b[38;5;66;03m# Remove quotes and convert to float\u001b[39;00m\n\u001b[0;32m      9\u001b[0m     resistance \u001b[38;5;241m=\u001b[39m \u001b[38;5;28mfloat\u001b[39m(parts[\u001b[38;5;241m2\u001b[39m]\u001b[38;5;241m.\u001b[39mstrip(\u001b[38;5;124m'\u001b[39m\u001b[38;5;124m\"\u001b[39m\u001b[38;5;124m'\u001b[39m)\u001b[38;5;241m.\u001b[39mreplace(\u001b[38;5;124m'\u001b[39m\u001b[38;5;124m,\u001b[39m\u001b[38;5;124m'\u001b[39m, \u001b[38;5;124m'\u001b[39m\u001b[38;5;124m.\u001b[39m\u001b[38;5;124m'\u001b[39m))  \u001b[38;5;66;03m# Remove quotes and convert to float\u001b[39;00m\n",
      "\u001b[1;31mValueError\u001b[0m: invalid literal for int() with base 10: ''"
     ]
    }
   ],
   "source": [
    "input_file= \"resistance.csv\"\n",
    "data = []\n",
    "with open(input_file, \"r\") as file:\n",
    "    for line in file:\n",
    "        # Split the line into parts\n",
    "        parts = line.strip().split('\"')\n",
    "        date = int(parts[0].strip('\"'))  # Remove leading/trailing quotes and convert to int\n",
    "        temperature = float(parts[1].strip('\"').replace(',', '.'))  # Remove quotes and convert to float\n",
    "        resistance = float(parts[2].strip('\"').replace(',', '.'))  # Remove quotes and convert to float\n",
    "        data.append([date, temperature, resistance])\n",
    "\n",
    "# Create DataFrame\n",
    "df = pd.DataFrame(data, columns=[\"date\", \"temperature\", \"resistance\"])\n"
   ]
  },
  {
   "cell_type": "code",
   "execution_count": 16,
   "id": "4dd4d2f0-9a75-48a8-9fd7-a88b5d70be12",
   "metadata": {},
   "outputs": [
    {
     "ename": "NameError",
     "evalue": "name 'df' is not defined",
     "output_type": "error",
     "traceback": [
      "\u001b[1;31m---------------------------------------------------------------------------\u001b[0m",
      "\u001b[1;31mNameError\u001b[0m                                 Traceback (most recent call last)",
      "Cell \u001b[1;32mIn[16], line 1\u001b[0m\n\u001b[1;32m----> 1\u001b[0m \u001b[43mdf\u001b[49m\n",
      "\u001b[1;31mNameError\u001b[0m: name 'df' is not defined"
     ]
    }
   ],
   "source": [
    "df"
   ]
  },
  {
   "cell_type": "code",
   "execution_count": 17,
   "id": "f2720bf5-43e4-4fb7-a79f-d8259bcbee56",
   "metadata": {},
   "outputs": [
    {
     "ename": "KeyError",
     "evalue": "1",
     "output_type": "error",
     "traceback": [
      "\u001b[1;31m---------------------------------------------------------------------------\u001b[0m",
      "\u001b[1;31mKeyError\u001b[0m                                  Traceback (most recent call last)",
      "File \u001b[1;32m~\\AppData\\Local\\Programs\\Python\\Python313\\Lib\\site-packages\\pandas\\core\\indexes\\base.py:3805\u001b[0m, in \u001b[0;36mIndex.get_loc\u001b[1;34m(self, key)\u001b[0m\n\u001b[0;32m   3804\u001b[0m \u001b[38;5;28;01mtry\u001b[39;00m:\n\u001b[1;32m-> 3805\u001b[0m     \u001b[38;5;28;01mreturn\u001b[39;00m \u001b[38;5;28;43mself\u001b[39;49m\u001b[38;5;241;43m.\u001b[39;49m\u001b[43m_engine\u001b[49m\u001b[38;5;241;43m.\u001b[39;49m\u001b[43mget_loc\u001b[49m\u001b[43m(\u001b[49m\u001b[43mcasted_key\u001b[49m\u001b[43m)\u001b[49m\n\u001b[0;32m   3806\u001b[0m \u001b[38;5;28;01mexcept\u001b[39;00m \u001b[38;5;167;01mKeyError\u001b[39;00m \u001b[38;5;28;01mas\u001b[39;00m err:\n",
      "File \u001b[1;32mindex.pyx:167\u001b[0m, in \u001b[0;36mpandas._libs.index.IndexEngine.get_loc\u001b[1;34m()\u001b[0m\n",
      "File \u001b[1;32mindex.pyx:196\u001b[0m, in \u001b[0;36mpandas._libs.index.IndexEngine.get_loc\u001b[1;34m()\u001b[0m\n",
      "File \u001b[1;32mpandas\\\\_libs\\\\hashtable_class_helper.pxi:2606\u001b[0m, in \u001b[0;36mpandas._libs.hashtable.Int64HashTable.get_item\u001b[1;34m()\u001b[0m\n",
      "File \u001b[1;32mpandas\\\\_libs\\\\hashtable_class_helper.pxi:2630\u001b[0m, in \u001b[0;36mpandas._libs.hashtable.Int64HashTable.get_item\u001b[1;34m()\u001b[0m\n",
      "\u001b[1;31mKeyError\u001b[0m: 1",
      "\nThe above exception was the direct cause of the following exception:\n",
      "\u001b[1;31mKeyError\u001b[0m                                  Traceback (most recent call last)",
      "Cell \u001b[1;32mIn[17], line 10\u001b[0m\n\u001b[0;32m      7\u001b[0m df \u001b[38;5;241m=\u001b[39m pd\u001b[38;5;241m.\u001b[39mread_csv(file_path, delimiter\u001b[38;5;241m=\u001b[39m\u001b[38;5;124m'\u001b[39m\u001b[38;5;124m,\u001b[39m\u001b[38;5;124m'\u001b[39m, header\u001b[38;5;241m=\u001b[39m\u001b[38;5;28;01mNone\u001b[39;00m)\n\u001b[0;32m      9\u001b[0m \u001b[38;5;66;03m# Replace commas in numbers with dots\u001b[39;00m\n\u001b[1;32m---> 10\u001b[0m df[\u001b[38;5;241m1\u001b[39m] \u001b[38;5;241m=\u001b[39m \u001b[43mdf\u001b[49m\u001b[43m[\u001b[49m\u001b[38;5;241;43m1\u001b[39;49m\u001b[43m]\u001b[49m\u001b[38;5;241m.\u001b[39mstr\u001b[38;5;241m.\u001b[39mreplace(\u001b[38;5;124m'\u001b[39m\u001b[38;5;124m,\u001b[39m\u001b[38;5;124m'\u001b[39m, \u001b[38;5;124m'\u001b[39m\u001b[38;5;124m.\u001b[39m\u001b[38;5;124m'\u001b[39m)\u001b[38;5;241m.\u001b[39mastype(\u001b[38;5;28mfloat\u001b[39m)\n\u001b[0;32m     11\u001b[0m df[\u001b[38;5;241m2\u001b[39m] \u001b[38;5;241m=\u001b[39m df[\u001b[38;5;241m2\u001b[39m]\u001b[38;5;241m.\u001b[39mstr\u001b[38;5;241m.\u001b[39mreplace(\u001b[38;5;124m'\u001b[39m\u001b[38;5;124m,\u001b[39m\u001b[38;5;124m'\u001b[39m, \u001b[38;5;124m'\u001b[39m\u001b[38;5;124m.\u001b[39m\u001b[38;5;124m'\u001b[39m)\u001b[38;5;241m.\u001b[39mastype(\u001b[38;5;28mfloat\u001b[39m)\n\u001b[0;32m     13\u001b[0m \u001b[38;5;66;03m# Optionally, assign column names\u001b[39;00m\n",
      "File \u001b[1;32m~\\AppData\\Local\\Programs\\Python\\Python313\\Lib\\site-packages\\pandas\\core\\frame.py:4102\u001b[0m, in \u001b[0;36mDataFrame.__getitem__\u001b[1;34m(self, key)\u001b[0m\n\u001b[0;32m   4100\u001b[0m \u001b[38;5;28;01mif\u001b[39;00m \u001b[38;5;28mself\u001b[39m\u001b[38;5;241m.\u001b[39mcolumns\u001b[38;5;241m.\u001b[39mnlevels \u001b[38;5;241m>\u001b[39m \u001b[38;5;241m1\u001b[39m:\n\u001b[0;32m   4101\u001b[0m     \u001b[38;5;28;01mreturn\u001b[39;00m \u001b[38;5;28mself\u001b[39m\u001b[38;5;241m.\u001b[39m_getitem_multilevel(key)\n\u001b[1;32m-> 4102\u001b[0m indexer \u001b[38;5;241m=\u001b[39m \u001b[38;5;28;43mself\u001b[39;49m\u001b[38;5;241;43m.\u001b[39;49m\u001b[43mcolumns\u001b[49m\u001b[38;5;241;43m.\u001b[39;49m\u001b[43mget_loc\u001b[49m\u001b[43m(\u001b[49m\u001b[43mkey\u001b[49m\u001b[43m)\u001b[49m\n\u001b[0;32m   4103\u001b[0m \u001b[38;5;28;01mif\u001b[39;00m is_integer(indexer):\n\u001b[0;32m   4104\u001b[0m     indexer \u001b[38;5;241m=\u001b[39m [indexer]\n",
      "File \u001b[1;32m~\\AppData\\Local\\Programs\\Python\\Python313\\Lib\\site-packages\\pandas\\core\\indexes\\base.py:3812\u001b[0m, in \u001b[0;36mIndex.get_loc\u001b[1;34m(self, key)\u001b[0m\n\u001b[0;32m   3807\u001b[0m     \u001b[38;5;28;01mif\u001b[39;00m \u001b[38;5;28misinstance\u001b[39m(casted_key, \u001b[38;5;28mslice\u001b[39m) \u001b[38;5;129;01mor\u001b[39;00m (\n\u001b[0;32m   3808\u001b[0m         \u001b[38;5;28misinstance\u001b[39m(casted_key, abc\u001b[38;5;241m.\u001b[39mIterable)\n\u001b[0;32m   3809\u001b[0m         \u001b[38;5;129;01mand\u001b[39;00m \u001b[38;5;28many\u001b[39m(\u001b[38;5;28misinstance\u001b[39m(x, \u001b[38;5;28mslice\u001b[39m) \u001b[38;5;28;01mfor\u001b[39;00m x \u001b[38;5;129;01min\u001b[39;00m casted_key)\n\u001b[0;32m   3810\u001b[0m     ):\n\u001b[0;32m   3811\u001b[0m         \u001b[38;5;28;01mraise\u001b[39;00m InvalidIndexError(key)\n\u001b[1;32m-> 3812\u001b[0m     \u001b[38;5;28;01mraise\u001b[39;00m \u001b[38;5;167;01mKeyError\u001b[39;00m(key) \u001b[38;5;28;01mfrom\u001b[39;00m \u001b[38;5;21;01merr\u001b[39;00m\n\u001b[0;32m   3813\u001b[0m \u001b[38;5;28;01mexcept\u001b[39;00m \u001b[38;5;167;01mTypeError\u001b[39;00m:\n\u001b[0;32m   3814\u001b[0m     \u001b[38;5;66;03m# If we have a listlike key, _check_indexing_error will raise\u001b[39;00m\n\u001b[0;32m   3815\u001b[0m     \u001b[38;5;66;03m#  InvalidIndexError. Otherwise we fall through and re-raise\u001b[39;00m\n\u001b[0;32m   3816\u001b[0m     \u001b[38;5;66;03m#  the TypeError.\u001b[39;00m\n\u001b[0;32m   3817\u001b[0m     \u001b[38;5;28mself\u001b[39m\u001b[38;5;241m.\u001b[39m_check_indexing_error(key)\n",
      "\u001b[1;31mKeyError\u001b[0m: 1"
     ]
    }
   ],
   "source": [
    "import pandas as pd\n",
    "\n",
    "# Specify the path to your CSV file\n",
    "file_path = 'resistance.csv'\n",
    "\n",
    "# Read the CSV file, specifying the comma as the decimal separator\n",
    "df = pd.read_csv(file_path, delimiter=',', header=None)\n",
    "\n",
    "# Replace commas in numbers with dots\n",
    "df[1] = df[1].str.replace(',', '.').astype(float)\n",
    "df[2] = df[2].str.replace(',', '.').astype(float)\n",
    "\n",
    "# Optionally, assign column names\n",
    "df.columns = ['ID', 'Value1', 'Value2']\n",
    "\n",
    "# Show the DataFrame\n",
    "print(df)"
   ]
  },
  {
   "cell_type": "code",
   "execution_count": null,
   "id": "fafa7dcf-370d-427d-91a0-185ba0a550ac",
   "metadata": {},
   "outputs": [],
   "source": [
    "import pandas as pd\n",
    "\n",
    "# Specify the path to your CSV file\n",
    "file_path = 'resistance.csv'\n",
    "\n",
    "# Read the CSV file with quoted values and no header\n",
    "df = pd.read_csv(file_path, header=None, quotechar='\"')\n",
    "\n",
    "# Replace commas in numbers with dots and convert them to float\n",
    "df[1] = df[1].str.replace(',', '.').astype(float)\n",
    "df[2] = df[2].str.replace(',', '.').astype(float)\n",
    "\n",
    "# Optionally, assign column names\n",
    "df.columns = ['ID', 'Value1', 'Value2']\n",
    "\n",
    "# Show the DataFrame\n",
    "print(df)"
   ]
  },
  {
   "cell_type": "code",
   "execution_count": 18,
   "id": "d97e0e25-1195-480c-9bba-ce93982140f1",
   "metadata": {},
   "outputs": [
    {
     "name": "stdout",
     "output_type": "stream",
     "text": [
      "                                    0\n",
      "0  1733760599,\"21,577000\",\"34,498748\"\n",
      "1  1733760600,\"21,591999\",\"34,500464\"\n",
      "2  1733760601,\"21,589001\",\"34,500464\"\n",
      "3  1733760602,\"21,582001\",\"34,496812\"\n",
      "4  1733760603,\"21,601999\",\"34,497272\"\n"
     ]
    },
    {
     "ename": "KeyError",
     "evalue": "1",
     "output_type": "error",
     "traceback": [
      "\u001b[1;31m---------------------------------------------------------------------------\u001b[0m",
      "\u001b[1;31mKeyError\u001b[0m                                  Traceback (most recent call last)",
      "File \u001b[1;32m~\\AppData\\Local\\Programs\\Python\\Python313\\Lib\\site-packages\\pandas\\core\\indexes\\base.py:3805\u001b[0m, in \u001b[0;36mIndex.get_loc\u001b[1;34m(self, key)\u001b[0m\n\u001b[0;32m   3804\u001b[0m \u001b[38;5;28;01mtry\u001b[39;00m:\n\u001b[1;32m-> 3805\u001b[0m     \u001b[38;5;28;01mreturn\u001b[39;00m \u001b[38;5;28;43mself\u001b[39;49m\u001b[38;5;241;43m.\u001b[39;49m\u001b[43m_engine\u001b[49m\u001b[38;5;241;43m.\u001b[39;49m\u001b[43mget_loc\u001b[49m\u001b[43m(\u001b[49m\u001b[43mcasted_key\u001b[49m\u001b[43m)\u001b[49m\n\u001b[0;32m   3806\u001b[0m \u001b[38;5;28;01mexcept\u001b[39;00m \u001b[38;5;167;01mKeyError\u001b[39;00m \u001b[38;5;28;01mas\u001b[39;00m err:\n",
      "File \u001b[1;32mindex.pyx:167\u001b[0m, in \u001b[0;36mpandas._libs.index.IndexEngine.get_loc\u001b[1;34m()\u001b[0m\n",
      "File \u001b[1;32mindex.pyx:196\u001b[0m, in \u001b[0;36mpandas._libs.index.IndexEngine.get_loc\u001b[1;34m()\u001b[0m\n",
      "File \u001b[1;32mpandas\\\\_libs\\\\hashtable_class_helper.pxi:2606\u001b[0m, in \u001b[0;36mpandas._libs.hashtable.Int64HashTable.get_item\u001b[1;34m()\u001b[0m\n",
      "File \u001b[1;32mpandas\\\\_libs\\\\hashtable_class_helper.pxi:2630\u001b[0m, in \u001b[0;36mpandas._libs.hashtable.Int64HashTable.get_item\u001b[1;34m()\u001b[0m\n",
      "\u001b[1;31mKeyError\u001b[0m: 1",
      "\nThe above exception was the direct cause of the following exception:\n",
      "\u001b[1;31mKeyError\u001b[0m                                  Traceback (most recent call last)",
      "Cell \u001b[1;32mIn[18], line 13\u001b[0m\n\u001b[0;32m     10\u001b[0m \u001b[38;5;28mprint\u001b[39m(df\u001b[38;5;241m.\u001b[39mhead())\n\u001b[0;32m     12\u001b[0m \u001b[38;5;66;03m# If necessary, replace commas in numbers with dots and convert them to float\u001b[39;00m\n\u001b[1;32m---> 13\u001b[0m df[\u001b[38;5;241m1\u001b[39m] \u001b[38;5;241m=\u001b[39m \u001b[43mdf\u001b[49m\u001b[43m[\u001b[49m\u001b[38;5;241;43m1\u001b[39;49m\u001b[43m]\u001b[49m\u001b[38;5;241m.\u001b[39mstr\u001b[38;5;241m.\u001b[39mreplace(\u001b[38;5;124m'\u001b[39m\u001b[38;5;124m,\u001b[39m\u001b[38;5;124m'\u001b[39m, \u001b[38;5;124m'\u001b[39m\u001b[38;5;124m.\u001b[39m\u001b[38;5;124m'\u001b[39m)\u001b[38;5;241m.\u001b[39mastype(\u001b[38;5;28mfloat\u001b[39m)\n\u001b[0;32m     14\u001b[0m df[\u001b[38;5;241m2\u001b[39m] \u001b[38;5;241m=\u001b[39m df[\u001b[38;5;241m2\u001b[39m]\u001b[38;5;241m.\u001b[39mstr\u001b[38;5;241m.\u001b[39mreplace(\u001b[38;5;124m'\u001b[39m\u001b[38;5;124m,\u001b[39m\u001b[38;5;124m'\u001b[39m, \u001b[38;5;124m'\u001b[39m\u001b[38;5;124m.\u001b[39m\u001b[38;5;124m'\u001b[39m)\u001b[38;5;241m.\u001b[39mastype(\u001b[38;5;28mfloat\u001b[39m)\n\u001b[0;32m     16\u001b[0m \u001b[38;5;66;03m# Optionally, assign column names\u001b[39;00m\n",
      "File \u001b[1;32m~\\AppData\\Local\\Programs\\Python\\Python313\\Lib\\site-packages\\pandas\\core\\frame.py:4102\u001b[0m, in \u001b[0;36mDataFrame.__getitem__\u001b[1;34m(self, key)\u001b[0m\n\u001b[0;32m   4100\u001b[0m \u001b[38;5;28;01mif\u001b[39;00m \u001b[38;5;28mself\u001b[39m\u001b[38;5;241m.\u001b[39mcolumns\u001b[38;5;241m.\u001b[39mnlevels \u001b[38;5;241m>\u001b[39m \u001b[38;5;241m1\u001b[39m:\n\u001b[0;32m   4101\u001b[0m     \u001b[38;5;28;01mreturn\u001b[39;00m \u001b[38;5;28mself\u001b[39m\u001b[38;5;241m.\u001b[39m_getitem_multilevel(key)\n\u001b[1;32m-> 4102\u001b[0m indexer \u001b[38;5;241m=\u001b[39m \u001b[38;5;28;43mself\u001b[39;49m\u001b[38;5;241;43m.\u001b[39;49m\u001b[43mcolumns\u001b[49m\u001b[38;5;241;43m.\u001b[39;49m\u001b[43mget_loc\u001b[49m\u001b[43m(\u001b[49m\u001b[43mkey\u001b[49m\u001b[43m)\u001b[49m\n\u001b[0;32m   4103\u001b[0m \u001b[38;5;28;01mif\u001b[39;00m is_integer(indexer):\n\u001b[0;32m   4104\u001b[0m     indexer \u001b[38;5;241m=\u001b[39m [indexer]\n",
      "File \u001b[1;32m~\\AppData\\Local\\Programs\\Python\\Python313\\Lib\\site-packages\\pandas\\core\\indexes\\base.py:3812\u001b[0m, in \u001b[0;36mIndex.get_loc\u001b[1;34m(self, key)\u001b[0m\n\u001b[0;32m   3807\u001b[0m     \u001b[38;5;28;01mif\u001b[39;00m \u001b[38;5;28misinstance\u001b[39m(casted_key, \u001b[38;5;28mslice\u001b[39m) \u001b[38;5;129;01mor\u001b[39;00m (\n\u001b[0;32m   3808\u001b[0m         \u001b[38;5;28misinstance\u001b[39m(casted_key, abc\u001b[38;5;241m.\u001b[39mIterable)\n\u001b[0;32m   3809\u001b[0m         \u001b[38;5;129;01mand\u001b[39;00m \u001b[38;5;28many\u001b[39m(\u001b[38;5;28misinstance\u001b[39m(x, \u001b[38;5;28mslice\u001b[39m) \u001b[38;5;28;01mfor\u001b[39;00m x \u001b[38;5;129;01min\u001b[39;00m casted_key)\n\u001b[0;32m   3810\u001b[0m     ):\n\u001b[0;32m   3811\u001b[0m         \u001b[38;5;28;01mraise\u001b[39;00m InvalidIndexError(key)\n\u001b[1;32m-> 3812\u001b[0m     \u001b[38;5;28;01mraise\u001b[39;00m \u001b[38;5;167;01mKeyError\u001b[39;00m(key) \u001b[38;5;28;01mfrom\u001b[39;00m \u001b[38;5;21;01merr\u001b[39;00m\n\u001b[0;32m   3813\u001b[0m \u001b[38;5;28;01mexcept\u001b[39;00m \u001b[38;5;167;01mTypeError\u001b[39;00m:\n\u001b[0;32m   3814\u001b[0m     \u001b[38;5;66;03m# If we have a listlike key, _check_indexing_error will raise\u001b[39;00m\n\u001b[0;32m   3815\u001b[0m     \u001b[38;5;66;03m#  InvalidIndexError. Otherwise we fall through and re-raise\u001b[39;00m\n\u001b[0;32m   3816\u001b[0m     \u001b[38;5;66;03m#  the TypeError.\u001b[39;00m\n\u001b[0;32m   3817\u001b[0m     \u001b[38;5;28mself\u001b[39m\u001b[38;5;241m.\u001b[39m_check_indexing_error(key)\n",
      "\u001b[1;31mKeyError\u001b[0m: 1"
     ]
    }
   ],
   "source": [
    "import pandas as pd\n",
    "\n",
    "# Specify the path to your CSV file\n",
    "file_path = 'resistance.csv'\n",
    "\n",
    "# Read the CSV file, specifying the separator as a comma, but ensuring that quoted commas are preserved.\n",
    "df = pd.read_csv(file_path, header=None, quotechar='\"')\n",
    "\n",
    "# Check the DataFrame structure to make sure it was read correctly\n",
    "print(df.head())\n",
    "\n",
    "# If necessary, replace commas in numbers with dots and convert them to float\n",
    "df[1] = df[1].str.replace(',', '.').astype(float)\n",
    "df[2] = df[2].str.replace(',', '.').astype(float)\n",
    "\n",
    "# Optionally, assign column names\n",
    "df.columns = ['ID', 'Value1', 'Value2']\n",
    "\n",
    "# Show the DataFrame\n",
    "print(df)"
   ]
  },
  {
   "cell_type": "code",
   "execution_count": 19,
   "id": "7f3cb449-e967-4e30-b001-2d40be6b672e",
   "metadata": {},
   "outputs": [
    {
     "data": {
      "text/html": [
       "<div>\n",
       "<style scoped>\n",
       "    .dataframe tbody tr th:only-of-type {\n",
       "        vertical-align: middle;\n",
       "    }\n",
       "\n",
       "    .dataframe tbody tr th {\n",
       "        vertical-align: top;\n",
       "    }\n",
       "\n",
       "    .dataframe thead th {\n",
       "        text-align: right;\n",
       "    }\n",
       "</style>\n",
       "<table border=\"1\" class=\"dataframe\">\n",
       "  <thead>\n",
       "    <tr style=\"text-align: right;\">\n",
       "      <th></th>\n",
       "      <th>0</th>\n",
       "    </tr>\n",
       "  </thead>\n",
       "  <tbody>\n",
       "    <tr>\n",
       "      <th>0</th>\n",
       "      <td>1733760599,\"21,577000\",\"34,498748\"</td>\n",
       "    </tr>\n",
       "    <tr>\n",
       "      <th>1</th>\n",
       "      <td>1733760600,\"21,591999\",\"34,500464\"</td>\n",
       "    </tr>\n",
       "    <tr>\n",
       "      <th>2</th>\n",
       "      <td>1733760601,\"21,589001\",\"34,500464\"</td>\n",
       "    </tr>\n",
       "    <tr>\n",
       "      <th>3</th>\n",
       "      <td>1733760602,\"21,582001\",\"34,496812\"</td>\n",
       "    </tr>\n",
       "    <tr>\n",
       "      <th>4</th>\n",
       "      <td>1733760603,\"21,601999\",\"34,497272\"</td>\n",
       "    </tr>\n",
       "    <tr>\n",
       "      <th>...</th>\n",
       "      <td>...</td>\n",
       "    </tr>\n",
       "    <tr>\n",
       "      <th>66909</th>\n",
       "      <td>1733827508,\"21,483000\",\"34,487716\"</td>\n",
       "    </tr>\n",
       "    <tr>\n",
       "      <th>66910</th>\n",
       "      <td>1733827509,\"21,483000\",\"34,489380\"</td>\n",
       "    </tr>\n",
       "    <tr>\n",
       "      <th>66911</th>\n",
       "      <td>1733827510,\"21,487000\",\"34,489788\"</td>\n",
       "    </tr>\n",
       "    <tr>\n",
       "      <th>66912</th>\n",
       "      <td>1733827511,\"21,487000\",\"34,489788\"</td>\n",
       "    </tr>\n",
       "    <tr>\n",
       "      <th>66913</th>\n",
       "      <td>1733827512,\"21,476999\",\"34,488328\"</td>\n",
       "    </tr>\n",
       "  </tbody>\n",
       "</table>\n",
       "<p>66914 rows × 1 columns</p>\n",
       "</div>"
      ],
      "text/plain": [
       "                                        0\n",
       "0      1733760599,\"21,577000\",\"34,498748\"\n",
       "1      1733760600,\"21,591999\",\"34,500464\"\n",
       "2      1733760601,\"21,589001\",\"34,500464\"\n",
       "3      1733760602,\"21,582001\",\"34,496812\"\n",
       "4      1733760603,\"21,601999\",\"34,497272\"\n",
       "...                                   ...\n",
       "66909  1733827508,\"21,483000\",\"34,487716\"\n",
       "66910  1733827509,\"21,483000\",\"34,489380\"\n",
       "66911  1733827510,\"21,487000\",\"34,489788\"\n",
       "66912  1733827511,\"21,487000\",\"34,489788\"\n",
       "66913  1733827512,\"21,476999\",\"34,488328\"\n",
       "\n",
       "[66914 rows x 1 columns]"
      ]
     },
     "execution_count": 19,
     "metadata": {},
     "output_type": "execute_result"
    }
   ],
   "source": [
    "df"
   ]
  },
  {
   "cell_type": "code",
   "execution_count": 20,
   "id": "2c5d42ca-8af7-4f12-9c95-51c5bdb1c4e6",
   "metadata": {},
   "outputs": [
    {
     "name": "stdout",
     "output_type": "stream",
     "text": [
      "                                    0\n",
      "0  1733760599,\"21,577000\",\"34,498748\"\n",
      "1  1733760600,\"21,591999\",\"34,500464\"\n",
      "2  1733760601,\"21,589001\",\"34,500464\"\n",
      "3  1733760602,\"21,582001\",\"34,496812\"\n",
      "4  1733760603,\"21,601999\",\"34,497272\"\n"
     ]
    }
   ],
   "source": [
    "# Read the CSV file manually\n",
    "df = pd.read_csv('resistance.csv', header=None, quotechar='\"', delimiter=',')\n",
    "\n",
    "# Print the dataframe's first few rows to inspect the data\n",
    "print(df.head())\n"
   ]
  },
  {
   "cell_type": "code",
   "execution_count": 21,
   "id": "bfe6188a-2a2b-416d-93ab-1be2271cb447",
   "metadata": {},
   "outputs": [],
   "source": [
    "import pandas as pd\n",
    "\n",
    "# Initialize an empty list to store the split rows\n",
    "split_data = []\n",
    "\n",
    "# Open the file\n",
    "with open(\"resistance.csv\", \"r\") as file:\n",
    "    # Loop through each line in the file\n",
    "    for line in file:\n",
    "        # Split the line by a delimiter (e.g., space, comma, etc.)\n",
    "        row_data = line.strip().split('\"')  # You can change the delimiter if needed\n",
    "        split_data.append(row_data)  # Add the split row to the list\n",
    "\n",
    "# Create a DataFrame where each row in `split_data` becomes a row in the DataFrame\n",
    "df = pd.DataFrame(split_data)"
   ]
  },
  {
   "cell_type": "code",
   "execution_count": 22,
   "id": "5db186a2-eef6-4fd0-8cab-5dd53e47a99e",
   "metadata": {},
   "outputs": [
    {
     "data": {
      "text/html": [
       "<div>\n",
       "<style scoped>\n",
       "    .dataframe tbody tr th:only-of-type {\n",
       "        vertical-align: middle;\n",
       "    }\n",
       "\n",
       "    .dataframe tbody tr th {\n",
       "        vertical-align: top;\n",
       "    }\n",
       "\n",
       "    .dataframe thead th {\n",
       "        text-align: right;\n",
       "    }\n",
       "</style>\n",
       "<table border=\"1\" class=\"dataframe\">\n",
       "  <thead>\n",
       "    <tr style=\"text-align: right;\">\n",
       "      <th></th>\n",
       "      <th>0</th>\n",
       "      <th>1</th>\n",
       "      <th>2</th>\n",
       "      <th>3</th>\n",
       "      <th>4</th>\n",
       "      <th>5</th>\n",
       "      <th>6</th>\n",
       "      <th>7</th>\n",
       "      <th>8</th>\n",
       "      <th>9</th>\n",
       "      <th>10</th>\n",
       "    </tr>\n",
       "  </thead>\n",
       "  <tbody>\n",
       "    <tr>\n",
       "      <th>0</th>\n",
       "      <td></td>\n",
       "      <td>1733760599,</td>\n",
       "      <td></td>\n",
       "      <td>21,577000</td>\n",
       "      <td></td>\n",
       "      <td>,</td>\n",
       "      <td></td>\n",
       "      <td>34,498748</td>\n",
       "      <td></td>\n",
       "      <td></td>\n",
       "      <td></td>\n",
       "    </tr>\n",
       "    <tr>\n",
       "      <th>1</th>\n",
       "      <td></td>\n",
       "      <td>1733760600,</td>\n",
       "      <td></td>\n",
       "      <td>21,591999</td>\n",
       "      <td></td>\n",
       "      <td>,</td>\n",
       "      <td></td>\n",
       "      <td>34,500464</td>\n",
       "      <td></td>\n",
       "      <td></td>\n",
       "      <td></td>\n",
       "    </tr>\n",
       "    <tr>\n",
       "      <th>2</th>\n",
       "      <td></td>\n",
       "      <td>1733760601,</td>\n",
       "      <td></td>\n",
       "      <td>21,589001</td>\n",
       "      <td></td>\n",
       "      <td>,</td>\n",
       "      <td></td>\n",
       "      <td>34,500464</td>\n",
       "      <td></td>\n",
       "      <td></td>\n",
       "      <td></td>\n",
       "    </tr>\n",
       "    <tr>\n",
       "      <th>3</th>\n",
       "      <td></td>\n",
       "      <td>1733760602,</td>\n",
       "      <td></td>\n",
       "      <td>21,582001</td>\n",
       "      <td></td>\n",
       "      <td>,</td>\n",
       "      <td></td>\n",
       "      <td>34,496812</td>\n",
       "      <td></td>\n",
       "      <td></td>\n",
       "      <td></td>\n",
       "    </tr>\n",
       "    <tr>\n",
       "      <th>4</th>\n",
       "      <td></td>\n",
       "      <td>1733760603,</td>\n",
       "      <td></td>\n",
       "      <td>21,601999</td>\n",
       "      <td></td>\n",
       "      <td>,</td>\n",
       "      <td></td>\n",
       "      <td>34,497272</td>\n",
       "      <td></td>\n",
       "      <td></td>\n",
       "      <td></td>\n",
       "    </tr>\n",
       "    <tr>\n",
       "      <th>...</th>\n",
       "      <td>...</td>\n",
       "      <td>...</td>\n",
       "      <td>...</td>\n",
       "      <td>...</td>\n",
       "      <td>...</td>\n",
       "      <td>...</td>\n",
       "      <td>...</td>\n",
       "      <td>...</td>\n",
       "      <td>...</td>\n",
       "      <td>...</td>\n",
       "      <td>...</td>\n",
       "    </tr>\n",
       "    <tr>\n",
       "      <th>66909</th>\n",
       "      <td></td>\n",
       "      <td>1733827508,</td>\n",
       "      <td></td>\n",
       "      <td>21,483000</td>\n",
       "      <td></td>\n",
       "      <td>,</td>\n",
       "      <td></td>\n",
       "      <td>34,487716</td>\n",
       "      <td></td>\n",
       "      <td></td>\n",
       "      <td></td>\n",
       "    </tr>\n",
       "    <tr>\n",
       "      <th>66910</th>\n",
       "      <td></td>\n",
       "      <td>1733827509,</td>\n",
       "      <td></td>\n",
       "      <td>21,483000</td>\n",
       "      <td></td>\n",
       "      <td>,</td>\n",
       "      <td></td>\n",
       "      <td>34,489380</td>\n",
       "      <td></td>\n",
       "      <td></td>\n",
       "      <td></td>\n",
       "    </tr>\n",
       "    <tr>\n",
       "      <th>66911</th>\n",
       "      <td></td>\n",
       "      <td>1733827510,</td>\n",
       "      <td></td>\n",
       "      <td>21,487000</td>\n",
       "      <td></td>\n",
       "      <td>,</td>\n",
       "      <td></td>\n",
       "      <td>34,489788</td>\n",
       "      <td></td>\n",
       "      <td></td>\n",
       "      <td></td>\n",
       "    </tr>\n",
       "    <tr>\n",
       "      <th>66912</th>\n",
       "      <td></td>\n",
       "      <td>1733827511,</td>\n",
       "      <td></td>\n",
       "      <td>21,487000</td>\n",
       "      <td></td>\n",
       "      <td>,</td>\n",
       "      <td></td>\n",
       "      <td>34,489788</td>\n",
       "      <td></td>\n",
       "      <td></td>\n",
       "      <td></td>\n",
       "    </tr>\n",
       "    <tr>\n",
       "      <th>66913</th>\n",
       "      <td></td>\n",
       "      <td>1733827512,</td>\n",
       "      <td></td>\n",
       "      <td>21,476999</td>\n",
       "      <td></td>\n",
       "      <td>,</td>\n",
       "      <td></td>\n",
       "      <td>34,488328</td>\n",
       "      <td></td>\n",
       "      <td></td>\n",
       "      <td></td>\n",
       "    </tr>\n",
       "  </tbody>\n",
       "</table>\n",
       "<p>66914 rows × 11 columns</p>\n",
       "</div>"
      ],
      "text/plain": [
       "      0            1  2          3  4  5  6          7  8  9  10\n",
       "0         1733760599,     21,577000     ,     34,498748         \n",
       "1         1733760600,     21,591999     ,     34,500464         \n",
       "2         1733760601,     21,589001     ,     34,500464         \n",
       "3         1733760602,     21,582001     ,     34,496812         \n",
       "4         1733760603,     21,601999     ,     34,497272         \n",
       "...   ..          ... ..        ... .. .. ..        ... .. .. ..\n",
       "66909     1733827508,     21,483000     ,     34,487716         \n",
       "66910     1733827509,     21,483000     ,     34,489380         \n",
       "66911     1733827510,     21,487000     ,     34,489788         \n",
       "66912     1733827511,     21,487000     ,     34,489788         \n",
       "66913     1733827512,     21,476999     ,     34,488328         \n",
       "\n",
       "[66914 rows x 11 columns]"
      ]
     },
     "execution_count": 22,
     "metadata": {},
     "output_type": "execute_result"
    }
   ],
   "source": [
    "df"
   ]
  },
  {
   "cell_type": "code",
   "execution_count": 23,
   "id": "f61f0997-04cb-4e79-88ef-2b599c76da27",
   "metadata": {},
   "outputs": [
    {
     "data": {
      "text/plain": [
       "0        1733760599,\n",
       "1        1733760600,\n",
       "2        1733760601,\n",
       "3        1733760602,\n",
       "4        1733760603,\n",
       "            ...     \n",
       "66909    1733827508,\n",
       "66910    1733827509,\n",
       "66911    1733827510,\n",
       "66912    1733827511,\n",
       "66913    1733827512,\n",
       "Name: 1, Length: 66914, dtype: object"
      ]
     },
     "execution_count": 23,
     "metadata": {},
     "output_type": "execute_result"
    }
   ],
   "source": [
    "df[1]"
   ]
  },
  {
   "cell_type": "code",
   "execution_count": 24,
   "id": "d8e5d83c-3cf5-4a0b-a1f4-f4866a5350f2",
   "metadata": {},
   "outputs": [],
   "source": [
    "data = {\n",
    "    'Column1': df[1],\n",
    "    'Column2': df[3],\n",
    "    'Column3': df[7],\n",
    "    \n",
    "}\n",
    "df_clean = pd.DataFrame(data)"
   ]
  },
  {
   "cell_type": "code",
   "execution_count": null,
   "id": "b338362b-4846-4ff6-ad58-bb03c7d150e2",
   "metadata": {},
   "outputs": [],
   "source": []
  },
  {
   "cell_type": "code",
   "execution_count": 25,
   "id": "1ce3179e-3c68-4f25-9beb-7e4b26187502",
   "metadata": {},
   "outputs": [
    {
     "data": {
      "text/html": [
       "<div>\n",
       "<style scoped>\n",
       "    .dataframe tbody tr th:only-of-type {\n",
       "        vertical-align: middle;\n",
       "    }\n",
       "\n",
       "    .dataframe tbody tr th {\n",
       "        vertical-align: top;\n",
       "    }\n",
       "\n",
       "    .dataframe thead th {\n",
       "        text-align: right;\n",
       "    }\n",
       "</style>\n",
       "<table border=\"1\" class=\"dataframe\">\n",
       "  <thead>\n",
       "    <tr style=\"text-align: right;\">\n",
       "      <th></th>\n",
       "      <th>Column1</th>\n",
       "      <th>Column2</th>\n",
       "      <th>Column3</th>\n",
       "    </tr>\n",
       "  </thead>\n",
       "  <tbody>\n",
       "    <tr>\n",
       "      <th>0</th>\n",
       "      <td>1733760599,</td>\n",
       "      <td>21,577000</td>\n",
       "      <td>34,498748</td>\n",
       "    </tr>\n",
       "    <tr>\n",
       "      <th>1</th>\n",
       "      <td>1733760600,</td>\n",
       "      <td>21,591999</td>\n",
       "      <td>34,500464</td>\n",
       "    </tr>\n",
       "    <tr>\n",
       "      <th>2</th>\n",
       "      <td>1733760601,</td>\n",
       "      <td>21,589001</td>\n",
       "      <td>34,500464</td>\n",
       "    </tr>\n",
       "    <tr>\n",
       "      <th>3</th>\n",
       "      <td>1733760602,</td>\n",
       "      <td>21,582001</td>\n",
       "      <td>34,496812</td>\n",
       "    </tr>\n",
       "    <tr>\n",
       "      <th>4</th>\n",
       "      <td>1733760603,</td>\n",
       "      <td>21,601999</td>\n",
       "      <td>34,497272</td>\n",
       "    </tr>\n",
       "    <tr>\n",
       "      <th>...</th>\n",
       "      <td>...</td>\n",
       "      <td>...</td>\n",
       "      <td>...</td>\n",
       "    </tr>\n",
       "    <tr>\n",
       "      <th>66909</th>\n",
       "      <td>1733827508,</td>\n",
       "      <td>21,483000</td>\n",
       "      <td>34,487716</td>\n",
       "    </tr>\n",
       "    <tr>\n",
       "      <th>66910</th>\n",
       "      <td>1733827509,</td>\n",
       "      <td>21,483000</td>\n",
       "      <td>34,489380</td>\n",
       "    </tr>\n",
       "    <tr>\n",
       "      <th>66911</th>\n",
       "      <td>1733827510,</td>\n",
       "      <td>21,487000</td>\n",
       "      <td>34,489788</td>\n",
       "    </tr>\n",
       "    <tr>\n",
       "      <th>66912</th>\n",
       "      <td>1733827511,</td>\n",
       "      <td>21,487000</td>\n",
       "      <td>34,489788</td>\n",
       "    </tr>\n",
       "    <tr>\n",
       "      <th>66913</th>\n",
       "      <td>1733827512,</td>\n",
       "      <td>21,476999</td>\n",
       "      <td>34,488328</td>\n",
       "    </tr>\n",
       "  </tbody>\n",
       "</table>\n",
       "<p>66914 rows × 3 columns</p>\n",
       "</div>"
      ],
      "text/plain": [
       "           Column1    Column2    Column3\n",
       "0      1733760599,  21,577000  34,498748\n",
       "1      1733760600,  21,591999  34,500464\n",
       "2      1733760601,  21,589001  34,500464\n",
       "3      1733760602,  21,582001  34,496812\n",
       "4      1733760603,  21,601999  34,497272\n",
       "...            ...        ...        ...\n",
       "66909  1733827508,  21,483000  34,487716\n",
       "66910  1733827509,  21,483000  34,489380\n",
       "66911  1733827510,  21,487000  34,489788\n",
       "66912  1733827511,  21,487000  34,489788\n",
       "66913  1733827512,  21,476999  34,488328\n",
       "\n",
       "[66914 rows x 3 columns]"
      ]
     },
     "execution_count": 25,
     "metadata": {},
     "output_type": "execute_result"
    }
   ],
   "source": [
    "df_clean"
   ]
  },
  {
   "cell_type": "code",
   "execution_count": 26,
   "id": "e6d2ab3d-0344-4105-8097-ae3d7fcac757",
   "metadata": {},
   "outputs": [],
   "source": [
    "# Remove commas in the first column\n",
    "df_clean['Column1'] = df_clean['Column1'].str.replace(',', '', regex=False)\n",
    "\n",
    "# Convert the second and third columns to float (replace commas with dots)\n",
    "df_clean['Column2'] = df_clean['Column2'].str.replace(',', '.').astype(float)\n",
    "df_clean['Column3'] = df_clean['Column3'].str.replace(',', '.').astype(float)"
   ]
  },
  {
   "cell_type": "code",
   "execution_count": null,
   "id": "ce8f95bb-7d48-4a17-9a9f-a9bef2230ab6",
   "metadata": {},
   "outputs": [],
   "source": []
  },
  {
   "cell_type": "code",
   "execution_count": 27,
   "id": "dcb00d11-4c76-449c-9231-4c1365bca158",
   "metadata": {},
   "outputs": [
    {
     "data": {
      "text/html": [
       "<div>\n",
       "<style scoped>\n",
       "    .dataframe tbody tr th:only-of-type {\n",
       "        vertical-align: middle;\n",
       "    }\n",
       "\n",
       "    .dataframe tbody tr th {\n",
       "        vertical-align: top;\n",
       "    }\n",
       "\n",
       "    .dataframe thead th {\n",
       "        text-align: right;\n",
       "    }\n",
       "</style>\n",
       "<table border=\"1\" class=\"dataframe\">\n",
       "  <thead>\n",
       "    <tr style=\"text-align: right;\">\n",
       "      <th></th>\n",
       "      <th>Column1</th>\n",
       "      <th>Column2</th>\n",
       "      <th>Column3</th>\n",
       "    </tr>\n",
       "  </thead>\n",
       "  <tbody>\n",
       "    <tr>\n",
       "      <th>0</th>\n",
       "      <td>1733760599</td>\n",
       "      <td>21.577000</td>\n",
       "      <td>34.498748</td>\n",
       "    </tr>\n",
       "    <tr>\n",
       "      <th>1</th>\n",
       "      <td>1733760600</td>\n",
       "      <td>21.591999</td>\n",
       "      <td>34.500464</td>\n",
       "    </tr>\n",
       "    <tr>\n",
       "      <th>2</th>\n",
       "      <td>1733760601</td>\n",
       "      <td>21.589001</td>\n",
       "      <td>34.500464</td>\n",
       "    </tr>\n",
       "    <tr>\n",
       "      <th>3</th>\n",
       "      <td>1733760602</td>\n",
       "      <td>21.582001</td>\n",
       "      <td>34.496812</td>\n",
       "    </tr>\n",
       "    <tr>\n",
       "      <th>4</th>\n",
       "      <td>1733760603</td>\n",
       "      <td>21.601999</td>\n",
       "      <td>34.497272</td>\n",
       "    </tr>\n",
       "    <tr>\n",
       "      <th>...</th>\n",
       "      <td>...</td>\n",
       "      <td>...</td>\n",
       "      <td>...</td>\n",
       "    </tr>\n",
       "    <tr>\n",
       "      <th>66909</th>\n",
       "      <td>1733827508</td>\n",
       "      <td>21.483000</td>\n",
       "      <td>34.487716</td>\n",
       "    </tr>\n",
       "    <tr>\n",
       "      <th>66910</th>\n",
       "      <td>1733827509</td>\n",
       "      <td>21.483000</td>\n",
       "      <td>34.489380</td>\n",
       "    </tr>\n",
       "    <tr>\n",
       "      <th>66911</th>\n",
       "      <td>1733827510</td>\n",
       "      <td>21.487000</td>\n",
       "      <td>34.489788</td>\n",
       "    </tr>\n",
       "    <tr>\n",
       "      <th>66912</th>\n",
       "      <td>1733827511</td>\n",
       "      <td>21.487000</td>\n",
       "      <td>34.489788</td>\n",
       "    </tr>\n",
       "    <tr>\n",
       "      <th>66913</th>\n",
       "      <td>1733827512</td>\n",
       "      <td>21.476999</td>\n",
       "      <td>34.488328</td>\n",
       "    </tr>\n",
       "  </tbody>\n",
       "</table>\n",
       "<p>66914 rows × 3 columns</p>\n",
       "</div>"
      ],
      "text/plain": [
       "          Column1    Column2    Column3\n",
       "0      1733760599  21.577000  34.498748\n",
       "1      1733760600  21.591999  34.500464\n",
       "2      1733760601  21.589001  34.500464\n",
       "3      1733760602  21.582001  34.496812\n",
       "4      1733760603  21.601999  34.497272\n",
       "...           ...        ...        ...\n",
       "66909  1733827508  21.483000  34.487716\n",
       "66910  1733827509  21.483000  34.489380\n",
       "66911  1733827510  21.487000  34.489788\n",
       "66912  1733827511  21.487000  34.489788\n",
       "66913  1733827512  21.476999  34.488328\n",
       "\n",
       "[66914 rows x 3 columns]"
      ]
     },
     "execution_count": 27,
     "metadata": {},
     "output_type": "execute_result"
    }
   ],
   "source": [
    "df_clean"
   ]
  },
  {
   "cell_type": "code",
   "execution_count": 33,
   "id": "b5b26cfd-2126-4617-a8b9-36e636b9b241",
   "metadata": {},
   "outputs": [
    {
     "data": {
      "text/plain": [
       "10    1733760609\n",
       "11    1733760610\n",
       "12    1733760611\n",
       "13    1733760612\n",
       "14    1733760613\n",
       "15    1733760614\n",
       "16    1733760615\n",
       "17    1733760616\n",
       "18    1733760617\n",
       "19    1733760618\n",
       "Name: Column1, dtype: object"
      ]
     },
     "execution_count": 33,
     "metadata": {},
     "output_type": "execute_result"
    }
   ],
   "source": [
    "df_clean[\"Column1\"][10:20]"
   ]
  },
  {
   "cell_type": "code",
   "execution_count": 34,
   "id": "ccd6910b-56c8-4935-8e5a-3d480725fa60",
   "metadata": {},
   "outputs": [
    {
     "name": "stderr",
     "output_type": "stream",
     "text": [
      "C:\\Users\\rinc\\AppData\\Local\\Temp\\ipykernel_8908\\1669497811.py:7: UserWarning: No artists with labels found to put in legend.  Note that artists whose label start with an underscore are ignored when legend() is called with no argument.\n",
      "  plt.legend()\n"
     ]
    },
    {
     "data": {
      "image/png": "[encoded data removed]",
      "text/plain": [
       "<Figure size 640x480 with 1 Axes>"
      ]
     },
     "metadata": {},
     "output_type": "display_data"
    }
   ],
   "source": [
    "X=df_clean[\"Column2\"][551:4085]\n",
    "Y=df_clean[\"Column3\"][551:4085]\n",
    "# Plot the data \n",
    "plt.plot(X, Y, color='red')\n",
    "plt.xlabel('Temperature')\n",
    "plt.ylabel('Resistance')\n",
    "plt.legend()\n",
    "plt.show()"
   ]
  },
  {
   "cell_type": "code",
   "execution_count": 60,
   "id": "73dfbd93-7979-4bf7-92ae-8f998147a8ec",
   "metadata": {},
   "outputs": [],
   "source": [
    "df_clean['Gradient'] = (df_clean['Column3'][551:4085].diff() / df_clean['Column2'][551:4085].diff())"
   ]
  },
  {
   "cell_type": "code",
   "execution_count": 61,
   "id": "ac02d018-9e11-4598-9605-fe494050521f",
   "metadata": {},
   "outputs": [
    {
     "data": {
      "text/html": [
       "<div>\n",
       "<style scoped>\n",
       "    .dataframe tbody tr th:only-of-type {\n",
       "        vertical-align: middle;\n",
       "    }\n",
       "\n",
       "    .dataframe tbody tr th {\n",
       "        vertical-align: top;\n",
       "    }\n",
       "\n",
       "    .dataframe thead th {\n",
       "        text-align: right;\n",
       "    }\n",
       "</style>\n",
       "<table border=\"1\" class=\"dataframe\">\n",
       "  <thead>\n",
       "    <tr style=\"text-align: right;\">\n",
       "      <th></th>\n",
       "      <th>Column1</th>\n",
       "      <th>Column2</th>\n",
       "      <th>Column3</th>\n",
       "      <th>Gradient</th>\n",
       "    </tr>\n",
       "  </thead>\n",
       "  <tbody>\n",
       "    <tr>\n",
       "      <th>551</th>\n",
       "      <td>1733761150</td>\n",
       "      <td>21.004000</td>\n",
       "      <td>34.422236</td>\n",
       "      <td>NaN</td>\n",
       "    </tr>\n",
       "    <tr>\n",
       "      <th>552</th>\n",
       "      <td>1733761151</td>\n",
       "      <td>20.934999</td>\n",
       "      <td>34.422236</td>\n",
       "      <td>-0.000000</td>\n",
       "    </tr>\n",
       "    <tr>\n",
       "      <th>553</th>\n",
       "      <td>1733761152</td>\n",
       "      <td>20.854000</td>\n",
       "      <td>34.412480</td>\n",
       "      <td>0.120446</td>\n",
       "    </tr>\n",
       "    <tr>\n",
       "      <th>554</th>\n",
       "      <td>1733761153</td>\n",
       "      <td>20.854000</td>\n",
       "      <td>34.400992</td>\n",
       "      <td>-inf</td>\n",
       "    </tr>\n",
       "    <tr>\n",
       "      <th>555</th>\n",
       "      <td>1733761154</td>\n",
       "      <td>20.767000</td>\n",
       "      <td>34.392188</td>\n",
       "      <td>0.101195</td>\n",
       "    </tr>\n",
       "    <tr>\n",
       "      <th>...</th>\n",
       "      <td>...</td>\n",
       "      <td>...</td>\n",
       "      <td>...</td>\n",
       "      <td>...</td>\n",
       "    </tr>\n",
       "    <tr>\n",
       "      <th>4080</th>\n",
       "      <td>1733764679</td>\n",
       "      <td>-99.997002</td>\n",
       "      <td>18.767522</td>\n",
       "      <td>-0.620676</td>\n",
       "    </tr>\n",
       "    <tr>\n",
       "      <th>4081</th>\n",
       "      <td>1733764680</td>\n",
       "      <td>-99.997002</td>\n",
       "      <td>18.761756</td>\n",
       "      <td>-inf</td>\n",
       "    </tr>\n",
       "    <tr>\n",
       "      <th>4082</th>\n",
       "      <td>1733764681</td>\n",
       "      <td>-100.000000</td>\n",
       "      <td>18.759136</td>\n",
       "      <td>0.873916</td>\n",
       "    </tr>\n",
       "    <tr>\n",
       "      <th>4083</th>\n",
       "      <td>1733764682</td>\n",
       "      <td>-100.007004</td>\n",
       "      <td>18.759136</td>\n",
       "      <td>-0.000000</td>\n",
       "    </tr>\n",
       "    <tr>\n",
       "      <th>4084</th>\n",
       "      <td>1733764683</td>\n",
       "      <td>-100.011002</td>\n",
       "      <td>18.757820</td>\n",
       "      <td>0.329165</td>\n",
       "    </tr>\n",
       "  </tbody>\n",
       "</table>\n",
       "<p>3534 rows × 4 columns</p>\n",
       "</div>"
      ],
      "text/plain": [
       "         Column1     Column2    Column3  Gradient\n",
       "551   1733761150   21.004000  34.422236       NaN\n",
       "552   1733761151   20.934999  34.422236 -0.000000\n",
       "553   1733761152   20.854000  34.412480  0.120446\n",
       "554   1733761153   20.854000  34.400992      -inf\n",
       "555   1733761154   20.767000  34.392188  0.101195\n",
       "...          ...         ...        ...       ...\n",
       "4080  1733764679  -99.997002  18.767522 -0.620676\n",
       "4081  1733764680  -99.997002  18.761756      -inf\n",
       "4082  1733764681 -100.000000  18.759136  0.873916\n",
       "4083  1733764682 -100.007004  18.759136 -0.000000\n",
       "4084  1733764683 -100.011002  18.757820  0.329165\n",
       "\n",
       "[3534 rows x 4 columns]"
      ]
     },
     "execution_count": 61,
     "metadata": {},
     "output_type": "execute_result"
    }
   ],
   "source": [
    "df_clean[551:4085]"
   ]
  },
  {
   "cell_type": "code",
   "execution_count": 67,
   "id": "a0defde2-36d7-41c8-894b-31a5b5824880",
   "metadata": {},
   "outputs": [
    {
     "name": "stderr",
     "output_type": "stream",
     "text": [
      "C:\\Users\\rinc\\AppData\\Local\\Temp\\ipykernel_8908\\3616015952.py:7: UserWarning: No artists with labels found to put in legend.  Note that artists whose label start with an underscore are ignored when legend() is called with no argument.\n",
      "  plt.legend()\n"
     ]
    },
    {
     "data": {
      "image/png": "[encoded data removed]",
      "text/plain": [
       "<Figure size 640x480 with 1 Axes>"
      ]
     },
     "metadata": {},
     "output_type": "display_data"
    }
   ],
   "source": [
    "X=df_clean[\"Column2\"][1000:2000]\n",
    "Y=df_clean[\"Gradient\"][1000:2000]\n",
    "# Plot the data \n",
    "plt.plot(X, Y, color='red')\n",
    "plt.xlabel('Temperature')\n",
    "plt.ylabel('Gradient')\n",
    "plt.legend()\n",
    "plt.show()"
   ]
  },
  {
   "cell_type": "code",
   "execution_count": 54,
   "id": "a1d3601d-30fc-4a6f-a32b-91db9dd6048e",
   "metadata": {},
   "outputs": [
    {
     "name": "stdout",
     "output_type": "stream",
     "text": [
      "Polynomial coefficients: [nan nan nan nan]\n"
     ]
    },
    {
     "data": {
      "image/png": "[encoded data removed]",
      "text/plain": [
       "<Figure size 640x480 with 1 Axes>"
      ]
     },
     "metadata": {},
     "output_type": "display_data"
    }
   ],
   "source": [
    "\n",
    "# Perform polynomial fitting (e.g., 1st degree for linear fit)\n",
    "degree = 3\n",
    "coefficients = np.polyfit(X, Y, degree)\n",
    "\n",
    "# Print the polynomial coefficients\n",
    "print(\"Polynomial coefficients:\", coefficients)\n",
    "\n",
    "# Generate fitted values\n",
    "Y_fit = np.polyval(coefficients, X)\n",
    "\n",
    "# Plot the data and the fit\n",
    "plt.scatter(X, Y, label='Data', color='blue')\n",
    "plt.plot(X, Y_fit, label=f'{degree}-degree fit', color='red')\n",
    "plt.xlabel('Temperature (°C)')\n",
    "plt.ylabel('Resistance (Ohm)')\n",
    "plt.legend()\n",
    "plt.show()"
   ]
  },
  {
   "cell_type": "code",
   "execution_count": 56,
   "id": "be48471a-f97a-4c11-b4e1-19e17bfdbccb",
   "metadata": {},
   "outputs": [
    {
     "name": "stdout",
     "output_type": "stream",
     "text": [
      "Gradient (derivative) coefficients: [nan nan nan]\n"
     ]
    },
    {
     "data": {
      "image/png": "[encoded data removed]",
      "text/plain": [
       "<Figure size 640x480 with 1 Axes>"
      ]
     },
     "metadata": {},
     "output_type": "display_data"
    }
   ],
   "source": [
    "gradient_coefficients = np.polyder(coefficients)\n",
    "\n",
    "# Generate the gradient values\n",
    "Y_gradient = np.polyval(gradient_coefficients, X)\n",
    "\n",
    "# Print the gradient coefficients\n",
    "print(\"Gradient (derivative) coefficients:\", gradient_coefficients)\n",
    "\n",
    "# Plot the original data and the gradient\n",
    "plt.scatter(X, Y, label='Data', color='blue')\n",
    "plt.plot(X, np.polyval(coefficients, X), label=f'{degree}-degree fit', color='red')\n",
    "plt.plot(X, Y_gradient, label='Gradient', color='green', linestyle='--')\n",
    "plt.legend()\n",
    "plt.show()"
   ]
  },
  {
   "cell_type": "code",
   "execution_count": 57,
   "id": "09e4a0f6-d533-49de-beca-6ec3659e9f00",
   "metadata": {},
   "outputs": [
    {
     "data": {
      "text/plain": [
       "array([nan, nan, nan, ..., nan, nan, nan])"
      ]
     },
     "execution_count": 57,
     "metadata": {},
     "output_type": "execute_result"
    }
   ],
   "source": [
    "Y_gradient\n"
   ]
  },
  {
   "cell_type": "code",
   "execution_count": 58,
   "id": "7907e6af-02ac-4332-b385-8c03015bd553",
   "metadata": {},
   "outputs": [
    {
     "data": {
      "image/png": "[encoded data removed]",
      "text/plain": [
       "<Figure size 640x480 with 1 Axes>"
      ]
     },
     "metadata": {},
     "output_type": "display_data"
    }
   ],
   "source": [
    "plt.plot(X, Y_gradient, label='Gradient', color='green', linestyle='--')\n",
    "plt.xlabel('Temperature(°C)')\n",
    "plt.ylabel('dR/dT (Ohm/°C)')\n",
    "plt.legend()\n",
    "plt.show()\n"
   ]
  },
  {
   "cell_type": "code",
   "execution_count": null,
   "id": "b42a28cc-7747-43c9-9932-b74029c847df",
   "metadata": {},
   "outputs": [],
   "source": []
  },
  {
   "cell_type": "code",
   "execution_count": null,
   "id": "0c7e837a-e333-475e-a755-96ab55a2699d",
   "metadata": {},
   "outputs": [],
   "source": []
  },
  {
   "cell_type": "code",
   "execution_count": null,
   "id": "f12cfb03-92aa-404d-8e76-ade5e87f7fdb",
   "metadata": {},
   "outputs": [],
   "source": []
  }
 ],
 "metadata": {
  "kernelspec": {
   "display_name": "Python 3 (ipykernel)",
   "language": "python",
   "name": "python3"
  },
  "language_info": {
   "codemirror_mode": {
    "name": "ipython",
    "version": 3
   },
   "file_extension": ".py",
   "mimetype": "text/x-python",
   "name": "python",
   "nbconvert_exporter": "python",
   "pygments_lexer": "ipython3",
   "version": "3.13.0"
  }
 },
 "nbformat": 4,
 "nbformat_minor": 5
}
