{
 "cells": [
  {
   "cell_type": "markdown",
   "id": "3310c0cd-13de-4801-aa21-de2b8702d968",
   "metadata": {},
   "source": [
    "## Preamble"
   ]
  },
  {
   "cell_type": "code",
   "execution_count": 42,
   "id": "493ab2e5-201c-47eb-9c7c-a1f36304e3b5",
   "metadata": {},
   "outputs": [
    {
     "ename": "SyntaxError",
     "evalue": "invalid syntax (2405723092.py, line 1)",
     "output_type": "error",
     "traceback": [
      "\u001b[1;36m  Cell \u001b[1;32mIn[42], line 1\u001b[1;36m\u001b[0m\n\u001b[1;33m    pip install sympy\u001b[0m\n\u001b[1;37m        ^\u001b[0m\n\u001b[1;31mSyntaxError\u001b[0m\u001b[1;31m:\u001b[0m invalid syntax\n"
     ]
    }
   ],
   "source": [
    "pip install sympy\n",
    "pip install numpy\n",
    "pip install pandas"
   ]
  },
  {
   "cell_type": "code",
   "execution_count": 48,
   "id": "75259635-d777-411e-91c6-8b649d2e3871",
   "metadata": {},
   "outputs": [],
   "source": [
    "import numpy as np\n",
    "from sympy import symbols, Eq\n",
    "from sympy.interactive import printing\n",
    "from sympy import pi\n",
    "import pandas as pd"
   ]
  },
  {
   "cell_type": "markdown",
   "id": "3584579e-7ef8-40af-b9a2-5d8038adc7d3",
   "metadata": {},
   "source": [
    "## 02.12 Offline Kalibrierung"
   ]
  },
  {
   "cell_type": "markdown",
   "id": "2667ddce-66cf-4f9e-bc3b-d698d59c891a",
   "metadata": {},
   "source": [
    "### Korrelationsgleichung fuer die Kalibrierung"
   ]
  },
  {
   "cell_type": "code",
   "execution_count": 44,
   "id": "7dece50b-9373-44fd-9510-b2418dd8fe85",
   "metadata": {},
   "outputs": [],
   "source": [
    "# LaTeX rendering\n",
    "printing.init_printing()"
   ]
  },
  {
   "cell_type": "code",
   "execution_count": 45,
   "id": "d12add72-f6c1-40ab-aa33-b95e34c292df",
   "metadata": {},
   "outputs": [],
   "source": [
    "# Define variables\n",
    "dRdT = symbols('dR/dT')\n",
    "dVdf= symbols('dV3w/dlnf')\n",
    "dR,dT,L,lambda_sub,lambda_air,f,P,I = symbols('dR dT L lambda_sub lambda_air f P I')\n"
   ]
  },
  {
   "cell_type": "code",
   "execution_count": 46,
   "id": "fa6c256f-7efd-48d9-bb20-adcfadd9f4d0",
   "metadata": {},
   "outputs": [],
   "source": [
    "equation = Eq(dRdT, ((-4*pi)/(P*I))*(lambda_air+lambda_sub)*(dVdf))"
   ]
  },
  {
   "cell_type": "code",
   "execution_count": 47,
   "id": "d549adb0-85e6-4259-9846-76653bb6521c",
   "metadata": {},
   "outputs": [
    {
     "data": {
      "text/latex": [
       "$\\displaystyle dR/dT = - \\frac{4 \\pi dV3w/dlnf \\left(\\lambda_{air} + \\lambda_{sub}\\right)}{I P}$"
      ],
      "text/plain": [
       "        -4⋅π⋅dV3w/dlnf⋅(λₐᵢᵣ + λ_sub) \n",
       "dR/dT = ──────────────────────────────\n",
       "                     I⋅P              "
      ]
     },
     "metadata": {},
     "output_type": "display_data"
    }
   ],
   "source": [
    "display(equation)"
   ]
  },
  {
   "cell_type": "code",
   "execution_count": null,
   "id": "524a0ad9-dffd-45f8-b692-b6c2673f6f4b",
   "metadata": {},
   "outputs": [],
   "source": []
  }
 ],
 "metadata": {
  "kernelspec": {
   "display_name": "Python 3 (ipykernel)",
   "language": "python",
   "name": "python3"
  },
  "language_info": {
   "codemirror_mode": {
    "name": "ipython",
    "version": 3
   },
   "file_extension": ".py",
   "mimetype": "text/x-python",
   "name": "python",
   "nbconvert_exporter": "python",
   "pygments_lexer": "ipython3",
   "version": "3.13.0"
  }
 },
 "nbformat": 4,
 "nbformat_minor": 5
}
