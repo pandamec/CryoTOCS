{
 "cells": [
  {
   "cell_type": "markdown",
   "id": "3310c0cd-13de-4801-aa21-de2b8702d968",
   "metadata": {},
   "source": [
    "## Preamble"
   ]
  },
  {
   "cell_type": "code",
   "execution_count": 42,
   "id": "493ab2e5-201c-47eb-9c7c-a1f36304e3b5",
   "metadata": {},
   "outputs": [
    {
     "ename": "SyntaxError",
     "evalue": "invalid syntax (2405723092.py, line 1)",
     "output_type": "error",
     "traceback": [
      "\u001b[1;36m  Cell \u001b[1;32mIn[42], line 1\u001b[1;36m\u001b[0m\n\u001b[1;33m    pip install sympy\u001b[0m\n\u001b[1;37m        ^\u001b[0m\n\u001b[1;31mSyntaxError\u001b[0m\u001b[1;31m:\u001b[0m invalid syntax\n"
     ]
    }
   ],
   "source": [
    "pip install sympy\n",
    "pip install numpy\n",
    "pip install pandas\n",
    "pip install matplotlib"
   ]
  },
  {
   "cell_type": "code",
   "execution_count": 1,
   "id": "75259635-d777-411e-91c6-8b649d2e3871",
   "metadata": {},
   "outputs": [],
   "source": [
    "import numpy as np\n",
    "from sympy import symbols, Eq\n",
    "from sympy.interactive import printing\n",
    "from sympy import pi\n",
    "import pandas as pd\n",
    "import matplotlib.pyplot as plt"
   ]
  },
  {
   "cell_type": "markdown",
   "id": "3584579e-7ef8-40af-b9a2-5d8038adc7d3",
   "metadata": {},
   "source": [
    "## 02.12 Offline Kalibrierung"
   ]
  },
  {
   "cell_type": "markdown",
   "id": "24ad0771-2f29-4a08-8890-6807f7ec79e3",
   "metadata": {},
   "source": [
    "### Import data"
   ]
  },
  {
   "cell_type": "code",
   "execution_count": 2,
   "id": "62110b84-557b-417e-998e-2b19bd3c896c",
   "metadata": {},
   "outputs": [
    {
     "name": "stdout",
     "output_type": "stream",
     "text": [
      "  Frequency             Re(1ω)              Im(1ω)             Re(3ω)  \\\n",
      "0    10.000  0.128168420396861  -0.000000000000004  0.001201514320429   \n",
      "1    14.592  0.128929742917524   0.000000000000003  0.001113346330013   \n",
      "2    21.294  0.129612913502709   0.000000000000004  0.001029477080947   \n",
      "3    31.072  0.130401750345415   0.000000000000010  0.000950022228322   \n",
      "4    45.342  0.130923792752236   0.000000000000005  0.000871625278675   \n",
      "5    66.164  0.131501573258185  -0.000000000000018  0.000796766542770   \n",
      "6    96.549  0.131855597866627   0.000000000000010  0.000723240231149   \n",
      "7   140.887  0.132121031585632  -0.000000000000012  0.000650013159849   \n",
      "8   205.587  0.132404500544174   0.000000000000039  0.000577341312168   \n",
      "9   300.000  0.132491124737582   0.000000000000149  0.000507469009460   \n",
      "\n",
      "               Im(3ω)           Phase(1ω)            Phase(3ω)      Vref  \\\n",
      "0  -0.000279804426717  -0.000000000001870  -13.109195621472953  0.099384   \n",
      "1  -0.000277384384230   0.000000000001249  -13.990114035348618  0.099090   \n",
      "2  -0.000275458954937   0.000000000001636  -14.979819379861420  0.098844   \n",
      "3  -0.000273876427473   0.000000000004540  -16.081437325952354  0.098694   \n",
      "4  -0.000271773873834   0.000000000002236  -17.317545171358915  0.098499   \n",
      "5  -0.000270357226748  -0.000000000007992  -18.742999108909647  0.098368   \n",
      "6  -0.000267692321052   0.000000000004210  -20.310984168378134  0.098208   \n",
      "7  -0.000264381749779  -0.000000000005122  -22.133193942631220  0.098012   \n",
      "8  -0.000260149654714   0.000000000017062  -24.256299136321825  0.097772   \n",
      "9  -0.000254816879729   0.000000000064306  -26.662732169375502  0.097530   \n",
      "\n",
      "    Current    Re(ΔT) Δ[Re(ΔT)]     Im(ΔT) Δ[Im(ΔT)]     Power Temperature  \n",
      "0  0.009938  1.889020  0.000000  -0.439908  0.002101  0.001274     -145.23  \n",
      "1  0.009909  1.755598  0.000000  -0.437398  0.002089  0.001278     -144.34  \n",
      "2  0.009884  1.627391  0.000000  -0.435444  0.002080  0.001281     -143.54  \n",
      "3  0.009869  1.504062  0.000000  -0.433597  0.002071  0.001287     -142.76  \n",
      "4  0.009850  1.382681  0.000000  -0.431122  0.002059  0.001290     -142.14  \n",
      "5  0.009837  1.265610  0.000000  -0.429444  0.002051  0.001294     -141.55  \n",
      "6  0.009821  1.150694  0.000000  -0.425905  0.002035  0.001295     -141.09  \n",
      "7  0.009801  1.036261  0.000000  -0.421481  0.002014  0.001295     -140.67  \n",
      "8  0.009777  0.922663  0.000000  -0.415751  0.001987  0.001295     -140.19  \n",
      "9  0.009753  0.813010  0.000000  -0.408239  0.001951  0.001292     -139.86  \n"
     ]
    }
   ],
   "source": [
    "# File import\n",
    "with open('testdata.txt', 'r') as file:\n",
    "    lines = file.readlines()[0:]\n",
    "\n",
    "data = []\n",
    "for line in lines:\n",
    "    # Split\n",
    "    parts = line.split()\n",
    "    \n",
    "    # Bye first column\n",
    "    row = parts[2:]\n",
    "    data.append(row)\n",
    "\n",
    "# Column names\n",
    "columns = [\n",
    "     \"Frequency\", \"Re(1ω)\", \"Im(1ω)\", \"Re(3ω)\", \"Im(3ω)\", \"Phase(1ω)\", \"Phase(3ω)\",\n",
    "    \"Vref\", \"Current\", \"Re(ΔT)\", \"Δ[Re(ΔT)]\", \"Im(ΔT)\", \"Δ[Im(ΔT)]\", \"Power\", \"Temperature\"\n",
    "]\n",
    "\n",
    "# DataFrame\n",
    "df = pd.DataFrame(data, columns=columns)\n",
    "print(df)"
   ]
  },
  {
   "cell_type": "code",
   "execution_count": 3,
   "id": "b8975dfc-52d3-41bf-b1b6-946573ec9c95",
   "metadata": {},
   "outputs": [
    {
     "data": {
      "text/html": [
       "<div>\n",
       "<style scoped>\n",
       "    .dataframe tbody tr th:only-of-type {\n",
       "        vertical-align: middle;\n",
       "    }\n",
       "\n",
       "    .dataframe tbody tr th {\n",
       "        vertical-align: top;\n",
       "    }\n",
       "\n",
       "    .dataframe thead th {\n",
       "        text-align: right;\n",
       "    }\n",
       "</style>\n",
       "<table border=\"1\" class=\"dataframe\">\n",
       "  <thead>\n",
       "    <tr style=\"text-align: right;\">\n",
       "      <th></th>\n",
       "      <th>Frequency</th>\n",
       "      <th>Re(1ω)</th>\n",
       "      <th>Im(1ω)</th>\n",
       "      <th>Re(3ω)</th>\n",
       "      <th>Im(3ω)</th>\n",
       "      <th>Phase(1ω)</th>\n",
       "      <th>Phase(3ω)</th>\n",
       "      <th>Vref</th>\n",
       "      <th>Current</th>\n",
       "      <th>Re(ΔT)</th>\n",
       "      <th>Δ[Re(ΔT)]</th>\n",
       "      <th>Im(ΔT)</th>\n",
       "      <th>Δ[Im(ΔT)]</th>\n",
       "      <th>Power</th>\n",
       "      <th>Temperature</th>\n",
       "    </tr>\n",
       "  </thead>\n",
       "  <tbody>\n",
       "    <tr>\n",
       "      <th>0</th>\n",
       "      <td>10.000</td>\n",
       "      <td>0.128168420396861</td>\n",
       "      <td>-0.000000000000004</td>\n",
       "      <td>0.001201514320429</td>\n",
       "      <td>-0.000279804426717</td>\n",
       "      <td>-0.000000000001870</td>\n",
       "      <td>-13.109195621472953</td>\n",
       "      <td>0.099384</td>\n",
       "      <td>0.009938</td>\n",
       "      <td>1.889020</td>\n",
       "      <td>0.000000</td>\n",
       "      <td>-0.439908</td>\n",
       "      <td>0.002101</td>\n",
       "      <td>0.001274</td>\n",
       "      <td>-145.23</td>\n",
       "    </tr>\n",
       "    <tr>\n",
       "      <th>1</th>\n",
       "      <td>14.592</td>\n",
       "      <td>0.128929742917524</td>\n",
       "      <td>0.000000000000003</td>\n",
       "      <td>0.001113346330013</td>\n",
       "      <td>-0.000277384384230</td>\n",
       "      <td>0.000000000001249</td>\n",
       "      <td>-13.990114035348618</td>\n",
       "      <td>0.099090</td>\n",
       "      <td>0.009909</td>\n",
       "      <td>1.755598</td>\n",
       "      <td>0.000000</td>\n",
       "      <td>-0.437398</td>\n",
       "      <td>0.002089</td>\n",
       "      <td>0.001278</td>\n",
       "      <td>-144.34</td>\n",
       "    </tr>\n",
       "    <tr>\n",
       "      <th>2</th>\n",
       "      <td>21.294</td>\n",
       "      <td>0.129612913502709</td>\n",
       "      <td>0.000000000000004</td>\n",
       "      <td>0.001029477080947</td>\n",
       "      <td>-0.000275458954937</td>\n",
       "      <td>0.000000000001636</td>\n",
       "      <td>-14.979819379861420</td>\n",
       "      <td>0.098844</td>\n",
       "      <td>0.009884</td>\n",
       "      <td>1.627391</td>\n",
       "      <td>0.000000</td>\n",
       "      <td>-0.435444</td>\n",
       "      <td>0.002080</td>\n",
       "      <td>0.001281</td>\n",
       "      <td>-143.54</td>\n",
       "    </tr>\n",
       "    <tr>\n",
       "      <th>3</th>\n",
       "      <td>31.072</td>\n",
       "      <td>0.130401750345415</td>\n",
       "      <td>0.000000000000010</td>\n",
       "      <td>0.000950022228322</td>\n",
       "      <td>-0.000273876427473</td>\n",
       "      <td>0.000000000004540</td>\n",
       "      <td>-16.081437325952354</td>\n",
       "      <td>0.098694</td>\n",
       "      <td>0.009869</td>\n",
       "      <td>1.504062</td>\n",
       "      <td>0.000000</td>\n",
       "      <td>-0.433597</td>\n",
       "      <td>0.002071</td>\n",
       "      <td>0.001287</td>\n",
       "      <td>-142.76</td>\n",
       "    </tr>\n",
       "    <tr>\n",
       "      <th>4</th>\n",
       "      <td>45.342</td>\n",
       "      <td>0.130923792752236</td>\n",
       "      <td>0.000000000000005</td>\n",
       "      <td>0.000871625278675</td>\n",
       "      <td>-0.000271773873834</td>\n",
       "      <td>0.000000000002236</td>\n",
       "      <td>-17.317545171358915</td>\n",
       "      <td>0.098499</td>\n",
       "      <td>0.009850</td>\n",
       "      <td>1.382681</td>\n",
       "      <td>0.000000</td>\n",
       "      <td>-0.431122</td>\n",
       "      <td>0.002059</td>\n",
       "      <td>0.001290</td>\n",
       "      <td>-142.14</td>\n",
       "    </tr>\n",
       "    <tr>\n",
       "      <th>5</th>\n",
       "      <td>66.164</td>\n",
       "      <td>0.131501573258185</td>\n",
       "      <td>-0.000000000000018</td>\n",
       "      <td>0.000796766542770</td>\n",
       "      <td>-0.000270357226748</td>\n",
       "      <td>-0.000000000007992</td>\n",
       "      <td>-18.742999108909647</td>\n",
       "      <td>0.098368</td>\n",
       "      <td>0.009837</td>\n",
       "      <td>1.265610</td>\n",
       "      <td>0.000000</td>\n",
       "      <td>-0.429444</td>\n",
       "      <td>0.002051</td>\n",
       "      <td>0.001294</td>\n",
       "      <td>-141.55</td>\n",
       "    </tr>\n",
       "    <tr>\n",
       "      <th>6</th>\n",
       "      <td>96.549</td>\n",
       "      <td>0.131855597866627</td>\n",
       "      <td>0.000000000000010</td>\n",
       "      <td>0.000723240231149</td>\n",
       "      <td>-0.000267692321052</td>\n",
       "      <td>0.000000000004210</td>\n",
       "      <td>-20.310984168378134</td>\n",
       "      <td>0.098208</td>\n",
       "      <td>0.009821</td>\n",
       "      <td>1.150694</td>\n",
       "      <td>0.000000</td>\n",
       "      <td>-0.425905</td>\n",
       "      <td>0.002035</td>\n",
       "      <td>0.001295</td>\n",
       "      <td>-141.09</td>\n",
       "    </tr>\n",
       "    <tr>\n",
       "      <th>7</th>\n",
       "      <td>140.887</td>\n",
       "      <td>0.132121031585632</td>\n",
       "      <td>-0.000000000000012</td>\n",
       "      <td>0.000650013159849</td>\n",
       "      <td>-0.000264381749779</td>\n",
       "      <td>-0.000000000005122</td>\n",
       "      <td>-22.133193942631220</td>\n",
       "      <td>0.098012</td>\n",
       "      <td>0.009801</td>\n",
       "      <td>1.036261</td>\n",
       "      <td>0.000000</td>\n",
       "      <td>-0.421481</td>\n",
       "      <td>0.002014</td>\n",
       "      <td>0.001295</td>\n",
       "      <td>-140.67</td>\n",
       "    </tr>\n",
       "    <tr>\n",
       "      <th>8</th>\n",
       "      <td>205.587</td>\n",
       "      <td>0.132404500544174</td>\n",
       "      <td>0.000000000000039</td>\n",
       "      <td>0.000577341312168</td>\n",
       "      <td>-0.000260149654714</td>\n",
       "      <td>0.000000000017062</td>\n",
       "      <td>-24.256299136321825</td>\n",
       "      <td>0.097772</td>\n",
       "      <td>0.009777</td>\n",
       "      <td>0.922663</td>\n",
       "      <td>0.000000</td>\n",
       "      <td>-0.415751</td>\n",
       "      <td>0.001987</td>\n",
       "      <td>0.001295</td>\n",
       "      <td>-140.19</td>\n",
       "    </tr>\n",
       "    <tr>\n",
       "      <th>9</th>\n",
       "      <td>300.000</td>\n",
       "      <td>0.132491124737582</td>\n",
       "      <td>0.000000000000149</td>\n",
       "      <td>0.000507469009460</td>\n",
       "      <td>-0.000254816879729</td>\n",
       "      <td>0.000000000064306</td>\n",
       "      <td>-26.662732169375502</td>\n",
       "      <td>0.097530</td>\n",
       "      <td>0.009753</td>\n",
       "      <td>0.813010</td>\n",
       "      <td>0.000000</td>\n",
       "      <td>-0.408239</td>\n",
       "      <td>0.001951</td>\n",
       "      <td>0.001292</td>\n",
       "      <td>-139.86</td>\n",
       "    </tr>\n",
       "  </tbody>\n",
       "</table>\n",
       "</div>"
      ],
      "text/plain": [
       "  Frequency             Re(1ω)              Im(1ω)             Re(3ω)  \\\n",
       "0    10.000  0.128168420396861  -0.000000000000004  0.001201514320429   \n",
       "1    14.592  0.128929742917524   0.000000000000003  0.001113346330013   \n",
       "2    21.294  0.129612913502709   0.000000000000004  0.001029477080947   \n",
       "3    31.072  0.130401750345415   0.000000000000010  0.000950022228322   \n",
       "4    45.342  0.130923792752236   0.000000000000005  0.000871625278675   \n",
       "5    66.164  0.131501573258185  -0.000000000000018  0.000796766542770   \n",
       "6    96.549  0.131855597866627   0.000000000000010  0.000723240231149   \n",
       "7   140.887  0.132121031585632  -0.000000000000012  0.000650013159849   \n",
       "8   205.587  0.132404500544174   0.000000000000039  0.000577341312168   \n",
       "9   300.000  0.132491124737582   0.000000000000149  0.000507469009460   \n",
       "\n",
       "               Im(3ω)           Phase(1ω)            Phase(3ω)      Vref  \\\n",
       "0  -0.000279804426717  -0.000000000001870  -13.109195621472953  0.099384   \n",
       "1  -0.000277384384230   0.000000000001249  -13.990114035348618  0.099090   \n",
       "2  -0.000275458954937   0.000000000001636  -14.979819379861420  0.098844   \n",
       "3  -0.000273876427473   0.000000000004540  -16.081437325952354  0.098694   \n",
       "4  -0.000271773873834   0.000000000002236  -17.317545171358915  0.098499   \n",
       "5  -0.000270357226748  -0.000000000007992  -18.742999108909647  0.098368   \n",
       "6  -0.000267692321052   0.000000000004210  -20.310984168378134  0.098208   \n",
       "7  -0.000264381749779  -0.000000000005122  -22.133193942631220  0.098012   \n",
       "8  -0.000260149654714   0.000000000017062  -24.256299136321825  0.097772   \n",
       "9  -0.000254816879729   0.000000000064306  -26.662732169375502  0.097530   \n",
       "\n",
       "    Current    Re(ΔT) Δ[Re(ΔT)]     Im(ΔT) Δ[Im(ΔT)]     Power Temperature  \n",
       "0  0.009938  1.889020  0.000000  -0.439908  0.002101  0.001274     -145.23  \n",
       "1  0.009909  1.755598  0.000000  -0.437398  0.002089  0.001278     -144.34  \n",
       "2  0.009884  1.627391  0.000000  -0.435444  0.002080  0.001281     -143.54  \n",
       "3  0.009869  1.504062  0.000000  -0.433597  0.002071  0.001287     -142.76  \n",
       "4  0.009850  1.382681  0.000000  -0.431122  0.002059  0.001290     -142.14  \n",
       "5  0.009837  1.265610  0.000000  -0.429444  0.002051  0.001294     -141.55  \n",
       "6  0.009821  1.150694  0.000000  -0.425905  0.002035  0.001295     -141.09  \n",
       "7  0.009801  1.036261  0.000000  -0.421481  0.002014  0.001295     -140.67  \n",
       "8  0.009777  0.922663  0.000000  -0.415751  0.001987  0.001295     -140.19  \n",
       "9  0.009753  0.813010  0.000000  -0.408239  0.001951  0.001292     -139.86  "
      ]
     },
     "execution_count": 3,
     "metadata": {},
     "output_type": "execute_result"
    }
   ],
   "source": [
    "df"
   ]
  },
  {
   "cell_type": "markdown",
   "id": "2667ddce-66cf-4f9e-bc3b-d698d59c891a",
   "metadata": {},
   "source": [
    "### Korrelationsgleichung fuer die Kalibrierung"
   ]
  },
  {
   "cell_type": "code",
   "execution_count": 4,
   "id": "7dece50b-9373-44fd-9510-b2418dd8fe85",
   "metadata": {},
   "outputs": [],
   "source": [
    "# LaTeX rendering\n",
    "printing.init_printing()"
   ]
  },
  {
   "cell_type": "code",
   "execution_count": 5,
   "id": "d12add72-f6c1-40ab-aa33-b95e34c292df",
   "metadata": {},
   "outputs": [],
   "source": [
    "# Define variables\n",
    "dRdT = symbols('dR/dT')\n",
    "dVdf= symbols('dV3w/dlnf')\n",
    "dR,dT,L,lambda_sub,lambda_air,f,P,I = symbols('dR dT L lambda_sub lambda_air f P I')\n"
   ]
  },
  {
   "cell_type": "code",
   "execution_count": 6,
   "id": "fa6c256f-7efd-48d9-bb20-adcfadd9f4d0",
   "metadata": {},
   "outputs": [],
   "source": [
    "equation = Eq(dRdT, ((-4*pi)/(P*I))*(lambda_air+lambda_sub)*(dVdf))"
   ]
  },
  {
   "cell_type": "code",
   "execution_count": 7,
   "id": "d549adb0-85e6-4259-9846-76653bb6521c",
   "metadata": {},
   "outputs": [
    {
     "data": {
      "text/latex": [
       "$\\displaystyle dR/dT = - \\frac{4 \\pi dV3w/dlnf \\left(\\lambda_{air} + \\lambda_{sub}\\right)}{I P}$"
      ],
      "text/plain": [
       "        -4⋅π⋅dV3w/dlnf⋅(λₐᵢᵣ + λ_sub) \n",
       "dR/dT = ──────────────────────────────\n",
       "                     I⋅P              "
      ]
     },
     "metadata": {},
     "output_type": "display_data"
    }
   ],
   "source": [
    "display(equation)"
   ]
  },
  {
   "cell_type": "markdown",
   "id": "9cb0057c-b5fb-4569-9ef7-408f361be15f",
   "metadata": {},
   "source": [
    "### dR/dT Berechnung (unter Cryo)"
   ]
  },
  {
   "cell_type": "markdown",
   "id": "de134b31-2608-499d-a043-e708e440f3ad",
   "metadata": {},
   "source": [
    "#### Substrate thermal conductivity"
   ]
  },
  {
   "cell_type": "code",
   "execution_count": null,
   "id": "a479ef2e-5f25-4a60-a8a0-9e98d9b60215",
   "metadata": {},
   "outputs": [],
   "source": []
  },
  {
   "cell_type": "markdown",
   "id": "2fc418ad-e22d-4838-96a9-c791deab2731",
   "metadata": {},
   "source": [
    "#### Slope dRe(V3w)/dln(f)"
   ]
  },
  {
   "cell_type": "code",
   "execution_count": 26,
   "id": "81b51927-20d8-45c9-8441-4f7a93f12d5d",
   "metadata": {},
   "outputs": [
    {
     "data": {
      "text/plain": [
       "array(['0.001201514320429', '0.001113346330013', '0.001029477080947',\n",
       "       '0.000950022228322', '0.000871625278675', '0.000796766542770',\n",
       "       '0.000723240231149', '0.000650013159849', '0.000577341312168',\n",
       "       '0.000507469009460'], dtype=object)"
      ]
     },
     "execution_count": 26,
     "metadata": {},
     "output_type": "execute_result"
    }
   ],
   "source": [
    "v3w=df['Re(3ω)'].values\n",
    "v3w"
   ]
  },
  {
   "cell_type": "code",
   "execution_count": 29,
   "id": "712ac750-3a84-4a5c-a491-89c07bbdde9d",
   "metadata": {},
   "outputs": [],
   "source": [
    "v3w=df['Re(3ω)'].values\n",
    "f=df['Frequency'].values\n",
    "v3w=v3w.astype(float)\n",
    "f=f.astype(float)\n",
    "lnf=np.log(f)"
   ]
  },
  {
   "cell_type": "code",
   "execution_count": 30,
   "id": "b5c37aa2-7267-44be-888d-ee466c4ff365",
   "metadata": {},
   "outputs": [
    {
     "name": "stdout",
     "output_type": "stream",
     "text": [
      "[0.00120151 0.00111335 0.00102948 0.00095002 0.00087163 0.00079677\n",
      " 0.00072324 0.00065001 0.00057734 0.00050747]\n",
      "[ 10.     14.592  21.294  31.072  45.342  66.164  96.549 140.887 205.587\n",
      " 300.   ]\n",
      "[2.30258509 2.68047343 3.05842534 3.43630709 3.81423376 4.19213651\n",
      " 4.57005065 4.94795815 5.3258693  5.70378247]\n"
     ]
    }
   ],
   "source": [
    "print(v3w)\n",
    "print(f)\n",
    "print(lnf)"
   ]
  },
  {
   "cell_type": "code",
   "execution_count": 33,
   "id": "534e0809-9721-4a76-a07e-95cd5e66bce5",
   "metadata": {},
   "outputs": [
    {
     "name": "stdout",
     "output_type": "stream",
     "text": [
      "Slope: -0.00020288505883722638, Intercept: 0.0016542674015800065\n"
     ]
    },
    {
     "data": {
      "image/png": "[encoded data removed]",
      "text/plain": [
       "<Figure size 640x480 with 1 Axes>"
      ]
     },
     "metadata": {},
     "output_type": "display_data"
    }
   ],
   "source": [
    "X=lnf\n",
    "Y=v3w\n",
    "# Perform linear regression using NumPy's polyfit\n",
    "coefficients = np.polyfit(X, Y, 1)\n",
    "slope, intercept = coefficients\n",
    "\n",
    "# Print the slope and intercept\n",
    "print(f\"Slope: {slope}, Intercept: {intercept}\")\n",
    "\n",
    "# Predict values\n",
    "Y_pred = slope * X + intercept\n",
    "\n",
    "# Plot the data and regression line\n",
    "plt.scatter(X, Y, label='Experimental Data')\n",
    "plt.plot(X, Y_pred, color='red', label='Regression Line')\n",
    "plt.xlabel('ln(f(Hz))')\n",
    "plt.ylabel('Re(V3w)')\n",
    "plt.legend()\n",
    "plt.show()"
   ]
  },
  {
   "cell_type": "code",
   "execution_count": 34,
   "id": "fbb73723-b624-4569-b28f-a20e69c96f29",
   "metadata": {},
   "outputs": [
    {
     "data": {
      "image/png": "[encoded data removed]",
      "text/latex": [
       "$\\displaystyle -0.000202885058837226$"
      ],
      "text/plain": [
       "np.float64(-0.00020288505883722638)"
      ]
     },
     "execution_count": 34,
     "metadata": {},
     "output_type": "execute_result"
    }
   ],
   "source": [
    "slope"
   ]
  },
  {
   "cell_type": "code",
   "execution_count": null,
   "id": "4a6bfd45-269a-4602-bbdb-fb84c568a9b7",
   "metadata": {},
   "outputs": [],
   "source": []
  },
  {
   "cell_type": "code",
   "execution_count": null,
   "id": "1d5bc669-2a7a-4f6f-9d4e-d767cddf6331",
   "metadata": {},
   "outputs": [],
   "source": []
  },
  {
   "cell_type": "code",
   "execution_count": null,
   "id": "34b24e6b-4f1f-45c3-a0e5-2f7b099460db",
   "metadata": {},
   "outputs": [],
   "source": []
  },
  {
   "cell_type": "code",
   "execution_count": null,
   "id": "28498572-d6a6-4fe9-92e1-e48409d29bd2",
   "metadata": {},
   "outputs": [],
   "source": []
  }
 ],
 "metadata": {
  "kernelspec": {
   "display_name": "Python 3 (ipykernel)",
   "language": "python",
   "name": "python3"
  },
  "language_info": {
   "codemirror_mode": {
    "name": "ipython",
    "version": 3
   },
   "file_extension": ".py",
   "mimetype": "text/x-python",
   "name": "python",
   "nbconvert_exporter": "python",
   "pygments_lexer": "ipython3",
   "version": "3.13.0"
  }
 },
 "nbformat": 4,
 "nbformat_minor": 5
}
