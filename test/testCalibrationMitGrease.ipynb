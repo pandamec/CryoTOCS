{
 "cells": [
  {
   "cell_type": "markdown",
   "id": "3310c0cd-13de-4801-aa21-de2b8702d968",
   "metadata": {
    "jp-MarkdownHeadingCollapsed": true
   },
   "source": [
    "## Preamble"
   ]
  },
  {
   "cell_type": "code",
   "execution_count": 47,
   "id": "493ab2e5-201c-47eb-9c7c-a1f36304e3b5",
   "metadata": {},
   "outputs": [],
   "source": [
    "#pip install sympy\n",
    "#pip install numpy\n",
    "#pip install pandas\n",
    "#pip install matplotlib"
   ]
  },
  {
   "cell_type": "code",
   "execution_count": 3,
   "id": "75259635-d777-411e-91c6-8b649d2e3871",
   "metadata": {},
   "outputs": [],
   "source": [
    "import numpy as np\n",
    "from sympy import symbols, Eq, solve\n",
    "from sympy.interactive import printing\n",
    "from sympy import pi\n",
    "import pandas as pd\n",
    "import matplotlib.pyplot as plt"
   ]
  },
  {
   "cell_type": "markdown",
   "id": "d117025d-20d4-45de-bf17-d2253a54ac6d",
   "metadata": {
    "jp-MarkdownHeadingCollapsed": true
   },
   "source": [
    "## Calibration"
   ]
  },
  {
   "cell_type": "markdown",
   "id": "24ad0771-2f29-4a08-8890-6807f7ec79e3",
   "metadata": {},
   "source": [
    "### Import data"
   ]
  },
  {
   "cell_type": "code",
   "execution_count": 44,
   "id": "62110b84-557b-417e-998e-2b19bd3c896c",
   "metadata": {},
   "outputs": [
    {
     "name": "stdout",
     "output_type": "stream",
     "text": [
      "   Frequency             Re(1ω)              Im(1ω)             Re(3ω)  \\\n",
      "0     10.000  0.184437030678751   0.000000000000000  0.000260408972433   \n",
      "1     12.743  0.184472240125837  -0.000000000000002  0.000250413696423   \n",
      "2     16.238  0.184501818686206   0.000000000000003  0.000240364494020   \n",
      "3     20.691  0.184498163976574  -0.000000000000004  0.000230400186952   \n",
      "4     26.367  0.184483429107614  -0.000000000000009  0.000220346733487   \n",
      "5     33.598  0.184483383143853   0.000000000000008  0.000210358465422   \n",
      "6     42.813  0.184477957645594  -0.000000000000012  0.000200464729980   \n",
      "7     54.556  0.184489963431298   0.000000000000024  0.000190646474419   \n",
      "8     69.519  0.184495500931581  -0.000000000000004  0.000180890595175   \n",
      "9     88.587  0.184485577328355  -0.000000000000013  0.000171116220837   \n",
      "10   112.884  0.184482208698789  -0.000000000000051  0.000161477505982   \n",
      "11   143.845  0.184473045251364   0.000000000000035  0.000151907959337   \n",
      "12   183.298  0.184467308804337   0.000000000000025  0.000142492229189   \n",
      "13   233.572  0.184451444534370   0.000000000000066  0.000133228677265   \n",
      "14   297.635  0.184450332667040   0.000000000000032  0.000124008071677   \n",
      "15   379.269  0.184452842055512  -0.000000000000176  0.000115060105652   \n",
      "16   483.293  0.184458760178298   0.000000000000068  0.000106364306413   \n",
      "17   615.848  0.184447756893902  -0.000000000000298  0.000097966310087   \n",
      "18   784.760  0.184445661471394  -0.000000000000123  0.000089625322710   \n",
      "19  1000.000  0.184432947105138  -0.000000000000568  0.000083130846148   \n",
      "\n",
      "                Im(3ω)           Phase(1ω)            Phase(3ω)      Vref  \\\n",
      "0   -0.000065735910170   0.000000000000056  -14.167387803957695  0.052110   \n",
      "1   -0.000065420904660  -0.000000000000486  -14.641350469289304  0.052121   \n",
      "2   -0.000065107642367   0.000000000000918  -15.156050153835725  0.052124   \n",
      "3   -0.000064640280522  -0.000000000001258  -15.671811641969777  0.052125   \n",
      "4   -0.000064252819370  -0.000000000002679  -16.256615346477268  0.052123   \n",
      "5   -0.000064077268966   0.000000000002331  -16.941254294225349  0.052121   \n",
      "6   -0.000063519624771  -0.000000000003577  -17.581422057362371  0.052126   \n",
      "7   -0.000063143966475   0.000000000007560  -18.325372761887511  0.052131   \n",
      "8   -0.000062695418573  -0.000000000001115  -19.115959558521443  0.052134   \n",
      "9   -0.000062086086950  -0.000000000003937  -19.942287100112999  0.052132   \n",
      "10  -0.000061258399525  -0.000000000015829  -20.774832664382387  0.052130   \n",
      "11  -0.000060531126957   0.000000000010909  -21.725916440216380  0.052130   \n",
      "12  -0.000059713811070   0.000000000007917  -22.736956315316156  0.052125   \n",
      "13  -0.000058649629203   0.000000000020369  -23.759946435842888  0.052128   \n",
      "14  -0.000057230645076   0.000000000009962  -24.773674278561561  0.052127   \n",
      "15  -0.000056053179189  -0.000000000054691  -25.973692061517511  0.052131   \n",
      "16  -0.000054406404018   0.000000000021011  -27.090197158756833  0.052128   \n",
      "17  -0.000052778815572  -0.000000000092549  -28.313324877162156  0.052132   \n",
      "18  -0.000050841921635  -0.000000000038298  -29.565021400032343  0.052127   \n",
      "19  -0.000056233613157  -0.000000000176517  -34.076268855432716  0.052128   \n",
      "\n",
      "     Current    Re(ΔT) Δ[Re(ΔT)]     Im(ΔT) Δ[Im(ΔT)]     Power Temperature  \n",
      "0   0.005211  0.824032  0.000000  -0.208013  0.009426  0.000961       27.28  \n",
      "1   0.005212  0.792244  0.000000  -0.206975  0.009379  0.000961       27.28  \n",
      "2   0.005212  0.760411  0.000000  -0.205973  0.009333  0.000962       27.31  \n",
      "3   0.005212  0.728871  0.000000  -0.204490  0.009266  0.000962       27.30  \n",
      "4   0.005212  0.697096  0.000000  -0.203272  0.009211  0.000962       27.29  \n",
      "5   0.005212  0.665514  0.000000  -0.202722  0.009186  0.000962       27.29  \n",
      "6   0.005213  0.634156  0.000000  -0.200940  0.009106  0.000962       27.26  \n",
      "7   0.005213  0.603036  0.000000  -0.199732  0.009051  0.000962       27.25  \n",
      "8   0.005213  0.572144  0.000000  -0.198301  0.008986  0.000962       27.24  \n",
      "9   0.005213  0.541251  0.000000  -0.196382  0.008899  0.000962       27.24  \n",
      "10  0.005213  0.510781  0.000000  -0.193771  0.008781  0.000962       27.24  \n",
      "11  0.005213  0.480514  0.000000  -0.191471  0.008677  0.000962       27.23  \n",
      "12  0.005213  0.450771  0.000000  -0.188903  0.008561  0.000962       27.25  \n",
      "13  0.005213  0.421440  0.000000  -0.185525  0.008408  0.000962       27.20  \n",
      "14  0.005213  0.392284  0.000000  -0.181042  0.008205  0.000961       27.21  \n",
      "15  0.005213  0.363949  0.000000  -0.177303  0.008036  0.000962       27.19  \n",
      "16  0.005213  0.336463  0.000000  -0.172104  0.007801  0.000962       27.22  \n",
      "17  0.005213  0.309873  0.000000  -0.166943  0.007568  0.000962       27.18  \n",
      "18  0.005213  0.283518  0.000000  -0.160832  0.007291  0.000961       27.20  \n",
      "19  0.005213  0.262970  0.000000  -0.177885  0.008063  0.000961       27.18  \n"
     ]
    },
    {
     "name": "stderr",
     "output_type": "stream",
     "text": [
      "<>:2: SyntaxWarning: invalid escape sequence '\\G'\n",
      "<>:2: SyntaxWarning: invalid escape sequence '\\G'\n",
      "C:\\Users\\rinc\\AppData\\Local\\Temp\\ipykernel_17572\\2207145692.py:2: SyntaxWarning: invalid escape sequence '\\G'\n",
      "  with open('Messung051224\\GreaseDataVacuum1.txt', 'r') as file:\n"
     ]
    }
   ],
   "source": [
    "# File import\n",
    "with open('Messung051224\\GreaseDataVacuum1.txt', 'r') as file:\n",
    "    lines = file.readlines()[0:]\n",
    "\n",
    "data = []\n",
    "for line in lines:\n",
    "    # Split\n",
    "    parts = line.split()\n",
    "    \n",
    "    # Bye first column\n",
    "    row = parts[2:]\n",
    "    data.append(row)\n",
    "\n",
    "# Column names\n",
    "columns = [\n",
    "     \"Frequency\", \"Re(1ω)\", \"Im(1ω)\", \"Re(3ω)\", \"Im(3ω)\", \"Phase(1ω)\", \"Phase(3ω)\",\n",
    "    \"Vref\", \"Current\", \"Re(ΔT)\", \"Δ[Re(ΔT)]\", \"Im(ΔT)\", \"Δ[Im(ΔT)]\", \"Power\", \"Temperature\"\n",
    "]\n",
    "\n",
    "# DataFrame\n",
    "df = pd.DataFrame(data, columns=columns)\n",
    "print(df)"
   ]
  },
  {
   "cell_type": "code",
   "execution_count": 45,
   "id": "b8975dfc-52d3-41bf-b1b6-946573ec9c95",
   "metadata": {},
   "outputs": [
    {
     "data": {
      "text/html": [
       "<div>\n",
       "<style scoped>\n",
       "    .dataframe tbody tr th:only-of-type {\n",
       "        vertical-align: middle;\n",
       "    }\n",
       "\n",
       "    .dataframe tbody tr th {\n",
       "        vertical-align: top;\n",
       "    }\n",
       "\n",
       "    .dataframe thead th {\n",
       "        text-align: right;\n",
       "    }\n",
       "</style>\n",
       "<table border=\"1\" class=\"dataframe\">\n",
       "  <thead>\n",
       "    <tr style=\"text-align: right;\">\n",
       "      <th></th>\n",
       "      <th>Frequency</th>\n",
       "      <th>Re(1ω)</th>\n",
       "      <th>Im(1ω)</th>\n",
       "      <th>Re(3ω)</th>\n",
       "      <th>Im(3ω)</th>\n",
       "      <th>Phase(1ω)</th>\n",
       "      <th>Phase(3ω)</th>\n",
       "      <th>Vref</th>\n",
       "      <th>Current</th>\n",
       "      <th>Re(ΔT)</th>\n",
       "      <th>Δ[Re(ΔT)]</th>\n",
       "      <th>Im(ΔT)</th>\n",
       "      <th>Δ[Im(ΔT)]</th>\n",
       "      <th>Power</th>\n",
       "      <th>Temperature</th>\n",
       "    </tr>\n",
       "  </thead>\n",
       "  <tbody>\n",
       "    <tr>\n",
       "      <th>0</th>\n",
       "      <td>10.000</td>\n",
       "      <td>0.184437030678751</td>\n",
       "      <td>0.000000000000000</td>\n",
       "      <td>0.000260408972433</td>\n",
       "      <td>-0.000065735910170</td>\n",
       "      <td>0.000000000000056</td>\n",
       "      <td>-14.167387803957695</td>\n",
       "      <td>0.052110</td>\n",
       "      <td>0.005211</td>\n",
       "      <td>0.824032</td>\n",
       "      <td>0.000000</td>\n",
       "      <td>-0.208013</td>\n",
       "      <td>0.009426</td>\n",
       "      <td>0.000961</td>\n",
       "      <td>27.28</td>\n",
       "    </tr>\n",
       "    <tr>\n",
       "      <th>1</th>\n",
       "      <td>12.743</td>\n",
       "      <td>0.184472240125837</td>\n",
       "      <td>-0.000000000000002</td>\n",
       "      <td>0.000250413696423</td>\n",
       "      <td>-0.000065420904660</td>\n",
       "      <td>-0.000000000000486</td>\n",
       "      <td>-14.641350469289304</td>\n",
       "      <td>0.052121</td>\n",
       "      <td>0.005212</td>\n",
       "      <td>0.792244</td>\n",
       "      <td>0.000000</td>\n",
       "      <td>-0.206975</td>\n",
       "      <td>0.009379</td>\n",
       "      <td>0.000961</td>\n",
       "      <td>27.28</td>\n",
       "    </tr>\n",
       "    <tr>\n",
       "      <th>2</th>\n",
       "      <td>16.238</td>\n",
       "      <td>0.184501818686206</td>\n",
       "      <td>0.000000000000003</td>\n",
       "      <td>0.000240364494020</td>\n",
       "      <td>-0.000065107642367</td>\n",
       "      <td>0.000000000000918</td>\n",
       "      <td>-15.156050153835725</td>\n",
       "      <td>0.052124</td>\n",
       "      <td>0.005212</td>\n",
       "      <td>0.760411</td>\n",
       "      <td>0.000000</td>\n",
       "      <td>-0.205973</td>\n",
       "      <td>0.009333</td>\n",
       "      <td>0.000962</td>\n",
       "      <td>27.31</td>\n",
       "    </tr>\n",
       "    <tr>\n",
       "      <th>3</th>\n",
       "      <td>20.691</td>\n",
       "      <td>0.184498163976574</td>\n",
       "      <td>-0.000000000000004</td>\n",
       "      <td>0.000230400186952</td>\n",
       "      <td>-0.000064640280522</td>\n",
       "      <td>-0.000000000001258</td>\n",
       "      <td>-15.671811641969777</td>\n",
       "      <td>0.052125</td>\n",
       "      <td>0.005212</td>\n",
       "      <td>0.728871</td>\n",
       "      <td>0.000000</td>\n",
       "      <td>-0.204490</td>\n",
       "      <td>0.009266</td>\n",
       "      <td>0.000962</td>\n",
       "      <td>27.30</td>\n",
       "    </tr>\n",
       "    <tr>\n",
       "      <th>4</th>\n",
       "      <td>26.367</td>\n",
       "      <td>0.184483429107614</td>\n",
       "      <td>-0.000000000000009</td>\n",
       "      <td>0.000220346733487</td>\n",
       "      <td>-0.000064252819370</td>\n",
       "      <td>-0.000000000002679</td>\n",
       "      <td>-16.256615346477268</td>\n",
       "      <td>0.052123</td>\n",
       "      <td>0.005212</td>\n",
       "      <td>0.697096</td>\n",
       "      <td>0.000000</td>\n",
       "      <td>-0.203272</td>\n",
       "      <td>0.009211</td>\n",
       "      <td>0.000962</td>\n",
       "      <td>27.29</td>\n",
       "    </tr>\n",
       "    <tr>\n",
       "      <th>5</th>\n",
       "      <td>33.598</td>\n",
       "      <td>0.184483383143853</td>\n",
       "      <td>0.000000000000008</td>\n",
       "      <td>0.000210358465422</td>\n",
       "      <td>-0.000064077268966</td>\n",
       "      <td>0.000000000002331</td>\n",
       "      <td>-16.941254294225349</td>\n",
       "      <td>0.052121</td>\n",
       "      <td>0.005212</td>\n",
       "      <td>0.665514</td>\n",
       "      <td>0.000000</td>\n",
       "      <td>-0.202722</td>\n",
       "      <td>0.009186</td>\n",
       "      <td>0.000962</td>\n",
       "      <td>27.29</td>\n",
       "    </tr>\n",
       "    <tr>\n",
       "      <th>6</th>\n",
       "      <td>42.813</td>\n",
       "      <td>0.184477957645594</td>\n",
       "      <td>-0.000000000000012</td>\n",
       "      <td>0.000200464729980</td>\n",
       "      <td>-0.000063519624771</td>\n",
       "      <td>-0.000000000003577</td>\n",
       "      <td>-17.581422057362371</td>\n",
       "      <td>0.052126</td>\n",
       "      <td>0.005213</td>\n",
       "      <td>0.634156</td>\n",
       "      <td>0.000000</td>\n",
       "      <td>-0.200940</td>\n",
       "      <td>0.009106</td>\n",
       "      <td>0.000962</td>\n",
       "      <td>27.26</td>\n",
       "    </tr>\n",
       "    <tr>\n",
       "      <th>7</th>\n",
       "      <td>54.556</td>\n",
       "      <td>0.184489963431298</td>\n",
       "      <td>0.000000000000024</td>\n",
       "      <td>0.000190646474419</td>\n",
       "      <td>-0.000063143966475</td>\n",
       "      <td>0.000000000007560</td>\n",
       "      <td>-18.325372761887511</td>\n",
       "      <td>0.052131</td>\n",
       "      <td>0.005213</td>\n",
       "      <td>0.603036</td>\n",
       "      <td>0.000000</td>\n",
       "      <td>-0.199732</td>\n",
       "      <td>0.009051</td>\n",
       "      <td>0.000962</td>\n",
       "      <td>27.25</td>\n",
       "    </tr>\n",
       "    <tr>\n",
       "      <th>8</th>\n",
       "      <td>69.519</td>\n",
       "      <td>0.184495500931581</td>\n",
       "      <td>-0.000000000000004</td>\n",
       "      <td>0.000180890595175</td>\n",
       "      <td>-0.000062695418573</td>\n",
       "      <td>-0.000000000001115</td>\n",
       "      <td>-19.115959558521443</td>\n",
       "      <td>0.052134</td>\n",
       "      <td>0.005213</td>\n",
       "      <td>0.572144</td>\n",
       "      <td>0.000000</td>\n",
       "      <td>-0.198301</td>\n",
       "      <td>0.008986</td>\n",
       "      <td>0.000962</td>\n",
       "      <td>27.24</td>\n",
       "    </tr>\n",
       "    <tr>\n",
       "      <th>9</th>\n",
       "      <td>88.587</td>\n",
       "      <td>0.184485577328355</td>\n",
       "      <td>-0.000000000000013</td>\n",
       "      <td>0.000171116220837</td>\n",
       "      <td>-0.000062086086950</td>\n",
       "      <td>-0.000000000003937</td>\n",
       "      <td>-19.942287100112999</td>\n",
       "      <td>0.052132</td>\n",
       "      <td>0.005213</td>\n",
       "      <td>0.541251</td>\n",
       "      <td>0.000000</td>\n",
       "      <td>-0.196382</td>\n",
       "      <td>0.008899</td>\n",
       "      <td>0.000962</td>\n",
       "      <td>27.24</td>\n",
       "    </tr>\n",
       "    <tr>\n",
       "      <th>10</th>\n",
       "      <td>112.884</td>\n",
       "      <td>0.184482208698789</td>\n",
       "      <td>-0.000000000000051</td>\n",
       "      <td>0.000161477505982</td>\n",
       "      <td>-0.000061258399525</td>\n",
       "      <td>-0.000000000015829</td>\n",
       "      <td>-20.774832664382387</td>\n",
       "      <td>0.052130</td>\n",
       "      <td>0.005213</td>\n",
       "      <td>0.510781</td>\n",
       "      <td>0.000000</td>\n",
       "      <td>-0.193771</td>\n",
       "      <td>0.008781</td>\n",
       "      <td>0.000962</td>\n",
       "      <td>27.24</td>\n",
       "    </tr>\n",
       "    <tr>\n",
       "      <th>11</th>\n",
       "      <td>143.845</td>\n",
       "      <td>0.184473045251364</td>\n",
       "      <td>0.000000000000035</td>\n",
       "      <td>0.000151907959337</td>\n",
       "      <td>-0.000060531126957</td>\n",
       "      <td>0.000000000010909</td>\n",
       "      <td>-21.725916440216380</td>\n",
       "      <td>0.052130</td>\n",
       "      <td>0.005213</td>\n",
       "      <td>0.480514</td>\n",
       "      <td>0.000000</td>\n",
       "      <td>-0.191471</td>\n",
       "      <td>0.008677</td>\n",
       "      <td>0.000962</td>\n",
       "      <td>27.23</td>\n",
       "    </tr>\n",
       "    <tr>\n",
       "      <th>12</th>\n",
       "      <td>183.298</td>\n",
       "      <td>0.184467308804337</td>\n",
       "      <td>0.000000000000025</td>\n",
       "      <td>0.000142492229189</td>\n",
       "      <td>-0.000059713811070</td>\n",
       "      <td>0.000000000007917</td>\n",
       "      <td>-22.736956315316156</td>\n",
       "      <td>0.052125</td>\n",
       "      <td>0.005213</td>\n",
       "      <td>0.450771</td>\n",
       "      <td>0.000000</td>\n",
       "      <td>-0.188903</td>\n",
       "      <td>0.008561</td>\n",
       "      <td>0.000962</td>\n",
       "      <td>27.25</td>\n",
       "    </tr>\n",
       "    <tr>\n",
       "      <th>13</th>\n",
       "      <td>233.572</td>\n",
       "      <td>0.184451444534370</td>\n",
       "      <td>0.000000000000066</td>\n",
       "      <td>0.000133228677265</td>\n",
       "      <td>-0.000058649629203</td>\n",
       "      <td>0.000000000020369</td>\n",
       "      <td>-23.759946435842888</td>\n",
       "      <td>0.052128</td>\n",
       "      <td>0.005213</td>\n",
       "      <td>0.421440</td>\n",
       "      <td>0.000000</td>\n",
       "      <td>-0.185525</td>\n",
       "      <td>0.008408</td>\n",
       "      <td>0.000962</td>\n",
       "      <td>27.20</td>\n",
       "    </tr>\n",
       "    <tr>\n",
       "      <th>14</th>\n",
       "      <td>297.635</td>\n",
       "      <td>0.184450332667040</td>\n",
       "      <td>0.000000000000032</td>\n",
       "      <td>0.000124008071677</td>\n",
       "      <td>-0.000057230645076</td>\n",
       "      <td>0.000000000009962</td>\n",
       "      <td>-24.773674278561561</td>\n",
       "      <td>0.052127</td>\n",
       "      <td>0.005213</td>\n",
       "      <td>0.392284</td>\n",
       "      <td>0.000000</td>\n",
       "      <td>-0.181042</td>\n",
       "      <td>0.008205</td>\n",
       "      <td>0.000961</td>\n",
       "      <td>27.21</td>\n",
       "    </tr>\n",
       "    <tr>\n",
       "      <th>15</th>\n",
       "      <td>379.269</td>\n",
       "      <td>0.184452842055512</td>\n",
       "      <td>-0.000000000000176</td>\n",
       "      <td>0.000115060105652</td>\n",
       "      <td>-0.000056053179189</td>\n",
       "      <td>-0.000000000054691</td>\n",
       "      <td>-25.973692061517511</td>\n",
       "      <td>0.052131</td>\n",
       "      <td>0.005213</td>\n",
       "      <td>0.363949</td>\n",
       "      <td>0.000000</td>\n",
       "      <td>-0.177303</td>\n",
       "      <td>0.008036</td>\n",
       "      <td>0.000962</td>\n",
       "      <td>27.19</td>\n",
       "    </tr>\n",
       "    <tr>\n",
       "      <th>16</th>\n",
       "      <td>483.293</td>\n",
       "      <td>0.184458760178298</td>\n",
       "      <td>0.000000000000068</td>\n",
       "      <td>0.000106364306413</td>\n",
       "      <td>-0.000054406404018</td>\n",
       "      <td>0.000000000021011</td>\n",
       "      <td>-27.090197158756833</td>\n",
       "      <td>0.052128</td>\n",
       "      <td>0.005213</td>\n",
       "      <td>0.336463</td>\n",
       "      <td>0.000000</td>\n",
       "      <td>-0.172104</td>\n",
       "      <td>0.007801</td>\n",
       "      <td>0.000962</td>\n",
       "      <td>27.22</td>\n",
       "    </tr>\n",
       "    <tr>\n",
       "      <th>17</th>\n",
       "      <td>615.848</td>\n",
       "      <td>0.184447756893902</td>\n",
       "      <td>-0.000000000000298</td>\n",
       "      <td>0.000097966310087</td>\n",
       "      <td>-0.000052778815572</td>\n",
       "      <td>-0.000000000092549</td>\n",
       "      <td>-28.313324877162156</td>\n",
       "      <td>0.052132</td>\n",
       "      <td>0.005213</td>\n",
       "      <td>0.309873</td>\n",
       "      <td>0.000000</td>\n",
       "      <td>-0.166943</td>\n",
       "      <td>0.007568</td>\n",
       "      <td>0.000962</td>\n",
       "      <td>27.18</td>\n",
       "    </tr>\n",
       "    <tr>\n",
       "      <th>18</th>\n",
       "      <td>784.760</td>\n",
       "      <td>0.184445661471394</td>\n",
       "      <td>-0.000000000000123</td>\n",
       "      <td>0.000089625322710</td>\n",
       "      <td>-0.000050841921635</td>\n",
       "      <td>-0.000000000038298</td>\n",
       "      <td>-29.565021400032343</td>\n",
       "      <td>0.052127</td>\n",
       "      <td>0.005213</td>\n",
       "      <td>0.283518</td>\n",
       "      <td>0.000000</td>\n",
       "      <td>-0.160832</td>\n",
       "      <td>0.007291</td>\n",
       "      <td>0.000961</td>\n",
       "      <td>27.20</td>\n",
       "    </tr>\n",
       "    <tr>\n",
       "      <th>19</th>\n",
       "      <td>1000.000</td>\n",
       "      <td>0.184432947105138</td>\n",
       "      <td>-0.000000000000568</td>\n",
       "      <td>0.000083130846148</td>\n",
       "      <td>-0.000056233613157</td>\n",
       "      <td>-0.000000000176517</td>\n",
       "      <td>-34.076268855432716</td>\n",
       "      <td>0.052128</td>\n",
       "      <td>0.005213</td>\n",
       "      <td>0.262970</td>\n",
       "      <td>0.000000</td>\n",
       "      <td>-0.177885</td>\n",
       "      <td>0.008063</td>\n",
       "      <td>0.000961</td>\n",
       "      <td>27.18</td>\n",
       "    </tr>\n",
       "  </tbody>\n",
       "</table>\n",
       "</div>"
      ],
      "text/plain": [
       "   Frequency             Re(1ω)              Im(1ω)             Re(3ω)  \\\n",
       "0     10.000  0.184437030678751   0.000000000000000  0.000260408972433   \n",
       "1     12.743  0.184472240125837  -0.000000000000002  0.000250413696423   \n",
       "2     16.238  0.184501818686206   0.000000000000003  0.000240364494020   \n",
       "3     20.691  0.184498163976574  -0.000000000000004  0.000230400186952   \n",
       "4     26.367  0.184483429107614  -0.000000000000009  0.000220346733487   \n",
       "5     33.598  0.184483383143853   0.000000000000008  0.000210358465422   \n",
       "6     42.813  0.184477957645594  -0.000000000000012  0.000200464729980   \n",
       "7     54.556  0.184489963431298   0.000000000000024  0.000190646474419   \n",
       "8     69.519  0.184495500931581  -0.000000000000004  0.000180890595175   \n",
       "9     88.587  0.184485577328355  -0.000000000000013  0.000171116220837   \n",
       "10   112.884  0.184482208698789  -0.000000000000051  0.000161477505982   \n",
       "11   143.845  0.184473045251364   0.000000000000035  0.000151907959337   \n",
       "12   183.298  0.184467308804337   0.000000000000025  0.000142492229189   \n",
       "13   233.572  0.184451444534370   0.000000000000066  0.000133228677265   \n",
       "14   297.635  0.184450332667040   0.000000000000032  0.000124008071677   \n",
       "15   379.269  0.184452842055512  -0.000000000000176  0.000115060105652   \n",
       "16   483.293  0.184458760178298   0.000000000000068  0.000106364306413   \n",
       "17   615.848  0.184447756893902  -0.000000000000298  0.000097966310087   \n",
       "18   784.760  0.184445661471394  -0.000000000000123  0.000089625322710   \n",
       "19  1000.000  0.184432947105138  -0.000000000000568  0.000083130846148   \n",
       "\n",
       "                Im(3ω)           Phase(1ω)            Phase(3ω)      Vref  \\\n",
       "0   -0.000065735910170   0.000000000000056  -14.167387803957695  0.052110   \n",
       "1   -0.000065420904660  -0.000000000000486  -14.641350469289304  0.052121   \n",
       "2   -0.000065107642367   0.000000000000918  -15.156050153835725  0.052124   \n",
       "3   -0.000064640280522  -0.000000000001258  -15.671811641969777  0.052125   \n",
       "4   -0.000064252819370  -0.000000000002679  -16.256615346477268  0.052123   \n",
       "5   -0.000064077268966   0.000000000002331  -16.941254294225349  0.052121   \n",
       "6   -0.000063519624771  -0.000000000003577  -17.581422057362371  0.052126   \n",
       "7   -0.000063143966475   0.000000000007560  -18.325372761887511  0.052131   \n",
       "8   -0.000062695418573  -0.000000000001115  -19.115959558521443  0.052134   \n",
       "9   -0.000062086086950  -0.000000000003937  -19.942287100112999  0.052132   \n",
       "10  -0.000061258399525  -0.000000000015829  -20.774832664382387  0.052130   \n",
       "11  -0.000060531126957   0.000000000010909  -21.725916440216380  0.052130   \n",
       "12  -0.000059713811070   0.000000000007917  -22.736956315316156  0.052125   \n",
       "13  -0.000058649629203   0.000000000020369  -23.759946435842888  0.052128   \n",
       "14  -0.000057230645076   0.000000000009962  -24.773674278561561  0.052127   \n",
       "15  -0.000056053179189  -0.000000000054691  -25.973692061517511  0.052131   \n",
       "16  -0.000054406404018   0.000000000021011  -27.090197158756833  0.052128   \n",
       "17  -0.000052778815572  -0.000000000092549  -28.313324877162156  0.052132   \n",
       "18  -0.000050841921635  -0.000000000038298  -29.565021400032343  0.052127   \n",
       "19  -0.000056233613157  -0.000000000176517  -34.076268855432716  0.052128   \n",
       "\n",
       "     Current    Re(ΔT) Δ[Re(ΔT)]     Im(ΔT) Δ[Im(ΔT)]     Power Temperature  \n",
       "0   0.005211  0.824032  0.000000  -0.208013  0.009426  0.000961       27.28  \n",
       "1   0.005212  0.792244  0.000000  -0.206975  0.009379  0.000961       27.28  \n",
       "2   0.005212  0.760411  0.000000  -0.205973  0.009333  0.000962       27.31  \n",
       "3   0.005212  0.728871  0.000000  -0.204490  0.009266  0.000962       27.30  \n",
       "4   0.005212  0.697096  0.000000  -0.203272  0.009211  0.000962       27.29  \n",
       "5   0.005212  0.665514  0.000000  -0.202722  0.009186  0.000962       27.29  \n",
       "6   0.005213  0.634156  0.000000  -0.200940  0.009106  0.000962       27.26  \n",
       "7   0.005213  0.603036  0.000000  -0.199732  0.009051  0.000962       27.25  \n",
       "8   0.005213  0.572144  0.000000  -0.198301  0.008986  0.000962       27.24  \n",
       "9   0.005213  0.541251  0.000000  -0.196382  0.008899  0.000962       27.24  \n",
       "10  0.005213  0.510781  0.000000  -0.193771  0.008781  0.000962       27.24  \n",
       "11  0.005213  0.480514  0.000000  -0.191471  0.008677  0.000962       27.23  \n",
       "12  0.005213  0.450771  0.000000  -0.188903  0.008561  0.000962       27.25  \n",
       "13  0.005213  0.421440  0.000000  -0.185525  0.008408  0.000962       27.20  \n",
       "14  0.005213  0.392284  0.000000  -0.181042  0.008205  0.000961       27.21  \n",
       "15  0.005213  0.363949  0.000000  -0.177303  0.008036  0.000962       27.19  \n",
       "16  0.005213  0.336463  0.000000  -0.172104  0.007801  0.000962       27.22  \n",
       "17  0.005213  0.309873  0.000000  -0.166943  0.007568  0.000962       27.18  \n",
       "18  0.005213  0.283518  0.000000  -0.160832  0.007291  0.000961       27.20  \n",
       "19  0.005213  0.262970  0.000000  -0.177885  0.008063  0.000961       27.18  "
      ]
     },
     "execution_count": 45,
     "metadata": {},
     "output_type": "execute_result"
    }
   ],
   "source": [
    "df"
   ]
  },
  {
   "cell_type": "markdown",
   "id": "2667ddce-66cf-4f9e-bc3b-d698d59c891a",
   "metadata": {},
   "source": [
    "### Korrelationsgleichung fuer die Kalibrierung"
   ]
  },
  {
   "cell_type": "code",
   "execution_count": 46,
   "id": "7dece50b-9373-44fd-9510-b2418dd8fe85",
   "metadata": {},
   "outputs": [],
   "source": [
    "# LaTeX rendering\n",
    "printing.init_printing()"
   ]
  },
  {
   "cell_type": "code",
   "execution_count": 218,
   "id": "d12add72-f6c1-40ab-aa33-b95e34c292df",
   "metadata": {},
   "outputs": [],
   "source": [
    "# Define variables\n",
    "dRdT = symbols('dR/dT')\n",
    "dVdf= symbols('(dV3w/dlnf)')\n",
    "dR,dT,L,lambda_grease,lambda_sub,f,P,I = symbols('dR dT L lambda_grease lambda_sub f P I')\n"
   ]
  },
  {
   "cell_type": "code",
   "execution_count": 219,
   "id": "fa6c256f-7efd-48d9-bb20-adcfadd9f4d0",
   "metadata": {},
   "outputs": [],
   "source": [
    "equation_dRdT = Eq( ((-4*pi*L)/(P*I))*(lambda_grease+lambda_sub)*(dVdf)- dRdT,0)"
   ]
  },
  {
   "cell_type": "code",
   "execution_count": 220,
   "id": "d549adb0-85e6-4259-9846-76653bb6521c",
   "metadata": {},
   "outputs": [
    {
     "data": {
      "image/png": "[encoded data removed]",
      "text/latex": [
       "$\\displaystyle - \\frac{4 \\pi (dV3w/dlnf) L \\left(\\lambda_{grease} + \\lambda_{sub}\\right)}{I P} - dR/dT = 0$"
      ],
      "text/plain": [
       "  4⋅π⋅(dV3w/dlnf)⋅L⋅(λ_grease + λ_sub)            \n",
       "- ──────────────────────────────────── - dR/dT = 0\n",
       "                  I⋅P                             "
      ]
     },
     "metadata": {},
     "output_type": "display_data"
    }
   ],
   "source": [
    "display(equation_dRdT)"
   ]
  },
  {
   "cell_type": "markdown",
   "id": "9cb0057c-b5fb-4569-9ef7-408f361be15f",
   "metadata": {},
   "source": [
    "### dR/dT Berechnung (unter Vacuum)"
   ]
  },
  {
   "cell_type": "markdown",
   "id": "1db95f70-9ff9-4e90-9d71-573f32622ae3",
   "metadata": {},
   "source": [
    "#### Parameters fuer die Berechnung"
   ]
  },
  {
   "cell_type": "code",
   "execution_count": 221,
   "id": "000b0112-e37a-4a02-bdeb-0a26b86cccbb",
   "metadata": {},
   "outputs": [],
   "source": [
    "# Geometrie und Bedingungen\n",
    "T_ref=26                  # Room temperature, 24 04.12.24\n",
    "\n",
    "# Slope dRe(V3w)/dlnf Berechnung\n",
    "v3w=df['Re(3ω)'].values\n",
    "f=df['Frequency'].values\n",
    "v3w=v3w.astype(float)\n",
    "f=f.astype(float)\n",
    "\n",
    "## dRdT Berechnung\n",
    "\n",
    "L_mess=1000e-6\n",
    "P_mess= df['Power'].values\n",
    "P_mess=P_mess.astype(float)\n",
    "\n",
    "I_mess= df['Current'].values\n",
    "I_mess=I_mess.astype(float)"
   ]
  },
  {
   "cell_type": "markdown",
   "id": "de134b31-2608-499d-a043-e708e440f3ad",
   "metadata": {},
   "source": [
    "#### Substrate thermal conductivity"
   ]
  },
  {
   "cell_type": "code",
   "execution_count": 222,
   "id": "7c94ae73-a27d-4340-b522-9e27102ff965",
   "metadata": {},
   "outputs": [],
   "source": [
    "lambda_substrate_ref= 1.2 # Temperature 20C"
   ]
  },
  {
   "cell_type": "code",
   "execution_count": 223,
   "id": "a479ef2e-5f25-4a60-a8a0-9e98d9b60215",
   "metadata": {},
   "outputs": [],
   "source": [
    "lambdaSubstrate=lambda lambda_substrate_ref,T: lambda_substrate_ref + 0.0013*(T-20)"
   ]
  },
  {
   "cell_type": "markdown",
   "id": "2fc418ad-e22d-4838-96a9-c791deab2731",
   "metadata": {},
   "source": [
    "#### Slope dRe(V3w)/dln(f)"
   ]
  },
  {
   "cell_type": "code",
   "execution_count": 224,
   "id": "81b51927-20d8-45c9-8441-4f7a93f12d5d",
   "metadata": {},
   "outputs": [
    {
     "data": {
      "text/plain": [
       "array([2.60408972e-04, 2.50413696e-04, 2.40364494e-04, 2.30400187e-04,\n",
       "       2.20346733e-04, 2.10358465e-04, 2.00464730e-04, 1.90646474e-04,\n",
       "       1.80890595e-04, 1.71116221e-04, 1.61477506e-04, 1.51907959e-04,\n",
       "       1.42492229e-04, 1.33228677e-04, 1.24008072e-04, 1.15060106e-04,\n",
       "       1.06364306e-04, 9.79663101e-05, 8.96253227e-05, 8.31308461e-05])"
      ]
     },
     "execution_count": 224,
     "metadata": {},
     "output_type": "execute_result"
    }
   ],
   "source": [
    "v3w"
   ]
  },
  {
   "cell_type": "code",
   "execution_count": 225,
   "id": "712ac750-3a84-4a5c-a491-89c07bbdde9d",
   "metadata": {},
   "outputs": [],
   "source": [
    "lnf=np.log(f)"
   ]
  },
  {
   "cell_type": "code",
   "execution_count": 226,
   "id": "b5c37aa2-7267-44be-888d-ee466c4ff365",
   "metadata": {},
   "outputs": [
    {
     "name": "stdout",
     "output_type": "stream",
     "text": [
      "[2.60408972e-04 2.50413696e-04 2.40364494e-04 2.30400187e-04\n",
      " 2.20346733e-04 2.10358465e-04 2.00464730e-04 1.90646474e-04\n",
      " 1.80890595e-04 1.71116221e-04 1.61477506e-04 1.51907959e-04\n",
      " 1.42492229e-04 1.33228677e-04 1.24008072e-04 1.15060106e-04\n",
      " 1.06364306e-04 9.79663101e-05 8.96253227e-05 8.31308461e-05]\n",
      "[  10.      12.743   16.238   20.691   26.367   33.598   42.813   54.556\n",
      "   69.519   88.587  112.884  143.845  183.298  233.572  297.635  379.269\n",
      "  483.293  615.848  784.76  1000.   ]\n",
      "[2.30258509 2.5449821  2.78735417 3.02969882 3.27211323 3.51446654\n",
      " 3.75684179 3.9992277  4.2416001  4.48398512 4.72636074 4.96873633\n",
      " 5.21111324 5.45349038 5.6958679  5.93824572 6.18062309 6.42300018\n",
      " 6.66537794 6.90775528]\n"
     ]
    }
   ],
   "source": [
    "print(v3w)\n",
    "print(f)\n",
    "print(lnf)"
   ]
  },
  {
   "cell_type": "code",
   "execution_count": 227,
   "id": "534e0809-9721-4a76-a07e-95cd5e66bce5",
   "metadata": {},
   "outputs": [
    {
     "name": "stdout",
     "output_type": "stream",
     "text": [
      "Slope: -3.906621169740782e-05, Intercept: 0.0003479401910728244\n"
     ]
    },
    {
     "data": {
      "image/png": "[encoded data removed]",
      "text/plain": [
       "<Figure size 640x480 with 1 Axes>"
      ]
     },
     "metadata": {},
     "output_type": "display_data"
    }
   ],
   "source": [
    "X=lnf\n",
    "Y=v3w\n",
    "# Perform linear regression using NumPy's polyfit\n",
    "coefficients = np.polyfit(X, Y, 1)\n",
    "slope, intercept = coefficients\n",
    "\n",
    "# Print the slope and intercept\n",
    "print(f\"Slope: {slope}, Intercept: {intercept}\")\n",
    "\n",
    "# Linear regression\n",
    "Y_pred = slope * X + intercept\n",
    "\n",
    "# Plot the data and regression line\n",
    "plt.scatter(X, Y, label='Experimental Data')\n",
    "plt.plot(X, Y_pred, color='red', label='Regression Line')\n",
    "plt.xlabel('ln(f(Hz))')\n",
    "plt.ylabel('Re(V3w)')\n",
    "plt.legend()\n",
    "plt.show()"
   ]
  },
  {
   "cell_type": "code",
   "execution_count": 228,
   "id": "fbb73723-b624-4569-b28f-a20e69c96f29",
   "metadata": {},
   "outputs": [
    {
     "name": "stdout",
     "output_type": "stream",
     "text": [
      "-3.906621169740782e-05\n"
     ]
    }
   ],
   "source": [
    "# Sölope 'dV3w/dlnf' calculated for dR/dT calculation\n",
    "\n",
    "dVdf_mess=slope\n",
    "print(dVdf_mess)"
   ]
  },
  {
   "cell_type": "markdown",
   "id": "842aa235-c5f6-4ef4-8d77-9b78d747e120",
   "metadata": {},
   "source": [
    "#### dR/dT Berechnung"
   ]
  },
  {
   "cell_type": "code",
   "execution_count": 229,
   "id": "fba2d118-9644-4754-9f0e-d213d71fe43a",
   "metadata": {},
   "outputs": [
    {
     "name": "stdout",
     "output_type": "stream",
     "text": [
      "0.0009617500000000001\n",
      "0.005212649999999999\n",
      "0.194\n",
      "1.2078\n"
     ]
    }
   ],
   "source": [
    "P_mean= np.mean(P_mess)\n",
    "I_mean= np.mean(I_mess)\n",
    "lambdaGrease_mess= 0.194\n",
    "lambdaSubstrate_mess=lambdaSubstrate(lambda_substrate_ref,T_ref)\n",
    "print(P_mean)\n",
    "print(I_mean)\n",
    "print(lambdaGrease_mess)\n",
    "print(lambdaSubstrate_mess)"
   ]
  },
  {
   "cell_type": "code",
   "execution_count": 230,
   "id": "1d5bc669-2a7a-4f6f-9d4e-d767cddf6331",
   "metadata": {},
   "outputs": [],
   "source": [
    "substituted_eq = equation_dRdT.subs({P: P_mean, I:I_mean,lambda_grease:lambdaGrease_mess,lambda_sub:lambdaSubstrate_mess,dVdf:dVdf_mess, L:L_mess})"
   ]
  },
  {
   "cell_type": "code",
   "execution_count": 231,
   "id": "34b24e6b-4f1f-45c3-a0e5-2f7b099460db",
   "metadata": {},
   "outputs": [
    {
     "data": {
      "image/png": "[encoded data removed]",
      "text/latex": [
       "$\\displaystyle - dR/dT + 0.0436944810472283 \\pi = 0$"
      ],
      "text/plain": [
       "-dR/dT + 0.0436944810472283⋅π = 0"
      ]
     },
     "execution_count": 231,
     "metadata": {},
     "output_type": "execute_result"
    }
   ],
   "source": [
    "substituted_eq"
   ]
  },
  {
   "cell_type": "code",
   "execution_count": 232,
   "id": "28498572-d6a6-4fe9-92e1-e48409d29bd2",
   "metadata": {},
   "outputs": [],
   "source": [
    "sol = solve(substituted_eq, dRdT)"
   ]
  },
  {
   "cell_type": "code",
   "execution_count": 233,
   "id": "8b06134e-3c6a-48a2-998e-b1916c55cb5a",
   "metadata": {},
   "outputs": [
    {
     "name": "stdout",
     "output_type": "stream",
     "text": [
      "0.13727026066039089\n"
     ]
    }
   ],
   "source": [
    "dRdT_mess=float(sol[0])\n",
    "print(dRdT_mess)"
   ]
  },
  {
   "cell_type": "markdown",
   "id": "1f89e954-df84-42ff-96b9-75a13931fb1e",
   "metadata": {
    "jp-MarkdownHeadingCollapsed": true
   },
   "source": [
    "## Messung mit gleichem Grease"
   ]
  },
  {
   "cell_type": "markdown",
   "id": "d35a2811-3e60-4c3a-b9fc-683236af3885",
   "metadata": {},
   "source": [
    "### Import data"
   ]
  },
  {
   "cell_type": "code",
   "execution_count": 234,
   "id": "422956b7-be55-4af5-8673-8b58182083d0",
   "metadata": {},
   "outputs": [
    {
     "name": "stdout",
     "output_type": "stream",
     "text": [
      "   Frequency             Re(1ω)              Im(1ω)             Re(3ω)  \\\n",
      "0     10.000  0.184437030678751   0.000000000000000  0.000260408972433   \n",
      "1     12.743  0.184472240125837  -0.000000000000002  0.000250413696423   \n",
      "2     16.238  0.184501818686206   0.000000000000003  0.000240364494020   \n",
      "3     20.691  0.184498163976574  -0.000000000000004  0.000230400186952   \n",
      "4     26.367  0.184483429107614  -0.000000000000009  0.000220346733487   \n",
      "5     33.598  0.184483383143853   0.000000000000008  0.000210358465422   \n",
      "6     42.813  0.184477957645594  -0.000000000000012  0.000200464729980   \n",
      "7     54.556  0.184489963431298   0.000000000000024  0.000190646474419   \n",
      "8     69.519  0.184495500931581  -0.000000000000004  0.000180890595175   \n",
      "9     88.587  0.184485577328355  -0.000000000000013  0.000171116220837   \n",
      "10   112.884  0.184482208698789  -0.000000000000051  0.000161477505982   \n",
      "11   143.845  0.184473045251364   0.000000000000035  0.000151907959337   \n",
      "12   183.298  0.184467308804337   0.000000000000025  0.000142492229189   \n",
      "13   233.572  0.184451444534370   0.000000000000066  0.000133228677265   \n",
      "14   297.635  0.184450332667040   0.000000000000032  0.000124008071677   \n",
      "15   379.269  0.184452842055512  -0.000000000000176  0.000115060105652   \n",
      "16   483.293  0.184458760178298   0.000000000000068  0.000106364306413   \n",
      "17   615.848  0.184447756893902  -0.000000000000298  0.000097966310087   \n",
      "18   784.760  0.184445661471394  -0.000000000000123  0.000089625322710   \n",
      "19  1000.000  0.184432947105138  -0.000000000000568  0.000083130846148   \n",
      "\n",
      "                Im(3ω)           Phase(1ω)            Phase(3ω)      Vref  \\\n",
      "0   -0.000065735910170   0.000000000000056  -14.167387803957695  0.052110   \n",
      "1   -0.000065420904660  -0.000000000000486  -14.641350469289304  0.052121   \n",
      "2   -0.000065107642367   0.000000000000918  -15.156050153835725  0.052124   \n",
      "3   -0.000064640280522  -0.000000000001258  -15.671811641969777  0.052125   \n",
      "4   -0.000064252819370  -0.000000000002679  -16.256615346477268  0.052123   \n",
      "5   -0.000064077268966   0.000000000002331  -16.941254294225349  0.052121   \n",
      "6   -0.000063519624771  -0.000000000003577  -17.581422057362371  0.052126   \n",
      "7   -0.000063143966475   0.000000000007560  -18.325372761887511  0.052131   \n",
      "8   -0.000062695418573  -0.000000000001115  -19.115959558521443  0.052134   \n",
      "9   -0.000062086086950  -0.000000000003937  -19.942287100112999  0.052132   \n",
      "10  -0.000061258399525  -0.000000000015829  -20.774832664382387  0.052130   \n",
      "11  -0.000060531126957   0.000000000010909  -21.725916440216380  0.052130   \n",
      "12  -0.000059713811070   0.000000000007917  -22.736956315316156  0.052125   \n",
      "13  -0.000058649629203   0.000000000020369  -23.759946435842888  0.052128   \n",
      "14  -0.000057230645076   0.000000000009962  -24.773674278561561  0.052127   \n",
      "15  -0.000056053179189  -0.000000000054691  -25.973692061517511  0.052131   \n",
      "16  -0.000054406404018   0.000000000021011  -27.090197158756833  0.052128   \n",
      "17  -0.000052778815572  -0.000000000092549  -28.313324877162156  0.052132   \n",
      "18  -0.000050841921635  -0.000000000038298  -29.565021400032343  0.052127   \n",
      "19  -0.000056233613157  -0.000000000176517  -34.076268855432716  0.052128   \n",
      "\n",
      "     Current    Re(ΔT) Δ[Re(ΔT)]     Im(ΔT) Δ[Im(ΔT)]     Power Temperature  \n",
      "0   0.005211  0.824032  0.000000  -0.208013  0.009426  0.000961       27.28  \n",
      "1   0.005212  0.792244  0.000000  -0.206975  0.009379  0.000961       27.28  \n",
      "2   0.005212  0.760411  0.000000  -0.205973  0.009333  0.000962       27.31  \n",
      "3   0.005212  0.728871  0.000000  -0.204490  0.009266  0.000962       27.30  \n",
      "4   0.005212  0.697096  0.000000  -0.203272  0.009211  0.000962       27.29  \n",
      "5   0.005212  0.665514  0.000000  -0.202722  0.009186  0.000962       27.29  \n",
      "6   0.005213  0.634156  0.000000  -0.200940  0.009106  0.000962       27.26  \n",
      "7   0.005213  0.603036  0.000000  -0.199732  0.009051  0.000962       27.25  \n",
      "8   0.005213  0.572144  0.000000  -0.198301  0.008986  0.000962       27.24  \n",
      "9   0.005213  0.541251  0.000000  -0.196382  0.008899  0.000962       27.24  \n",
      "10  0.005213  0.510781  0.000000  -0.193771  0.008781  0.000962       27.24  \n",
      "11  0.005213  0.480514  0.000000  -0.191471  0.008677  0.000962       27.23  \n",
      "12  0.005213  0.450771  0.000000  -0.188903  0.008561  0.000962       27.25  \n",
      "13  0.005213  0.421440  0.000000  -0.185525  0.008408  0.000962       27.20  \n",
      "14  0.005213  0.392284  0.000000  -0.181042  0.008205  0.000961       27.21  \n",
      "15  0.005213  0.363949  0.000000  -0.177303  0.008036  0.000962       27.19  \n",
      "16  0.005213  0.336463  0.000000  -0.172104  0.007801  0.000962       27.22  \n",
      "17  0.005213  0.309873  0.000000  -0.166943  0.007568  0.000962       27.18  \n",
      "18  0.005213  0.283518  0.000000  -0.160832  0.007291  0.000961       27.20  \n",
      "19  0.005213  0.262970  0.000000  -0.177885  0.008063  0.000961       27.18  \n"
     ]
    },
    {
     "name": "stderr",
     "output_type": "stream",
     "text": [
      "<>:2: SyntaxWarning: invalid escape sequence '\\G'\n",
      "<>:2: SyntaxWarning: invalid escape sequence '\\G'\n",
      "C:\\Users\\rinc\\AppData\\Local\\Temp\\ipykernel_17572\\1898357450.py:2: SyntaxWarning: invalid escape sequence '\\G'\n",
      "  with open('Messung051224\\GreaseDataVacuum1.txt', 'r') as file:\n"
     ]
    }
   ],
   "source": [
    "# File import\n",
    "with open('Messung051224\\GreaseDataVacuum1.txt', 'r') as file:\n",
    "    lines = file.readlines()[0:]\n",
    "\n",
    "data_sample = []\n",
    "for line in lines:\n",
    "    # Split\n",
    "    parts = line.split()\n",
    "    \n",
    "    # Bye first column\n",
    "    row = parts[2:]\n",
    "    data_sample.append(row)\n",
    "\n",
    "# Column names\n",
    "columns = [\n",
    "     \"Frequency\", \"Re(1ω)\", \"Im(1ω)\", \"Re(3ω)\", \"Im(3ω)\", \"Phase(1ω)\", \"Phase(3ω)\",\n",
    "    \"Vref\", \"Current\", \"Re(ΔT)\", \"Δ[Re(ΔT)]\", \"Im(ΔT)\", \"Δ[Im(ΔT)]\", \"Power\", \"Temperature\"\n",
    "]\n",
    "\n",
    "# DataFrame\n",
    "df_sample = pd.DataFrame(data_sample, columns=columns)\n",
    "print(df_sample)"
   ]
  },
  {
   "cell_type": "code",
   "execution_count": 235,
   "id": "f044c8e5-c7ea-4f28-bbe5-93099e819f00",
   "metadata": {},
   "outputs": [],
   "source": [
    "dRdT_mess=float(sol[0])"
   ]
  },
  {
   "cell_type": "code",
   "execution_count": 236,
   "id": "d208f9f1-7c69-4c24-a597-a97c7d570095",
   "metadata": {},
   "outputs": [
    {
     "name": "stdout",
     "output_type": "stream",
     "text": [
      "0.13727026066039089\n"
     ]
    }
   ],
   "source": [
    "print(dRdT_mess)"
   ]
  },
  {
   "cell_type": "markdown",
   "id": "81fbde05-b17d-4e12-8874-7f937b092a9b",
   "metadata": {},
   "source": [
    "### Korrelationsgleichung fuer die Messung"
   ]
  },
  {
   "cell_type": "code",
   "execution_count": 262,
   "id": "15d42ce7-280e-46d1-a418-522408533bf0",
   "metadata": {},
   "outputs": [],
   "source": [
    "# Define variables\n",
    "dRdT = symbols('(dR/dT)')\n",
    "dVdf= symbols('(dV3w/dlnf)')\n",
    "dR,dT,L,lambda_sample,lambda_sub,f,P,I = symbols('dR dT L lambda_sample, lambda_sub f P I')"
   ]
  },
  {
   "cell_type": "code",
   "execution_count": 263,
   "id": "e96e7fcc-91e6-4347-86ff-1603a301342b",
   "metadata": {},
   "outputs": [],
   "source": [
    "equation_lambdaSample= Eq( (-P*I*dRdT/(4*pi*L))*(dVdf)**(-1)-lambda_sub-lambda_sample,0)"
   ]
  },
  {
   "cell_type": "code",
   "execution_count": 264,
   "id": "1e49480d-09e8-4a1c-a9fc-4e9b2ecbbfdd",
   "metadata": {},
   "outputs": [
    {
     "data": {
      "image/png": "[encoded data removed]",
      "text/latex": [
       "$\\displaystyle - \\frac{(dR/dT) I P}{4 \\pi (dV3w/dlnf) L} - \\lambda_{sample} - \\lambda_{sub} = 0$"
      ],
      "text/plain": [
       "     (dR/dT)⋅I⋅P                         \n",
       "- ───────────────── - λₛₐₘₚₗₑ - λ_sub = 0\n",
       "  4⋅π⋅(dV3w/dlnf)⋅L                      "
      ]
     },
     "metadata": {},
     "output_type": "display_data"
    }
   ],
   "source": [
    "display(equation_lambdaSample)"
   ]
  },
  {
   "cell_type": "markdown",
   "id": "ffba4f04-913b-4d45-b838-5ee967ba0ef4",
   "metadata": {},
   "source": [
    "### Thermal conductivity Berechnung"
   ]
  },
  {
   "cell_type": "markdown",
   "id": "2dcb9f2a-3952-4ed2-b4d4-6df058a20d54",
   "metadata": {},
   "source": [
    "#### Parameters fuer die Berechnung"
   ]
  },
  {
   "cell_type": "code",
   "execution_count": 265,
   "id": "be6f46b2-066e-4957-aae5-e533898bf58e",
   "metadata": {},
   "outputs": [
    {
     "name": "stdout",
     "output_type": "stream",
     "text": [
      "0.13727026066039089\n"
     ]
    }
   ],
   "source": [
    "# Geometrie und Bedingungen\n",
    "T_ref=26                  # Room temperature\n",
    "print(dRdT_mess)\n",
    "\n",
    "# Slope dRe(V3w)/dlnf Berechnung\n",
    "v3w = df_sample['Re(3ω)'].values\n",
    "f   = df_sample['Frequency'].values\n",
    "v3w = v3w.astype(float)\n",
    "f   = f.astype(float)\n",
    "\n",
    "## dRdT Berechnung\n",
    "\n",
    "L_mess=1000e-6\n",
    "P_mess = df_sample['Power'].values\n",
    "P_mess = P_mess.astype(float)\n",
    "\n",
    "I_mess = df_sample['Current'].values\n",
    "I_mess = I_mess.astype(float)"
   ]
  },
  {
   "cell_type": "code",
   "execution_count": 266,
   "id": "40ff332c-4882-46b9-8ca0-39522f017d3c",
   "metadata": {},
   "outputs": [
    {
     "data": {
      "image/png": "[encoded data removed]",
      "text/latex": [
       "$\\displaystyle 1.2078$"
      ],
      "text/plain": [
       "1.2078"
      ]
     },
     "execution_count": 266,
     "metadata": {},
     "output_type": "execute_result"
    }
   ],
   "source": [
    "lambdaSubstrate_mess=lambdaSubstrate(lambda_substrate_ref,T_ref)\n",
    "lambdaSubstrate_mess"
   ]
  },
  {
   "cell_type": "markdown",
   "id": "ac890f85-5225-45a7-8117-65c576b840ea",
   "metadata": {},
   "source": [
    "#### Slope dRe(V3w)/dln(f)"
   ]
  },
  {
   "cell_type": "code",
   "execution_count": 267,
   "id": "da920f6d-a26e-4f8a-8f29-225d904457bf",
   "metadata": {},
   "outputs": [
    {
     "data": {
      "text/plain": [
       "array([2.60408972e-04, 2.50413696e-04, 2.40364494e-04, 2.30400187e-04,\n",
       "       2.20346733e-04, 2.10358465e-04, 2.00464730e-04, 1.90646474e-04,\n",
       "       1.80890595e-04, 1.71116221e-04, 1.61477506e-04, 1.51907959e-04,\n",
       "       1.42492229e-04, 1.33228677e-04, 1.24008072e-04, 1.15060106e-04,\n",
       "       1.06364306e-04, 9.79663101e-05, 8.96253227e-05, 8.31308461e-05])"
      ]
     },
     "execution_count": 267,
     "metadata": {},
     "output_type": "execute_result"
    }
   ],
   "source": [
    "v3w"
   ]
  },
  {
   "cell_type": "code",
   "execution_count": 268,
   "id": "9464120f-899a-481e-9f02-f1f5fcb081e3",
   "metadata": {},
   "outputs": [
    {
     "data": {
      "text/plain": [
       "array([  10.   ,   12.743,   16.238,   20.691,   26.367,   33.598,\n",
       "         42.813,   54.556,   69.519,   88.587,  112.884,  143.845,\n",
       "        183.298,  233.572,  297.635,  379.269,  483.293,  615.848,\n",
       "        784.76 , 1000.   ])"
      ]
     },
     "execution_count": 268,
     "metadata": {},
     "output_type": "execute_result"
    }
   ],
   "source": [
    "f"
   ]
  },
  {
   "cell_type": "code",
   "execution_count": 269,
   "id": "7cd6eaa4-ef56-4235-9764-31ed0f1ec19d",
   "metadata": {},
   "outputs": [],
   "source": [
    "lnf=np.log(f)"
   ]
  },
  {
   "cell_type": "code",
   "execution_count": 270,
   "id": "ea0e98cf-da88-480f-a33a-9d49b18a4e54",
   "metadata": {},
   "outputs": [
    {
     "data": {
      "text/plain": [
       "array([2.30258509, 2.5449821 , 2.78735417, 3.02969882, 3.27211323,\n",
       "       3.51446654, 3.75684179, 3.9992277 , 4.2416001 , 4.48398512,\n",
       "       4.72636074, 4.96873633, 5.21111324, 5.45349038, 5.6958679 ,\n",
       "       5.93824572, 6.18062309, 6.42300018, 6.66537794, 6.90775528])"
      ]
     },
     "execution_count": 270,
     "metadata": {},
     "output_type": "execute_result"
    }
   ],
   "source": [
    "lnf"
   ]
  },
  {
   "cell_type": "code",
   "execution_count": 271,
   "id": "cf69fc40-4e74-4965-aae5-597fc3c72440",
   "metadata": {},
   "outputs": [
    {
     "name": "stdout",
     "output_type": "stream",
     "text": [
      "Slope: -3.906621169740782e-05, Intercept: 0.0003479401910728244\n"
     ]
    },
    {
     "data": {
      "image/png": "[encoded data removed]",
      "text/plain": [
       "<Figure size 640x480 with 1 Axes>"
      ]
     },
     "metadata": {},
     "output_type": "display_data"
    }
   ],
   "source": [
    "X=lnf\n",
    "Y=v3w\n",
    "# Perform linear regression using NumPy's polyfit\n",
    "coefficients = np.polyfit(X, Y, 1)\n",
    "slope, intercept = coefficients\n",
    "\n",
    "# Print the slope and intercept\n",
    "print(f\"Slope: {slope}, Intercept: {intercept}\")\n",
    "\n",
    "# Linear regression\n",
    "Y_pred = slope * X + intercept\n",
    "\n",
    "# Plot the data and regression line\n",
    "plt.scatter(X, Y, label='Experimental Data')\n",
    "plt.plot(X, Y_pred, color='red', label='Regression Line')\n",
    "plt.xlabel('ln(f(Hz))')\n",
    "plt.ylabel('Re(V3w)')\n",
    "plt.legend()\n",
    "plt.show()"
   ]
  },
  {
   "cell_type": "code",
   "execution_count": 272,
   "id": "6c23bee2-e62c-4c67-a020-eb2c43e91d5b",
   "metadata": {},
   "outputs": [
    {
     "name": "stdout",
     "output_type": "stream",
     "text": [
      "-3.906621169740782e-05\n"
     ]
    }
   ],
   "source": [
    "# Sölope 'dV3w/dlnf' calculated for dR/dT calculation\n",
    "\n",
    "dVdf_mess=slope\n",
    "print(dVdf_mess)"
   ]
  },
  {
   "cell_type": "markdown",
   "id": "6cce0510-eba6-49da-81f9-3e56bb0e112a",
   "metadata": {},
   "source": [
    "#### Thermal conductivity der Probe Berechnung"
   ]
  },
  {
   "cell_type": "code",
   "execution_count": 273,
   "id": "7ae18ecf-f84b-44a1-a539-5cfa78c1c834",
   "metadata": {},
   "outputs": [
    {
     "name": "stdout",
     "output_type": "stream",
     "text": [
      "0.0009617500000000001\n",
      "0.005212649999999999\n",
      "1.2078\n",
      "0.13727026066039089\n"
     ]
    }
   ],
   "source": [
    "P_mean= np.mean(P_mess)\n",
    "I_mean= np.mean(I_mess)\n",
    "print(P_mean)\n",
    "print(I_mean)\n",
    "print(lambdaSubstrate_mess)\n",
    "print(dRdT_mess)"
   ]
  },
  {
   "cell_type": "code",
   "execution_count": 274,
   "id": "8663fc88-29aa-4178-abd2-36afa0714734",
   "metadata": {},
   "outputs": [],
   "source": [
    "substituted_eqLambdaSample = equation_lambdaSample.subs({dRdT:dRdT_mess,P: P_mean, I:I_mean, lambda_sub:lambdaSubstrate_mess,dVdf:dVdf_mess, L:L_mess})"
   ]
  },
  {
   "cell_type": "code",
   "execution_count": 275,
   "id": "b6df04c2-9626-49ba-8f10-9100c303500d",
   "metadata": {},
   "outputs": [
    {
     "data": {
      "image/png": "[encoded data removed]",
      "text/latex": [
       "$\\displaystyle - \\lambda_{sample} - 1.2078 + \\frac{4.40388458180217}{\\pi} = 0$"
      ],
      "text/plain": [
       "                    4.40388458180217    \n",
       "-λₛₐₘₚₗₑ - 1.2078 + ──────────────── = 0\n",
       "                           π            "
      ]
     },
     "execution_count": 275,
     "metadata": {},
     "output_type": "execute_result"
    }
   ],
   "source": [
    "substituted_eqLambdaSample"
   ]
  },
  {
   "cell_type": "code",
   "execution_count": 279,
   "id": "0bf14efb-dacb-4cc6-afd0-7e84523442a9",
   "metadata": {},
   "outputs": [
    {
     "data": {
      "image/png": "[encoded data removed]",
      "text/latex": [
       "$\\displaystyle \\left[ 0.193999999999999\\right]$"
      ],
      "text/plain": [
       "[0.193999999999999]"
      ]
     },
     "execution_count": 279,
     "metadata": {},
     "output_type": "execute_result"
    }
   ],
   "source": [
    "solSample = solve(substituted_eqLambdaSample, lambda_sample)\n",
    "solSample"
   ]
  },
  {
   "cell_type": "code",
   "execution_count": 280,
   "id": "fd915224-7f86-444f-95e2-e33ce8ebd1a2",
   "metadata": {},
   "outputs": [
    {
     "data": {
      "image/png": "[encoded data removed]",
      "text/latex": [
       "$\\displaystyle 0.193999999999999$"
      ],
      "text/plain": [
       "0.1939999999999993"
      ]
     },
     "execution_count": 280,
     "metadata": {},
     "output_type": "execute_result"
    }
   ],
   "source": [
    "lambdaSample_mess=float(solSample[0])\n",
    "lambdaSample_mess"
   ]
  },
  {
   "cell_type": "code",
   "execution_count": 281,
   "id": "de62e1d6-3415-4502-a85d-0f73c1545a63",
   "metadata": {},
   "outputs": [
    {
     "data": {
      "image/png": "[encoded data removed]",
      "text/latex": [
       "$\\displaystyle 1.2078$"
      ],
      "text/plain": [
       "1.2078"
      ]
     },
     "execution_count": 281,
     "metadata": {},
     "output_type": "execute_result"
    }
   ],
   "source": [
    "lambdaSubstrate_mess"
   ]
  },
  {
   "cell_type": "code",
   "execution_count": null,
   "id": "325bdccc-6c72-47a7-a774-a5b31b6cd31c",
   "metadata": {},
   "outputs": [],
   "source": []
  },
  {
   "cell_type": "code",
   "execution_count": null,
   "id": "224b7ef1-52e7-4e16-a967-ad4c228596f6",
   "metadata": {},
   "outputs": [],
   "source": []
  },
  {
   "cell_type": "markdown",
   "id": "56c09ae0-85d4-4b5a-98a7-aefe2691a733",
   "metadata": {},
   "source": [
    "## Messung mit Substrate unter Vacuum"
   ]
  },
  {
   "cell_type": "markdown",
   "id": "0ab2ec13-3684-401f-baeb-e9eacd4726bb",
   "metadata": {
    "jp-MarkdownHeadingCollapsed": true
   },
   "source": [
    "### Import data"
   ]
  },
  {
   "cell_type": "code",
   "execution_count": 283,
   "id": "db5140d3-be63-48db-a0c4-84a5ca7c3038",
   "metadata": {},
   "outputs": [
    {
     "name": "stdout",
     "output_type": "stream",
     "text": [
      "   Frequency             Re(1ω)              Im(1ω)             Re(3ω)  \\\n",
      "0     10.000  0.188154722112770   0.000000000000004  0.000302510967874   \n",
      "1     12.743  0.188162819633189  -0.000000000000003  0.000291282705193   \n",
      "2     16.238  0.188168867443238  -0.000000000000007  0.000280038424339   \n",
      "3     20.691  0.188169867695215   0.000000000000001  0.000269073677081   \n",
      "4     26.367  0.188170050381801   0.000000000000004  0.000257984198735   \n",
      "5     33.598  0.188166347450338  -0.000000000000008  0.000246931643538   \n",
      "6     42.813  0.188168189596023  -0.000000000000018  0.000235947639074   \n",
      "7     54.556  0.188166593504188  -0.000000000000007  0.000225077381608   \n",
      "8     69.519  0.188168467447406   0.000000000000024  0.000214065102526   \n",
      "9     88.587  0.188163172275789   0.000000000000062  0.000203344970307   \n",
      "10   112.884  0.188162670313110  -0.000000000000017  0.000192279874141   \n",
      "11   143.845  0.188158629437361  -0.000000000000023  0.000181326550883   \n",
      "12   183.298  0.188150827525976  -0.000000000000009  0.000170908695221   \n",
      "13   233.572  0.188141317523741   0.000000000000018  0.000160039353364   \n",
      "14   297.635  0.188134440941729  -0.000000000000080  0.000149702816768   \n",
      "15   379.269  0.188133922269222   0.000000000000086  0.000139210682482   \n",
      "16   483.293  0.188122914829268   0.000000000000035  0.000129215744053   \n",
      "17   615.848  0.188121734525785  -0.000000000000066  0.000118999763841   \n",
      "18   784.760  0.188109493584338   0.000000000000267  0.000109252227632   \n",
      "19  1000.000  0.188108868977427   0.000000000000311  0.000101448066235   \n",
      "\n",
      "                Im(3ω)           Phase(1ω)            Phase(3ω)      Vref  \\\n",
      "0   -0.000070525753694   0.000000000001129  -13.123219620804100  0.053454   \n",
      "1   -0.000071742393931  -0.000000000000896  -13.836446827147803  0.053459   \n",
      "2   -0.000071814876823  -0.000000000002086  -14.383343655170263  0.053461   \n",
      "3   -0.000071116173245   0.000000000000325  -14.804745304785998  0.053465   \n",
      "4   -0.000071068510128   0.000000000001184  -15.401614811542522  0.053469   \n",
      "5   -0.000071515717747  -0.000000000002289  -16.151939825910784  0.053471   \n",
      "6   -0.000070694489416  -0.000000000005465  -16.679235783163360  0.053475   \n",
      "7   -0.000071035166041  -0.000000000002028  -17.515868552566456  0.053479   \n",
      "8   -0.000070897293449   0.000000000007445  -18.324612889245586  0.053481   \n",
      "9   -0.000070096595864   0.000000000019013  -19.019975229628091  0.053485   \n",
      "10  -0.000069320582780  -0.000000000005159  -19.825205998923039  0.053486   \n",
      "11  -0.000069620831940  -0.000000000006856  -21.004431188613026  0.053489   \n",
      "12  -0.000068476183715  -0.000000000002638  -21.833974201848715  0.053492   \n",
      "13  -0.000068016215521   0.000000000005424  -23.025337460334647  0.053494   \n",
      "14  -0.000067483599774  -0.000000000024429  -24.265078711634445  0.053496   \n",
      "15  -0.000066026318727   0.000000000026083  -25.374546013290214  0.053496   \n",
      "16  -0.000065371145750   0.000000000010660  -26.835166576987742  0.053499   \n",
      "17  -0.000064745661462  -0.000000000020067  -28.549827851569788  0.053499   \n",
      "18  -0.000062326391746   0.000000000081349  -29.703965252593981  0.053500   \n",
      "19  -0.000045330311676   0.000000000094647  -24.076652764143653  0.053492   \n",
      "\n",
      "     Current    Re(ΔT) Δ[Re(ΔT)]     Im(ΔT) Δ[Im(ΔT)]     Power Temperature  \n",
      "0   0.005345  0.956597  0.000000  -0.223016  0.010092  0.001006       26.72  \n",
      "1   0.005346  0.920999  0.000000  -0.226840  0.010265  0.001006       26.71  \n",
      "2   0.005346  0.885413  0.000000  -0.227061  0.010275  0.001006       26.71  \n",
      "3   0.005347  0.850680  0.000000  -0.224835  0.010174  0.001006       26.68  \n",
      "4   0.005347  0.815572  0.000000  -0.224671  0.010167  0.001006       26.67  \n",
      "5   0.005347  0.780591  0.000000  -0.226073  0.010230  0.001006       26.65  \n",
      "6   0.005347  0.745821  0.000000  -0.223463  0.010112  0.001006       26.63  \n",
      "7   0.005348  0.711401  0.000000  -0.224520  0.010160  0.001006       26.60  \n",
      "8   0.005348  0.676567  0.000000  -0.224076  0.010140  0.001006       26.59  \n",
      "9   0.005348  0.642645  0.000000  -0.221531  0.010025  0.001006       26.57  \n",
      "10  0.005349  0.607656  0.000000  -0.219072  0.009915  0.001006       26.56  \n",
      "11  0.005349  0.573012  0.000000  -0.220009  0.009957  0.001006       26.53  \n",
      "12  0.005349  0.540066  0.000000  -0.216382  0.009793  0.001006       26.51  \n",
      "13  0.005349  0.505693  0.000000  -0.214918  0.009727  0.001006       26.48  \n",
      "14  0.005350  0.473016  0.000000  -0.213228  0.009651  0.001006       26.46  \n",
      "15  0.005350  0.439860  0.000000  -0.208622  0.009444  0.001006       26.45  \n",
      "16  0.005350  0.408257  0.000000  -0.206540  0.009350  0.001006       26.42  \n",
      "17  0.005350  0.375982  0.000000  -0.204565  0.009261  0.001006       26.42  \n",
      "18  0.005350  0.345177  0.000000  -0.196917  0.008916  0.001006       26.40  \n",
      "19  0.005349  0.320572  0.000000  -0.143242  0.006500  0.001006       26.44  \n"
     ]
    }
   ],
   "source": [
    "# File import\n",
    "with open('calibrationdataVacuum.txt', 'r') as file:\n",
    "    lines = file.readlines()[0:]\n",
    "\n",
    "data_sample = []\n",
    "for line in lines:\n",
    "    # Split\n",
    "    parts = line.split()\n",
    "    \n",
    "    # Bye first column\n",
    "    row = parts[2:]\n",
    "    data_sample.append(row)\n",
    "\n",
    "# Column names\n",
    "columns = [\n",
    "     \"Frequency\", \"Re(1ω)\", \"Im(1ω)\", \"Re(3ω)\", \"Im(3ω)\", \"Phase(1ω)\", \"Phase(3ω)\",\n",
    "    \"Vref\", \"Current\", \"Re(ΔT)\", \"Δ[Re(ΔT)]\", \"Im(ΔT)\", \"Δ[Im(ΔT)]\", \"Power\", \"Temperature\"\n",
    "]\n",
    "\n",
    "# DataFrame\n",
    "df_sample = pd.DataFrame(data_sample, columns=columns)\n",
    "print(df_sample)"
   ]
  },
  {
   "cell_type": "code",
   "execution_count": 284,
   "id": "7e792d4c-0812-4cae-892a-29f98df13a4a",
   "metadata": {},
   "outputs": [],
   "source": [
    "dRdT_mess=float(sol[0])"
   ]
  },
  {
   "cell_type": "code",
   "execution_count": 285,
   "id": "d970c55a-eadb-4c9e-add2-9214690de587",
   "metadata": {},
   "outputs": [
    {
     "name": "stdout",
     "output_type": "stream",
     "text": [
      "0.13727026066039089\n"
     ]
    }
   ],
   "source": [
    "print(dRdT_mess)"
   ]
  },
  {
   "cell_type": "markdown",
   "id": "1f930c0e-b7fa-4ac4-a608-976e336c89f1",
   "metadata": {
    "jp-MarkdownHeadingCollapsed": true
   },
   "source": [
    "### Korrelationsgleichung fuer die Messung"
   ]
  },
  {
   "cell_type": "code",
   "execution_count": 286,
   "id": "3da449f7-be17-4239-8006-e1e426d3fb95",
   "metadata": {},
   "outputs": [],
   "source": [
    "# Define variables\n",
    "dRdT = symbols('(dR/dT)')\n",
    "dVdf= symbols('(dV3w/dlnf)')\n",
    "dR,dT,L,lambda_sample,lambda_sub,f,P,I = symbols('dR dT L lambda_sample, lambda_sub f P I')"
   ]
  },
  {
   "cell_type": "code",
   "execution_count": 300,
   "id": "f87c4c67-7a6c-414e-be0f-d9dd5902f247",
   "metadata": {},
   "outputs": [],
   "source": [
    "equation_lambdaSample= Eq( (-P*I*dRdT/(4*pi*L))*(dVdf)**(-1)-lambda_sample,0)"
   ]
  },
  {
   "cell_type": "code",
   "execution_count": 301,
   "id": "069b0de2-55fd-46ae-bbc5-e1b4ba2da798",
   "metadata": {},
   "outputs": [
    {
     "data": {
      "image/png": "[encoded data removed]",
      "text/latex": [
       "$\\displaystyle - \\frac{(dR/dT) I P}{4 \\pi (dV3w/dlnf) L} - \\lambda_{sample} = 0$"
      ],
      "text/plain": [
       "     (dR/dT)⋅I⋅P                 \n",
       "- ───────────────── - λₛₐₘₚₗₑ = 0\n",
       "  4⋅π⋅(dV3w/dlnf)⋅L              "
      ]
     },
     "metadata": {},
     "output_type": "display_data"
    }
   ],
   "source": [
    "display(equation_lambdaSample)"
   ]
  },
  {
   "cell_type": "markdown",
   "id": "edb8007c-42ea-491d-a651-5fdbe59cc9aa",
   "metadata": {
    "jp-MarkdownHeadingCollapsed": true
   },
   "source": [
    "### Thermal conductivity Berechnung"
   ]
  },
  {
   "cell_type": "markdown",
   "id": "21461e5d-b8f2-4f9c-b179-520536b0f141",
   "metadata": {},
   "source": [
    "#### Parameters fuer die Berechnung"
   ]
  },
  {
   "cell_type": "code",
   "execution_count": 302,
   "id": "c489062b-e0f3-451b-850d-85764ebc6c1a",
   "metadata": {},
   "outputs": [
    {
     "name": "stdout",
     "output_type": "stream",
     "text": [
      "0.13727026066039089\n"
     ]
    }
   ],
   "source": [
    "# Geometrie und Bedingungen\n",
    "T_ref=23                  # Room temperature\n",
    "print(dRdT_mess)\n",
    "\n",
    "# Slope dRe(V3w)/dlnf Berechnung\n",
    "v3w = df_sample['Re(3ω)'].values\n",
    "f   = df_sample['Frequency'].values\n",
    "v3w = v3w.astype(float)\n",
    "f   = f.astype(float)\n",
    "\n",
    "## dRdT Berechnung\n",
    "\n",
    "L_mess=1000e-6\n",
    "P_mess = df_sample['Power'].values\n",
    "P_mess = P_mess.astype(float)\n",
    "\n",
    "I_mess = df_sample['Current'].values\n",
    "I_mess = I_mess.astype(float)"
   ]
  },
  {
   "cell_type": "markdown",
   "id": "98677529-bb50-4c5b-bdff-58a19455331e",
   "metadata": {},
   "source": [
    "#### Slope dRe(V3w)/dln(f)"
   ]
  },
  {
   "cell_type": "code",
   "execution_count": 303,
   "id": "f12fba94-0e3f-4bc0-a8ea-722ba03e5894",
   "metadata": {},
   "outputs": [
    {
     "data": {
      "text/plain": [
       "array([0.00030251, 0.00029128, 0.00028004, 0.00026907, 0.00025798,\n",
       "       0.00024693, 0.00023595, 0.00022508, 0.00021407, 0.00020334,\n",
       "       0.00019228, 0.00018133, 0.00017091, 0.00016004, 0.0001497 ,\n",
       "       0.00013921, 0.00012922, 0.000119  , 0.00010925, 0.00010145])"
      ]
     },
     "execution_count": 303,
     "metadata": {},
     "output_type": "execute_result"
    }
   ],
   "source": [
    "v3w"
   ]
  },
  {
   "cell_type": "code",
   "execution_count": 304,
   "id": "7d7089f5-1d53-4770-9cc0-3954279ffe84",
   "metadata": {},
   "outputs": [
    {
     "data": {
      "text/plain": [
       "array([  10.   ,   12.743,   16.238,   20.691,   26.367,   33.598,\n",
       "         42.813,   54.556,   69.519,   88.587,  112.884,  143.845,\n",
       "        183.298,  233.572,  297.635,  379.269,  483.293,  615.848,\n",
       "        784.76 , 1000.   ])"
      ]
     },
     "execution_count": 304,
     "metadata": {},
     "output_type": "execute_result"
    }
   ],
   "source": [
    "f"
   ]
  },
  {
   "cell_type": "code",
   "execution_count": 305,
   "id": "4bbed63e-2927-47ed-b820-cbb9fac19377",
   "metadata": {},
   "outputs": [],
   "source": [
    "lnf=np.log(f)"
   ]
  },
  {
   "cell_type": "code",
   "execution_count": 306,
   "id": "c263ce41-5b29-4370-be85-caa5cd047775",
   "metadata": {},
   "outputs": [
    {
     "data": {
      "text/plain": [
       "array([2.30258509, 2.5449821 , 2.78735417, 3.02969882, 3.27211323,\n",
       "       3.51446654, 3.75684179, 3.9992277 , 4.2416001 , 4.48398512,\n",
       "       4.72636074, 4.96873633, 5.21111324, 5.45349038, 5.6958679 ,\n",
       "       5.93824572, 6.18062309, 6.42300018, 6.66537794, 6.90775528])"
      ]
     },
     "execution_count": 306,
     "metadata": {},
     "output_type": "execute_result"
    }
   ],
   "source": [
    "lnf"
   ]
  },
  {
   "cell_type": "code",
   "execution_count": 307,
   "id": "ca83a61b-9a9b-4781-b67c-6de5f7c17849",
   "metadata": {},
   "outputs": [
    {
     "name": "stdout",
     "output_type": "stream",
     "text": [
      "Slope: -4.417865266570014e-05, Intercept: 0.0004023822864243119\n"
     ]
    },
    {
     "data": {
      "image/png": "[encoded data removed]",
      "text/plain": [
       "<Figure size 640x480 with 1 Axes>"
      ]
     },
     "metadata": {},
     "output_type": "display_data"
    }
   ],
   "source": [
    "X=lnf\n",
    "Y=v3w\n",
    "# Perform linear regression using NumPy's polyfit\n",
    "coefficients = np.polyfit(X, Y, 1)\n",
    "slope, intercept = coefficients\n",
    "\n",
    "# Print the slope and intercept\n",
    "print(f\"Slope: {slope}, Intercept: {intercept}\")\n",
    "\n",
    "# Linear regression\n",
    "Y_pred = slope * X + intercept\n",
    "\n",
    "# Plot the data and regression line\n",
    "plt.scatter(X, Y, label='Experimental Data')\n",
    "plt.plot(X, Y_pred, color='red', label='Regression Line')\n",
    "plt.xlabel('ln(f(Hz))')\n",
    "plt.ylabel('Re(V3w)')\n",
    "plt.legend()\n",
    "plt.show()"
   ]
  },
  {
   "cell_type": "code",
   "execution_count": 308,
   "id": "252e108a-035c-4e86-a669-be64c7258d3a",
   "metadata": {},
   "outputs": [
    {
     "name": "stdout",
     "output_type": "stream",
     "text": [
      "-4.417865266570014e-05\n"
     ]
    }
   ],
   "source": [
    "# Sölope 'dV3w/dlnf' calculated for dR/dT calculation\n",
    "\n",
    "dVdf_mess=slope\n",
    "print(dVdf_mess)"
   ]
  },
  {
   "cell_type": "markdown",
   "id": "909d7f90-5559-43db-b717-122dca9a14df",
   "metadata": {},
   "source": [
    "#### Thermal conductivity der Probe Berechnung"
   ]
  },
  {
   "cell_type": "code",
   "execution_count": 309,
   "id": "6e460d34-db81-4426-8e82-2f73ffcee76a",
   "metadata": {},
   "outputs": [
    {
     "name": "stdout",
     "output_type": "stream",
     "text": [
      "0.001006\n",
      "0.005348199999999999\n",
      "1.2039\n",
      "0.13727026066039089\n"
     ]
    }
   ],
   "source": [
    "P_mean= np.mean(P_mess)\n",
    "I_mean= np.mean(I_mess)\n",
    "print(P_mean)\n",
    "print(I_mean)\n",
    "print(lambdaSubstrate_mess)\n",
    "print(dRdT_mess)"
   ]
  },
  {
   "cell_type": "code",
   "execution_count": 310,
   "id": "94419d1d-90f8-4f43-86f2-41e923bed322",
   "metadata": {},
   "outputs": [],
   "source": [
    "substituted_eqLambdaSample = equation_lambdaSample.subs({dRdT:dRdT_mess,P: P_mean, I:I_mean,dVdf:dVdf_mess, L:L_mess})"
   ]
  },
  {
   "cell_type": "code",
   "execution_count": 311,
   "id": "d6bf3391-0719-415a-8c9a-c80450bbe32f",
   "metadata": {},
   "outputs": [
    {
     "data": {
      "image/png": "[encoded data removed]",
      "text/latex": [
       "$\\displaystyle - \\lambda_{sample} + \\frac{4.17935844773788}{\\pi} = 0$"
      ],
      "text/plain": [
       "           4.17935844773788    \n",
       "-λₛₐₘₚₗₑ + ──────────────── = 0\n",
       "                  π            "
      ]
     },
     "execution_count": 311,
     "metadata": {},
     "output_type": "execute_result"
    }
   ],
   "source": [
    "substituted_eqLambdaSample"
   ]
  },
  {
   "cell_type": "code",
   "execution_count": 312,
   "id": "1c9c0296-c957-4f1b-a7b6-2dd117404a31",
   "metadata": {},
   "outputs": [
    {
     "data": {
      "image/png": "[encoded data removed]",
      "text/latex": [
       "$\\displaystyle \\left[ 1.33033111182071\\right]$"
      ],
      "text/plain": [
       "[1.33033111182071]"
      ]
     },
     "execution_count": 312,
     "metadata": {},
     "output_type": "execute_result"
    }
   ],
   "source": [
    "solSample = solve(substituted_eqLambdaSample, lambda_sample)\n",
    "solSample"
   ]
  },
  {
   "cell_type": "code",
   "execution_count": 313,
   "id": "6698db3b-53f2-4d0d-be88-5b0f23a443c7",
   "metadata": {},
   "outputs": [
    {
     "data": {
      "image/png": "[encoded data removed]",
      "text/latex": [
       "$\\displaystyle 1.33033111182071$"
      ],
      "text/plain": [
       "1.3303311118207086"
      ]
     },
     "execution_count": 313,
     "metadata": {},
     "output_type": "execute_result"
    }
   ],
   "source": [
    "lambdaSample_mess=float(solSample[0])\n",
    "lambdaSample_mess"
   ]
  }
 ],
 "metadata": {
  "kernelspec": {
   "display_name": "Python 3 (ipykernel)",
   "language": "python",
   "name": "python3"
  },
  "language_info": {
   "codemirror_mode": {
    "name": "ipython",
    "version": 3
   },
   "file_extension": ".py",
   "mimetype": "text/x-python",
   "name": "python",
   "nbconvert_exporter": "python",
   "pygments_lexer": "ipython3",
   "version": "3.13.0"
  }
 },
 "nbformat": 4,
 "nbformat_minor": 5
}
