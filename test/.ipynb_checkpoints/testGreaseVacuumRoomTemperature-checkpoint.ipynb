{
 "cells": [
  {
   "cell_type": "markdown",
   "id": "3310c0cd-13de-4801-aa21-de2b8702d968",
   "metadata": {},
   "source": [
    "## Preamble"
   ]
  },
  {
   "cell_type": "code",
   "execution_count": 47,
   "id": "493ab2e5-201c-47eb-9c7c-a1f36304e3b5",
   "metadata": {},
   "outputs": [],
   "source": [
    "#pip install sympy\n",
    "#pip install numpy\n",
    "#pip install pandas\n",
    "#pip install matplotlib"
   ]
  },
  {
   "cell_type": "code",
   "execution_count": 1,
   "id": "75259635-d777-411e-91c6-8b649d2e3871",
   "metadata": {},
   "outputs": [],
   "source": [
    "import numpy as np\n",
    "from sympy import symbols, Eq, solve\n",
    "from sympy.interactive import printing\n",
    "from sympy import pi\n",
    "import pandas as pd\n",
    "import matplotlib.pyplot as plt"
   ]
  },
  {
   "cell_type": "markdown",
   "id": "d117025d-20d4-45de-bf17-d2253a54ac6d",
   "metadata": {},
   "source": [
    "## Calibration"
   ]
  },
  {
   "cell_type": "markdown",
   "id": "24ad0771-2f29-4a08-8890-6807f7ec79e3",
   "metadata": {},
   "source": [
    "### Import data"
   ]
  },
  {
   "cell_type": "code",
   "execution_count": 37,
   "id": "62110b84-557b-417e-998e-2b19bd3c896c",
   "metadata": {},
   "outputs": [
    {
     "name": "stdout",
     "output_type": "stream",
     "text": [
      "   Frequency             Re(1ω)              Im(1ω)             Re(3ω)  \\\n",
      "0     10.000  0.188154722112770   0.000000000000004  0.000302510967874   \n",
      "1     12.743  0.188162819633189  -0.000000000000003  0.000291282705193   \n",
      "2     16.238  0.188168867443238  -0.000000000000007  0.000280038424339   \n",
      "3     20.691  0.188169867695215   0.000000000000001  0.000269073677081   \n",
      "4     26.367  0.188170050381801   0.000000000000004  0.000257984198735   \n",
      "5     33.598  0.188166347450338  -0.000000000000008  0.000246931643538   \n",
      "6     42.813  0.188168189596023  -0.000000000000018  0.000235947639074   \n",
      "7     54.556  0.188166593504188  -0.000000000000007  0.000225077381608   \n",
      "8     69.519  0.188168467447406   0.000000000000024  0.000214065102526   \n",
      "9     88.587  0.188163172275789   0.000000000000062  0.000203344970307   \n",
      "10   112.884  0.188162670313110  -0.000000000000017  0.000192279874141   \n",
      "11   143.845  0.188158629437361  -0.000000000000023  0.000181326550883   \n",
      "12   183.298  0.188150827525976  -0.000000000000009  0.000170908695221   \n",
      "13   233.572  0.188141317523741   0.000000000000018  0.000160039353364   \n",
      "14   297.635  0.188134440941729  -0.000000000000080  0.000149702816768   \n",
      "15   379.269  0.188133922269222   0.000000000000086  0.000139210682482   \n",
      "16   483.293  0.188122914829268   0.000000000000035  0.000129215744053   \n",
      "17   615.848  0.188121734525785  -0.000000000000066  0.000118999763841   \n",
      "18   784.760  0.188109493584338   0.000000000000267  0.000109252227632   \n",
      "19  1000.000  0.188108868977427   0.000000000000311  0.000101448066235   \n",
      "\n",
      "                Im(3ω)           Phase(1ω)            Phase(3ω)      Vref  \\\n",
      "0   -0.000070525753694   0.000000000001129  -13.123219620804100  0.053454   \n",
      "1   -0.000071742393931  -0.000000000000896  -13.836446827147803  0.053459   \n",
      "2   -0.000071814876823  -0.000000000002086  -14.383343655170263  0.053461   \n",
      "3   -0.000071116173245   0.000000000000325  -14.804745304785998  0.053465   \n",
      "4   -0.000071068510128   0.000000000001184  -15.401614811542522  0.053469   \n",
      "5   -0.000071515717747  -0.000000000002289  -16.151939825910784  0.053471   \n",
      "6   -0.000070694489416  -0.000000000005465  -16.679235783163360  0.053475   \n",
      "7   -0.000071035166041  -0.000000000002028  -17.515868552566456  0.053479   \n",
      "8   -0.000070897293449   0.000000000007445  -18.324612889245586  0.053481   \n",
      "9   -0.000070096595864   0.000000000019013  -19.019975229628091  0.053485   \n",
      "10  -0.000069320582780  -0.000000000005159  -19.825205998923039  0.053486   \n",
      "11  -0.000069620831940  -0.000000000006856  -21.004431188613026  0.053489   \n",
      "12  -0.000068476183715  -0.000000000002638  -21.833974201848715  0.053492   \n",
      "13  -0.000068016215521   0.000000000005424  -23.025337460334647  0.053494   \n",
      "14  -0.000067483599774  -0.000000000024429  -24.265078711634445  0.053496   \n",
      "15  -0.000066026318727   0.000000000026083  -25.374546013290214  0.053496   \n",
      "16  -0.000065371145750   0.000000000010660  -26.835166576987742  0.053499   \n",
      "17  -0.000064745661462  -0.000000000020067  -28.549827851569788  0.053499   \n",
      "18  -0.000062326391746   0.000000000081349  -29.703965252593981  0.053500   \n",
      "19  -0.000045330311676   0.000000000094647  -24.076652764143653  0.053492   \n",
      "\n",
      "     Current    Re(ΔT) Δ[Re(ΔT)]     Im(ΔT) Δ[Im(ΔT)]     Power Temperature  \n",
      "0   0.005345  0.956597  0.000000  -0.223016  0.010092  0.001006       26.72  \n",
      "1   0.005346  0.920999  0.000000  -0.226840  0.010265  0.001006       26.71  \n",
      "2   0.005346  0.885413  0.000000  -0.227061  0.010275  0.001006       26.71  \n",
      "3   0.005347  0.850680  0.000000  -0.224835  0.010174  0.001006       26.68  \n",
      "4   0.005347  0.815572  0.000000  -0.224671  0.010167  0.001006       26.67  \n",
      "5   0.005347  0.780591  0.000000  -0.226073  0.010230  0.001006       26.65  \n",
      "6   0.005347  0.745821  0.000000  -0.223463  0.010112  0.001006       26.63  \n",
      "7   0.005348  0.711401  0.000000  -0.224520  0.010160  0.001006       26.60  \n",
      "8   0.005348  0.676567  0.000000  -0.224076  0.010140  0.001006       26.59  \n",
      "9   0.005348  0.642645  0.000000  -0.221531  0.010025  0.001006       26.57  \n",
      "10  0.005349  0.607656  0.000000  -0.219072  0.009915  0.001006       26.56  \n",
      "11  0.005349  0.573012  0.000000  -0.220009  0.009957  0.001006       26.53  \n",
      "12  0.005349  0.540066  0.000000  -0.216382  0.009793  0.001006       26.51  \n",
      "13  0.005349  0.505693  0.000000  -0.214918  0.009727  0.001006       26.48  \n",
      "14  0.005350  0.473016  0.000000  -0.213228  0.009651  0.001006       26.46  \n",
      "15  0.005350  0.439860  0.000000  -0.208622  0.009444  0.001006       26.45  \n",
      "16  0.005350  0.408257  0.000000  -0.206540  0.009350  0.001006       26.42  \n",
      "17  0.005350  0.375982  0.000000  -0.204565  0.009261  0.001006       26.42  \n",
      "18  0.005350  0.345177  0.000000  -0.196917  0.008916  0.001006       26.40  \n",
      "19  0.005349  0.320572  0.000000  -0.143242  0.006500  0.001006       26.44  \n"
     ]
    }
   ],
   "source": [
    "# File import\n",
    "with open('calibrationdataVacuum.txt', 'r') as file:\n",
    "    lines = file.readlines()[0:]\n",
    "\n",
    "data = []\n",
    "for line in lines:\n",
    "    # Split\n",
    "    parts = line.split()\n",
    "    \n",
    "    # Bye first column\n",
    "    row = parts[2:]\n",
    "    data.append(row)\n",
    "\n",
    "# Column names\n",
    "columns = [\n",
    "     \"Frequency\", \"Re(1ω)\", \"Im(1ω)\", \"Re(3ω)\", \"Im(3ω)\", \"Phase(1ω)\", \"Phase(3ω)\",\n",
    "    \"Vref\", \"Current\", \"Re(ΔT)\", \"Δ[Re(ΔT)]\", \"Im(ΔT)\", \"Δ[Im(ΔT)]\", \"Power\", \"Temperature\"\n",
    "]\n",
    "\n",
    "# DataFrame\n",
    "df = pd.DataFrame(data, columns=columns)\n",
    "print(df)"
   ]
  },
  {
   "cell_type": "code",
   "execution_count": 38,
   "id": "b8975dfc-52d3-41bf-b1b6-946573ec9c95",
   "metadata": {},
   "outputs": [
    {
     "data": {
      "text/html": [
       "<div>\n",
       "<style scoped>\n",
       "    .dataframe tbody tr th:only-of-type {\n",
       "        vertical-align: middle;\n",
       "    }\n",
       "\n",
       "    .dataframe tbody tr th {\n",
       "        vertical-align: top;\n",
       "    }\n",
       "\n",
       "    .dataframe thead th {\n",
       "        text-align: right;\n",
       "    }\n",
       "</style>\n",
       "<table border=\"1\" class=\"dataframe\">\n",
       "  <thead>\n",
       "    <tr style=\"text-align: right;\">\n",
       "      <th></th>\n",
       "      <th>Frequency</th>\n",
       "      <th>Re(1ω)</th>\n",
       "      <th>Im(1ω)</th>\n",
       "      <th>Re(3ω)</th>\n",
       "      <th>Im(3ω)</th>\n",
       "      <th>Phase(1ω)</th>\n",
       "      <th>Phase(3ω)</th>\n",
       "      <th>Vref</th>\n",
       "      <th>Current</th>\n",
       "      <th>Re(ΔT)</th>\n",
       "      <th>Δ[Re(ΔT)]</th>\n",
       "      <th>Im(ΔT)</th>\n",
       "      <th>Δ[Im(ΔT)]</th>\n",
       "      <th>Power</th>\n",
       "      <th>Temperature</th>\n",
       "    </tr>\n",
       "  </thead>\n",
       "  <tbody>\n",
       "    <tr>\n",
       "      <th>0</th>\n",
       "      <td>10.000</td>\n",
       "      <td>0.188154722112770</td>\n",
       "      <td>0.000000000000004</td>\n",
       "      <td>0.000302510967874</td>\n",
       "      <td>-0.000070525753694</td>\n",
       "      <td>0.000000000001129</td>\n",
       "      <td>-13.123219620804100</td>\n",
       "      <td>0.053454</td>\n",
       "      <td>0.005345</td>\n",
       "      <td>0.956597</td>\n",
       "      <td>0.000000</td>\n",
       "      <td>-0.223016</td>\n",
       "      <td>0.010092</td>\n",
       "      <td>0.001006</td>\n",
       "      <td>26.72</td>\n",
       "    </tr>\n",
       "    <tr>\n",
       "      <th>1</th>\n",
       "      <td>12.743</td>\n",
       "      <td>0.188162819633189</td>\n",
       "      <td>-0.000000000000003</td>\n",
       "      <td>0.000291282705193</td>\n",
       "      <td>-0.000071742393931</td>\n",
       "      <td>-0.000000000000896</td>\n",
       "      <td>-13.836446827147803</td>\n",
       "      <td>0.053459</td>\n",
       "      <td>0.005346</td>\n",
       "      <td>0.920999</td>\n",
       "      <td>0.000000</td>\n",
       "      <td>-0.226840</td>\n",
       "      <td>0.010265</td>\n",
       "      <td>0.001006</td>\n",
       "      <td>26.71</td>\n",
       "    </tr>\n",
       "    <tr>\n",
       "      <th>2</th>\n",
       "      <td>16.238</td>\n",
       "      <td>0.188168867443238</td>\n",
       "      <td>-0.000000000000007</td>\n",
       "      <td>0.000280038424339</td>\n",
       "      <td>-0.000071814876823</td>\n",
       "      <td>-0.000000000002086</td>\n",
       "      <td>-14.383343655170263</td>\n",
       "      <td>0.053461</td>\n",
       "      <td>0.005346</td>\n",
       "      <td>0.885413</td>\n",
       "      <td>0.000000</td>\n",
       "      <td>-0.227061</td>\n",
       "      <td>0.010275</td>\n",
       "      <td>0.001006</td>\n",
       "      <td>26.71</td>\n",
       "    </tr>\n",
       "    <tr>\n",
       "      <th>3</th>\n",
       "      <td>20.691</td>\n",
       "      <td>0.188169867695215</td>\n",
       "      <td>0.000000000000001</td>\n",
       "      <td>0.000269073677081</td>\n",
       "      <td>-0.000071116173245</td>\n",
       "      <td>0.000000000000325</td>\n",
       "      <td>-14.804745304785998</td>\n",
       "      <td>0.053465</td>\n",
       "      <td>0.005347</td>\n",
       "      <td>0.850680</td>\n",
       "      <td>0.000000</td>\n",
       "      <td>-0.224835</td>\n",
       "      <td>0.010174</td>\n",
       "      <td>0.001006</td>\n",
       "      <td>26.68</td>\n",
       "    </tr>\n",
       "    <tr>\n",
       "      <th>4</th>\n",
       "      <td>26.367</td>\n",
       "      <td>0.188170050381801</td>\n",
       "      <td>0.000000000000004</td>\n",
       "      <td>0.000257984198735</td>\n",
       "      <td>-0.000071068510128</td>\n",
       "      <td>0.000000000001184</td>\n",
       "      <td>-15.401614811542522</td>\n",
       "      <td>0.053469</td>\n",
       "      <td>0.005347</td>\n",
       "      <td>0.815572</td>\n",
       "      <td>0.000000</td>\n",
       "      <td>-0.224671</td>\n",
       "      <td>0.010167</td>\n",
       "      <td>0.001006</td>\n",
       "      <td>26.67</td>\n",
       "    </tr>\n",
       "    <tr>\n",
       "      <th>5</th>\n",
       "      <td>33.598</td>\n",
       "      <td>0.188166347450338</td>\n",
       "      <td>-0.000000000000008</td>\n",
       "      <td>0.000246931643538</td>\n",
       "      <td>-0.000071515717747</td>\n",
       "      <td>-0.000000000002289</td>\n",
       "      <td>-16.151939825910784</td>\n",
       "      <td>0.053471</td>\n",
       "      <td>0.005347</td>\n",
       "      <td>0.780591</td>\n",
       "      <td>0.000000</td>\n",
       "      <td>-0.226073</td>\n",
       "      <td>0.010230</td>\n",
       "      <td>0.001006</td>\n",
       "      <td>26.65</td>\n",
       "    </tr>\n",
       "    <tr>\n",
       "      <th>6</th>\n",
       "      <td>42.813</td>\n",
       "      <td>0.188168189596023</td>\n",
       "      <td>-0.000000000000018</td>\n",
       "      <td>0.000235947639074</td>\n",
       "      <td>-0.000070694489416</td>\n",
       "      <td>-0.000000000005465</td>\n",
       "      <td>-16.679235783163360</td>\n",
       "      <td>0.053475</td>\n",
       "      <td>0.005347</td>\n",
       "      <td>0.745821</td>\n",
       "      <td>0.000000</td>\n",
       "      <td>-0.223463</td>\n",
       "      <td>0.010112</td>\n",
       "      <td>0.001006</td>\n",
       "      <td>26.63</td>\n",
       "    </tr>\n",
       "    <tr>\n",
       "      <th>7</th>\n",
       "      <td>54.556</td>\n",
       "      <td>0.188166593504188</td>\n",
       "      <td>-0.000000000000007</td>\n",
       "      <td>0.000225077381608</td>\n",
       "      <td>-0.000071035166041</td>\n",
       "      <td>-0.000000000002028</td>\n",
       "      <td>-17.515868552566456</td>\n",
       "      <td>0.053479</td>\n",
       "      <td>0.005348</td>\n",
       "      <td>0.711401</td>\n",
       "      <td>0.000000</td>\n",
       "      <td>-0.224520</td>\n",
       "      <td>0.010160</td>\n",
       "      <td>0.001006</td>\n",
       "      <td>26.60</td>\n",
       "    </tr>\n",
       "    <tr>\n",
       "      <th>8</th>\n",
       "      <td>69.519</td>\n",
       "      <td>0.188168467447406</td>\n",
       "      <td>0.000000000000024</td>\n",
       "      <td>0.000214065102526</td>\n",
       "      <td>-0.000070897293449</td>\n",
       "      <td>0.000000000007445</td>\n",
       "      <td>-18.324612889245586</td>\n",
       "      <td>0.053481</td>\n",
       "      <td>0.005348</td>\n",
       "      <td>0.676567</td>\n",
       "      <td>0.000000</td>\n",
       "      <td>-0.224076</td>\n",
       "      <td>0.010140</td>\n",
       "      <td>0.001006</td>\n",
       "      <td>26.59</td>\n",
       "    </tr>\n",
       "    <tr>\n",
       "      <th>9</th>\n",
       "      <td>88.587</td>\n",
       "      <td>0.188163172275789</td>\n",
       "      <td>0.000000000000062</td>\n",
       "      <td>0.000203344970307</td>\n",
       "      <td>-0.000070096595864</td>\n",
       "      <td>0.000000000019013</td>\n",
       "      <td>-19.019975229628091</td>\n",
       "      <td>0.053485</td>\n",
       "      <td>0.005348</td>\n",
       "      <td>0.642645</td>\n",
       "      <td>0.000000</td>\n",
       "      <td>-0.221531</td>\n",
       "      <td>0.010025</td>\n",
       "      <td>0.001006</td>\n",
       "      <td>26.57</td>\n",
       "    </tr>\n",
       "    <tr>\n",
       "      <th>10</th>\n",
       "      <td>112.884</td>\n",
       "      <td>0.188162670313110</td>\n",
       "      <td>-0.000000000000017</td>\n",
       "      <td>0.000192279874141</td>\n",
       "      <td>-0.000069320582780</td>\n",
       "      <td>-0.000000000005159</td>\n",
       "      <td>-19.825205998923039</td>\n",
       "      <td>0.053486</td>\n",
       "      <td>0.005349</td>\n",
       "      <td>0.607656</td>\n",
       "      <td>0.000000</td>\n",
       "      <td>-0.219072</td>\n",
       "      <td>0.009915</td>\n",
       "      <td>0.001006</td>\n",
       "      <td>26.56</td>\n",
       "    </tr>\n",
       "    <tr>\n",
       "      <th>11</th>\n",
       "      <td>143.845</td>\n",
       "      <td>0.188158629437361</td>\n",
       "      <td>-0.000000000000023</td>\n",
       "      <td>0.000181326550883</td>\n",
       "      <td>-0.000069620831940</td>\n",
       "      <td>-0.000000000006856</td>\n",
       "      <td>-21.004431188613026</td>\n",
       "      <td>0.053489</td>\n",
       "      <td>0.005349</td>\n",
       "      <td>0.573012</td>\n",
       "      <td>0.000000</td>\n",
       "      <td>-0.220009</td>\n",
       "      <td>0.009957</td>\n",
       "      <td>0.001006</td>\n",
       "      <td>26.53</td>\n",
       "    </tr>\n",
       "    <tr>\n",
       "      <th>12</th>\n",
       "      <td>183.298</td>\n",
       "      <td>0.188150827525976</td>\n",
       "      <td>-0.000000000000009</td>\n",
       "      <td>0.000170908695221</td>\n",
       "      <td>-0.000068476183715</td>\n",
       "      <td>-0.000000000002638</td>\n",
       "      <td>-21.833974201848715</td>\n",
       "      <td>0.053492</td>\n",
       "      <td>0.005349</td>\n",
       "      <td>0.540066</td>\n",
       "      <td>0.000000</td>\n",
       "      <td>-0.216382</td>\n",
       "      <td>0.009793</td>\n",
       "      <td>0.001006</td>\n",
       "      <td>26.51</td>\n",
       "    </tr>\n",
       "    <tr>\n",
       "      <th>13</th>\n",
       "      <td>233.572</td>\n",
       "      <td>0.188141317523741</td>\n",
       "      <td>0.000000000000018</td>\n",
       "      <td>0.000160039353364</td>\n",
       "      <td>-0.000068016215521</td>\n",
       "      <td>0.000000000005424</td>\n",
       "      <td>-23.025337460334647</td>\n",
       "      <td>0.053494</td>\n",
       "      <td>0.005349</td>\n",
       "      <td>0.505693</td>\n",
       "      <td>0.000000</td>\n",
       "      <td>-0.214918</td>\n",
       "      <td>0.009727</td>\n",
       "      <td>0.001006</td>\n",
       "      <td>26.48</td>\n",
       "    </tr>\n",
       "    <tr>\n",
       "      <th>14</th>\n",
       "      <td>297.635</td>\n",
       "      <td>0.188134440941729</td>\n",
       "      <td>-0.000000000000080</td>\n",
       "      <td>0.000149702816768</td>\n",
       "      <td>-0.000067483599774</td>\n",
       "      <td>-0.000000000024429</td>\n",
       "      <td>-24.265078711634445</td>\n",
       "      <td>0.053496</td>\n",
       "      <td>0.005350</td>\n",
       "      <td>0.473016</td>\n",
       "      <td>0.000000</td>\n",
       "      <td>-0.213228</td>\n",
       "      <td>0.009651</td>\n",
       "      <td>0.001006</td>\n",
       "      <td>26.46</td>\n",
       "    </tr>\n",
       "    <tr>\n",
       "      <th>15</th>\n",
       "      <td>379.269</td>\n",
       "      <td>0.188133922269222</td>\n",
       "      <td>0.000000000000086</td>\n",
       "      <td>0.000139210682482</td>\n",
       "      <td>-0.000066026318727</td>\n",
       "      <td>0.000000000026083</td>\n",
       "      <td>-25.374546013290214</td>\n",
       "      <td>0.053496</td>\n",
       "      <td>0.005350</td>\n",
       "      <td>0.439860</td>\n",
       "      <td>0.000000</td>\n",
       "      <td>-0.208622</td>\n",
       "      <td>0.009444</td>\n",
       "      <td>0.001006</td>\n",
       "      <td>26.45</td>\n",
       "    </tr>\n",
       "    <tr>\n",
       "      <th>16</th>\n",
       "      <td>483.293</td>\n",
       "      <td>0.188122914829268</td>\n",
       "      <td>0.000000000000035</td>\n",
       "      <td>0.000129215744053</td>\n",
       "      <td>-0.000065371145750</td>\n",
       "      <td>0.000000000010660</td>\n",
       "      <td>-26.835166576987742</td>\n",
       "      <td>0.053499</td>\n",
       "      <td>0.005350</td>\n",
       "      <td>0.408257</td>\n",
       "      <td>0.000000</td>\n",
       "      <td>-0.206540</td>\n",
       "      <td>0.009350</td>\n",
       "      <td>0.001006</td>\n",
       "      <td>26.42</td>\n",
       "    </tr>\n",
       "    <tr>\n",
       "      <th>17</th>\n",
       "      <td>615.848</td>\n",
       "      <td>0.188121734525785</td>\n",
       "      <td>-0.000000000000066</td>\n",
       "      <td>0.000118999763841</td>\n",
       "      <td>-0.000064745661462</td>\n",
       "      <td>-0.000000000020067</td>\n",
       "      <td>-28.549827851569788</td>\n",
       "      <td>0.053499</td>\n",
       "      <td>0.005350</td>\n",
       "      <td>0.375982</td>\n",
       "      <td>0.000000</td>\n",
       "      <td>-0.204565</td>\n",
       "      <td>0.009261</td>\n",
       "      <td>0.001006</td>\n",
       "      <td>26.42</td>\n",
       "    </tr>\n",
       "    <tr>\n",
       "      <th>18</th>\n",
       "      <td>784.760</td>\n",
       "      <td>0.188109493584338</td>\n",
       "      <td>0.000000000000267</td>\n",
       "      <td>0.000109252227632</td>\n",
       "      <td>-0.000062326391746</td>\n",
       "      <td>0.000000000081349</td>\n",
       "      <td>-29.703965252593981</td>\n",
       "      <td>0.053500</td>\n",
       "      <td>0.005350</td>\n",
       "      <td>0.345177</td>\n",
       "      <td>0.000000</td>\n",
       "      <td>-0.196917</td>\n",
       "      <td>0.008916</td>\n",
       "      <td>0.001006</td>\n",
       "      <td>26.40</td>\n",
       "    </tr>\n",
       "    <tr>\n",
       "      <th>19</th>\n",
       "      <td>1000.000</td>\n",
       "      <td>0.188108868977427</td>\n",
       "      <td>0.000000000000311</td>\n",
       "      <td>0.000101448066235</td>\n",
       "      <td>-0.000045330311676</td>\n",
       "      <td>0.000000000094647</td>\n",
       "      <td>-24.076652764143653</td>\n",
       "      <td>0.053492</td>\n",
       "      <td>0.005349</td>\n",
       "      <td>0.320572</td>\n",
       "      <td>0.000000</td>\n",
       "      <td>-0.143242</td>\n",
       "      <td>0.006500</td>\n",
       "      <td>0.001006</td>\n",
       "      <td>26.44</td>\n",
       "    </tr>\n",
       "  </tbody>\n",
       "</table>\n",
       "</div>"
      ],
      "text/plain": [
       "   Frequency             Re(1ω)              Im(1ω)             Re(3ω)  \\\n",
       "0     10.000  0.188154722112770   0.000000000000004  0.000302510967874   \n",
       "1     12.743  0.188162819633189  -0.000000000000003  0.000291282705193   \n",
       "2     16.238  0.188168867443238  -0.000000000000007  0.000280038424339   \n",
       "3     20.691  0.188169867695215   0.000000000000001  0.000269073677081   \n",
       "4     26.367  0.188170050381801   0.000000000000004  0.000257984198735   \n",
       "5     33.598  0.188166347450338  -0.000000000000008  0.000246931643538   \n",
       "6     42.813  0.188168189596023  -0.000000000000018  0.000235947639074   \n",
       "7     54.556  0.188166593504188  -0.000000000000007  0.000225077381608   \n",
       "8     69.519  0.188168467447406   0.000000000000024  0.000214065102526   \n",
       "9     88.587  0.188163172275789   0.000000000000062  0.000203344970307   \n",
       "10   112.884  0.188162670313110  -0.000000000000017  0.000192279874141   \n",
       "11   143.845  0.188158629437361  -0.000000000000023  0.000181326550883   \n",
       "12   183.298  0.188150827525976  -0.000000000000009  0.000170908695221   \n",
       "13   233.572  0.188141317523741   0.000000000000018  0.000160039353364   \n",
       "14   297.635  0.188134440941729  -0.000000000000080  0.000149702816768   \n",
       "15   379.269  0.188133922269222   0.000000000000086  0.000139210682482   \n",
       "16   483.293  0.188122914829268   0.000000000000035  0.000129215744053   \n",
       "17   615.848  0.188121734525785  -0.000000000000066  0.000118999763841   \n",
       "18   784.760  0.188109493584338   0.000000000000267  0.000109252227632   \n",
       "19  1000.000  0.188108868977427   0.000000000000311  0.000101448066235   \n",
       "\n",
       "                Im(3ω)           Phase(1ω)            Phase(3ω)      Vref  \\\n",
       "0   -0.000070525753694   0.000000000001129  -13.123219620804100  0.053454   \n",
       "1   -0.000071742393931  -0.000000000000896  -13.836446827147803  0.053459   \n",
       "2   -0.000071814876823  -0.000000000002086  -14.383343655170263  0.053461   \n",
       "3   -0.000071116173245   0.000000000000325  -14.804745304785998  0.053465   \n",
       "4   -0.000071068510128   0.000000000001184  -15.401614811542522  0.053469   \n",
       "5   -0.000071515717747  -0.000000000002289  -16.151939825910784  0.053471   \n",
       "6   -0.000070694489416  -0.000000000005465  -16.679235783163360  0.053475   \n",
       "7   -0.000071035166041  -0.000000000002028  -17.515868552566456  0.053479   \n",
       "8   -0.000070897293449   0.000000000007445  -18.324612889245586  0.053481   \n",
       "9   -0.000070096595864   0.000000000019013  -19.019975229628091  0.053485   \n",
       "10  -0.000069320582780  -0.000000000005159  -19.825205998923039  0.053486   \n",
       "11  -0.000069620831940  -0.000000000006856  -21.004431188613026  0.053489   \n",
       "12  -0.000068476183715  -0.000000000002638  -21.833974201848715  0.053492   \n",
       "13  -0.000068016215521   0.000000000005424  -23.025337460334647  0.053494   \n",
       "14  -0.000067483599774  -0.000000000024429  -24.265078711634445  0.053496   \n",
       "15  -0.000066026318727   0.000000000026083  -25.374546013290214  0.053496   \n",
       "16  -0.000065371145750   0.000000000010660  -26.835166576987742  0.053499   \n",
       "17  -0.000064745661462  -0.000000000020067  -28.549827851569788  0.053499   \n",
       "18  -0.000062326391746   0.000000000081349  -29.703965252593981  0.053500   \n",
       "19  -0.000045330311676   0.000000000094647  -24.076652764143653  0.053492   \n",
       "\n",
       "     Current    Re(ΔT) Δ[Re(ΔT)]     Im(ΔT) Δ[Im(ΔT)]     Power Temperature  \n",
       "0   0.005345  0.956597  0.000000  -0.223016  0.010092  0.001006       26.72  \n",
       "1   0.005346  0.920999  0.000000  -0.226840  0.010265  0.001006       26.71  \n",
       "2   0.005346  0.885413  0.000000  -0.227061  0.010275  0.001006       26.71  \n",
       "3   0.005347  0.850680  0.000000  -0.224835  0.010174  0.001006       26.68  \n",
       "4   0.005347  0.815572  0.000000  -0.224671  0.010167  0.001006       26.67  \n",
       "5   0.005347  0.780591  0.000000  -0.226073  0.010230  0.001006       26.65  \n",
       "6   0.005347  0.745821  0.000000  -0.223463  0.010112  0.001006       26.63  \n",
       "7   0.005348  0.711401  0.000000  -0.224520  0.010160  0.001006       26.60  \n",
       "8   0.005348  0.676567  0.000000  -0.224076  0.010140  0.001006       26.59  \n",
       "9   0.005348  0.642645  0.000000  -0.221531  0.010025  0.001006       26.57  \n",
       "10  0.005349  0.607656  0.000000  -0.219072  0.009915  0.001006       26.56  \n",
       "11  0.005349  0.573012  0.000000  -0.220009  0.009957  0.001006       26.53  \n",
       "12  0.005349  0.540066  0.000000  -0.216382  0.009793  0.001006       26.51  \n",
       "13  0.005349  0.505693  0.000000  -0.214918  0.009727  0.001006       26.48  \n",
       "14  0.005350  0.473016  0.000000  -0.213228  0.009651  0.001006       26.46  \n",
       "15  0.005350  0.439860  0.000000  -0.208622  0.009444  0.001006       26.45  \n",
       "16  0.005350  0.408257  0.000000  -0.206540  0.009350  0.001006       26.42  \n",
       "17  0.005350  0.375982  0.000000  -0.204565  0.009261  0.001006       26.42  \n",
       "18  0.005350  0.345177  0.000000  -0.196917  0.008916  0.001006       26.40  \n",
       "19  0.005349  0.320572  0.000000  -0.143242  0.006500  0.001006       26.44  "
      ]
     },
     "execution_count": 38,
     "metadata": {},
     "output_type": "execute_result"
    }
   ],
   "source": [
    "df"
   ]
  },
  {
   "cell_type": "markdown",
   "id": "2667ddce-66cf-4f9e-bc3b-d698d59c891a",
   "metadata": {},
   "source": [
    "### Korrelationsgleichung fuer die Kalibrierung"
   ]
  },
  {
   "cell_type": "code",
   "execution_count": 39,
   "id": "7dece50b-9373-44fd-9510-b2418dd8fe85",
   "metadata": {},
   "outputs": [],
   "source": [
    "# LaTeX rendering\n",
    "printing.init_printing()"
   ]
  },
  {
   "cell_type": "code",
   "execution_count": 40,
   "id": "d12add72-f6c1-40ab-aa33-b95e34c292df",
   "metadata": {},
   "outputs": [],
   "source": [
    "# Define variables\n",
    "dRdT = symbols('dR/dT')\n",
    "dVdf= symbols('dV3w/dlnf')\n",
    "dR,dT,L,lambda_sub,lambda_air,f,P,I = symbols('dR dT L lambda_sub lambda_air f P I')\n"
   ]
  },
  {
   "cell_type": "code",
   "execution_count": 41,
   "id": "fa6c256f-7efd-48d9-bb20-adcfadd9f4d0",
   "metadata": {},
   "outputs": [],
   "source": [
    "equation_dRdT = Eq( ((-4*pi*L)/(P*I))*(lambda_sub)*(dVdf)- dRdT,0)"
   ]
  },
  {
   "cell_type": "code",
   "execution_count": 42,
   "id": "d549adb0-85e6-4259-9846-76653bb6521c",
   "metadata": {},
   "outputs": [
    {
     "data": {
      "image/png": "[encoded data removed]",
      "text/latex": [
       "$\\displaystyle - dR/dT - \\frac{4 \\pi L dV3w/dlnf \\lambda_{sub}}{I P} = 0$"
      ],
      "text/plain": [
       "         4⋅π⋅L⋅dV3w/dlnf⋅λ_sub    \n",
       "-dR/dT - ───────────────────── = 0\n",
       "                  I⋅P             "
      ]
     },
     "metadata": {},
     "output_type": "display_data"
    }
   ],
   "source": [
    "display(equation_dRdT)"
   ]
  },
  {
   "cell_type": "markdown",
   "id": "9cb0057c-b5fb-4569-9ef7-408f361be15f",
   "metadata": {},
   "source": [
    "### dR/dT Berechnung (unter Vacuum)"
   ]
  },
  {
   "cell_type": "markdown",
   "id": "1db95f70-9ff9-4e90-9d71-573f32622ae3",
   "metadata": {},
   "source": [
    "#### Parameters fuer die Berechnung"
   ]
  },
  {
   "cell_type": "code",
   "execution_count": 43,
   "id": "000b0112-e37a-4a02-bdeb-0a26b86cccbb",
   "metadata": {},
   "outputs": [],
   "source": [
    "# Geometrie und Bedingungen\n",
    "T_ref=23                  # Room temperature, 24 04.12.24\n",
    "lambda_substrate_ref= 1.2 # Temperature 20C\n",
    "\n",
    "# Slope dRe(V3w)/dlnf Berechnung\n",
    "v3w=df['Re(3ω)'].values\n",
    "f=df['Frequency'].values\n",
    "v3w=v3w.astype(float)\n",
    "f=f.astype(float)\n",
    "\n",
    "## dRdT Berechnung\n",
    "\n",
    "L_mess=1000e-6\n",
    "P_mess= df['Power'].values\n",
    "P_mess=P_mess.astype(float)\n",
    "\n",
    "I_mess= df['Current'].values\n",
    "I_mess=I_mess.astype(float)"
   ]
  },
  {
   "cell_type": "markdown",
   "id": "de134b31-2608-499d-a043-e708e440f3ad",
   "metadata": {},
   "source": [
    "#### Substrate thermal conductivity"
   ]
  },
  {
   "cell_type": "code",
   "execution_count": 44,
   "id": "a479ef2e-5f25-4a60-a8a0-9e98d9b60215",
   "metadata": {},
   "outputs": [],
   "source": [
    "lambdaSubstrate=lambda T: 1.2 + 0.0013*(T-20)"
   ]
  },
  {
   "cell_type": "markdown",
   "id": "2fc418ad-e22d-4838-96a9-c791deab2731",
   "metadata": {},
   "source": [
    "#### Slope dRe(V3w)/dln(f)"
   ]
  },
  {
   "cell_type": "code",
   "execution_count": 45,
   "id": "81b51927-20d8-45c9-8441-4f7a93f12d5d",
   "metadata": {},
   "outputs": [
    {
     "data": {
      "text/plain": [
       "array([0.00030251, 0.00029128, 0.00028004, 0.00026907, 0.00025798,\n",
       "       0.00024693, 0.00023595, 0.00022508, 0.00021407, 0.00020334,\n",
       "       0.00019228, 0.00018133, 0.00017091, 0.00016004, 0.0001497 ,\n",
       "       0.00013921, 0.00012922, 0.000119  , 0.00010925, 0.00010145])"
      ]
     },
     "execution_count": 45,
     "metadata": {},
     "output_type": "execute_result"
    }
   ],
   "source": [
    "v3w"
   ]
  },
  {
   "cell_type": "code",
   "execution_count": 46,
   "id": "712ac750-3a84-4a5c-a491-89c07bbdde9d",
   "metadata": {},
   "outputs": [],
   "source": [
    "lnf=np.log(f)"
   ]
  },
  {
   "cell_type": "code",
   "execution_count": 47,
   "id": "b5c37aa2-7267-44be-888d-ee466c4ff365",
   "metadata": {},
   "outputs": [
    {
     "name": "stdout",
     "output_type": "stream",
     "text": [
      "[0.00030251 0.00029128 0.00028004 0.00026907 0.00025798 0.00024693\n",
      " 0.00023595 0.00022508 0.00021407 0.00020334 0.00019228 0.00018133\n",
      " 0.00017091 0.00016004 0.0001497  0.00013921 0.00012922 0.000119\n",
      " 0.00010925 0.00010145]\n",
      "[  10.      12.743   16.238   20.691   26.367   33.598   42.813   54.556\n",
      "   69.519   88.587  112.884  143.845  183.298  233.572  297.635  379.269\n",
      "  483.293  615.848  784.76  1000.   ]\n",
      "[2.30258509 2.5449821  2.78735417 3.02969882 3.27211323 3.51446654\n",
      " 3.75684179 3.9992277  4.2416001  4.48398512 4.72636074 4.96873633\n",
      " 5.21111324 5.45349038 5.6958679  5.93824572 6.18062309 6.42300018\n",
      " 6.66537794 6.90775528]\n"
     ]
    }
   ],
   "source": [
    "print(v3w)\n",
    "print(f)\n",
    "print(lnf)"
   ]
  },
  {
   "cell_type": "code",
   "execution_count": 48,
   "id": "534e0809-9721-4a76-a07e-95cd5e66bce5",
   "metadata": {},
   "outputs": [
    {
     "name": "stdout",
     "output_type": "stream",
     "text": [
      "Slope: -4.417865266570014e-05, Intercept: 0.0004023822864243119\n"
     ]
    },
    {
     "data": {
      "image/png": "[encoded data removed]",
      "text/plain": [
       "<Figure size 640x480 with 1 Axes>"
      ]
     },
     "metadata": {},
     "output_type": "display_data"
    }
   ],
   "source": [
    "X=lnf\n",
    "Y=v3w\n",
    "# Perform linear regression using NumPy's polyfit\n",
    "coefficients = np.polyfit(X, Y, 1)\n",
    "slope, intercept = coefficients\n",
    "\n",
    "# Print the slope and intercept\n",
    "print(f\"Slope: {slope}, Intercept: {intercept}\")\n",
    "\n",
    "# Linear regression\n",
    "Y_pred = slope * X + intercept\n",
    "\n",
    "# Plot the data and regression line\n",
    "plt.scatter(X, Y, label='Experimental Data')\n",
    "plt.plot(X, Y_pred, color='red', label='Regression Line')\n",
    "plt.xlabel('ln(f(Hz))')\n",
    "plt.ylabel('Re(V3w)')\n",
    "plt.legend()\n",
    "plt.show()"
   ]
  },
  {
   "cell_type": "code",
   "execution_count": 49,
   "id": "fbb73723-b624-4569-b28f-a20e69c96f29",
   "metadata": {},
   "outputs": [
    {
     "name": "stdout",
     "output_type": "stream",
     "text": [
      "-4.417865266570014e-05\n"
     ]
    }
   ],
   "source": [
    "# Sölope 'dV3w/dlnf' calculated for dR/dT calculation\n",
    "\n",
    "dVdf_mess=slope\n",
    "print(dVdf_mess)"
   ]
  },
  {
   "cell_type": "markdown",
   "id": "842aa235-c5f6-4ef4-8d77-9b78d747e120",
   "metadata": {},
   "source": [
    "#### dR/dT Berechnung"
   ]
  },
  {
   "cell_type": "code",
   "execution_count": 50,
   "id": "fba2d118-9644-4754-9f0e-d213d71fe43a",
   "metadata": {},
   "outputs": [
    {
     "name": "stdout",
     "output_type": "stream",
     "text": [
      "0.001006\n",
      "0.005348199999999999\n",
      "1.2039\n"
     ]
    }
   ],
   "source": [
    "P_mean= np.mean(P_mess)\n",
    "I_mean= np.mean(I_mess)\n",
    "lambdaSubstrate_mess=lambdaSubstrate(T_ref)\n",
    "print(P_mean)\n",
    "print(I_mean)\n",
    "print(lambdaSubstrate_mess)"
   ]
  },
  {
   "cell_type": "code",
   "execution_count": 51,
   "id": "1d5bc669-2a7a-4f6f-9d4e-d767cddf6331",
   "metadata": {},
   "outputs": [],
   "source": [
    "substituted_eq = equation_dRdT.subs({P: P_mean, I:I_mean, lambda_sub:lambdaSubstrate_mess,dVdf:dVdf_mess, L:L_mess})"
   ]
  },
  {
   "cell_type": "code",
   "execution_count": 52,
   "id": "34b24e6b-4f1f-45c3-a0e5-2f7b099460db",
   "metadata": {},
   "outputs": [
    {
     "data": {
      "image/png": "[encoded data removed]",
      "text/latex": [
       "$\\displaystyle - dR/dT + 0.0395418743990464 \\pi = 0$"
      ],
      "text/plain": [
       "-dR/dT + 0.0395418743990464⋅π = 0"
      ]
     },
     "execution_count": 52,
     "metadata": {},
     "output_type": "execute_result"
    }
   ],
   "source": [
    "substituted_eq"
   ]
  },
  {
   "cell_type": "code",
   "execution_count": 53,
   "id": "28498572-d6a6-4fe9-92e1-e48409d29bd2",
   "metadata": {},
   "outputs": [],
   "source": [
    "sol = solve(substituted_eq, dRdT)"
   ]
  },
  {
   "cell_type": "code",
   "execution_count": 54,
   "id": "8b06134e-3c6a-48a2-998e-b1916c55cb5a",
   "metadata": {},
   "outputs": [
    {
     "name": "stdout",
     "output_type": "stream",
     "text": [
      "0.12422446212121449\n"
     ]
    }
   ],
   "source": [
    "dRdT_mess=float(sol[0])\n",
    "print(dRdT_mess)"
   ]
  },
  {
   "cell_type": "markdown",
   "id": "1f89e954-df84-42ff-96b9-75a13931fb1e",
   "metadata": {},
   "source": [
    "## Messung"
   ]
  },
  {
   "cell_type": "markdown",
   "id": "d35a2811-3e60-4c3a-b9fc-683236af3885",
   "metadata": {},
   "source": [
    "### Import data"
   ]
  },
  {
   "cell_type": "code",
   "execution_count": 72,
   "id": "422956b7-be55-4af5-8673-8b58182083d0",
   "metadata": {},
   "outputs": [
    {
     "name": "stdout",
     "output_type": "stream",
     "text": [
      "   Frequency             Re(1ω)              Im(1ω)             Re(3ω)  \\\n",
      "0     10.000  0.187724903235679  -0.000000000000005  0.000281274067259   \n",
      "1     12.743  0.187719805390472  -0.000000000000002  0.000270346523249   \n",
      "2     16.238  0.187725173047705   0.000000000000002  0.000259370134399   \n",
      "3     20.691  0.187715437782850  -0.000000000000000  0.000248602930541   \n",
      "4     26.367  0.187708210883985  -0.000000000000010  0.000237792656011   \n",
      "5     33.598  0.187700719182917   0.000000000000009  0.000227193919935   \n",
      "6     42.813  0.187697615174739   0.000000000000007  0.000216510655388   \n",
      "7     54.556  0.187687547801836   0.000000000000017  0.000205946885941   \n",
      "8     69.519  0.187688003233025  -0.000000000000002  0.000195296103691   \n",
      "9     88.587  0.187689924891495   0.000000000000012  0.000184725814991   \n",
      "10   112.884  0.187681450244572  -0.000000000000036  0.000175389596766   \n",
      "11   143.845  0.187679353093079   0.000000000000059  0.000164142103775   \n",
      "12   183.298  0.187662889066182  -0.000000000000001  0.000154112618621   \n",
      "13   233.572  0.187660405174493   0.000000000000104  0.000143920794069   \n",
      "14   297.635  0.187652631339352   0.000000000000013  0.000134093991546   \n",
      "15   379.269  0.187650817076438  -0.000000000000003  0.000124544328315   \n",
      "16   483.293  0.187645389155067   0.000000000000093  0.000115133776109   \n",
      "17   615.848  0.187636486604481  -0.000000000000252  0.000105805066892   \n",
      "18   784.760  0.187634771698171   0.000000000000067  0.000097036193824   \n",
      "19  1000.000  0.187626747133518  -0.000000000000111  0.000090197213736   \n",
      "\n",
      "                Im(3ω)           Phase(1ω)            Phase(3ω)      Vref  \\\n",
      "0   -0.000070893000167  -0.000000000001668  -14.146329508982204  0.053499   \n",
      "1   -0.000070373136522  -0.000000000000747  -14.590699742957639  0.053500   \n",
      "2   -0.000070041431219   0.000000000000618  -15.111941831754949  0.053498   \n",
      "3   -0.000069533610536  -0.000000000000149  -15.626171630743087  0.053500   \n",
      "4   -0.000069224047499  -0.000000000002917  -16.230856714847231  0.053502   \n",
      "5   -0.000069021924173   0.000000000002647  -16.898876450502947  0.053504   \n",
      "6   -0.000068440546385   0.000000000002156  -17.542113088865829  0.053505   \n",
      "7   -0.000068011005812   0.000000000005049  -18.275065412047869  0.053508   \n",
      "8   -0.000067513374491  -0.000000000000458  -19.070139648933605  0.053507   \n",
      "9   -0.000066648546936   0.000000000003792  -19.839299090815718  0.053506   \n",
      "10  -0.000066398116245  -0.000000000011052  -20.735412815032852  0.053509   \n",
      "11  -0.000065055384059   0.000000000017973  -21.620193210313129  0.053509   \n",
      "12  -0.000064256298516  -0.000000000000230  -22.633392551522771  0.053514   \n",
      "13  -0.000063110013040   0.000000000031775  -23.677699653783765  0.053515   \n",
      "14  -0.000062116449533   0.000000000003953  -24.855018993960105  0.053517   \n",
      "15  -0.000060537351145  -0.000000000000958  -25.923029504492657  0.053517   \n",
      "16  -0.000058929183000   0.000000000028433  -27.104832108694556  0.053518   \n",
      "17  -0.000057323457133  -0.000000000076906  -28.448111309683970  0.053520   \n",
      "18  -0.000055003884357   0.000000000020548  -29.546249122972096  0.053518   \n",
      "19  -0.000060363006259  -0.000000000033967  -33.791767789352988  0.053516   \n",
      "\n",
      "     Current    Re(ΔT) Δ[Re(ΔT)]     Im(ΔT) Δ[Im(ΔT)]     Power Temperature  \n",
      "0   0.005350  0.866946  0.000000  -0.218507  0.009900  0.001004       24.77  \n",
      "1   0.005350  0.833253  0.000000  -0.216902  0.009828  0.001004       24.76  \n",
      "2   0.005350  0.799462  0.000000  -0.215890  0.009782  0.001004       24.78  \n",
      "3   0.005350  0.766236  0.000000  -0.214314  0.009710  0.001004       24.75  \n",
      "4   0.005350  0.732891  0.000000  -0.213353  0.009667  0.001004       24.73  \n",
      "5   0.005350  0.700196  0.000000  -0.212721  0.009638  0.001004       24.71  \n",
      "6   0.005351  0.667261  0.000000  -0.210926  0.009557  0.001004       24.70  \n",
      "7   0.005351  0.634670  0.000000  -0.209591  0.009497  0.001004       24.67  \n",
      "8   0.005351  0.601855  0.000000  -0.208060  0.009427  0.001004       24.67  \n",
      "9   0.005351  0.569291  0.000000  -0.205399  0.009307  0.001004       24.68  \n",
      "10  0.005351  0.540495  0.000000  -0.204618  0.009272  0.001004       24.65  \n",
      "11  0.005351  0.505833  0.000000  -0.200480  0.009084  0.001004       24.65  \n",
      "12  0.005351  0.474879  0.000000  -0.197998  0.008972  0.001004       24.60  \n",
      "13  0.005351  0.443468  0.000000  -0.194463  0.008812  0.001004       24.59  \n",
      "14  0.005352  0.413171  0.000000  -0.191393  0.008673  0.001004       24.56  \n",
      "15  0.005352  0.383747  0.000000  -0.186528  0.008453  0.001004       24.56  \n",
      "16  0.005352  0.354745  0.000000  -0.181570  0.008229  0.001004       24.55  \n",
      "17  0.005352  0.325991  0.000000  -0.176617  0.008005  0.001004       24.53  \n",
      "18  0.005352  0.298981  0.000000  -0.169474  0.007682  0.001004       24.53  \n",
      "19  0.005352  0.277922  0.000000  -0.185995  0.008429  0.001004       24.53  \n"
     ]
    }
   ],
   "source": [
    "# File import\n",
    "with open('GreaseDataVacuum.txt', 'r') as file:\n",
    "    lines = file.readlines()[0:]\n",
    "\n",
    "data_sample = []\n",
    "for line in lines:\n",
    "    # Split\n",
    "    parts = line.split()\n",
    "    \n",
    "    # Bye first column\n",
    "    row = parts[2:]\n",
    "    data_sample.append(row)\n",
    "\n",
    "# Column names\n",
    "columns = [\n",
    "     \"Frequency\", \"Re(1ω)\", \"Im(1ω)\", \"Re(3ω)\", \"Im(3ω)\", \"Phase(1ω)\", \"Phase(3ω)\",\n",
    "    \"Vref\", \"Current\", \"Re(ΔT)\", \"Δ[Re(ΔT)]\", \"Im(ΔT)\", \"Δ[Im(ΔT)]\", \"Power\", \"Temperature\"\n",
    "]\n",
    "\n",
    "# DataFrame\n",
    "df_sample = pd.DataFrame(data_sample, columns=columns)\n",
    "print(df_sample)"
   ]
  },
  {
   "cell_type": "code",
   "execution_count": 73,
   "id": "f044c8e5-c7ea-4f28-bbe5-93099e819f00",
   "metadata": {},
   "outputs": [],
   "source": [
    "dRdT_mess=float(sol[0])"
   ]
  },
  {
   "cell_type": "code",
   "execution_count": 74,
   "id": "d208f9f1-7c69-4c24-a597-a97c7d570095",
   "metadata": {},
   "outputs": [
    {
     "name": "stdout",
     "output_type": "stream",
     "text": [
      "0.12422446212121449\n"
     ]
    }
   ],
   "source": [
    "print(dRdT_mess)"
   ]
  },
  {
   "cell_type": "markdown",
   "id": "81fbde05-b17d-4e12-8874-7f937b092a9b",
   "metadata": {},
   "source": [
    "### Korrelationsgleichung fuer die Messung"
   ]
  },
  {
   "cell_type": "code",
   "execution_count": 75,
   "id": "15d42ce7-280e-46d1-a418-522408533bf0",
   "metadata": {},
   "outputs": [],
   "source": [
    "# Define variables\n",
    "dRdT = symbols('dR/dT')\n",
    "dVdf= symbols('dV3w/dlnf')\n",
    "dR,dT,L,lambda_sample,lambda_sub,f,P,I = symbols('dR dT L lambda_sample, lambda_sub f P I')"
   ]
  },
  {
   "cell_type": "code",
   "execution_count": 76,
   "id": "e96e7fcc-91e6-4347-86ff-1603a301342b",
   "metadata": {},
   "outputs": [],
   "source": [
    "equation_lambdaSample= Eq( (-P*I*dRdT/(4*pi*L))*(dVdf)**(-1)-lambda_sub-lambda_sample,0)"
   ]
  },
  {
   "cell_type": "code",
   "execution_count": 77,
   "id": "1e49480d-09e8-4a1c-a9fc-4e9b2ecbbfdd",
   "metadata": {},
   "outputs": [
    {
     "data": {
      "image/png": "[encoded data removed]",
      "text/latex": [
       "$\\displaystyle - \\frac{I P dR/dT}{4 \\pi L dV3w/dlnf} - \\lambda_{sample} - \\lambda_{sub} = 0$"
      ],
      "text/plain": [
       "     I⋅P⋅dR/dT                         \n",
       "- ─────────────── - λₛₐₘₚₗₑ - λ_sub = 0\n",
       "  4⋅π⋅L⋅dV3w/dlnf                      "
      ]
     },
     "metadata": {},
     "output_type": "display_data"
    }
   ],
   "source": [
    "display(equation_lambdaSample)"
   ]
  },
  {
   "cell_type": "markdown",
   "id": "ffba4f04-913b-4d45-b838-5ee967ba0ef4",
   "metadata": {},
   "source": [
    "### Thermal conductivity Berechnung"
   ]
  },
  {
   "cell_type": "markdown",
   "id": "2dcb9f2a-3952-4ed2-b4d4-6df058a20d54",
   "metadata": {},
   "source": [
    "#### Parameters fuer die Berechnung"
   ]
  },
  {
   "cell_type": "code",
   "execution_count": 89,
   "id": "be6f46b2-066e-4957-aae5-e533898bf58e",
   "metadata": {},
   "outputs": [
    {
     "name": "stdout",
     "output_type": "stream",
     "text": [
      "0.12422446212121449\n"
     ]
    }
   ],
   "source": [
    "# Geometrie und Bedingungen\n",
    "T_ref=24                  # Room temperature\n",
    "lambda_substrate_ref= 1.2 # Temperature 20C\n",
    "print(dRdT_mess)\n",
    "\n",
    "# Slope dRe(V3w)/dlnf Berechnung\n",
    "v3w = df_sample['Re(3ω)'].values\n",
    "f   = df_sample['Frequency'].values\n",
    "v3w = v3w.astype(float)\n",
    "f   = f.astype(float)\n",
    "\n",
    "## dRdT Berechnung\n",
    "\n",
    "L_mess=1000e-6\n",
    "P_mess = df_sample['Power'].values\n",
    "P_mess = P_mess.astype(float)\n",
    "\n",
    "I_mess = df_sample['Current'].values\n",
    "I_mess = I_mess.astype(float)"
   ]
  },
  {
   "cell_type": "markdown",
   "id": "ac890f85-5225-45a7-8117-65c576b840ea",
   "metadata": {},
   "source": [
    "#### Slope dRe(V3w)/dln(f)"
   ]
  },
  {
   "cell_type": "code",
   "execution_count": 90,
   "id": "da920f6d-a26e-4f8a-8f29-225d904457bf",
   "metadata": {},
   "outputs": [
    {
     "data": {
      "text/plain": [
       "array([2.81274067e-04, 2.70346523e-04, 2.59370134e-04, 2.48602931e-04,\n",
       "       2.37792656e-04, 2.27193920e-04, 2.16510655e-04, 2.05946886e-04,\n",
       "       1.95296104e-04, 1.84725815e-04, 1.75389597e-04, 1.64142104e-04,\n",
       "       1.54112619e-04, 1.43920794e-04, 1.34093992e-04, 1.24544328e-04,\n",
       "       1.15133776e-04, 1.05805067e-04, 9.70361938e-05, 9.01972137e-05])"
      ]
     },
     "execution_count": 90,
     "metadata": {},
     "output_type": "execute_result"
    }
   ],
   "source": [
    "v3w"
   ]
  },
  {
   "cell_type": "code",
   "execution_count": 99,
   "id": "9464120f-899a-481e-9f02-f1f5fcb081e3",
   "metadata": {},
   "outputs": [
    {
     "data": {
      "text/plain": [
       "array([  10.   ,   12.743,   16.238,   20.691,   26.367,   33.598,\n",
       "         42.813,   54.556,   69.519,   88.587,  112.884,  143.845,\n",
       "        183.298,  233.572,  297.635,  379.269,  483.293,  615.848,\n",
       "        784.76 , 1000.   ])"
      ]
     },
     "execution_count": 99,
     "metadata": {},
     "output_type": "execute_result"
    }
   ],
   "source": [
    "f"
   ]
  },
  {
   "cell_type": "code",
   "execution_count": 97,
   "id": "7cd6eaa4-ef56-4235-9764-31ed0f1ec19d",
   "metadata": {},
   "outputs": [],
   "source": [
    "lnf=np.log(f)"
   ]
  },
  {
   "cell_type": "code",
   "execution_count": 98,
   "id": "ea0e98cf-da88-480f-a33a-9d49b18a4e54",
   "metadata": {},
   "outputs": [
    {
     "data": {
      "text/plain": [
       "array([2.30258509, 2.5449821 , 2.78735417, 3.02969882, 3.27211323,\n",
       "       3.51446654, 3.75684179, 3.9992277 , 4.2416001 , 4.48398512,\n",
       "       4.72636074, 4.96873633, 5.21111324, 5.45349038, 5.6958679 ,\n",
       "       5.93824572, 6.18062309, 6.42300018, 6.66537794, 6.90775528])"
      ]
     },
     "execution_count": 98,
     "metadata": {},
     "output_type": "execute_result"
    }
   ],
   "source": [
    "lnf"
   ]
  },
  {
   "cell_type": "code",
   "execution_count": 93,
   "id": "cf69fc40-4e74-4965-aae5-597fc3c72440",
   "metadata": {},
   "outputs": [
    {
     "name": "stdout",
     "output_type": "stream",
     "text": [
      "Slope: -4.2092620715292536e-05, Intercept: 0.00037541549651782434\n"
     ]
    },
    {
     "data": {
      "image/png": "[encoded data removed]",
      "text/plain": [
       "<Figure size 640x480 with 1 Axes>"
      ]
     },
     "metadata": {},
     "output_type": "display_data"
    }
   ],
   "source": [
    "X=lnf\n",
    "Y=v3w\n",
    "# Perform linear regression using NumPy's polyfit\n",
    "coefficients = np.polyfit(X, Y, 1)\n",
    "slope, intercept = coefficients\n",
    "\n",
    "# Print the slope and intercept\n",
    "print(f\"Slope: {slope}, Intercept: {intercept}\")\n",
    "\n",
    "# Linear regression\n",
    "Y_pred = slope * X + intercept\n",
    "\n",
    "# Plot the data and regression line\n",
    "plt.scatter(X, Y, label='Experimental Data')\n",
    "plt.plot(X, Y_pred, color='red', label='Regression Line')\n",
    "plt.xlabel('ln(f(Hz))')\n",
    "plt.ylabel('Re(V3w)')\n",
    "plt.legend()\n",
    "plt.show()"
   ]
  },
  {
   "cell_type": "code",
   "execution_count": 100,
   "id": "6c23bee2-e62c-4c67-a020-eb2c43e91d5b",
   "metadata": {},
   "outputs": [
    {
     "name": "stdout",
     "output_type": "stream",
     "text": [
      "-4.2092620715292536e-05\n"
     ]
    }
   ],
   "source": [
    "# Sölope 'dV3w/dlnf' calculated for dR/dT calculation\n",
    "\n",
    "dVdf_mess=slope\n",
    "print(dVdf_mess)"
   ]
  },
  {
   "cell_type": "markdown",
   "id": "6cce0510-eba6-49da-81f9-3e56bb0e112a",
   "metadata": {},
   "source": [
    "#### Thermal conductivity der Probe Berechnung"
   ]
  },
  {
   "cell_type": "code",
   "execution_count": 101,
   "id": "7ae18ecf-f84b-44a1-a539-5cfa78c1c834",
   "metadata": {},
   "outputs": [
    {
     "name": "stdout",
     "output_type": "stream",
     "text": [
      "0.0010040000000000001\n",
      "0.005350999999999999\n",
      "1.2052\n",
      "0.12422446212121449\n"
     ]
    }
   ],
   "source": [
    "P_mean= np.mean(P_mess)\n",
    "I_mean= np.mean(I_mess)\n",
    "lambdaSubstrate_mess=lambdaSubstrate(T_ref)\n",
    "print(P_mean)\n",
    "print(I_mean)\n",
    "print(lambdaSubstrate_mess)\n",
    "print(dRdT_mess)"
   ]
  },
  {
   "cell_type": "code",
   "execution_count": 85,
   "id": "8663fc88-29aa-4178-abd2-36afa0714734",
   "metadata": {},
   "outputs": [],
   "source": [
    "substituted_eqLambdaSample = equation_lambdaSample.subs({dRdT:dRdT_mess,P: P_mean, I:I_mean, lambda_sub:lambdaSubstrate_mess,dVdf:dVdf_mess, L:L_mess})"
   ]
  },
  {
   "cell_type": "code",
   "execution_count": 86,
   "id": "b6df04c2-9626-49ba-8f10-9100c303500d",
   "metadata": {},
   "outputs": [
    {
     "data": {
      "image/png": "[encoded data removed]",
      "text/latex": [
       "$\\displaystyle - \\lambda_{sample} - 1.2052 + \\frac{3.96378264085726}{\\pi} = 0$"
      ],
      "text/plain": [
       "                    3.96378264085726    \n",
       "-λₛₐₘₚₗₑ - 1.2052 + ──────────────── = 0\n",
       "                           π            "
      ]
     },
     "execution_count": 86,
     "metadata": {},
     "output_type": "execute_result"
    }
   ],
   "source": [
    "substituted_eqLambdaSample"
   ]
  },
  {
   "cell_type": "code",
   "execution_count": 87,
   "id": "0bf14efb-dacb-4cc6-afd0-7e84523442a9",
   "metadata": {},
   "outputs": [],
   "source": [
    "solSample = solve(substituted_eq, dRdT)"
   ]
  },
  {
   "cell_type": "code",
   "execution_count": 88,
   "id": "fd915224-7f86-444f-95e2-e33ce8ebd1a2",
   "metadata": {},
   "outputs": [
    {
     "name": "stdout",
     "output_type": "stream",
     "text": [
      "0.12422446212121449\n"
     ]
    }
   ],
   "source": [
    "lambdaSample_mess=float(solSample[0])\n",
    "print(lambdaSample_mess)"
   ]
  },
  {
   "cell_type": "code",
   "execution_count": 95,
   "id": "de62e1d6-3415-4502-a85d-0f73c1545a63",
   "metadata": {},
   "outputs": [
    {
     "data": {
      "image/png": "[encoded data removed]",
      "text/latex": [
       "$\\displaystyle 1.2052$"
      ],
      "text/plain": [
       "1.2052"
      ]
     },
     "execution_count": 95,
     "metadata": {},
     "output_type": "execute_result"
    }
   ],
   "source": [
    "lambdaSubstrate_mess"
   ]
  },
  {
   "cell_type": "code",
   "execution_count": null,
   "id": "325bdccc-6c72-47a7-a774-a5b31b6cd31c",
   "metadata": {},
   "outputs": [],
   "source": []
  },
  {
   "cell_type": "code",
   "execution_count": null,
   "id": "224b7ef1-52e7-4e16-a967-ad4c228596f6",
   "metadata": {},
   "outputs": [],
   "source": []
  },
  {
   "cell_type": "code",
   "execution_count": null,
   "id": "73908dd6-6d48-487d-944f-7184d6abf599",
   "metadata": {},
   "outputs": [],
   "source": []
  },
  {
   "cell_type": "code",
   "execution_count": null,
   "id": "700b2d43-e879-4d7a-8007-80cdb6400c2e",
   "metadata": {},
   "outputs": [],
   "source": []
  },
  {
   "cell_type": "code",
   "execution_count": null,
   "id": "8bfa5d86-9b89-4397-a348-b516278682b3",
   "metadata": {},
   "outputs": [],
   "source": []
  },
  {
   "cell_type": "code",
   "execution_count": null,
   "id": "63046371-0985-43ec-ab46-8c5ae9761252",
   "metadata": {},
   "outputs": [],
   "source": []
  },
  {
   "cell_type": "code",
   "execution_count": null,
   "id": "b20c0783-a116-4ee7-a5ea-160c38bbc67a",
   "metadata": {},
   "outputs": [],
   "source": []
  }
 ],
 "metadata": {
  "kernelspec": {
   "display_name": "Python 3 (ipykernel)",
   "language": "python",
   "name": "python3"
  },
  "language_info": {
   "codemirror_mode": {
    "name": "ipython",
    "version": 3
   },
   "file_extension": ".py",
   "mimetype": "text/x-python",
   "name": "python",
   "nbconvert_exporter": "python",
   "pygments_lexer": "ipython3",
   "version": "3.13.0"
  }
 },
 "nbformat": 4,
 "nbformat_minor": 5
}
