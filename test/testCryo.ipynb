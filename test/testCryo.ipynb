{
 "cells": [
  {
   "cell_type": "markdown",
   "id": "3310c0cd-13de-4801-aa21-de2b8702d968",
   "metadata": {},
   "source": [
    "## Preamble"
   ]
  },
  {
   "cell_type": "code",
   "execution_count": 47,
   "id": "493ab2e5-201c-47eb-9c7c-a1f36304e3b5",
   "metadata": {},
   "outputs": [],
   "source": [
    "#pip install sympy\n",
    "#pip install numpy\n",
    "#pip install pandas\n",
    "#pip install matplotlib"
   ]
  },
  {
   "cell_type": "code",
   "execution_count": 6,
   "id": "75259635-d777-411e-91c6-8b649d2e3871",
   "metadata": {},
   "outputs": [],
   "source": [
    "import numpy as np\n",
    "from sympy import symbols, Eq, solve\n",
    "from sympy.interactive import printing\n",
    "from sympy import pi\n",
    "import pandas as pd\n",
    "import matplotlib.pyplot as plt"
   ]
  },
  {
   "cell_type": "markdown",
   "id": "d117025d-20d4-45de-bf17-d2253a54ac6d",
   "metadata": {},
   "source": [
    "## Calibration"
   ]
  },
  {
   "cell_type": "markdown",
   "id": "24ad0771-2f29-4a08-8890-6807f7ec79e3",
   "metadata": {},
   "source": [
    "### Import data"
   ]
  },
  {
   "cell_type": "code",
   "execution_count": 9,
   "id": "62110b84-557b-417e-998e-2b19bd3c896c",
   "metadata": {},
   "outputs": [
    {
     "name": "stdout",
     "output_type": "stream",
     "text": [
      "   Frequency             Re(1ω)              Im(1ω)             Re(3ω)  \\\n",
      "0     10.000  0.000387953496807   0.000000000000002  0.000048812323303   \n",
      "1     12.743  0.000394315199843  -0.000000000000001  0.000047383377139   \n",
      "2     16.238  0.000405627627417  -0.000000000000003  0.000047144998565   \n",
      "3     20.691  0.000422922871691   0.000000000000001  0.000046549020696   \n",
      "4     26.367  0.000448950358278  -0.000000000000004  0.000046434519033   \n",
      "5     33.598  0.000489432222370   0.000000000000003  0.000047053490665   \n",
      "6     42.813  0.000547847773384  -0.000000000000001  0.000046474365742   \n",
      "7     54.556  0.000631601843514   0.000000000000007  0.000045878440418   \n",
      "8     69.519  0.000749316812666  -0.000000000000003  0.000043707337653   \n",
      "9     88.587  0.000906615667437  -0.000000000000008  0.000041499506788   \n",
      "10   112.884  0.001111796890898  -0.000000000000027  0.000038388932370   \n",
      "11   143.845  0.001378383807282  -0.000000000000012  0.000035379786101   \n",
      "12   183.298  0.001720069307851  -0.000000000000033  0.000032845020813   \n",
      "13   233.572  0.002153607878543   0.000000000000014  0.000030449366126   \n",
      "14   297.635  0.002699094372952   0.000000000000089  0.000027882197486   \n",
      "15   379.269  0.003380789438269   0.000000000000036  0.000025719618918   \n",
      "16   483.293  0.004221603146796  -0.000000000000087  0.000024514551355   \n",
      "17   615.848  0.005244146814339   0.000000000000112  0.000022501190238   \n",
      "18   784.760  0.006462303064327  -0.000000000000175  0.000022730137211   \n",
      "19  1000.000  0.007868525269526   0.000000000000181  0.000021630771589   \n",
      "\n",
      "                Im(3ω)           Phase(1ω)            Phase(3ω)      Vref  \\\n",
      "0   -0.000018603620542   0.000000000346644  -20.863118873853402  0.072630   \n",
      "1   -0.000019261869470  -0.000000000095081  -22.122288617799825  0.072651   \n",
      "2   -0.000019500672174  -0.000000000465156  -22.471544671649127  0.072650   \n",
      "3   -0.000020140709309   0.000000000178724  -23.397044525056561  0.072654   \n",
      "4   -0.000019511146043  -0.000000000565626  -22.791475911283364  0.072659   \n",
      "5   -0.000018561559632   0.000000000335778  -21.528135902307199  0.072662   \n",
      "6   -0.000015557240388  -0.000000000123788  -18.507910508623134  0.072666   \n",
      "7   -0.000013763781892   0.000000000627997  -16.699530402551190  0.072673   \n",
      "8   -0.000011171957973  -0.000000000226228  -14.338271781029684  0.072686   \n",
      "9   -0.000009125680799  -0.000000000498482  -12.401873347546440  0.072683   \n",
      "10  -0.000007310324621  -0.000000001394371  -10.781629092923785  0.072689   \n",
      "11  -0.000006114329736  -0.000000000503266   -9.804999851759767  0.072692   \n",
      "12  -0.000004234173297  -0.000000001114319   -7.345697862710974  0.072691   \n",
      "13  -0.000003898224664   0.000000000365747   -7.295502980621154  0.072704   \n",
      "14  -0.000002835021771   0.000000001879568   -5.805799573400614  0.072709   \n",
      "15  -0.000001858885476   0.000000000616579   -4.133864516953495  0.072716   \n",
      "16  -0.000000503602089  -0.000000001185297   -1.176860873933786  0.072718   \n",
      "17   0.000000274076334   0.000000001222981    0.697858224719321  0.072725   \n",
      "18   0.000001311000306  -0.000000001549125    3.300976901672616  0.072726   \n",
      "19   0.000004527720251   0.000000001318910   11.822375124226774  0.072728   \n",
      "\n",
      "     Current    Re(ΔT) Δ[Re(ΔT)]     Im(ΔT) Δ[Im(ΔT)]     Power Temperature  \n",
      "0   0.007263  0.030084  0.000000  -0.011466  0.012350  0.000003       10.67  \n",
      "1   0.007265  0.029195  0.000000  -0.011868  0.012784  0.000003       10.67  \n",
      "2   0.007265  0.029048  0.000000  -0.012015  0.012942  0.000003       10.67  \n",
      "3   0.007265  0.028680  0.000000  -0.012409  0.013366  0.000003       10.68  \n",
      "4   0.007266  0.028607  0.000000  -0.012020  0.012948  0.000003       10.69  \n",
      "5   0.007266  0.028987  0.000000  -0.011435  0.012317  0.000004       10.70  \n",
      "6   0.007267  0.028629  0.000000  -0.009583  0.010323  0.000004       10.72  \n",
      "7   0.007267  0.028259  0.000000  -0.008478  0.009132  0.000005       10.74  \n",
      "8   0.007269  0.026917  0.000000  -0.006880  0.007412  0.000005       10.78  \n",
      "9   0.007268  0.025558  0.000000  -0.005620  0.006055  0.000007       10.83  \n",
      "10  0.007269  0.023640  0.000000  -0.004502  0.004850  0.000008       10.89  \n",
      "11  0.007269  0.021786  0.000000  -0.003765  0.004057  0.000010       10.97  \n",
      "12  0.007269  0.020226  0.000000  -0.002607  0.002811  0.000013       11.08  \n",
      "13  0.007270  0.018747  0.000000  -0.002400  0.002588  0.000016       11.21  \n",
      "14  0.007271  0.017166  0.000000  -0.001745  0.001884  0.000020       11.38  \n",
      "15  0.007272  0.015833  0.000000  -0.001144  0.001239  0.000025       11.59  \n",
      "16  0.007272  0.015090  0.000000  -0.000310  0.000356  0.000031       11.85  \n",
      "17  0.007272  0.013850  0.000000   0.000169  0.000219  0.000038       12.16  \n",
      "18  0.007273  0.013991  0.000000   0.000807  0.000878  0.000047       12.54  \n",
      "19  0.007273  0.013313  0.000000   0.002787  0.003004  0.000057       12.97  \n"
     ]
    }
   ],
   "source": [
    "# File import\n",
    "with open('calibrationdataCryo.txt', 'r') as file:\n",
    "    lines = file.readlines()[0:]\n",
    "\n",
    "data = []\n",
    "for line in lines:\n",
    "    # Split\n",
    "    parts = line.split()\n",
    "    \n",
    "    # Bye first column\n",
    "    row = parts[2:]\n",
    "    data.append(row)\n",
    "\n",
    "# Column names\n",
    "columns = [\n",
    "     \"Frequency\", \"Re(1ω)\", \"Im(1ω)\", \"Re(3ω)\", \"Im(3ω)\", \"Phase(1ω)\", \"Phase(3ω)\",\n",
    "    \"Vref\", \"Current\", \"Re(ΔT)\", \"Δ[Re(ΔT)]\", \"Im(ΔT)\", \"Δ[Im(ΔT)]\", \"Power\", \"Temperature\"\n",
    "]\n",
    "\n",
    "# DataFrame\n",
    "df = pd.DataFrame(data, columns=columns)\n",
    "print(df)"
   ]
  },
  {
   "cell_type": "code",
   "execution_count": 10,
   "id": "b8975dfc-52d3-41bf-b1b6-946573ec9c95",
   "metadata": {},
   "outputs": [
    {
     "data": {
      "text/html": [
       "<div>\n",
       "<style scoped>\n",
       "    .dataframe tbody tr th:only-of-type {\n",
       "        vertical-align: middle;\n",
       "    }\n",
       "\n",
       "    .dataframe tbody tr th {\n",
       "        vertical-align: top;\n",
       "    }\n",
       "\n",
       "    .dataframe thead th {\n",
       "        text-align: right;\n",
       "    }\n",
       "</style>\n",
       "<table border=\"1\" class=\"dataframe\">\n",
       "  <thead>\n",
       "    <tr style=\"text-align: right;\">\n",
       "      <th></th>\n",
       "      <th>Frequency</th>\n",
       "      <th>Re(1ω)</th>\n",
       "      <th>Im(1ω)</th>\n",
       "      <th>Re(3ω)</th>\n",
       "      <th>Im(3ω)</th>\n",
       "      <th>Phase(1ω)</th>\n",
       "      <th>Phase(3ω)</th>\n",
       "      <th>Vref</th>\n",
       "      <th>Current</th>\n",
       "      <th>Re(ΔT)</th>\n",
       "      <th>Δ[Re(ΔT)]</th>\n",
       "      <th>Im(ΔT)</th>\n",
       "      <th>Δ[Im(ΔT)]</th>\n",
       "      <th>Power</th>\n",
       "      <th>Temperature</th>\n",
       "    </tr>\n",
       "  </thead>\n",
       "  <tbody>\n",
       "    <tr>\n",
       "      <th>0</th>\n",
       "      <td>10.000</td>\n",
       "      <td>0.000387953496807</td>\n",
       "      <td>0.000000000000002</td>\n",
       "      <td>0.000048812323303</td>\n",
       "      <td>-0.000018603620542</td>\n",
       "      <td>0.000000000346644</td>\n",
       "      <td>-20.863118873853402</td>\n",
       "      <td>0.072630</td>\n",
       "      <td>0.007263</td>\n",
       "      <td>0.030084</td>\n",
       "      <td>0.000000</td>\n",
       "      <td>-0.011466</td>\n",
       "      <td>0.012350</td>\n",
       "      <td>0.000003</td>\n",
       "      <td>10.67</td>\n",
       "    </tr>\n",
       "    <tr>\n",
       "      <th>1</th>\n",
       "      <td>12.743</td>\n",
       "      <td>0.000394315199843</td>\n",
       "      <td>-0.000000000000001</td>\n",
       "      <td>0.000047383377139</td>\n",
       "      <td>-0.000019261869470</td>\n",
       "      <td>-0.000000000095081</td>\n",
       "      <td>-22.122288617799825</td>\n",
       "      <td>0.072651</td>\n",
       "      <td>0.007265</td>\n",
       "      <td>0.029195</td>\n",
       "      <td>0.000000</td>\n",
       "      <td>-0.011868</td>\n",
       "      <td>0.012784</td>\n",
       "      <td>0.000003</td>\n",
       "      <td>10.67</td>\n",
       "    </tr>\n",
       "    <tr>\n",
       "      <th>2</th>\n",
       "      <td>16.238</td>\n",
       "      <td>0.000405627627417</td>\n",
       "      <td>-0.000000000000003</td>\n",
       "      <td>0.000047144998565</td>\n",
       "      <td>-0.000019500672174</td>\n",
       "      <td>-0.000000000465156</td>\n",
       "      <td>-22.471544671649127</td>\n",
       "      <td>0.072650</td>\n",
       "      <td>0.007265</td>\n",
       "      <td>0.029048</td>\n",
       "      <td>0.000000</td>\n",
       "      <td>-0.012015</td>\n",
       "      <td>0.012942</td>\n",
       "      <td>0.000003</td>\n",
       "      <td>10.67</td>\n",
       "    </tr>\n",
       "    <tr>\n",
       "      <th>3</th>\n",
       "      <td>20.691</td>\n",
       "      <td>0.000422922871691</td>\n",
       "      <td>0.000000000000001</td>\n",
       "      <td>0.000046549020696</td>\n",
       "      <td>-0.000020140709309</td>\n",
       "      <td>0.000000000178724</td>\n",
       "      <td>-23.397044525056561</td>\n",
       "      <td>0.072654</td>\n",
       "      <td>0.007265</td>\n",
       "      <td>0.028680</td>\n",
       "      <td>0.000000</td>\n",
       "      <td>-0.012409</td>\n",
       "      <td>0.013366</td>\n",
       "      <td>0.000003</td>\n",
       "      <td>10.68</td>\n",
       "    </tr>\n",
       "    <tr>\n",
       "      <th>4</th>\n",
       "      <td>26.367</td>\n",
       "      <td>0.000448950358278</td>\n",
       "      <td>-0.000000000000004</td>\n",
       "      <td>0.000046434519033</td>\n",
       "      <td>-0.000019511146043</td>\n",
       "      <td>-0.000000000565626</td>\n",
       "      <td>-22.791475911283364</td>\n",
       "      <td>0.072659</td>\n",
       "      <td>0.007266</td>\n",
       "      <td>0.028607</td>\n",
       "      <td>0.000000</td>\n",
       "      <td>-0.012020</td>\n",
       "      <td>0.012948</td>\n",
       "      <td>0.000003</td>\n",
       "      <td>10.69</td>\n",
       "    </tr>\n",
       "    <tr>\n",
       "      <th>5</th>\n",
       "      <td>33.598</td>\n",
       "      <td>0.000489432222370</td>\n",
       "      <td>0.000000000000003</td>\n",
       "      <td>0.000047053490665</td>\n",
       "      <td>-0.000018561559632</td>\n",
       "      <td>0.000000000335778</td>\n",
       "      <td>-21.528135902307199</td>\n",
       "      <td>0.072662</td>\n",
       "      <td>0.007266</td>\n",
       "      <td>0.028987</td>\n",
       "      <td>0.000000</td>\n",
       "      <td>-0.011435</td>\n",
       "      <td>0.012317</td>\n",
       "      <td>0.000004</td>\n",
       "      <td>10.70</td>\n",
       "    </tr>\n",
       "    <tr>\n",
       "      <th>6</th>\n",
       "      <td>42.813</td>\n",
       "      <td>0.000547847773384</td>\n",
       "      <td>-0.000000000000001</td>\n",
       "      <td>0.000046474365742</td>\n",
       "      <td>-0.000015557240388</td>\n",
       "      <td>-0.000000000123788</td>\n",
       "      <td>-18.507910508623134</td>\n",
       "      <td>0.072666</td>\n",
       "      <td>0.007267</td>\n",
       "      <td>0.028629</td>\n",
       "      <td>0.000000</td>\n",
       "      <td>-0.009583</td>\n",
       "      <td>0.010323</td>\n",
       "      <td>0.000004</td>\n",
       "      <td>10.72</td>\n",
       "    </tr>\n",
       "    <tr>\n",
       "      <th>7</th>\n",
       "      <td>54.556</td>\n",
       "      <td>0.000631601843514</td>\n",
       "      <td>0.000000000000007</td>\n",
       "      <td>0.000045878440418</td>\n",
       "      <td>-0.000013763781892</td>\n",
       "      <td>0.000000000627997</td>\n",
       "      <td>-16.699530402551190</td>\n",
       "      <td>0.072673</td>\n",
       "      <td>0.007267</td>\n",
       "      <td>0.028259</td>\n",
       "      <td>0.000000</td>\n",
       "      <td>-0.008478</td>\n",
       "      <td>0.009132</td>\n",
       "      <td>0.000005</td>\n",
       "      <td>10.74</td>\n",
       "    </tr>\n",
       "    <tr>\n",
       "      <th>8</th>\n",
       "      <td>69.519</td>\n",
       "      <td>0.000749316812666</td>\n",
       "      <td>-0.000000000000003</td>\n",
       "      <td>0.000043707337653</td>\n",
       "      <td>-0.000011171957973</td>\n",
       "      <td>-0.000000000226228</td>\n",
       "      <td>-14.338271781029684</td>\n",
       "      <td>0.072686</td>\n",
       "      <td>0.007269</td>\n",
       "      <td>0.026917</td>\n",
       "      <td>0.000000</td>\n",
       "      <td>-0.006880</td>\n",
       "      <td>0.007412</td>\n",
       "      <td>0.000005</td>\n",
       "      <td>10.78</td>\n",
       "    </tr>\n",
       "    <tr>\n",
       "      <th>9</th>\n",
       "      <td>88.587</td>\n",
       "      <td>0.000906615667437</td>\n",
       "      <td>-0.000000000000008</td>\n",
       "      <td>0.000041499506788</td>\n",
       "      <td>-0.000009125680799</td>\n",
       "      <td>-0.000000000498482</td>\n",
       "      <td>-12.401873347546440</td>\n",
       "      <td>0.072683</td>\n",
       "      <td>0.007268</td>\n",
       "      <td>0.025558</td>\n",
       "      <td>0.000000</td>\n",
       "      <td>-0.005620</td>\n",
       "      <td>0.006055</td>\n",
       "      <td>0.000007</td>\n",
       "      <td>10.83</td>\n",
       "    </tr>\n",
       "    <tr>\n",
       "      <th>10</th>\n",
       "      <td>112.884</td>\n",
       "      <td>0.001111796890898</td>\n",
       "      <td>-0.000000000000027</td>\n",
       "      <td>0.000038388932370</td>\n",
       "      <td>-0.000007310324621</td>\n",
       "      <td>-0.000000001394371</td>\n",
       "      <td>-10.781629092923785</td>\n",
       "      <td>0.072689</td>\n",
       "      <td>0.007269</td>\n",
       "      <td>0.023640</td>\n",
       "      <td>0.000000</td>\n",
       "      <td>-0.004502</td>\n",
       "      <td>0.004850</td>\n",
       "      <td>0.000008</td>\n",
       "      <td>10.89</td>\n",
       "    </tr>\n",
       "    <tr>\n",
       "      <th>11</th>\n",
       "      <td>143.845</td>\n",
       "      <td>0.001378383807282</td>\n",
       "      <td>-0.000000000000012</td>\n",
       "      <td>0.000035379786101</td>\n",
       "      <td>-0.000006114329736</td>\n",
       "      <td>-0.000000000503266</td>\n",
       "      <td>-9.804999851759767</td>\n",
       "      <td>0.072692</td>\n",
       "      <td>0.007269</td>\n",
       "      <td>0.021786</td>\n",
       "      <td>0.000000</td>\n",
       "      <td>-0.003765</td>\n",
       "      <td>0.004057</td>\n",
       "      <td>0.000010</td>\n",
       "      <td>10.97</td>\n",
       "    </tr>\n",
       "    <tr>\n",
       "      <th>12</th>\n",
       "      <td>183.298</td>\n",
       "      <td>0.001720069307851</td>\n",
       "      <td>-0.000000000000033</td>\n",
       "      <td>0.000032845020813</td>\n",
       "      <td>-0.000004234173297</td>\n",
       "      <td>-0.000000001114319</td>\n",
       "      <td>-7.345697862710974</td>\n",
       "      <td>0.072691</td>\n",
       "      <td>0.007269</td>\n",
       "      <td>0.020226</td>\n",
       "      <td>0.000000</td>\n",
       "      <td>-0.002607</td>\n",
       "      <td>0.002811</td>\n",
       "      <td>0.000013</td>\n",
       "      <td>11.08</td>\n",
       "    </tr>\n",
       "    <tr>\n",
       "      <th>13</th>\n",
       "      <td>233.572</td>\n",
       "      <td>0.002153607878543</td>\n",
       "      <td>0.000000000000014</td>\n",
       "      <td>0.000030449366126</td>\n",
       "      <td>-0.000003898224664</td>\n",
       "      <td>0.000000000365747</td>\n",
       "      <td>-7.295502980621154</td>\n",
       "      <td>0.072704</td>\n",
       "      <td>0.007270</td>\n",
       "      <td>0.018747</td>\n",
       "      <td>0.000000</td>\n",
       "      <td>-0.002400</td>\n",
       "      <td>0.002588</td>\n",
       "      <td>0.000016</td>\n",
       "      <td>11.21</td>\n",
       "    </tr>\n",
       "    <tr>\n",
       "      <th>14</th>\n",
       "      <td>297.635</td>\n",
       "      <td>0.002699094372952</td>\n",
       "      <td>0.000000000000089</td>\n",
       "      <td>0.000027882197486</td>\n",
       "      <td>-0.000002835021771</td>\n",
       "      <td>0.000000001879568</td>\n",
       "      <td>-5.805799573400614</td>\n",
       "      <td>0.072709</td>\n",
       "      <td>0.007271</td>\n",
       "      <td>0.017166</td>\n",
       "      <td>0.000000</td>\n",
       "      <td>-0.001745</td>\n",
       "      <td>0.001884</td>\n",
       "      <td>0.000020</td>\n",
       "      <td>11.38</td>\n",
       "    </tr>\n",
       "    <tr>\n",
       "      <th>15</th>\n",
       "      <td>379.269</td>\n",
       "      <td>0.003380789438269</td>\n",
       "      <td>0.000000000000036</td>\n",
       "      <td>0.000025719618918</td>\n",
       "      <td>-0.000001858885476</td>\n",
       "      <td>0.000000000616579</td>\n",
       "      <td>-4.133864516953495</td>\n",
       "      <td>0.072716</td>\n",
       "      <td>0.007272</td>\n",
       "      <td>0.015833</td>\n",
       "      <td>0.000000</td>\n",
       "      <td>-0.001144</td>\n",
       "      <td>0.001239</td>\n",
       "      <td>0.000025</td>\n",
       "      <td>11.59</td>\n",
       "    </tr>\n",
       "    <tr>\n",
       "      <th>16</th>\n",
       "      <td>483.293</td>\n",
       "      <td>0.004221603146796</td>\n",
       "      <td>-0.000000000000087</td>\n",
       "      <td>0.000024514551355</td>\n",
       "      <td>-0.000000503602089</td>\n",
       "      <td>-0.000000001185297</td>\n",
       "      <td>-1.176860873933786</td>\n",
       "      <td>0.072718</td>\n",
       "      <td>0.007272</td>\n",
       "      <td>0.015090</td>\n",
       "      <td>0.000000</td>\n",
       "      <td>-0.000310</td>\n",
       "      <td>0.000356</td>\n",
       "      <td>0.000031</td>\n",
       "      <td>11.85</td>\n",
       "    </tr>\n",
       "    <tr>\n",
       "      <th>17</th>\n",
       "      <td>615.848</td>\n",
       "      <td>0.005244146814339</td>\n",
       "      <td>0.000000000000112</td>\n",
       "      <td>0.000022501190238</td>\n",
       "      <td>0.000000274076334</td>\n",
       "      <td>0.000000001222981</td>\n",
       "      <td>0.697858224719321</td>\n",
       "      <td>0.072725</td>\n",
       "      <td>0.007272</td>\n",
       "      <td>0.013850</td>\n",
       "      <td>0.000000</td>\n",
       "      <td>0.000169</td>\n",
       "      <td>0.000219</td>\n",
       "      <td>0.000038</td>\n",
       "      <td>12.16</td>\n",
       "    </tr>\n",
       "    <tr>\n",
       "      <th>18</th>\n",
       "      <td>784.760</td>\n",
       "      <td>0.006462303064327</td>\n",
       "      <td>-0.000000000000175</td>\n",
       "      <td>0.000022730137211</td>\n",
       "      <td>0.000001311000306</td>\n",
       "      <td>-0.000000001549125</td>\n",
       "      <td>3.300976901672616</td>\n",
       "      <td>0.072726</td>\n",
       "      <td>0.007273</td>\n",
       "      <td>0.013991</td>\n",
       "      <td>0.000000</td>\n",
       "      <td>0.000807</td>\n",
       "      <td>0.000878</td>\n",
       "      <td>0.000047</td>\n",
       "      <td>12.54</td>\n",
       "    </tr>\n",
       "    <tr>\n",
       "      <th>19</th>\n",
       "      <td>1000.000</td>\n",
       "      <td>0.007868525269526</td>\n",
       "      <td>0.000000000000181</td>\n",
       "      <td>0.000021630771589</td>\n",
       "      <td>0.000004527720251</td>\n",
       "      <td>0.000000001318910</td>\n",
       "      <td>11.822375124226774</td>\n",
       "      <td>0.072728</td>\n",
       "      <td>0.007273</td>\n",
       "      <td>0.013313</td>\n",
       "      <td>0.000000</td>\n",
       "      <td>0.002787</td>\n",
       "      <td>0.003004</td>\n",
       "      <td>0.000057</td>\n",
       "      <td>12.97</td>\n",
       "    </tr>\n",
       "  </tbody>\n",
       "</table>\n",
       "</div>"
      ],
      "text/plain": [
       "   Frequency             Re(1ω)              Im(1ω)             Re(3ω)  \\\n",
       "0     10.000  0.000387953496807   0.000000000000002  0.000048812323303   \n",
       "1     12.743  0.000394315199843  -0.000000000000001  0.000047383377139   \n",
       "2     16.238  0.000405627627417  -0.000000000000003  0.000047144998565   \n",
       "3     20.691  0.000422922871691   0.000000000000001  0.000046549020696   \n",
       "4     26.367  0.000448950358278  -0.000000000000004  0.000046434519033   \n",
       "5     33.598  0.000489432222370   0.000000000000003  0.000047053490665   \n",
       "6     42.813  0.000547847773384  -0.000000000000001  0.000046474365742   \n",
       "7     54.556  0.000631601843514   0.000000000000007  0.000045878440418   \n",
       "8     69.519  0.000749316812666  -0.000000000000003  0.000043707337653   \n",
       "9     88.587  0.000906615667437  -0.000000000000008  0.000041499506788   \n",
       "10   112.884  0.001111796890898  -0.000000000000027  0.000038388932370   \n",
       "11   143.845  0.001378383807282  -0.000000000000012  0.000035379786101   \n",
       "12   183.298  0.001720069307851  -0.000000000000033  0.000032845020813   \n",
       "13   233.572  0.002153607878543   0.000000000000014  0.000030449366126   \n",
       "14   297.635  0.002699094372952   0.000000000000089  0.000027882197486   \n",
       "15   379.269  0.003380789438269   0.000000000000036  0.000025719618918   \n",
       "16   483.293  0.004221603146796  -0.000000000000087  0.000024514551355   \n",
       "17   615.848  0.005244146814339   0.000000000000112  0.000022501190238   \n",
       "18   784.760  0.006462303064327  -0.000000000000175  0.000022730137211   \n",
       "19  1000.000  0.007868525269526   0.000000000000181  0.000021630771589   \n",
       "\n",
       "                Im(3ω)           Phase(1ω)            Phase(3ω)      Vref  \\\n",
       "0   -0.000018603620542   0.000000000346644  -20.863118873853402  0.072630   \n",
       "1   -0.000019261869470  -0.000000000095081  -22.122288617799825  0.072651   \n",
       "2   -0.000019500672174  -0.000000000465156  -22.471544671649127  0.072650   \n",
       "3   -0.000020140709309   0.000000000178724  -23.397044525056561  0.072654   \n",
       "4   -0.000019511146043  -0.000000000565626  -22.791475911283364  0.072659   \n",
       "5   -0.000018561559632   0.000000000335778  -21.528135902307199  0.072662   \n",
       "6   -0.000015557240388  -0.000000000123788  -18.507910508623134  0.072666   \n",
       "7   -0.000013763781892   0.000000000627997  -16.699530402551190  0.072673   \n",
       "8   -0.000011171957973  -0.000000000226228  -14.338271781029684  0.072686   \n",
       "9   -0.000009125680799  -0.000000000498482  -12.401873347546440  0.072683   \n",
       "10  -0.000007310324621  -0.000000001394371  -10.781629092923785  0.072689   \n",
       "11  -0.000006114329736  -0.000000000503266   -9.804999851759767  0.072692   \n",
       "12  -0.000004234173297  -0.000000001114319   -7.345697862710974  0.072691   \n",
       "13  -0.000003898224664   0.000000000365747   -7.295502980621154  0.072704   \n",
       "14  -0.000002835021771   0.000000001879568   -5.805799573400614  0.072709   \n",
       "15  -0.000001858885476   0.000000000616579   -4.133864516953495  0.072716   \n",
       "16  -0.000000503602089  -0.000000001185297   -1.176860873933786  0.072718   \n",
       "17   0.000000274076334   0.000000001222981    0.697858224719321  0.072725   \n",
       "18   0.000001311000306  -0.000000001549125    3.300976901672616  0.072726   \n",
       "19   0.000004527720251   0.000000001318910   11.822375124226774  0.072728   \n",
       "\n",
       "     Current    Re(ΔT) Δ[Re(ΔT)]     Im(ΔT) Δ[Im(ΔT)]     Power Temperature  \n",
       "0   0.007263  0.030084  0.000000  -0.011466  0.012350  0.000003       10.67  \n",
       "1   0.007265  0.029195  0.000000  -0.011868  0.012784  0.000003       10.67  \n",
       "2   0.007265  0.029048  0.000000  -0.012015  0.012942  0.000003       10.67  \n",
       "3   0.007265  0.028680  0.000000  -0.012409  0.013366  0.000003       10.68  \n",
       "4   0.007266  0.028607  0.000000  -0.012020  0.012948  0.000003       10.69  \n",
       "5   0.007266  0.028987  0.000000  -0.011435  0.012317  0.000004       10.70  \n",
       "6   0.007267  0.028629  0.000000  -0.009583  0.010323  0.000004       10.72  \n",
       "7   0.007267  0.028259  0.000000  -0.008478  0.009132  0.000005       10.74  \n",
       "8   0.007269  0.026917  0.000000  -0.006880  0.007412  0.000005       10.78  \n",
       "9   0.007268  0.025558  0.000000  -0.005620  0.006055  0.000007       10.83  \n",
       "10  0.007269  0.023640  0.000000  -0.004502  0.004850  0.000008       10.89  \n",
       "11  0.007269  0.021786  0.000000  -0.003765  0.004057  0.000010       10.97  \n",
       "12  0.007269  0.020226  0.000000  -0.002607  0.002811  0.000013       11.08  \n",
       "13  0.007270  0.018747  0.000000  -0.002400  0.002588  0.000016       11.21  \n",
       "14  0.007271  0.017166  0.000000  -0.001745  0.001884  0.000020       11.38  \n",
       "15  0.007272  0.015833  0.000000  -0.001144  0.001239  0.000025       11.59  \n",
       "16  0.007272  0.015090  0.000000  -0.000310  0.000356  0.000031       11.85  \n",
       "17  0.007272  0.013850  0.000000   0.000169  0.000219  0.000038       12.16  \n",
       "18  0.007273  0.013991  0.000000   0.000807  0.000878  0.000047       12.54  \n",
       "19  0.007273  0.013313  0.000000   0.002787  0.003004  0.000057       12.97  "
      ]
     },
     "execution_count": 10,
     "metadata": {},
     "output_type": "execute_result"
    }
   ],
   "source": [
    "df"
   ]
  },
  {
   "cell_type": "markdown",
   "id": "2667ddce-66cf-4f9e-bc3b-d698d59c891a",
   "metadata": {},
   "source": [
    "### Korrelationsgleichung fuer die Kalibrierung"
   ]
  },
  {
   "cell_type": "code",
   "execution_count": 11,
   "id": "7dece50b-9373-44fd-9510-b2418dd8fe85",
   "metadata": {},
   "outputs": [],
   "source": [
    "# LaTeX rendering\n",
    "printing.init_printing()"
   ]
  },
  {
   "cell_type": "code",
   "execution_count": 12,
   "id": "d12add72-f6c1-40ab-aa33-b95e34c292df",
   "metadata": {},
   "outputs": [],
   "source": [
    "# Define variables\n",
    "dRdT = symbols('dR/dT')\n",
    "dVdf= symbols('dV3w/dlnf')\n",
    "dR,dT,L,lambda_sub,lambda_air,f,P,I = symbols('dR dT L lambda_sub lambda_air f P I')\n"
   ]
  },
  {
   "cell_type": "code",
   "execution_count": 13,
   "id": "fa6c256f-7efd-48d9-bb20-adcfadd9f4d0",
   "metadata": {},
   "outputs": [],
   "source": [
    "equation_dRdT = Eq( ((-4*pi*L)/(P*I))*(lambda_sub)*(dVdf)- dRdT,0)"
   ]
  },
  {
   "cell_type": "code",
   "execution_count": 14,
   "id": "d549adb0-85e6-4259-9846-76653bb6521c",
   "metadata": {},
   "outputs": [
    {
     "data": {
      "image/png": "[encoded data removed]",
      "text/latex": [
       "$\\displaystyle - dR/dT - \\frac{4 \\pi L dV3w/dlnf \\lambda_{sub}}{I P} = 0$"
      ],
      "text/plain": [
       "         4⋅π⋅L⋅dV3w/dlnf⋅λ_sub    \n",
       "-dR/dT - ───────────────────── = 0\n",
       "                  I⋅P             "
      ]
     },
     "metadata": {},
     "output_type": "display_data"
    }
   ],
   "source": [
    "display(equation_dRdT)"
   ]
  },
  {
   "cell_type": "markdown",
   "id": "9cb0057c-b5fb-4569-9ef7-408f361be15f",
   "metadata": {},
   "source": [
    "### dR/dT Berechnung (unter Cryo)"
   ]
  },
  {
   "cell_type": "markdown",
   "id": "1db95f70-9ff9-4e90-9d71-573f32622ae3",
   "metadata": {},
   "source": [
    "#### Parameters fuer die Berechnung"
   ]
  },
  {
   "cell_type": "code",
   "execution_count": 15,
   "id": "000b0112-e37a-4a02-bdeb-0a26b86cccbb",
   "metadata": {},
   "outputs": [],
   "source": [
    "# Geometrie und Bedingungen\n",
    "T_ref=25                  # Room temperature, 25 03.12.24\n",
    "lambda_substrate_ref= 1.2 # Temperature 20C\n",
    "\n",
    "# Slope dRe(V3w)/dlnf Berechnung\n",
    "v3w=df['Re(3ω)'].values\n",
    "f=df['Frequency'].values\n",
    "v3w=v3w.astype(float)\n",
    "f=f.astype(float)\n",
    "\n",
    "## dRdT Berechnung\n",
    "\n",
    "L_mess=1000e-6\n",
    "P_mess= df['Power'].values\n",
    "P_mess=P_mess.astype(float)\n",
    "\n",
    "I_mess= df['Current'].values\n",
    "I_mess=I_mess.astype(float)"
   ]
  },
  {
   "cell_type": "markdown",
   "id": "de134b31-2608-499d-a043-e708e440f3ad",
   "metadata": {},
   "source": [
    "#### Substrate thermal conductivity"
   ]
  },
  {
   "cell_type": "code",
   "execution_count": 16,
   "id": "a479ef2e-5f25-4a60-a8a0-9e98d9b60215",
   "metadata": {},
   "outputs": [],
   "source": [
    "lambdaSubstrate=lambda T: 1.2 + 0.0013*(T-20)"
   ]
  },
  {
   "cell_type": "markdown",
   "id": "2fc418ad-e22d-4838-96a9-c791deab2731",
   "metadata": {},
   "source": [
    "#### Slope dRe(V3w)/dln(f)"
   ]
  },
  {
   "cell_type": "code",
   "execution_count": 17,
   "id": "81b51927-20d8-45c9-8441-4f7a93f12d5d",
   "metadata": {},
   "outputs": [
    {
     "data": {
      "text/plain": [
       "array([4.88123233e-05, 4.73833771e-05, 4.71449986e-05, 4.65490207e-05,\n",
       "       4.64345190e-05, 4.70534907e-05, 4.64743657e-05, 4.58784404e-05,\n",
       "       4.37073377e-05, 4.14995068e-05, 3.83889324e-05, 3.53797861e-05,\n",
       "       3.28450208e-05, 3.04493661e-05, 2.78821975e-05, 2.57196189e-05,\n",
       "       2.45145514e-05, 2.25011902e-05, 2.27301372e-05, 2.16307716e-05])"
      ]
     },
     "execution_count": 17,
     "metadata": {},
     "output_type": "execute_result"
    }
   ],
   "source": [
    "v3w"
   ]
  },
  {
   "cell_type": "code",
   "execution_count": 18,
   "id": "712ac750-3a84-4a5c-a491-89c07bbdde9d",
   "metadata": {},
   "outputs": [],
   "source": [
    "lnf=np.log(f)"
   ]
  },
  {
   "cell_type": "code",
   "execution_count": 19,
   "id": "b5c37aa2-7267-44be-888d-ee466c4ff365",
   "metadata": {},
   "outputs": [
    {
     "name": "stdout",
     "output_type": "stream",
     "text": [
      "[4.88123233e-05 4.73833771e-05 4.71449986e-05 4.65490207e-05\n",
      " 4.64345190e-05 4.70534907e-05 4.64743657e-05 4.58784404e-05\n",
      " 4.37073377e-05 4.14995068e-05 3.83889324e-05 3.53797861e-05\n",
      " 3.28450208e-05 3.04493661e-05 2.78821975e-05 2.57196189e-05\n",
      " 2.45145514e-05 2.25011902e-05 2.27301372e-05 2.16307716e-05]\n",
      "[  10.      12.743   16.238   20.691   26.367   33.598   42.813   54.556\n",
      "   69.519   88.587  112.884  143.845  183.298  233.572  297.635  379.269\n",
      "  483.293  615.848  784.76  1000.   ]\n",
      "[2.30258509 2.5449821  2.78735417 3.02969882 3.27211323 3.51446654\n",
      " 3.75684179 3.9992277  4.2416001  4.48398512 4.72636074 4.96873633\n",
      " 5.21111324 5.45349038 5.6958679  5.93824572 6.18062309 6.42300018\n",
      " 6.66537794 6.90775528]\n"
     ]
    }
   ],
   "source": [
    "print(v3w)\n",
    "print(f)\n",
    "print(lnf)"
   ]
  },
  {
   "cell_type": "code",
   "execution_count": 20,
   "id": "534e0809-9721-4a76-a07e-95cd5e66bce5",
   "metadata": {},
   "outputs": [
    {
     "name": "stdout",
     "output_type": "stream",
     "text": [
      "Slope: -6.8168861922053655e-06, Intercept: 6.854187608083748e-05\n"
     ]
    },
    {
     "data": {
      "image/png": "[encoded data removed]",
      "text/plain": [
       "<Figure size 640x480 with 1 Axes>"
      ]
     },
     "metadata": {},
     "output_type": "display_data"
    }
   ],
   "source": [
    "X=lnf\n",
    "Y=v3w\n",
    "# Perform linear regression using NumPy's polyfit\n",
    "coefficients = np.polyfit(X, Y, 1)\n",
    "slope, intercept = coefficients\n",
    "\n",
    "# Print the slope and intercept\n",
    "print(f\"Slope: {slope}, Intercept: {intercept}\")\n",
    "\n",
    "# Linear regression\n",
    "Y_pred = slope * X + intercept\n",
    "\n",
    "# Plot the data and regression line\n",
    "plt.scatter(X, Y, label='Experimental Data')\n",
    "plt.plot(X, Y_pred, color='red', label='Regression Line')\n",
    "plt.xlabel('ln(f(Hz))')\n",
    "plt.ylabel('Re(V3w)')\n",
    "plt.legend()\n",
    "plt.show()"
   ]
  },
  {
   "cell_type": "code",
   "execution_count": 22,
   "id": "fbb73723-b624-4569-b28f-a20e69c96f29",
   "metadata": {},
   "outputs": [
    {
     "name": "stdout",
     "output_type": "stream",
     "text": [
      "-6.8168861922053655e-06\n"
     ]
    }
   ],
   "source": [
    "# Sölope 'dV3w/dlnf' calculated for dR/dT calculation\n",
    "\n",
    "dVdf_mess=slope\n",
    "print(dVdf_mess)"
   ]
  },
  {
   "cell_type": "markdown",
   "id": "842aa235-c5f6-4ef4-8d77-9b78d747e120",
   "metadata": {},
   "source": [
    "#### dR/dT Berechnung"
   ]
  },
  {
   "cell_type": "code",
   "execution_count": 23,
   "id": "fba2d118-9644-4754-9f0e-d213d71fe43a",
   "metadata": {},
   "outputs": [
    {
     "name": "stdout",
     "output_type": "stream",
     "text": [
      "1.5250000000000001e-05\n",
      "0.00726855\n",
      "1.2065\n"
     ]
    }
   ],
   "source": [
    "P_mean= np.mean(P_mess)\n",
    "I_mean= np.mean(I_mess)\n",
    "lambdaSubstrate_mess=lambdaSubstrate(T_ref)\n",
    "print(P_mean)\n",
    "print(I_mean)\n",
    "print(lambdaSubstrate_mess)"
   ]
  },
  {
   "cell_type": "code",
   "execution_count": 24,
   "id": "1d5bc669-2a7a-4f6f-9d4e-d767cddf6331",
   "metadata": {},
   "outputs": [],
   "source": [
    "substituted_eq = equation_dRdT.subs({P: P_mean, I:I_mean, lambda_sub:lambdaSubstrate_mess,dVdf:dVdf_mess, L:L_mess})"
   ]
  },
  {
   "cell_type": "code",
   "execution_count": 25,
   "id": "34b24e6b-4f1f-45c3-a0e5-2f7b099460db",
   "metadata": {},
   "outputs": [
    {
     "data": {
      "image/png": "[encoded data removed]",
      "text/latex": [
       "$\\displaystyle - dR/dT + 0.296794422443452 \\pi = 0$"
      ],
      "text/plain": [
       "-dR/dT + 0.296794422443452⋅π = 0"
      ]
     },
     "execution_count": 25,
     "metadata": {},
     "output_type": "execute_result"
    }
   ],
   "source": [
    "substituted_eq"
   ]
  },
  {
   "cell_type": "code",
   "execution_count": 26,
   "id": "28498572-d6a6-4fe9-92e1-e48409d29bd2",
   "metadata": {},
   "outputs": [],
   "source": [
    "sol = solve(substituted_eq, dRdT)"
   ]
  },
  {
   "cell_type": "code",
   "execution_count": 27,
   "id": "8b06134e-3c6a-48a2-998e-b1916c55cb5a",
   "metadata": {},
   "outputs": [
    {
     "name": "stdout",
     "output_type": "stream",
     "text": [
      "0.9324071771747745\n"
     ]
    }
   ],
   "source": [
    "dRdT_mess=float(sol[0])\n",
    "print(dRdT_mess)"
   ]
  },
  {
   "cell_type": "markdown",
   "id": "1f89e954-df84-42ff-96b9-75a13931fb1e",
   "metadata": {},
   "source": [
    "## Messung"
   ]
  },
  {
   "cell_type": "markdown",
   "id": "d35a2811-3e60-4c3a-b9fc-683236af3885",
   "metadata": {},
   "source": [
    "### Import data"
   ]
  },
  {
   "cell_type": "code",
   "execution_count": 22,
   "id": "422956b7-be55-4af5-8673-8b58182083d0",
   "metadata": {},
   "outputs": [
    {
     "name": "stdout",
     "output_type": "stream",
     "text": [
      "  Frequency             Re(1ω)              Im(1ω)             Re(3ω)  \\\n",
      "0    10.000  0.128168420396861  -0.000000000000004  0.001201514320429   \n",
      "1    14.592  0.128929742917524   0.000000000000003  0.001113346330013   \n",
      "2    21.294  0.129612913502709   0.000000000000004  0.001029477080947   \n",
      "3    31.072  0.130401750345415   0.000000000000010  0.000950022228322   \n",
      "4    45.342  0.130923792752236   0.000000000000005  0.000871625278675   \n",
      "5    66.164  0.131501573258185  -0.000000000000018  0.000796766542770   \n",
      "6    96.549  0.131855597866627   0.000000000000010  0.000723240231149   \n",
      "7   140.887  0.132121031585632  -0.000000000000012  0.000650013159849   \n",
      "8   205.587  0.132404500544174   0.000000000000039  0.000577341312168   \n",
      "9   300.000  0.132491124737582   0.000000000000149  0.000507469009460   \n",
      "\n",
      "               Im(3ω)           Phase(1ω)            Phase(3ω)      Vref  \\\n",
      "0  -0.000279804426717  -0.000000000001870  -13.109195621472953  0.099384   \n",
      "1  -0.000277384384230   0.000000000001249  -13.990114035348618  0.099090   \n",
      "2  -0.000275458954937   0.000000000001636  -14.979819379861420  0.098844   \n",
      "3  -0.000273876427473   0.000000000004540  -16.081437325952354  0.098694   \n",
      "4  -0.000271773873834   0.000000000002236  -17.317545171358915  0.098499   \n",
      "5  -0.000270357226748  -0.000000000007992  -18.742999108909647  0.098368   \n",
      "6  -0.000267692321052   0.000000000004210  -20.310984168378134  0.098208   \n",
      "7  -0.000264381749779  -0.000000000005122  -22.133193942631220  0.098012   \n",
      "8  -0.000260149654714   0.000000000017062  -24.256299136321825  0.097772   \n",
      "9  -0.000254816879729   0.000000000064306  -26.662732169375502  0.097530   \n",
      "\n",
      "    Current    Re(ΔT) Δ[Re(ΔT)]     Im(ΔT) Δ[Im(ΔT)]     Power Temperature  \n",
      "0  0.009938  1.889020  0.000000  -0.439908  0.002101  0.001274     -145.23  \n",
      "1  0.009909  1.755598  0.000000  -0.437398  0.002089  0.001278     -144.34  \n",
      "2  0.009884  1.627391  0.000000  -0.435444  0.002080  0.001281     -143.54  \n",
      "3  0.009869  1.504062  0.000000  -0.433597  0.002071  0.001287     -142.76  \n",
      "4  0.009850  1.382681  0.000000  -0.431122  0.002059  0.001290     -142.14  \n",
      "5  0.009837  1.265610  0.000000  -0.429444  0.002051  0.001294     -141.55  \n",
      "6  0.009821  1.150694  0.000000  -0.425905  0.002035  0.001295     -141.09  \n",
      "7  0.009801  1.036261  0.000000  -0.421481  0.002014  0.001295     -140.67  \n",
      "8  0.009777  0.922663  0.000000  -0.415751  0.001987  0.001295     -140.19  \n",
      "9  0.009753  0.813010  0.000000  -0.408239  0.001951  0.001292     -139.86  \n"
     ]
    }
   ],
   "source": [
    "# File import\n",
    "with open('testdata.txt', 'r') as file:\n",
    "    lines = file.readlines()[0:]\n",
    "\n",
    "data_sample = []\n",
    "for line in lines:\n",
    "    # Split\n",
    "    parts = line.split()\n",
    "    \n",
    "    # Bye first column\n",
    "    row = parts[2:]\n",
    "    data_sample.append(row)\n",
    "\n",
    "# Column names\n",
    "columns = [\n",
    "     \"Frequency\", \"Re(1ω)\", \"Im(1ω)\", \"Re(3ω)\", \"Im(3ω)\", \"Phase(1ω)\", \"Phase(3ω)\",\n",
    "    \"Vref\", \"Current\", \"Re(ΔT)\", \"Δ[Re(ΔT)]\", \"Im(ΔT)\", \"Δ[Im(ΔT)]\", \"Power\", \"Temperature\"\n",
    "]\n",
    "\n",
    "# DataFrame\n",
    "df_sample = pd.DataFrame(data_sample, columns=columns)\n",
    "print(df_sample)"
   ]
  },
  {
   "cell_type": "code",
   "execution_count": 23,
   "id": "f044c8e5-c7ea-4f28-bbe5-93099e819f00",
   "metadata": {},
   "outputs": [],
   "source": [
    "dRdT_mess=float(sol[0])"
   ]
  },
  {
   "cell_type": "code",
   "execution_count": 24,
   "id": "d208f9f1-7c69-4c24-a597-a97c7d570095",
   "metadata": {},
   "outputs": [
    {
     "name": "stdout",
     "output_type": "stream",
     "text": [
      "0.2423272639314181\n"
     ]
    }
   ],
   "source": [
    "print(dRdT_mess)"
   ]
  },
  {
   "cell_type": "markdown",
   "id": "81fbde05-b17d-4e12-8874-7f937b092a9b",
   "metadata": {},
   "source": [
    "### Korrelationsgleichung fuer die Messung"
   ]
  },
  {
   "cell_type": "code",
   "execution_count": 25,
   "id": "15d42ce7-280e-46d1-a418-522408533bf0",
   "metadata": {},
   "outputs": [],
   "source": [
    "# Define variables\n",
    "dRdT = symbols('dR/dT')\n",
    "dVdf= symbols('dV3w/dlnf')\n",
    "dR,dT,L,lambda_sample,lambda_sub,f,P,I = symbols('dR dT L lambda_sample, lambda_sub f P I')"
   ]
  },
  {
   "cell_type": "code",
   "execution_count": 26,
   "id": "e96e7fcc-91e6-4347-86ff-1603a301342b",
   "metadata": {},
   "outputs": [],
   "source": [
    "equation_lambdaSample= Eq( (-P*I*dRdT/(4*pi*L))*(dVdf)**(-1)-lambda_sub-lambda_sample,0)"
   ]
  },
  {
   "cell_type": "code",
   "execution_count": 27,
   "id": "1e49480d-09e8-4a1c-a9fc-4e9b2ecbbfdd",
   "metadata": {},
   "outputs": [
    {
     "data": {
      "image/png": "[encoded data removed]",
      "text/latex": [
       "$\\displaystyle - \\frac{I P dR/dT}{4 \\pi L dV3w/dlnf} - \\lambda_{sample} - \\lambda_{sub} = 0$"
      ],
      "text/plain": [
       "     I⋅P⋅dR/dT                         \n",
       "- ─────────────── - λₛₐₘₚₗₑ - λ_sub = 0\n",
       "  4⋅π⋅L⋅dV3w/dlnf                      "
      ]
     },
     "metadata": {},
     "output_type": "display_data"
    }
   ],
   "source": [
    "display(equation_lambdaSample)"
   ]
  },
  {
   "cell_type": "markdown",
   "id": "ffba4f04-913b-4d45-b838-5ee967ba0ef4",
   "metadata": {},
   "source": [
    "### Thermal conductivity Berechnung"
   ]
  },
  {
   "cell_type": "markdown",
   "id": "2dcb9f2a-3952-4ed2-b4d4-6df058a20d54",
   "metadata": {},
   "source": [
    "#### Parameters fuer die Berechnung"
   ]
  },
  {
   "cell_type": "code",
   "execution_count": 28,
   "id": "be6f46b2-066e-4957-aae5-e533898bf58e",
   "metadata": {},
   "outputs": [
    {
     "name": "stdout",
     "output_type": "stream",
     "text": [
      "0.2423272639314181\n"
     ]
    }
   ],
   "source": [
    "# Geometrie und Bedingungen\n",
    "T_ref=24                  # Room temperature\n",
    "lambda_substrate_ref= 1.2 # Temperature 20C\n",
    "print(dRdT_mess)\n",
    "\n",
    "# Slope dRe(V3w)/dlnf Berechnung\n",
    "v3w=df['Re(3ω)'].values\n",
    "f=df['Frequency'].values\n",
    "v3w=v3w.astype(float)\n",
    "f=f.astype(float)\n",
    "\n",
    "## dRdT Berechnung\n",
    "\n",
    "L_mess=1000e-6\n",
    "P_mess= df['Power'].values\n",
    "P_mess=P_mess.astype(float)\n",
    "\n",
    "I_mess= df['Current'].values\n",
    "I_mess=I_mess.astype(float)"
   ]
  },
  {
   "cell_type": "markdown",
   "id": "ac890f85-5225-45a7-8117-65c576b840ea",
   "metadata": {},
   "source": [
    "#### Slope dRe(V3w)/dln(f)"
   ]
  },
  {
   "cell_type": "code",
   "execution_count": 29,
   "id": "da920f6d-a26e-4f8a-8f29-225d904457bf",
   "metadata": {},
   "outputs": [
    {
     "data": {
      "text/plain": [
       "array([0.00120151, 0.00111335, 0.00102948, 0.00095002, 0.00087163,\n",
       "       0.00079677, 0.00072324, 0.00065001, 0.00057734, 0.00050747])"
      ]
     },
     "execution_count": 29,
     "metadata": {},
     "output_type": "execute_result"
    }
   ],
   "source": [
    "v3w"
   ]
  },
  {
   "cell_type": "code",
   "execution_count": 30,
   "id": "7cd6eaa4-ef56-4235-9764-31ed0f1ec19d",
   "metadata": {},
   "outputs": [],
   "source": [
    "lnf=np.log(f)"
   ]
  },
  {
   "cell_type": "code",
   "execution_count": 31,
   "id": "47740b92-0567-4635-b869-f3ab400e057e",
   "metadata": {},
   "outputs": [
    {
     "name": "stdout",
     "output_type": "stream",
     "text": [
      "[0.00120151 0.00111335 0.00102948 0.00095002 0.00087163 0.00079677\n",
      " 0.00072324 0.00065001 0.00057734 0.00050747]\n",
      "[ 10.     14.592  21.294  31.072  45.342  66.164  96.549 140.887 205.587\n",
      " 300.   ]\n",
      "[2.30258509 2.68047343 3.05842534 3.43630709 3.81423376 4.19213651\n",
      " 4.57005065 4.94795815 5.3258693  5.70378247]\n"
     ]
    }
   ],
   "source": [
    "print(v3w)\n",
    "print(f)\n",
    "print(lnf)"
   ]
  },
  {
   "cell_type": "code",
   "execution_count": 32,
   "id": "cf69fc40-4e74-4965-aae5-597fc3c72440",
   "metadata": {},
   "outputs": [
    {
     "name": "stdout",
     "output_type": "stream",
     "text": [
      "Slope: -0.00020288505883722638, Intercept: 0.0016542674015800065\n"
     ]
    },
    {
     "data": {
      "image/png": "[encoded data removed]",
      "text/plain": [
       "<Figure size 640x480 with 1 Axes>"
      ]
     },
     "metadata": {},
     "output_type": "display_data"
    }
   ],
   "source": [
    "X=lnf\n",
    "Y=v3w\n",
    "# Perform linear regression using NumPy's polyfit\n",
    "coefficients = np.polyfit(X, Y, 1)\n",
    "slope, intercept = coefficients\n",
    "\n",
    "# Print the slope and intercept\n",
    "print(f\"Slope: {slope}, Intercept: {intercept}\")\n",
    "\n",
    "# Linear regression\n",
    "Y_pred = slope * X + intercept\n",
    "\n",
    "# Plot the data and regression line\n",
    "plt.scatter(X, Y, label='Experimental Data')\n",
    "plt.plot(X, Y_pred, color='red', label='Regression Line')\n",
    "plt.xlabel('ln(f(Hz))')\n",
    "plt.ylabel('Re(V3w)')\n",
    "plt.legend()\n",
    "plt.show()"
   ]
  },
  {
   "cell_type": "code",
   "execution_count": 33,
   "id": "6c23bee2-e62c-4c67-a020-eb2c43e91d5b",
   "metadata": {},
   "outputs": [
    {
     "name": "stdout",
     "output_type": "stream",
     "text": [
      "-0.00020288505883722638\n"
     ]
    }
   ],
   "source": [
    "# Sölope 'dV3w/dlnf' calculated for dR/dT calculation\n",
    "\n",
    "dVdf_mess=slope\n",
    "print(dVdf_mess)"
   ]
  },
  {
   "cell_type": "markdown",
   "id": "6cce0510-eba6-49da-81f9-3e56bb0e112a",
   "metadata": {},
   "source": [
    "#### Thermal conductivity der Probe Berechnung"
   ]
  },
  {
   "cell_type": "code",
   "execution_count": 34,
   "id": "7ae18ecf-f84b-44a1-a539-5cfa78c1c834",
   "metadata": {},
   "outputs": [
    {
     "name": "stdout",
     "output_type": "stream",
     "text": [
      "0.0012881\n",
      "0.0098439\n",
      "1.2052\n",
      "0.2423272639314181\n"
     ]
    }
   ],
   "source": [
    "P_mean= np.mean(P_mess)\n",
    "I_mean= np.mean(I_mess)\n",
    "lambdaSubstrate_mess=lambdaSubstrate(T_ref)\n",
    "print(P_mean)\n",
    "print(I_mean)\n",
    "print(lambdaSubstrate_mess)\n",
    "print(dRdT_mess)"
   ]
  },
  {
   "cell_type": "code",
   "execution_count": 35,
   "id": "8663fc88-29aa-4178-abd2-36afa0714734",
   "metadata": {},
   "outputs": [],
   "source": [
    "substituted_eqLambdaSample = equation_lambdaSample.subs({dRdT:dRdT_mess,P: P_mean, I:I_mean, lambda_sub:lambdaSubstrate_mess,dVdf:dVdf_mess, L:L_mess})"
   ]
  },
  {
   "cell_type": "code",
   "execution_count": 36,
   "id": "b6df04c2-9626-49ba-8f10-9100c303500d",
   "metadata": {},
   "outputs": [
    {
     "data": {
      "image/png": "[encoded data removed]",
      "text/latex": [
       "$\\displaystyle - \\lambda_{sample} - 1.2052 + \\frac{3.78624746610642}{\\pi} = 0$"
      ],
      "text/plain": [
       "                    3.78624746610642    \n",
       "-λₛₐₘₚₗₑ - 1.2052 + ──────────────── = 0\n",
       "                           π            "
      ]
     },
     "execution_count": 36,
     "metadata": {},
     "output_type": "execute_result"
    }
   ],
   "source": [
    "substituted_eqLambdaSample"
   ]
  },
  {
   "cell_type": "code",
   "execution_count": 37,
   "id": "0bf14efb-dacb-4cc6-afd0-7e84523442a9",
   "metadata": {},
   "outputs": [],
   "source": [
    "solSample = solve(substituted_eq, dRdT)"
   ]
  },
  {
   "cell_type": "code",
   "execution_count": 38,
   "id": "fd915224-7f86-444f-95e2-e33ce8ebd1a2",
   "metadata": {},
   "outputs": [
    {
     "name": "stdout",
     "output_type": "stream",
     "text": [
      "0.2423272639314181\n"
     ]
    }
   ],
   "source": [
    "lambdaSample_mess=float(solSample[0])\n",
    "print(lambdaSample_mess)"
   ]
  },
  {
   "cell_type": "code",
   "execution_count": null,
   "id": "de62e1d6-3415-4502-a85d-0f73c1545a63",
   "metadata": {},
   "outputs": [],
   "source": []
  },
  {
   "cell_type": "code",
   "execution_count": null,
   "id": "325bdccc-6c72-47a7-a774-a5b31b6cd31c",
   "metadata": {},
   "outputs": [],
   "source": []
  },
  {
   "cell_type": "code",
   "execution_count": null,
   "id": "224b7ef1-52e7-4e16-a967-ad4c228596f6",
   "metadata": {},
   "outputs": [],
   "source": []
  },
  {
   "cell_type": "code",
   "execution_count": null,
   "id": "73908dd6-6d48-487d-944f-7184d6abf599",
   "metadata": {},
   "outputs": [],
   "source": []
  }
 ],
 "metadata": {
  "kernelspec": {
   "display_name": "Python 3 (ipykernel)",
   "language": "python",
   "name": "python3"
  },
  "language_info": {
   "codemirror_mode": {
    "name": "ipython",
    "version": 3
   },
   "file_extension": ".py",
   "mimetype": "text/x-python",
   "name": "python",
   "nbconvert_exporter": "python",
   "pygments_lexer": "ipython3",
   "version": "3.13.0"
  }
 },
 "nbformat": 4,
 "nbformat_minor": 5
}
