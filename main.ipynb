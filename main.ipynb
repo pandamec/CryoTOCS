{
 "cells": [
  {
   "cell_type": "code",
   "execution_count": 1,
   "id": "79154ecd-a519-4c94-8230-fe1ee5f3eb6f",
   "metadata": {},
   "outputs": [],
   "source": [
    "#pip install sympy\n",
    "#pip install numpy\n",
    "#pip install pandas\n",
    "#pip install matplotlib"
   ]
  },
  {
   "cell_type": "code",
   "execution_count": 2,
   "id": "14d6a596-6ca0-4389-8e90-b316fcd810d6",
   "metadata": {},
   "outputs": [],
   "source": [
    "import numpy as np\n",
    "from sympy import symbols, Eq, solve\n",
    "from sympy.interactive import printing\n",
    "from sympy import pi\n",
    "import pandas as pd\n",
    "import matplotlib.pyplot as plt"
   ]
  },
  {
   "cell_type": "code",
   "execution_count": 3,
   "id": "10b478a0-f530-4681-b06b-044dd29e989a",
   "metadata": {},
   "outputs": [],
   "source": [
    "from src import CryoTOCS"
   ]
  },
  {
   "cell_type": "markdown",
   "id": "102d8738-8df2-488a-83ae-9cacacc4fbbf",
   "metadata": {},
   "source": [
    "## Calibration"
   ]
  },
  {
   "cell_type": "markdown",
   "id": "77d27261-5f8a-4301-93a9-c8410182ca9d",
   "metadata": {},
   "source": [
    "### Import data"
   ]
  },
  {
   "cell_type": "code",
   "execution_count": 4,
   "id": "7c616921-ad60-44b8-9863-e4cab1e98be9",
   "metadata": {},
   "outputs": [
    {
     "name": "stderr",
     "output_type": "stream",
     "text": [
      "<>:1: SyntaxWarning: invalid escape sequence '\\M'\n",
      "<>:1: SyntaxWarning: invalid escape sequence '\\M'\n",
      "C:\\Users\\rinc\\AppData\\Local\\Temp\\ipykernel_22144\\683402596.py:1: SyntaxWarning: invalid escape sequence '\\M'\n",
      "  path='test\\Messung051224\\GreaseDataVacuum1.txt'\n"
     ]
    }
   ],
   "source": [
    "path='test\\Messung051224\\GreaseDataVacuum1.txt'"
   ]
  },
  {
   "cell_type": "code",
   "execution_count": 5,
   "id": "64f322cd-ac23-4d96-81b2-056db56ef7f8",
   "metadata": {},
   "outputs": [
    {
     "data": {
      "text/html": [
       "<div>\n",
       "<style scoped>\n",
       "    .dataframe tbody tr th:only-of-type {\n",
       "        vertical-align: middle;\n",
       "    }\n",
       "\n",
       "    .dataframe tbody tr th {\n",
       "        vertical-align: top;\n",
       "    }\n",
       "\n",
       "    .dataframe thead th {\n",
       "        text-align: right;\n",
       "    }\n",
       "</style>\n",
       "<table border=\"1\" class=\"dataframe\">\n",
       "  <thead>\n",
       "    <tr style=\"text-align: right;\">\n",
       "      <th></th>\n",
       "      <th>Frequency</th>\n",
       "      <th>Re(1ω)</th>\n",
       "      <th>Im(1ω)</th>\n",
       "      <th>Re(3ω)</th>\n",
       "      <th>Im(3ω)</th>\n",
       "      <th>Phase(1ω)</th>\n",
       "      <th>Phase(3ω)</th>\n",
       "      <th>Vref</th>\n",
       "      <th>Current</th>\n",
       "      <th>Re(ΔT)</th>\n",
       "      <th>Δ[Re(ΔT)]</th>\n",
       "      <th>Im(ΔT)</th>\n",
       "      <th>Δ[Im(ΔT)]</th>\n",
       "      <th>Power</th>\n",
       "      <th>Temperature</th>\n",
       "    </tr>\n",
       "  </thead>\n",
       "  <tbody>\n",
       "    <tr>\n",
       "      <th>0</th>\n",
       "      <td>10.000</td>\n",
       "      <td>0.184437030678751</td>\n",
       "      <td>0.000000000000000</td>\n",
       "      <td>0.000260408972433</td>\n",
       "      <td>-0.000065735910170</td>\n",
       "      <td>0.000000000000056</td>\n",
       "      <td>-14.167387803957695</td>\n",
       "      <td>0.052110</td>\n",
       "      <td>0.005211</td>\n",
       "      <td>0.824032</td>\n",
       "      <td>0.000000</td>\n",
       "      <td>-0.208013</td>\n",
       "      <td>0.009426</td>\n",
       "      <td>0.000961</td>\n",
       "      <td>27.28</td>\n",
       "    </tr>\n",
       "    <tr>\n",
       "      <th>1</th>\n",
       "      <td>12.743</td>\n",
       "      <td>0.184472240125837</td>\n",
       "      <td>-0.000000000000002</td>\n",
       "      <td>0.000250413696423</td>\n",
       "      <td>-0.000065420904660</td>\n",
       "      <td>-0.000000000000486</td>\n",
       "      <td>-14.641350469289304</td>\n",
       "      <td>0.052121</td>\n",
       "      <td>0.005212</td>\n",
       "      <td>0.792244</td>\n",
       "      <td>0.000000</td>\n",
       "      <td>-0.206975</td>\n",
       "      <td>0.009379</td>\n",
       "      <td>0.000961</td>\n",
       "      <td>27.28</td>\n",
       "    </tr>\n",
       "    <tr>\n",
       "      <th>2</th>\n",
       "      <td>16.238</td>\n",
       "      <td>0.184501818686206</td>\n",
       "      <td>0.000000000000003</td>\n",
       "      <td>0.000240364494020</td>\n",
       "      <td>-0.000065107642367</td>\n",
       "      <td>0.000000000000918</td>\n",
       "      <td>-15.156050153835725</td>\n",
       "      <td>0.052124</td>\n",
       "      <td>0.005212</td>\n",
       "      <td>0.760411</td>\n",
       "      <td>0.000000</td>\n",
       "      <td>-0.205973</td>\n",
       "      <td>0.009333</td>\n",
       "      <td>0.000962</td>\n",
       "      <td>27.31</td>\n",
       "    </tr>\n",
       "    <tr>\n",
       "      <th>3</th>\n",
       "      <td>20.691</td>\n",
       "      <td>0.184498163976574</td>\n",
       "      <td>-0.000000000000004</td>\n",
       "      <td>0.000230400186952</td>\n",
       "      <td>-0.000064640280522</td>\n",
       "      <td>-0.000000000001258</td>\n",
       "      <td>-15.671811641969777</td>\n",
       "      <td>0.052125</td>\n",
       "      <td>0.005212</td>\n",
       "      <td>0.728871</td>\n",
       "      <td>0.000000</td>\n",
       "      <td>-0.204490</td>\n",
       "      <td>0.009266</td>\n",
       "      <td>0.000962</td>\n",
       "      <td>27.30</td>\n",
       "    </tr>\n",
       "    <tr>\n",
       "      <th>4</th>\n",
       "      <td>26.367</td>\n",
       "      <td>0.184483429107614</td>\n",
       "      <td>-0.000000000000009</td>\n",
       "      <td>0.000220346733487</td>\n",
       "      <td>-0.000064252819370</td>\n",
       "      <td>-0.000000000002679</td>\n",
       "      <td>-16.256615346477268</td>\n",
       "      <td>0.052123</td>\n",
       "      <td>0.005212</td>\n",
       "      <td>0.697096</td>\n",
       "      <td>0.000000</td>\n",
       "      <td>-0.203272</td>\n",
       "      <td>0.009211</td>\n",
       "      <td>0.000962</td>\n",
       "      <td>27.29</td>\n",
       "    </tr>\n",
       "  </tbody>\n",
       "</table>\n",
       "</div>"
      ],
      "text/plain": [
       "  Frequency             Re(1ω)              Im(1ω)             Re(3ω)  \\\n",
       "0    10.000  0.184437030678751   0.000000000000000  0.000260408972433   \n",
       "1    12.743  0.184472240125837  -0.000000000000002  0.000250413696423   \n",
       "2    16.238  0.184501818686206   0.000000000000003  0.000240364494020   \n",
       "3    20.691  0.184498163976574  -0.000000000000004  0.000230400186952   \n",
       "4    26.367  0.184483429107614  -0.000000000000009  0.000220346733487   \n",
       "\n",
       "               Im(3ω)           Phase(1ω)            Phase(3ω)      Vref  \\\n",
       "0  -0.000065735910170   0.000000000000056  -14.167387803957695  0.052110   \n",
       "1  -0.000065420904660  -0.000000000000486  -14.641350469289304  0.052121   \n",
       "2  -0.000065107642367   0.000000000000918  -15.156050153835725  0.052124   \n",
       "3  -0.000064640280522  -0.000000000001258  -15.671811641969777  0.052125   \n",
       "4  -0.000064252819370  -0.000000000002679  -16.256615346477268  0.052123   \n",
       "\n",
       "    Current    Re(ΔT) Δ[Re(ΔT)]     Im(ΔT) Δ[Im(ΔT)]     Power Temperature  \n",
       "0  0.005211  0.824032  0.000000  -0.208013  0.009426  0.000961       27.28  \n",
       "1  0.005212  0.792244  0.000000  -0.206975  0.009379  0.000961       27.28  \n",
       "2  0.005212  0.760411  0.000000  -0.205973  0.009333  0.000962       27.31  \n",
       "3  0.005212  0.728871  0.000000  -0.204490  0.009266  0.000962       27.30  \n",
       "4  0.005212  0.697096  0.000000  -0.203272  0.009211  0.000962       27.29  "
      ]
     },
     "execution_count": 5,
     "metadata": {},
     "output_type": "execute_result"
    }
   ],
   "source": [
    "df = CryoTOCS.import_Data(path)\n",
    "df.head()"
   ]
  },
  {
   "cell_type": "code",
   "execution_count": 6,
   "id": "1f316112-faed-4f8b-8279-1f22b4740b0e",
   "metadata": {},
   "outputs": [],
   "source": [
    "# LaTeX rendering\n",
    "printing.init_printing()"
   ]
  },
  {
   "cell_type": "code",
   "execution_count": 7,
   "id": "8875ecf9-47fb-46b9-8956-1c14c50ed867",
   "metadata": {},
   "outputs": [],
   "source": [
    "# Define variables\n",
    "dRdT = symbols('dR/dT')\n",
    "dVdf= symbols('dV3w/dlnf')\n",
    "dR,dT,L,lambda_sub,lambda_s,f,P,I = symbols('dR dT L lambda_sub lambda_s f P I')"
   ]
  },
  {
   "cell_type": "code",
   "execution_count": 8,
   "id": "f9a4381e-bad2-4fa6-a680-0551425315cd",
   "metadata": {},
   "outputs": [],
   "source": [
    "equation_dRdT = Eq( ((-4*pi*L)/(P*I))*(lambda_sub+lambda_s)*(dVdf)- dRdT,0)"
   ]
  },
  {
   "cell_type": "code",
   "execution_count": 9,
   "id": "59e86fc4-7ab7-4dcf-b711-0f841f1222e8",
   "metadata": {},
   "outputs": [
    {
     "data": {
      "image/png": "[encoded data removed]",
      "text/latex": [
       "$\\displaystyle - dR/dT - \\frac{4 \\pi L dV3w/dlnf \\left(\\lambda_{s} + \\lambda_{sub}\\right)}{I P} = 0$"
      ],
      "text/plain": [
       "         4⋅π⋅L⋅dV3w/dlnf⋅(λₛ + λ_sub)    \n",
       "-dR/dT - ──────────────────────────── = 0\n",
       "                     I⋅P                 "
      ]
     },
     "metadata": {},
     "output_type": "display_data"
    }
   ],
   "source": [
    "display(equation_dRdT)"
   ]
  },
  {
   "cell_type": "markdown",
   "id": "384e9654-f20b-4fd6-8f23-9466a9cb5472",
   "metadata": {},
   "source": [
    "### Parameter fuer die Berechnung"
   ]
  },
  {
   "cell_type": "code",
   "execution_count": 10,
   "id": "60bb3f95-9d2e-4e83-9da8-cab5ba92c164",
   "metadata": {},
   "outputs": [],
   "source": [
    "# Geometrie und Bedingungen\n",
    "T_ref=26           # Room temperature, 24 04.12.24\n",
    "lambdaGrease_mess= 0.2 #Datasheet\n",
    "\n",
    "# Slope dRe(V3w)/dlnf Berechnung\n",
    "v3w=df['Re(3ω)'].values\n",
    "f=df['Frequency'].values\n",
    "v3w=v3w.astype(float)\n",
    "f=f.astype(float)\n",
    "\n",
    "## dRdT Berechnung\n",
    "\n",
    "L_mess=1500e-6\n",
    "P_mess= df['Power'].values\n",
    "P_mess=P_mess.astype(float)\n",
    "\n",
    "I_mess= df['Current'].values\n",
    "I_mess=I_mess.astype(float)"
   ]
  },
  {
   "cell_type": "markdown",
   "id": "d70dbecd-4b56-40dc-a3e1-51c1daf13de4",
   "metadata": {},
   "source": [
    "### Substrate thermal conductivity"
   ]
  },
  {
   "cell_type": "code",
   "execution_count": 11,
   "id": "c0c6da43-69d9-4664-9f56-337764dfa4ab",
   "metadata": {},
   "outputs": [
    {
     "data": {
      "image/png": "[encoded data removed]",
      "text/latex": [
       "$\\displaystyle 3.0078$"
      ],
      "text/plain": [
       "3.0078"
      ]
     },
     "execution_count": 11,
     "metadata": {},
     "output_type": "execute_result"
    }
   ],
   "source": [
    "lambdaSubstrate_mess=CryoTOCS.lambdaSubstrate(T_ref)\n",
    "lambdaSubstrate_mess"
   ]
  },
  {
   "cell_type": "markdown",
   "id": "f656aafe-344a-4d7b-80be-fc1a538d79e4",
   "metadata": {},
   "source": [
    "### Slope dRe(V3w)/dln(f)"
   ]
  },
  {
   "cell_type": "code",
   "execution_count": 12,
   "id": "0c34fcee-0686-4278-8517-5e5b0d19bd38",
   "metadata": {},
   "outputs": [
    {
     "name": "stdout",
     "output_type": "stream",
     "text": [
      "[2.60408972e-04 2.50413696e-04 2.40364494e-04 2.30400187e-04\n",
      " 2.20346733e-04 2.10358465e-04 2.00464730e-04 1.90646474e-04\n",
      " 1.80890595e-04 1.71116221e-04 1.61477506e-04 1.51907959e-04\n",
      " 1.42492229e-04 1.33228677e-04 1.24008072e-04 1.15060106e-04\n",
      " 1.06364306e-04 9.79663101e-05 8.96253227e-05 8.31308461e-05]\n",
      "[  10.      12.743   16.238   20.691   26.367   33.598   42.813   54.556\n",
      "   69.519   88.587  112.884  143.845  183.298  233.572  297.635  379.269\n",
      "  483.293  615.848  784.76  1000.   ]\n",
      "[2.30258509 2.5449821  2.78735417 3.02969882 3.27211323 3.51446654\n",
      " 3.75684179 3.9992277  4.2416001  4.48398512 4.72636074 4.96873633\n",
      " 5.21111324 5.45349038 5.6958679  5.93824572 6.18062309 6.42300018\n",
      " 6.66537794 6.90775528]\n"
     ]
    }
   ],
   "source": [
    "lnf=np.log(f)\n",
    "print(v3w)\n",
    "print(f)\n",
    "print(lnf)"
   ]
  },
  {
   "cell_type": "code",
   "execution_count": 13,
   "id": "1e01a76d-9dcd-452c-87d0-f6abd8c48aae",
   "metadata": {},
   "outputs": [
    {
     "name": "stdout",
     "output_type": "stream",
     "text": [
      "Slope: -3.906621169740782e-05, Intercept: 0.0003479401910728244\n"
     ]
    },
    {
     "data": {
      "image/png": "[encoded data removed]",
      "text/plain": [
       "<Figure size 640x480 with 1 Axes>"
      ]
     },
     "metadata": {},
     "output_type": "display_data"
    }
   ],
   "source": [
    "dVdf_mess=CryoTOCS.fit_dVdf(lnf,v3w)"
   ]
  },
  {
   "cell_type": "code",
   "execution_count": 14,
   "id": "0d3c6f93-dc4a-45fb-ae5c-ac27be8f7c48",
   "metadata": {},
   "outputs": [
    {
     "data": {
      "image/png": "[encoded data removed]",
      "text/latex": [
       "$\\displaystyle -3.90662116974078 \\cdot 10^{-5}$"
      ],
      "text/plain": [
       "np.float64(-3.906621169740782e-05)"
      ]
     },
     "execution_count": 14,
     "metadata": {},
     "output_type": "execute_result"
    }
   ],
   "source": [
    "dVdf_mess"
   ]
  },
  {
   "cell_type": "markdown",
   "id": "de00c542-99ff-4fc4-873e-43d0000986f4",
   "metadata": {},
   "source": [
    "### dR/dT Berechnung"
   ]
  },
  {
   "cell_type": "code",
   "execution_count": 15,
   "id": "7d21f402-96da-4d43-b30c-4ce7c58f3aed",
   "metadata": {},
   "outputs": [
    {
     "name": "stdout",
     "output_type": "stream",
     "text": [
      "0.0009617500000000001\n",
      "0.005212649999999999\n",
      "3.0078\n"
     ]
    }
   ],
   "source": [
    "P_mean= np.mean(P_mess)\n",
    "I_mean= np.mean(I_mess)\n",
    "print(P_mean)\n",
    "print(I_mean)\n",
    "print(lambdaSubstrate_mess)"
   ]
  },
  {
   "cell_type": "code",
   "execution_count": 16,
   "id": "7892d2c4-80b3-4c7b-89c9-dc119de637d3",
   "metadata": {},
   "outputs": [],
   "source": [
    "substituted_eq = equation_dRdT.subs({P: P_mean, I:I_mean, lambda_sub:lambdaSubstrate_mess,lambda_s: lambdaGrease_mess,dVdf:dVdf_mess, L:L_mess})"
   ]
  },
  {
   "cell_type": "code",
   "execution_count": 17,
   "id": "2703033f-262a-4a4d-a9af-558fa3f6768e",
   "metadata": {},
   "outputs": [
    {
     "data": {
      "image/png": "[encoded data removed]",
      "text/latex": [
       "$\\displaystyle - dR/dT + 0.149981976355363 \\pi = 0$"
      ],
      "text/plain": [
       "-dR/dT + 0.149981976355363⋅π = 0"
      ]
     },
     "execution_count": 17,
     "metadata": {},
     "output_type": "execute_result"
    }
   ],
   "source": [
    "substituted_eq"
   ]
  },
  {
   "cell_type": "code",
   "execution_count": 18,
   "id": "64862e72-38e8-4c3b-a4a1-028509c77dd3",
   "metadata": {},
   "outputs": [],
   "source": [
    "sol = solve(substituted_eq, dRdT)"
   ]
  },
  {
   "cell_type": "code",
   "execution_count": 19,
   "id": "565a32e1-8889-4ad0-b9f6-409ecfea0040",
   "metadata": {},
   "outputs": [
    {
     "data": {
      "image/png": "[encoded data removed]",
      "text/latex": [
       "$\\displaystyle 0.471182275088886$"
      ],
      "text/plain": [
       "0.4711822750888865"
      ]
     },
     "execution_count": 19,
     "metadata": {},
     "output_type": "execute_result"
    }
   ],
   "source": [
    "dRdT_mess=float(sol[0])\n",
    "dRdT_mess"
   ]
  },
  {
   "cell_type": "markdown",
   "id": "d9b58c98-7740-4268-9820-ff073a34c25f",
   "metadata": {},
   "source": [
    "## Messung Thermal conductivity mit gleicher Probe unter Vacuum"
   ]
  },
  {
   "cell_type": "markdown",
   "id": "b55d3f24-b7e2-458d-afce-61cde286219e",
   "metadata": {},
   "source": [
    "### Import data"
   ]
  },
  {
   "cell_type": "code",
   "execution_count": 20,
   "id": "0eebf8b3-e372-469f-beab-67beea4fc05b",
   "metadata": {},
   "outputs": [
    {
     "name": "stderr",
     "output_type": "stream",
     "text": [
      "<>:1: SyntaxWarning: invalid escape sequence '\\M'\n",
      "<>:1: SyntaxWarning: invalid escape sequence '\\M'\n",
      "C:\\Users\\rinc\\AppData\\Local\\Temp\\ipykernel_22144\\4249350543.py:1: SyntaxWarning: invalid escape sequence '\\M'\n",
      "  path_sample='test\\Messung051224\\GreaseDataVacuum1.txt'\n"
     ]
    }
   ],
   "source": [
    "path_sample='test\\Messung051224\\GreaseDataVacuum1.txt'"
   ]
  },
  {
   "cell_type": "code",
   "execution_count": 21,
   "id": "b6238597-53d1-4da9-a7e7-fdbe4a6f72cc",
   "metadata": {},
   "outputs": [
    {
     "data": {
      "text/html": [
       "<div>\n",
       "<style scoped>\n",
       "    .dataframe tbody tr th:only-of-type {\n",
       "        vertical-align: middle;\n",
       "    }\n",
       "\n",
       "    .dataframe tbody tr th {\n",
       "        vertical-align: top;\n",
       "    }\n",
       "\n",
       "    .dataframe thead th {\n",
       "        text-align: right;\n",
       "    }\n",
       "</style>\n",
       "<table border=\"1\" class=\"dataframe\">\n",
       "  <thead>\n",
       "    <tr style=\"text-align: right;\">\n",
       "      <th></th>\n",
       "      <th>Frequency</th>\n",
       "      <th>Re(1ω)</th>\n",
       "      <th>Im(1ω)</th>\n",
       "      <th>Re(3ω)</th>\n",
       "      <th>Im(3ω)</th>\n",
       "      <th>Phase(1ω)</th>\n",
       "      <th>Phase(3ω)</th>\n",
       "      <th>Vref</th>\n",
       "      <th>Current</th>\n",
       "      <th>Re(ΔT)</th>\n",
       "      <th>Δ[Re(ΔT)]</th>\n",
       "      <th>Im(ΔT)</th>\n",
       "      <th>Δ[Im(ΔT)]</th>\n",
       "      <th>Power</th>\n",
       "      <th>Temperature</th>\n",
       "    </tr>\n",
       "  </thead>\n",
       "  <tbody>\n",
       "    <tr>\n",
       "      <th>0</th>\n",
       "      <td>10.000</td>\n",
       "      <td>0.184437030678751</td>\n",
       "      <td>0.000000000000000</td>\n",
       "      <td>0.000260408972433</td>\n",
       "      <td>-0.000065735910170</td>\n",
       "      <td>0.000000000000056</td>\n",
       "      <td>-14.167387803957695</td>\n",
       "      <td>0.052110</td>\n",
       "      <td>0.005211</td>\n",
       "      <td>0.824032</td>\n",
       "      <td>0.000000</td>\n",
       "      <td>-0.208013</td>\n",
       "      <td>0.009426</td>\n",
       "      <td>0.000961</td>\n",
       "      <td>27.28</td>\n",
       "    </tr>\n",
       "    <tr>\n",
       "      <th>1</th>\n",
       "      <td>12.743</td>\n",
       "      <td>0.184472240125837</td>\n",
       "      <td>-0.000000000000002</td>\n",
       "      <td>0.000250413696423</td>\n",
       "      <td>-0.000065420904660</td>\n",
       "      <td>-0.000000000000486</td>\n",
       "      <td>-14.641350469289304</td>\n",
       "      <td>0.052121</td>\n",
       "      <td>0.005212</td>\n",
       "      <td>0.792244</td>\n",
       "      <td>0.000000</td>\n",
       "      <td>-0.206975</td>\n",
       "      <td>0.009379</td>\n",
       "      <td>0.000961</td>\n",
       "      <td>27.28</td>\n",
       "    </tr>\n",
       "    <tr>\n",
       "      <th>2</th>\n",
       "      <td>16.238</td>\n",
       "      <td>0.184501818686206</td>\n",
       "      <td>0.000000000000003</td>\n",
       "      <td>0.000240364494020</td>\n",
       "      <td>-0.000065107642367</td>\n",
       "      <td>0.000000000000918</td>\n",
       "      <td>-15.156050153835725</td>\n",
       "      <td>0.052124</td>\n",
       "      <td>0.005212</td>\n",
       "      <td>0.760411</td>\n",
       "      <td>0.000000</td>\n",
       "      <td>-0.205973</td>\n",
       "      <td>0.009333</td>\n",
       "      <td>0.000962</td>\n",
       "      <td>27.31</td>\n",
       "    </tr>\n",
       "    <tr>\n",
       "      <th>3</th>\n",
       "      <td>20.691</td>\n",
       "      <td>0.184498163976574</td>\n",
       "      <td>-0.000000000000004</td>\n",
       "      <td>0.000230400186952</td>\n",
       "      <td>-0.000064640280522</td>\n",
       "      <td>-0.000000000001258</td>\n",
       "      <td>-15.671811641969777</td>\n",
       "      <td>0.052125</td>\n",
       "      <td>0.005212</td>\n",
       "      <td>0.728871</td>\n",
       "      <td>0.000000</td>\n",
       "      <td>-0.204490</td>\n",
       "      <td>0.009266</td>\n",
       "      <td>0.000962</td>\n",
       "      <td>27.30</td>\n",
       "    </tr>\n",
       "    <tr>\n",
       "      <th>4</th>\n",
       "      <td>26.367</td>\n",
       "      <td>0.184483429107614</td>\n",
       "      <td>-0.000000000000009</td>\n",
       "      <td>0.000220346733487</td>\n",
       "      <td>-0.000064252819370</td>\n",
       "      <td>-0.000000000002679</td>\n",
       "      <td>-16.256615346477268</td>\n",
       "      <td>0.052123</td>\n",
       "      <td>0.005212</td>\n",
       "      <td>0.697096</td>\n",
       "      <td>0.000000</td>\n",
       "      <td>-0.203272</td>\n",
       "      <td>0.009211</td>\n",
       "      <td>0.000962</td>\n",
       "      <td>27.29</td>\n",
       "    </tr>\n",
       "  </tbody>\n",
       "</table>\n",
       "</div>"
      ],
      "text/plain": [
       "  Frequency             Re(1ω)              Im(1ω)             Re(3ω)  \\\n",
       "0    10.000  0.184437030678751   0.000000000000000  0.000260408972433   \n",
       "1    12.743  0.184472240125837  -0.000000000000002  0.000250413696423   \n",
       "2    16.238  0.184501818686206   0.000000000000003  0.000240364494020   \n",
       "3    20.691  0.184498163976574  -0.000000000000004  0.000230400186952   \n",
       "4    26.367  0.184483429107614  -0.000000000000009  0.000220346733487   \n",
       "\n",
       "               Im(3ω)           Phase(1ω)            Phase(3ω)      Vref  \\\n",
       "0  -0.000065735910170   0.000000000000056  -14.167387803957695  0.052110   \n",
       "1  -0.000065420904660  -0.000000000000486  -14.641350469289304  0.052121   \n",
       "2  -0.000065107642367   0.000000000000918  -15.156050153835725  0.052124   \n",
       "3  -0.000064640280522  -0.000000000001258  -15.671811641969777  0.052125   \n",
       "4  -0.000064252819370  -0.000000000002679  -16.256615346477268  0.052123   \n",
       "\n",
       "    Current    Re(ΔT) Δ[Re(ΔT)]     Im(ΔT) Δ[Im(ΔT)]     Power Temperature  \n",
       "0  0.005211  0.824032  0.000000  -0.208013  0.009426  0.000961       27.28  \n",
       "1  0.005212  0.792244  0.000000  -0.206975  0.009379  0.000961       27.28  \n",
       "2  0.005212  0.760411  0.000000  -0.205973  0.009333  0.000962       27.31  \n",
       "3  0.005212  0.728871  0.000000  -0.204490  0.009266  0.000962       27.30  \n",
       "4  0.005212  0.697096  0.000000  -0.203272  0.009211  0.000962       27.29  "
      ]
     },
     "execution_count": 21,
     "metadata": {},
     "output_type": "execute_result"
    }
   ],
   "source": [
    "df_sample=CryoTOCS.import_Data(path_sample)\n",
    "df_sample.head()"
   ]
  },
  {
   "cell_type": "markdown",
   "id": "a8d0fd63-59cd-404b-867a-2a793e30ea00",
   "metadata": {},
   "source": [
    "### Parameters fuer die Berechnung"
   ]
  },
  {
   "cell_type": "code",
   "execution_count": 22,
   "id": "827a3a55-9898-4a43-8b77-9758d99c9aa5",
   "metadata": {},
   "outputs": [
    {
     "name": "stdout",
     "output_type": "stream",
     "text": [
      "0.4711822750888865\n"
     ]
    }
   ],
   "source": [
    "# Geometrie und Bedingungen\n",
    "T_ref=26                 # Room temperature\n",
    "print(dRdT_mess)\n",
    "\n",
    "# Slope dRe(V3w)/dlnf Berechnung\n",
    "v3w = df_sample['Re(3ω)'].values\n",
    "f   = df_sample['Frequency'].values\n",
    "v3w = v3w.astype(float)\n",
    "f   = f.astype(float)\n",
    "\n",
    "## Thermal conductivity Berechnung\n",
    "P_mess = df_sample['Power'].values\n",
    "P_mess = P_mess.astype(float)\n",
    "\n",
    "I_mess = df_sample['Current'].values\n",
    "I_mess = I_mess.astype(float)"
   ]
  },
  {
   "cell_type": "code",
   "execution_count": 23,
   "id": "5f0e6ba7-c26e-4f4f-9867-ca1d8a70ef9d",
   "metadata": {},
   "outputs": [
    {
     "data": {
      "image/png": "[encoded data removed]",
      "text/latex": [
       "$\\displaystyle 3.0078$"
      ],
      "text/plain": [
       "3.0078"
      ]
     },
     "execution_count": 23,
     "metadata": {},
     "output_type": "execute_result"
    }
   ],
   "source": [
    "lambdaSubstrate_mess=CryoTOCS.lambdaSubstrate(T_ref)\n",
    "lambdaSubstrate_mess"
   ]
  },
  {
   "cell_type": "markdown",
   "id": "ca15afa1-d5ad-4e26-8688-39c4f6afe0a1",
   "metadata": {},
   "source": [
    "### Slope dRe(V3w)/dln(f)"
   ]
  },
  {
   "cell_type": "code",
   "execution_count": 24,
   "id": "3ffd1416-3fa5-408f-8439-3a67e2197c5e",
   "metadata": {},
   "outputs": [
    {
     "name": "stdout",
     "output_type": "stream",
     "text": [
      "[2.60408972e-04 2.50413696e-04 2.40364494e-04 2.30400187e-04\n",
      " 2.20346733e-04 2.10358465e-04 2.00464730e-04 1.90646474e-04\n",
      " 1.80890595e-04 1.71116221e-04 1.61477506e-04 1.51907959e-04\n",
      " 1.42492229e-04 1.33228677e-04 1.24008072e-04 1.15060106e-04\n",
      " 1.06364306e-04 9.79663101e-05 8.96253227e-05 8.31308461e-05]\n",
      "[  10.      12.743   16.238   20.691   26.367   33.598   42.813   54.556\n",
      "   69.519   88.587  112.884  143.845  183.298  233.572  297.635  379.269\n",
      "  483.293  615.848  784.76  1000.   ]\n",
      "[2.30258509 2.5449821  2.78735417 3.02969882 3.27211323 3.51446654\n",
      " 3.75684179 3.9992277  4.2416001  4.48398512 4.72636074 4.96873633\n",
      " 5.21111324 5.45349038 5.6958679  5.93824572 6.18062309 6.42300018\n",
      " 6.66537794 6.90775528]\n"
     ]
    }
   ],
   "source": [
    "lnf=np.log(f)\n",
    "print(v3w)\n",
    "print(f)\n",
    "print(lnf)"
   ]
  },
  {
   "cell_type": "code",
   "execution_count": 25,
   "id": "97f28400-8f8a-4a6e-9bfb-19783a5e7db6",
   "metadata": {},
   "outputs": [
    {
     "name": "stdout",
     "output_type": "stream",
     "text": [
      "Slope: -3.906621169740782e-05, Intercept: 0.0003479401910728244\n"
     ]
    },
    {
     "data": {
      "image/png": "[encoded data removed]",
      "text/plain": [
       "<Figure size 640x480 with 1 Axes>"
      ]
     },
     "metadata": {},
     "output_type": "display_data"
    }
   ],
   "source": [
    "dVdf_mess=CryoTOCS.fit_dVdf(lnf,v3w)"
   ]
  },
  {
   "cell_type": "code",
   "execution_count": 26,
   "id": "da0e37ed-ae9c-4ab3-971e-bb55ac065630",
   "metadata": {},
   "outputs": [
    {
     "data": {
      "image/png": "[encoded data removed]",
      "text/latex": [
       "$\\displaystyle -3.90662116974078 \\cdot 10^{-5}$"
      ],
      "text/plain": [
       "np.float64(-3.906621169740782e-05)"
      ]
     },
     "execution_count": 26,
     "metadata": {},
     "output_type": "execute_result"
    }
   ],
   "source": [
    "dVdf_mess"
   ]
  },
  {
   "cell_type": "markdown",
   "id": "93a33cba-e6bd-478a-9543-1dad9e73c07a",
   "metadata": {},
   "source": [
    "### Thermal conductivity der Probe Berechnung"
   ]
  },
  {
   "cell_type": "markdown",
   "id": "91dea965-9cc5-41b1-a798-41d7f26b6b57",
   "metadata": {},
   "source": [
    "#### Korrelationsgleichung fuer die Messung"
   ]
  },
  {
   "cell_type": "code",
   "execution_count": 27,
   "id": "d6c104f0-d1a3-476a-8cbd-70bb3869e652",
   "metadata": {},
   "outputs": [],
   "source": [
    "# Define variables\n",
    "dRdT = symbols('dR/dT')\n",
    "dVdf= symbols('dV3w/dlnf')\n",
    "dR,dT,L,lambda_sample,lambda_sub,f,P,I = symbols('dR dT L lambda_sample, lambda_sub f P I')"
   ]
  },
  {
   "cell_type": "code",
   "execution_count": 28,
   "id": "a19be1c3-2fd9-4dee-8cee-3bc707b00775",
   "metadata": {},
   "outputs": [],
   "source": [
    "equation_lambdaSample= Eq( (-P*I*dRdT/(4*pi*L))*(dVdf)**(-1)-lambda_sub-lambda_sample,0)"
   ]
  },
  {
   "cell_type": "code",
   "execution_count": 29,
   "id": "db435fff-2aa5-434f-a03a-0e26f0ad367b",
   "metadata": {},
   "outputs": [
    {
     "data": {
      "image/png": "[encoded data removed]",
      "text/latex": [
       "$\\displaystyle - \\frac{I P dR/dT}{4 \\pi L dV3w/dlnf} - \\lambda_{sample} - \\lambda_{sub} = 0$"
      ],
      "text/plain": [
       "     I⋅P⋅dR/dT                         \n",
       "- ─────────────── - λₛₐₘₚₗₑ - λ_sub = 0\n",
       "  4⋅π⋅L⋅dV3w/dlnf                      "
      ]
     },
     "metadata": {},
     "output_type": "display_data"
    }
   ],
   "source": [
    "display(equation_lambdaSample)"
   ]
  },
  {
   "cell_type": "code",
   "execution_count": 30,
   "id": "6b32b89d-32b3-47b3-af51-89ec40ced21a",
   "metadata": {},
   "outputs": [
    {
     "name": "stdout",
     "output_type": "stream",
     "text": [
      "0.0009617500000000001\n",
      "0.005212649999999999\n",
      "3.0078\n",
      "0.4711822750888865\n"
     ]
    }
   ],
   "source": [
    "P_mean= np.mean(P_mess)\n",
    "I_mean= np.mean(I_mess)\n",
    "print(P_mean)\n",
    "print(I_mean)\n",
    "print(lambdaSubstrate_mess)\n",
    "print(dRdT_mess)"
   ]
  },
  {
   "cell_type": "code",
   "execution_count": 31,
   "id": "ef023a9c-d4d2-4973-aad8-f1935ebf8531",
   "metadata": {},
   "outputs": [],
   "source": [
    "substituted_eqLambdaSample = equation_lambdaSample.subs({dRdT:dRdT_mess,P: P_mean, I:I_mean, lambda_sub:lambdaSubstrate_mess,dVdf:dVdf_mess, L:L_mess})"
   ]
  },
  {
   "cell_type": "code",
   "execution_count": 32,
   "id": "9b47695c-8846-4967-8667-248a6e49096a",
   "metadata": {},
   "outputs": [
    {
     "data": {
      "image/png": "[encoded data removed]",
      "text/latex": [
       "$\\displaystyle - \\lambda_{sample} - 3.0078 + \\frac{10.0776009141853}{\\pi} = 0$"
      ],
      "text/plain": [
       "                    10.0776009141853    \n",
       "-λₛₐₘₚₗₑ - 3.0078 + ──────────────── = 0\n",
       "                           π            "
      ]
     },
     "execution_count": 32,
     "metadata": {},
     "output_type": "execute_result"
    }
   ],
   "source": [
    "substituted_eqLambdaSample"
   ]
  },
  {
   "cell_type": "code",
   "execution_count": 33,
   "id": "2ebefa4d-4c6a-4557-8ad2-2acc7232d8fb",
   "metadata": {},
   "outputs": [],
   "source": [
    "solSample = solve(substituted_eqLambdaSample, lambda_sample)"
   ]
  },
  {
   "cell_type": "code",
   "execution_count": 34,
   "id": "79d38e43-00f4-4e19-a72c-a691f830ae38",
   "metadata": {},
   "outputs": [
    {
     "data": {
      "image/png": "[encoded data removed]",
      "text/latex": [
       "$\\displaystyle 0.199999999999988$"
      ],
      "text/plain": [
       "0.19999999999998766"
      ]
     },
     "execution_count": 34,
     "metadata": {},
     "output_type": "execute_result"
    }
   ],
   "source": [
    "lambdaSample_mess=float(solSample[0])\n",
    "lambdaSample_mess"
   ]
  },
  {
   "cell_type": "markdown",
   "id": "d547e468-bbfa-41d8-ab69-70f622a9836a",
   "metadata": {},
   "source": [
    "## Messung des Substrats unter Vacuum"
   ]
  },
  {
   "cell_type": "markdown",
   "id": "16b9ec29-ad98-44c3-8b46-a09e0f2b66cf",
   "metadata": {},
   "source": [
    "### Import data"
   ]
  },
  {
   "cell_type": "code",
   "execution_count": 35,
   "id": "1d74dd46-80a1-4612-83ea-e8ffbdc9c008",
   "metadata": {},
   "outputs": [
    {
     "name": "stderr",
     "output_type": "stream",
     "text": [
      "<>:1: SyntaxWarning: invalid escape sequence '\\c'\n",
      "<>:1: SyntaxWarning: invalid escape sequence '\\c'\n",
      "C:\\Users\\rinc\\AppData\\Local\\Temp\\ipykernel_22144\\2045195073.py:1: SyntaxWarning: invalid escape sequence '\\c'\n",
      "  path_sample='test\\calibrationdataVacuum.txt'\n"
     ]
    }
   ],
   "source": [
    "path_sample='test\\calibrationdataVacuum.txt'"
   ]
  },
  {
   "cell_type": "code",
   "execution_count": 36,
   "id": "99a3b165-53aa-4af3-9d98-edcc930f4fdd",
   "metadata": {},
   "outputs": [
    {
     "data": {
      "text/html": [
       "<div>\n",
       "<style scoped>\n",
       "    .dataframe tbody tr th:only-of-type {\n",
       "        vertical-align: middle;\n",
       "    }\n",
       "\n",
       "    .dataframe tbody tr th {\n",
       "        vertical-align: top;\n",
       "    }\n",
       "\n",
       "    .dataframe thead th {\n",
       "        text-align: right;\n",
       "    }\n",
       "</style>\n",
       "<table border=\"1\" class=\"dataframe\">\n",
       "  <thead>\n",
       "    <tr style=\"text-align: right;\">\n",
       "      <th></th>\n",
       "      <th>Frequency</th>\n",
       "      <th>Re(1ω)</th>\n",
       "      <th>Im(1ω)</th>\n",
       "      <th>Re(3ω)</th>\n",
       "      <th>Im(3ω)</th>\n",
       "      <th>Phase(1ω)</th>\n",
       "      <th>Phase(3ω)</th>\n",
       "      <th>Vref</th>\n",
       "      <th>Current</th>\n",
       "      <th>Re(ΔT)</th>\n",
       "      <th>Δ[Re(ΔT)]</th>\n",
       "      <th>Im(ΔT)</th>\n",
       "      <th>Δ[Im(ΔT)]</th>\n",
       "      <th>Power</th>\n",
       "      <th>Temperature</th>\n",
       "    </tr>\n",
       "  </thead>\n",
       "  <tbody>\n",
       "    <tr>\n",
       "      <th>0</th>\n",
       "      <td>10.000</td>\n",
       "      <td>0.188154722112770</td>\n",
       "      <td>0.000000000000004</td>\n",
       "      <td>0.000302510967874</td>\n",
       "      <td>-0.000070525753694</td>\n",
       "      <td>0.000000000001129</td>\n",
       "      <td>-13.123219620804100</td>\n",
       "      <td>0.053454</td>\n",
       "      <td>0.005345</td>\n",
       "      <td>0.956597</td>\n",
       "      <td>0.000000</td>\n",
       "      <td>-0.223016</td>\n",
       "      <td>0.010092</td>\n",
       "      <td>0.001006</td>\n",
       "      <td>26.72</td>\n",
       "    </tr>\n",
       "    <tr>\n",
       "      <th>1</th>\n",
       "      <td>12.743</td>\n",
       "      <td>0.188162819633189</td>\n",
       "      <td>-0.000000000000003</td>\n",
       "      <td>0.000291282705193</td>\n",
       "      <td>-0.000071742393931</td>\n",
       "      <td>-0.000000000000896</td>\n",
       "      <td>-13.836446827147803</td>\n",
       "      <td>0.053459</td>\n",
       "      <td>0.005346</td>\n",
       "      <td>0.920999</td>\n",
       "      <td>0.000000</td>\n",
       "      <td>-0.226840</td>\n",
       "      <td>0.010265</td>\n",
       "      <td>0.001006</td>\n",
       "      <td>26.71</td>\n",
       "    </tr>\n",
       "    <tr>\n",
       "      <th>2</th>\n",
       "      <td>16.238</td>\n",
       "      <td>0.188168867443238</td>\n",
       "      <td>-0.000000000000007</td>\n",
       "      <td>0.000280038424339</td>\n",
       "      <td>-0.000071814876823</td>\n",
       "      <td>-0.000000000002086</td>\n",
       "      <td>-14.383343655170263</td>\n",
       "      <td>0.053461</td>\n",
       "      <td>0.005346</td>\n",
       "      <td>0.885413</td>\n",
       "      <td>0.000000</td>\n",
       "      <td>-0.227061</td>\n",
       "      <td>0.010275</td>\n",
       "      <td>0.001006</td>\n",
       "      <td>26.71</td>\n",
       "    </tr>\n",
       "    <tr>\n",
       "      <th>3</th>\n",
       "      <td>20.691</td>\n",
       "      <td>0.188169867695215</td>\n",
       "      <td>0.000000000000001</td>\n",
       "      <td>0.000269073677081</td>\n",
       "      <td>-0.000071116173245</td>\n",
       "      <td>0.000000000000325</td>\n",
       "      <td>-14.804745304785998</td>\n",
       "      <td>0.053465</td>\n",
       "      <td>0.005347</td>\n",
       "      <td>0.850680</td>\n",
       "      <td>0.000000</td>\n",
       "      <td>-0.224835</td>\n",
       "      <td>0.010174</td>\n",
       "      <td>0.001006</td>\n",
       "      <td>26.68</td>\n",
       "    </tr>\n",
       "    <tr>\n",
       "      <th>4</th>\n",
       "      <td>26.367</td>\n",
       "      <td>0.188170050381801</td>\n",
       "      <td>0.000000000000004</td>\n",
       "      <td>0.000257984198735</td>\n",
       "      <td>-0.000071068510128</td>\n",
       "      <td>0.000000000001184</td>\n",
       "      <td>-15.401614811542522</td>\n",
       "      <td>0.053469</td>\n",
       "      <td>0.005347</td>\n",
       "      <td>0.815572</td>\n",
       "      <td>0.000000</td>\n",
       "      <td>-0.224671</td>\n",
       "      <td>0.010167</td>\n",
       "      <td>0.001006</td>\n",
       "      <td>26.67</td>\n",
       "    </tr>\n",
       "  </tbody>\n",
       "</table>\n",
       "</div>"
      ],
      "text/plain": [
       "  Frequency             Re(1ω)              Im(1ω)             Re(3ω)  \\\n",
       "0    10.000  0.188154722112770   0.000000000000004  0.000302510967874   \n",
       "1    12.743  0.188162819633189  -0.000000000000003  0.000291282705193   \n",
       "2    16.238  0.188168867443238  -0.000000000000007  0.000280038424339   \n",
       "3    20.691  0.188169867695215   0.000000000000001  0.000269073677081   \n",
       "4    26.367  0.188170050381801   0.000000000000004  0.000257984198735   \n",
       "\n",
       "               Im(3ω)           Phase(1ω)            Phase(3ω)      Vref  \\\n",
       "0  -0.000070525753694   0.000000000001129  -13.123219620804100  0.053454   \n",
       "1  -0.000071742393931  -0.000000000000896  -13.836446827147803  0.053459   \n",
       "2  -0.000071814876823  -0.000000000002086  -14.383343655170263  0.053461   \n",
       "3  -0.000071116173245   0.000000000000325  -14.804745304785998  0.053465   \n",
       "4  -0.000071068510128   0.000000000001184  -15.401614811542522  0.053469   \n",
       "\n",
       "    Current    Re(ΔT) Δ[Re(ΔT)]     Im(ΔT) Δ[Im(ΔT)]     Power Temperature  \n",
       "0  0.005345  0.956597  0.000000  -0.223016  0.010092  0.001006       26.72  \n",
       "1  0.005346  0.920999  0.000000  -0.226840  0.010265  0.001006       26.71  \n",
       "2  0.005346  0.885413  0.000000  -0.227061  0.010275  0.001006       26.71  \n",
       "3  0.005347  0.850680  0.000000  -0.224835  0.010174  0.001006       26.68  \n",
       "4  0.005347  0.815572  0.000000  -0.224671  0.010167  0.001006       26.67  "
      ]
     },
     "execution_count": 36,
     "metadata": {},
     "output_type": "execute_result"
    }
   ],
   "source": [
    "df_sample=CryoTOCS.import_Data(path_sample)\n",
    "df_sample.head()"
   ]
  },
  {
   "cell_type": "markdown",
   "id": "a90f5d87-e69c-4f1c-8a9a-ddf05a8116e9",
   "metadata": {},
   "source": [
    "### Parameters fuer die Berechnung"
   ]
  },
  {
   "cell_type": "code",
   "execution_count": 37,
   "id": "ac46f28b-ee28-4c49-89ee-ef8f59d0b028",
   "metadata": {},
   "outputs": [
    {
     "name": "stdout",
     "output_type": "stream",
     "text": [
      "0.4711822750888865\n"
     ]
    }
   ],
   "source": [
    "# Geometrie und Bedingungen\n",
    "T_ref=23                 # Room temperature\n",
    "print(dRdT_mess)\n",
    "\n",
    "# Slope dRe(V3w)/dlnf Berechnung\n",
    "v3w = df_sample['Re(3ω)'].values\n",
    "f   = df_sample['Frequency'].values\n",
    "v3w = v3w.astype(float)\n",
    "f   = f.astype(float)\n",
    "\n",
    "## Thermal conductivity Berechnung\n",
    "P_mess = df_sample['Power'].values\n",
    "P_mess = P_mess.astype(float)\n",
    "\n",
    "I_mess = df_sample['Current'].values\n",
    "I_mess = I_mess.astype(float)"
   ]
  },
  {
   "cell_type": "markdown",
   "id": "6325b0cd-4197-4629-8caa-f150c742a68e",
   "metadata": {},
   "source": [
    "### Slope dRe(V3w)/dln(f)"
   ]
  },
  {
   "cell_type": "code",
   "execution_count": 38,
   "id": "a6aebba5-0aca-45f3-ab21-e25e6335669a",
   "metadata": {},
   "outputs": [
    {
     "name": "stdout",
     "output_type": "stream",
     "text": [
      "[0.00030251 0.00029128 0.00028004 0.00026907 0.00025798 0.00024693\n",
      " 0.00023595 0.00022508 0.00021407 0.00020334 0.00019228 0.00018133\n",
      " 0.00017091 0.00016004 0.0001497  0.00013921 0.00012922 0.000119\n",
      " 0.00010925 0.00010145]\n",
      "[  10.      12.743   16.238   20.691   26.367   33.598   42.813   54.556\n",
      "   69.519   88.587  112.884  143.845  183.298  233.572  297.635  379.269\n",
      "  483.293  615.848  784.76  1000.   ]\n",
      "[2.30258509 2.5449821  2.78735417 3.02969882 3.27211323 3.51446654\n",
      " 3.75684179 3.9992277  4.2416001  4.48398512 4.72636074 4.96873633\n",
      " 5.21111324 5.45349038 5.6958679  5.93824572 6.18062309 6.42300018\n",
      " 6.66537794 6.90775528]\n"
     ]
    }
   ],
   "source": [
    "lnf=np.log(f)\n",
    "print(v3w)\n",
    "print(f)\n",
    "print(lnf)"
   ]
  },
  {
   "cell_type": "code",
   "execution_count": 39,
   "id": "90f85331-5838-43be-a729-4f5ec0805873",
   "metadata": {},
   "outputs": [
    {
     "name": "stdout",
     "output_type": "stream",
     "text": [
      "Slope: -4.417865266570014e-05, Intercept: 0.0004023822864243119\n"
     ]
    },
    {
     "data": {
      "image/png": "[encoded data removed]",
      "text/plain": [
       "<Figure size 640x480 with 1 Axes>"
      ]
     },
     "metadata": {},
     "output_type": "display_data"
    }
   ],
   "source": [
    "dVdf_mess=CryoTOCS.fit_dVdf(lnf,v3w)"
   ]
  },
  {
   "cell_type": "code",
   "execution_count": 40,
   "id": "45bb079d-4d42-40c1-a30e-84ffb5d7376f",
   "metadata": {},
   "outputs": [
    {
     "data": {
      "image/png": "[encoded data removed]",
      "text/latex": [
       "$\\displaystyle -4.41786526657001 \\cdot 10^{-5}$"
      ],
      "text/plain": [
       "np.float64(-4.417865266570014e-05)"
      ]
     },
     "execution_count": 40,
     "metadata": {},
     "output_type": "execute_result"
    }
   ],
   "source": [
    "dVdf_mess"
   ]
  },
  {
   "cell_type": "markdown",
   "id": "04810b67-5bbc-4df5-81ff-9743dead49b0",
   "metadata": {},
   "source": [
    "### Thermal conductivity der Probe Berechnung"
   ]
  },
  {
   "cell_type": "markdown",
   "id": "05763b55-7e93-453a-beb5-f0ac5257387f",
   "metadata": {},
   "source": [
    "#### Korrelationsgleichung fuer die Messung"
   ]
  },
  {
   "cell_type": "code",
   "execution_count": 41,
   "id": "d81075cf-c55d-46d5-8755-0e12502fdd38",
   "metadata": {},
   "outputs": [],
   "source": [
    "# Define variables\n",
    "dRdT = symbols('dR/dT')\n",
    "dVdf= symbols('dV3w/dlnf')\n",
    "dR,dT,L,lambda_sample,lambda_sub,f,P,I = symbols('dR dT L lambda_sample, lambda_sub f P I')"
   ]
  },
  {
   "cell_type": "code",
   "execution_count": 42,
   "id": "48f04a52-2403-45eb-b419-92824c3ac97d",
   "metadata": {},
   "outputs": [],
   "source": [
    "equation_lambdaSample= Eq( (-P*I*dRdT/(4*pi*L))*(dVdf)**(-1)-lambda_sub,0)"
   ]
  },
  {
   "cell_type": "code",
   "execution_count": 43,
   "id": "bf893388-464e-411c-974f-e2d7c9899274",
   "metadata": {},
   "outputs": [
    {
     "data": {
      "image/png": "[encoded data removed]",
      "text/latex": [
       "$\\displaystyle - \\frac{I P dR/dT}{4 \\pi L dV3w/dlnf} - \\lambda_{sub} = 0$"
      ],
      "text/plain": [
       "     I⋅P⋅dR/dT               \n",
       "- ─────────────── - λ_sub = 0\n",
       "  4⋅π⋅L⋅dV3w/dlnf            "
      ]
     },
     "metadata": {},
     "output_type": "display_data"
    }
   ],
   "source": [
    "display(equation_lambdaSample)"
   ]
  },
  {
   "cell_type": "code",
   "execution_count": 44,
   "id": "97be8540-a6ad-409d-b456-076055686fc5",
   "metadata": {},
   "outputs": [
    {
     "name": "stdout",
     "output_type": "stream",
     "text": [
      "0.001006\n",
      "0.005348199999999999\n",
      "3.0078\n",
      "0.4711822750888865\n"
     ]
    }
   ],
   "source": [
    "P_mean= np.mean(P_mess)\n",
    "I_mean= np.mean(I_mess)\n",
    "print(P_mean)\n",
    "print(I_mean)\n",
    "print(lambdaSubstrate_mess)\n",
    "print(dRdT_mess)"
   ]
  },
  {
   "cell_type": "code",
   "execution_count": 45,
   "id": "2eb14c96-1cb0-4149-8ffa-29b8a49d0e92",
   "metadata": {},
   "outputs": [],
   "source": [
    "substituted_eqLambdaSample = equation_lambdaSample.subs({dRdT:dRdT_mess,P: P_mean, I:I_mean,dVdf:dVdf_mess, L:L_mess})"
   ]
  },
  {
   "cell_type": "code",
   "execution_count": 46,
   "id": "fdda79cd-8c23-42a7-ad1a-30a795f9cb54",
   "metadata": {},
   "outputs": [
    {
     "data": {
      "image/png": "[encoded data removed]",
      "text/latex": [
       "$\\displaystyle - \\lambda_{sub} + \\frac{9.56380798163328}{\\pi} = 0$"
      ],
      "text/plain": [
       "         9.56380798163328    \n",
       "-λ_sub + ──────────────── = 0\n",
       "                π            "
      ]
     },
     "execution_count": 46,
     "metadata": {},
     "output_type": "execute_result"
    }
   ],
   "source": [
    "substituted_eqLambdaSample"
   ]
  },
  {
   "cell_type": "code",
   "execution_count": 47,
   "id": "6940c24b-ebed-4e36-8a60-d717589ed42f",
   "metadata": {},
   "outputs": [],
   "source": [
    "solSample = solve(substituted_eqLambdaSample, lambda_sub)"
   ]
  },
  {
   "cell_type": "code",
   "execution_count": 48,
   "id": "e1593ecd-fd89-42a6-a17d-8a56372b7bfb",
   "metadata": {},
   "outputs": [
    {
     "data": {
      "image/png": "[encoded data removed]",
      "text/latex": [
       "$\\displaystyle 3.04425463011732$"
      ],
      "text/plain": [
       "3.0442546301173183"
      ]
     },
     "execution_count": 48,
     "metadata": {},
     "output_type": "execute_result"
    }
   ],
   "source": [
    "lambdaSample_mess=float(solSample[0])\n",
    "lambdaSample_mess"
   ]
  },
  {
   "cell_type": "code",
   "execution_count": 49,
   "id": "b518aad6-da05-47ee-bfe8-7a32713369c4",
   "metadata": {},
   "outputs": [
    {
     "data": {
      "image/png": "[encoded data removed]",
      "text/latex": [
       "$\\displaystyle 3.0039$"
      ],
      "text/plain": [
       "3.0039"
      ]
     },
     "execution_count": 49,
     "metadata": {},
     "output_type": "execute_result"
    }
   ],
   "source": [
    "CryoTOCS.lambdaSubstrate(T_ref)"
   ]
  },
  {
   "cell_type": "markdown",
   "id": "3bee5c56-1139-46b1-8696-1c51b495cdab",
   "metadata": {},
   "source": [
    "## Messung Thermal conductivity Air"
   ]
  },
  {
   "cell_type": "markdown",
   "id": "658e2ded-8233-4158-818f-300e36b8fd6d",
   "metadata": {},
   "source": [
    "### Import data"
   ]
  },
  {
   "cell_type": "code",
   "execution_count": 50,
   "id": "8d700a46-5b83-4133-b14f-16625b9ad742",
   "metadata": {},
   "outputs": [
    {
     "name": "stderr",
     "output_type": "stream",
     "text": [
      "<>:1: SyntaxWarning: invalid escape sequence '\\M'\n",
      "<>:1: SyntaxWarning: invalid escape sequence '\\M'\n",
      "C:\\Users\\rinc\\AppData\\Local\\Temp\\ipykernel_22144\\4160392252.py:1: SyntaxWarning: invalid escape sequence '\\M'\n",
      "  path_sample='test\\Messung061224\\AirData1.txt'\n"
     ]
    }
   ],
   "source": [
    "path_sample='test\\Messung061224\\AirData1.txt'"
   ]
  },
  {
   "cell_type": "code",
   "execution_count": 51,
   "id": "1bdaf706-de06-452c-a196-0c8135ab241b",
   "metadata": {},
   "outputs": [
    {
     "data": {
      "text/html": [
       "<div>\n",
       "<style scoped>\n",
       "    .dataframe tbody tr th:only-of-type {\n",
       "        vertical-align: middle;\n",
       "    }\n",
       "\n",
       "    .dataframe tbody tr th {\n",
       "        vertical-align: top;\n",
       "    }\n",
       "\n",
       "    .dataframe thead th {\n",
       "        text-align: right;\n",
       "    }\n",
       "</style>\n",
       "<table border=\"1\" class=\"dataframe\">\n",
       "  <thead>\n",
       "    <tr style=\"text-align: right;\">\n",
       "      <th></th>\n",
       "      <th>Frequency</th>\n",
       "      <th>Re(1ω)</th>\n",
       "      <th>Im(1ω)</th>\n",
       "      <th>Re(3ω)</th>\n",
       "      <th>Im(3ω)</th>\n",
       "      <th>Phase(1ω)</th>\n",
       "      <th>Phase(3ω)</th>\n",
       "      <th>Vref</th>\n",
       "      <th>Current</th>\n",
       "      <th>Re(ΔT)</th>\n",
       "      <th>Δ[Re(ΔT)]</th>\n",
       "      <th>Im(ΔT)</th>\n",
       "      <th>Δ[Im(ΔT)]</th>\n",
       "      <th>Power</th>\n",
       "      <th>Temperature</th>\n",
       "    </tr>\n",
       "  </thead>\n",
       "  <tbody>\n",
       "    <tr>\n",
       "      <th>0</th>\n",
       "      <td>10.000</td>\n",
       "      <td>0.187305969200257</td>\n",
       "      <td>-0.000000000000006</td>\n",
       "      <td>0.000305022495720</td>\n",
       "      <td>-0.000072116328212</td>\n",
       "      <td>-0.000000000001740</td>\n",
       "      <td>-13.302146458317843</td>\n",
       "      <td>0.053628</td>\n",
       "      <td>0.005363</td>\n",
       "      <td>0.937893</td>\n",
       "      <td>0.000000</td>\n",
       "      <td>-0.221746</td>\n",
       "      <td>0.010047</td>\n",
       "      <td>0.001004</td>\n",
       "      <td>23.43</td>\n",
       "    </tr>\n",
       "    <tr>\n",
       "      <th>1</th>\n",
       "      <td>12.743</td>\n",
       "      <td>0.187299580227762</td>\n",
       "      <td>-0.000000000000003</td>\n",
       "      <td>0.000293896006287</td>\n",
       "      <td>-0.000071912143013</td>\n",
       "      <td>-0.000000000000968</td>\n",
       "      <td>-13.749309823498775</td>\n",
       "      <td>0.053628</td>\n",
       "      <td>0.005363</td>\n",
       "      <td>0.903677</td>\n",
       "      <td>0.000000</td>\n",
       "      <td>-0.221117</td>\n",
       "      <td>0.010018</td>\n",
       "      <td>0.001004</td>\n",
       "      <td>23.42</td>\n",
       "    </tr>\n",
       "    <tr>\n",
       "      <th>2</th>\n",
       "      <td>16.238</td>\n",
       "      <td>0.187296059096597</td>\n",
       "      <td>0.000000000000011</td>\n",
       "      <td>0.000282637043949</td>\n",
       "      <td>-0.000071902963395</td>\n",
       "      <td>0.000000000003376</td>\n",
       "      <td>-14.273287585759025</td>\n",
       "      <td>0.053628</td>\n",
       "      <td>0.005363</td>\n",
       "      <td>0.869067</td>\n",
       "      <td>0.000000</td>\n",
       "      <td>-0.221091</td>\n",
       "      <td>0.010017</td>\n",
       "      <td>0.001004</td>\n",
       "      <td>23.42</td>\n",
       "    </tr>\n",
       "    <tr>\n",
       "      <th>3</th>\n",
       "      <td>20.691</td>\n",
       "      <td>0.187288598654110</td>\n",
       "      <td>-0.000000000000002</td>\n",
       "      <td>0.000271556187969</td>\n",
       "      <td>-0.000071516974791</td>\n",
       "      <td>-0.000000000000699</td>\n",
       "      <td>-14.754379685577380</td>\n",
       "      <td>0.053628</td>\n",
       "      <td>0.005363</td>\n",
       "      <td>0.834986</td>\n",
       "      <td>0.000000</td>\n",
       "      <td>-0.219902</td>\n",
       "      <td>0.009963</td>\n",
       "      <td>0.001004</td>\n",
       "      <td>23.41</td>\n",
       "    </tr>\n",
       "    <tr>\n",
       "      <th>4</th>\n",
       "      <td>26.367</td>\n",
       "      <td>0.187276922672467</td>\n",
       "      <td>0.000000000000003</td>\n",
       "      <td>0.000260540673452</td>\n",
       "      <td>-0.000071687074235</td>\n",
       "      <td>0.000000000000782</td>\n",
       "      <td>-15.384099575292471</td>\n",
       "      <td>0.053630</td>\n",
       "      <td>0.005363</td>\n",
       "      <td>0.801087</td>\n",
       "      <td>0.000000</td>\n",
       "      <td>-0.220417</td>\n",
       "      <td>0.009987</td>\n",
       "      <td>0.001004</td>\n",
       "      <td>23.38</td>\n",
       "    </tr>\n",
       "  </tbody>\n",
       "</table>\n",
       "</div>"
      ],
      "text/plain": [
       "  Frequency             Re(1ω)              Im(1ω)             Re(3ω)  \\\n",
       "0    10.000  0.187305969200257  -0.000000000000006  0.000305022495720   \n",
       "1    12.743  0.187299580227762  -0.000000000000003  0.000293896006287   \n",
       "2    16.238  0.187296059096597   0.000000000000011  0.000282637043949   \n",
       "3    20.691  0.187288598654110  -0.000000000000002  0.000271556187969   \n",
       "4    26.367  0.187276922672467   0.000000000000003  0.000260540673452   \n",
       "\n",
       "               Im(3ω)           Phase(1ω)            Phase(3ω)      Vref  \\\n",
       "0  -0.000072116328212  -0.000000000001740  -13.302146458317843  0.053628   \n",
       "1  -0.000071912143013  -0.000000000000968  -13.749309823498775  0.053628   \n",
       "2  -0.000071902963395   0.000000000003376  -14.273287585759025  0.053628   \n",
       "3  -0.000071516974791  -0.000000000000699  -14.754379685577380  0.053628   \n",
       "4  -0.000071687074235   0.000000000000782  -15.384099575292471  0.053630   \n",
       "\n",
       "    Current    Re(ΔT) Δ[Re(ΔT)]     Im(ΔT) Δ[Im(ΔT)]     Power Temperature  \n",
       "0  0.005363  0.937893  0.000000  -0.221746  0.010047  0.001004       23.43  \n",
       "1  0.005363  0.903677  0.000000  -0.221117  0.010018  0.001004       23.42  \n",
       "2  0.005363  0.869067  0.000000  -0.221091  0.010017  0.001004       23.42  \n",
       "3  0.005363  0.834986  0.000000  -0.219902  0.009963  0.001004       23.41  \n",
       "4  0.005363  0.801087  0.000000  -0.220417  0.009987  0.001004       23.38  "
      ]
     },
     "execution_count": 51,
     "metadata": {},
     "output_type": "execute_result"
    }
   ],
   "source": [
    "df_sample=CryoTOCS.import_Data(path_sample)\n",
    "df_sample.head()"
   ]
  },
  {
   "cell_type": "markdown",
   "id": "43c8c9f7-03e3-4d80-a90d-eeca09ee2e2d",
   "metadata": {},
   "source": [
    "### Parameters fuer die Berechnung"
   ]
  },
  {
   "cell_type": "code",
   "execution_count": 52,
   "id": "bbb681c0-8586-4f73-8bcc-7bb20b44e918",
   "metadata": {},
   "outputs": [
    {
     "name": "stdout",
     "output_type": "stream",
     "text": [
      "0.4711822750888865\n"
     ]
    }
   ],
   "source": [
    "# Geometrie und Bedingungen\n",
    "T_ref=23                 # Room temperature\n",
    "print(dRdT_mess)\n",
    "\n",
    "# Slope dRe(V3w)/dlnf Berechnung\n",
    "v3w = df_sample['Re(3ω)'].values\n",
    "f   = df_sample['Frequency'].values\n",
    "v3w = v3w.astype(float)\n",
    "f   = f.astype(float)\n",
    "\n",
    "## Thermal conductivity Berechnung\n",
    "P_mess = df_sample['Power'].values\n",
    "P_mess = P_mess.astype(float)\n",
    "\n",
    "I_mess = df_sample['Current'].values\n",
    "I_mess = I_mess.astype(float)"
   ]
  },
  {
   "cell_type": "code",
   "execution_count": 53,
   "id": "822d585f-914b-4ba1-89d9-211741aae2e3",
   "metadata": {},
   "outputs": [
    {
     "data": {
      "image/png": "[encoded data removed]",
      "text/latex": [
       "$\\displaystyle 3.0039$"
      ],
      "text/plain": [
       "3.0039"
      ]
     },
     "execution_count": 53,
     "metadata": {},
     "output_type": "execute_result"
    }
   ],
   "source": [
    "lambdaSubstrate_mess=CryoTOCS.lambdaSubstrate(T_ref)\n",
    "lambdaSubstrate_mess"
   ]
  },
  {
   "cell_type": "markdown",
   "id": "5d8fa9d5-25d2-49ce-bdd7-1b4af64bfc81",
   "metadata": {},
   "source": [
    "### Slope dRe(V3w)/dln(f)"
   ]
  },
  {
   "cell_type": "code",
   "execution_count": 54,
   "id": "0ba3431c-a287-4815-97d3-d2c5a7ccecde",
   "metadata": {},
   "outputs": [
    {
     "name": "stdout",
     "output_type": "stream",
     "text": [
      "[0.00030502 0.0002939  0.00028264 0.00027156 0.00026054 0.00024942\n",
      " 0.0002383  0.0002272  0.00021626 0.00020514 0.00019481 0.00018343\n",
      " 0.00017254 0.00016188 0.0001514  0.00014103 0.00013076 0.00012083\n",
      " 0.00011097 0.0001031 ]\n",
      "[  10.      12.743   16.238   20.691   26.367   33.598   42.813   54.556\n",
      "   69.519   88.587  112.884  143.845  183.298  233.572  297.635  379.269\n",
      "  483.293  615.848  784.76  1000.   ]\n",
      "[2.30258509 2.5449821  2.78735417 3.02969882 3.27211323 3.51446654\n",
      " 3.75684179 3.9992277  4.2416001  4.48398512 4.72636074 4.96873633\n",
      " 5.21111324 5.45349038 5.6958679  5.93824572 6.18062309 6.42300018\n",
      " 6.66537794 6.90775528]\n"
     ]
    }
   ],
   "source": [
    "lnf=np.log(f)\n",
    "print(v3w)\n",
    "print(f)\n",
    "print(lnf)"
   ]
  },
  {
   "cell_type": "code",
   "execution_count": 55,
   "id": "9b0c498b-9af1-433e-a7e5-dfc399a57c25",
   "metadata": {},
   "outputs": [
    {
     "name": "stdout",
     "output_type": "stream",
     "text": [
      "Slope: -4.4414147116232566e-05, Intercept: 0.0004055716560478374\n"
     ]
    },
    {
     "data": {
      "image/png": "[encoded data removed]",
      "text/plain": [
       "<Figure size 640x480 with 1 Axes>"
      ]
     },
     "metadata": {},
     "output_type": "display_data"
    }
   ],
   "source": [
    "dVdf_mess=CryoTOCS.fit_dVdf(lnf,v3w)"
   ]
  },
  {
   "cell_type": "code",
   "execution_count": 56,
   "id": "f8534c19-101c-4bb5-9201-702a860a8e41",
   "metadata": {},
   "outputs": [
    {
     "data": {
      "image/png": "[encoded data removed]",
      "text/latex": [
       "$\\displaystyle -4.44141471162326 \\cdot 10^{-5}$"
      ],
      "text/plain": [
       "np.float64(-4.4414147116232566e-05)"
      ]
     },
     "execution_count": 56,
     "metadata": {},
     "output_type": "execute_result"
    }
   ],
   "source": [
    "dVdf_mess"
   ]
  },
  {
   "cell_type": "markdown",
   "id": "1b08cd06-65c3-466f-8808-10314f9f1d4e",
   "metadata": {},
   "source": [
    "### Thermal conductivity der Probe Berechnung"
   ]
  },
  {
   "cell_type": "markdown",
   "id": "a1251a3b-036b-439e-915b-c9f0caf6acee",
   "metadata": {},
   "source": [
    "#### Korrelationsgleichung fuer die Messung"
   ]
  },
  {
   "cell_type": "code",
   "execution_count": 57,
   "id": "13d9421d-7b8d-4480-b1b2-5cba320eee3b",
   "metadata": {},
   "outputs": [],
   "source": [
    "# Define variables\n",
    "dRdT = symbols('dR/dT')\n",
    "dVdf= symbols('dV3w/dlnf')\n",
    "dR,dT,L,lambda_sample,lambda_sub,f,P,I = symbols('dR dT L lambda_sample, lambda_sub f P I')"
   ]
  },
  {
   "cell_type": "code",
   "execution_count": 58,
   "id": "34f0ef78-5e7a-40be-b633-ee8f385a30cc",
   "metadata": {},
   "outputs": [],
   "source": [
    "equation_lambdaSample= Eq( (-P*I*dRdT/(4*pi*L))*(dVdf)**(-1)-lambda_sub-lambda_sample,0)"
   ]
  },
  {
   "cell_type": "code",
   "execution_count": 59,
   "id": "4c0219cc-c852-48a7-941c-925c8ab3bde9",
   "metadata": {},
   "outputs": [
    {
     "data": {
      "image/png": "[encoded data removed]",
      "text/latex": [
       "$\\displaystyle - \\frac{I P dR/dT}{4 \\pi L dV3w/dlnf} - \\lambda_{sample} - \\lambda_{sub} = 0$"
      ],
      "text/plain": [
       "     I⋅P⋅dR/dT                         \n",
       "- ─────────────── - λₛₐₘₚₗₑ - λ_sub = 0\n",
       "  4⋅π⋅L⋅dV3w/dlnf                      "
      ]
     },
     "metadata": {},
     "output_type": "display_data"
    }
   ],
   "source": [
    "display(equation_lambdaSample)"
   ]
  },
  {
   "cell_type": "code",
   "execution_count": 60,
   "id": "62097e2d-367b-4d30-94b1-0ea5f2802f37",
   "metadata": {},
   "outputs": [
    {
     "name": "stdout",
     "output_type": "stream",
     "text": [
      "0.0010040000000000001\n",
      "0.005363299999999999\n",
      "3.0039\n",
      "0.4711822750888865\n"
     ]
    }
   ],
   "source": [
    "P_mean= np.mean(P_mess)\n",
    "I_mean= np.mean(I_mess)\n",
    "print(P_mean)\n",
    "print(I_mean)\n",
    "print(lambdaSubstrate_mess)\n",
    "print(dRdT_mess)"
   ]
  },
  {
   "cell_type": "code",
   "execution_count": 61,
   "id": "9326f8d6-29f5-4ba1-921d-985b0f905052",
   "metadata": {},
   "outputs": [],
   "source": [
    "substituted_eqLambdaSample = equation_lambdaSample.subs({dRdT:dRdT_mess,P: P_mean, I:I_mean, lambda_sub:lambdaSubstrate_mess,dVdf:dVdf_mess, L:L_mess})"
   ]
  },
  {
   "cell_type": "code",
   "execution_count": 62,
   "id": "cd089131-2a17-4ac3-9623-7ff609b0618e",
   "metadata": {},
   "outputs": [
    {
     "data": {
      "image/png": "[encoded data removed]",
      "text/latex": [
       "$\\displaystyle - \\lambda_{sample} - 3.0039 + \\frac{9.52099135187814}{\\pi} = 0$"
      ],
      "text/plain": [
       "                    9.52099135187814    \n",
       "-λₛₐₘₚₗₑ - 3.0039 + ──────────────── = 0\n",
       "                           π            "
      ]
     },
     "execution_count": 62,
     "metadata": {},
     "output_type": "execute_result"
    }
   ],
   "source": [
    "substituted_eqLambdaSample"
   ]
  },
  {
   "cell_type": "code",
   "execution_count": 63,
   "id": "b9dc0723-ec57-4350-ad1d-97de29cec10e",
   "metadata": {},
   "outputs": [],
   "source": [
    "solSample = solve(substituted_eqLambdaSample, lambda_sample)"
   ]
  },
  {
   "cell_type": "code",
   "execution_count": 64,
   "id": "02e9810b-9007-4190-ab62-6381195d3c45",
   "metadata": {},
   "outputs": [
    {
     "data": {
      "image/png": "[encoded data removed]",
      "text/latex": [
       "$\\displaystyle 0.026725673573186$"
      ],
      "text/plain": [
       "0.026725673573186025"
      ]
     },
     "execution_count": 64,
     "metadata": {},
     "output_type": "execute_result"
    }
   ],
   "source": [
    "lambdaSample_mess=float(solSample[0])\n",
    "lambdaSample_mess"
   ]
  },
  {
   "cell_type": "code",
   "execution_count": null,
   "id": "b0ad0ab9-3fec-4ac9-a98c-77c1ccf1cc24",
   "metadata": {},
   "outputs": [],
   "source": []
  },
  {
   "cell_type": "markdown",
   "id": "26b61c0b-6b21-4ef7-b4e0-664d759a02ef",
   "metadata": {},
   "source": [
    "## Messung Thermal conductivity Si"
   ]
  },
  {
   "cell_type": "markdown",
   "id": "2114a94c-4d91-4955-b203-6da2208f3123",
   "metadata": {},
   "source": [
    "### Import data"
   ]
  },
  {
   "cell_type": "code",
   "execution_count": 80,
   "id": "b2942245-bd76-492e-90a0-166ef4fe20bb",
   "metadata": {},
   "outputs": [
    {
     "name": "stderr",
     "output_type": "stream",
     "text": [
      "<>:1: SyntaxWarning: invalid escape sequence '\\M'\n",
      "<>:1: SyntaxWarning: invalid escape sequence '\\M'\n",
      "C:\\Users\\rinc\\AppData\\Local\\Temp\\ipykernel_22144\\48910642.py:1: SyntaxWarning: invalid escape sequence '\\M'\n",
      "  path_sample='test\\Messung061224\\Si2.txt'\n"
     ]
    }
   ],
   "source": [
    "path_sample='test\\Messung061224\\Si2.txt'"
   ]
  },
  {
   "cell_type": "code",
   "execution_count": 81,
   "id": "aa1c5a4b-63f2-45b2-9fc4-935c1fd8ba92",
   "metadata": {},
   "outputs": [
    {
     "data": {
      "text/html": [
       "<div>\n",
       "<style scoped>\n",
       "    .dataframe tbody tr th:only-of-type {\n",
       "        vertical-align: middle;\n",
       "    }\n",
       "\n",
       "    .dataframe tbody tr th {\n",
       "        vertical-align: top;\n",
       "    }\n",
       "\n",
       "    .dataframe thead th {\n",
       "        text-align: right;\n",
       "    }\n",
       "</style>\n",
       "<table border=\"1\" class=\"dataframe\">\n",
       "  <thead>\n",
       "    <tr style=\"text-align: right;\">\n",
       "      <th></th>\n",
       "      <th>Frequency</th>\n",
       "      <th>Re(1ω)</th>\n",
       "      <th>Im(1ω)</th>\n",
       "      <th>Re(3ω)</th>\n",
       "      <th>Im(3ω)</th>\n",
       "      <th>Phase(1ω)</th>\n",
       "      <th>Phase(3ω)</th>\n",
       "      <th>Vref</th>\n",
       "      <th>Current</th>\n",
       "      <th>Re(ΔT)</th>\n",
       "      <th>Δ[Re(ΔT)]</th>\n",
       "      <th>Im(ΔT)</th>\n",
       "      <th>Δ[Im(ΔT)]</th>\n",
       "      <th>Power</th>\n",
       "      <th>Temperature</th>\n",
       "    </tr>\n",
       "  </thead>\n",
       "  <tbody>\n",
       "    <tr>\n",
       "      <th>0</th>\n",
       "      <td>10.000</td>\n",
       "      <td>0.187328134990776</td>\n",
       "      <td>-0.000000000000008</td>\n",
       "      <td>0.000305479241778</td>\n",
       "      <td>-0.000072301848385</td>\n",
       "      <td>-0.000000000002307</td>\n",
       "      <td>-13.315917740883085</td>\n",
       "      <td>0.053616</td>\n",
       "      <td>0.005362</td>\n",
       "      <td>0.939509</td>\n",
       "      <td>0.000000</td>\n",
       "      <td>-0.222366</td>\n",
       "      <td>0.010075</td>\n",
       "      <td>0.001004</td>\n",
       "      <td>23.53</td>\n",
       "    </tr>\n",
       "    <tr>\n",
       "      <th>1</th>\n",
       "      <td>12.743</td>\n",
       "      <td>0.187321609324799</td>\n",
       "      <td>0.000000000000000</td>\n",
       "      <td>0.000294124945368</td>\n",
       "      <td>-0.000071982511330</td>\n",
       "      <td>0.000000000000054</td>\n",
       "      <td>-13.751947313784402</td>\n",
       "      <td>0.053615</td>\n",
       "      <td>0.005362</td>\n",
       "      <td>0.904594</td>\n",
       "      <td>0.000000</td>\n",
       "      <td>-0.221385</td>\n",
       "      <td>0.010030</td>\n",
       "      <td>0.001004</td>\n",
       "      <td>23.52</td>\n",
       "    </tr>\n",
       "    <tr>\n",
       "      <th>2</th>\n",
       "      <td>16.238</td>\n",
       "      <td>0.187313334624629</td>\n",
       "      <td>0.000000000000002</td>\n",
       "      <td>0.000283089967804</td>\n",
       "      <td>-0.000072023187015</td>\n",
       "      <td>0.000000000000707</td>\n",
       "      <td>-14.274237969830605</td>\n",
       "      <td>0.053616</td>\n",
       "      <td>0.005362</td>\n",
       "      <td>0.870642</td>\n",
       "      <td>0.000000</td>\n",
       "      <td>-0.221507</td>\n",
       "      <td>0.010036</td>\n",
       "      <td>0.001004</td>\n",
       "      <td>23.51</td>\n",
       "    </tr>\n",
       "    <tr>\n",
       "      <th>3</th>\n",
       "      <td>20.691</td>\n",
       "      <td>0.187304145413308</td>\n",
       "      <td>0.000000000000005</td>\n",
       "      <td>0.000271910686126</td>\n",
       "      <td>-0.000071641859059</td>\n",
       "      <td>0.000000000001647</td>\n",
       "      <td>-14.760591208303117</td>\n",
       "      <td>0.053618</td>\n",
       "      <td>0.005362</td>\n",
       "      <td>0.836238</td>\n",
       "      <td>0.000000</td>\n",
       "      <td>-0.220328</td>\n",
       "      <td>0.009983</td>\n",
       "      <td>0.001004</td>\n",
       "      <td>23.49</td>\n",
       "    </tr>\n",
       "    <tr>\n",
       "      <th>4</th>\n",
       "      <td>26.367</td>\n",
       "      <td>0.187296660965373</td>\n",
       "      <td>0.000000000000003</td>\n",
       "      <td>0.000260670997890</td>\n",
       "      <td>-0.000071813837698</td>\n",
       "      <td>0.000000000000871</td>\n",
       "      <td>-15.402672722911191</td>\n",
       "      <td>0.053619</td>\n",
       "      <td>0.005362</td>\n",
       "      <td>0.801655</td>\n",
       "      <td>0.000000</td>\n",
       "      <td>-0.220853</td>\n",
       "      <td>0.010006</td>\n",
       "      <td>0.001004</td>\n",
       "      <td>23.47</td>\n",
       "    </tr>\n",
       "  </tbody>\n",
       "</table>\n",
       "</div>"
      ],
      "text/plain": [
       "  Frequency             Re(1ω)              Im(1ω)             Re(3ω)  \\\n",
       "0    10.000  0.187328134990776  -0.000000000000008  0.000305479241778   \n",
       "1    12.743  0.187321609324799   0.000000000000000  0.000294124945368   \n",
       "2    16.238  0.187313334624629   0.000000000000002  0.000283089967804   \n",
       "3    20.691  0.187304145413308   0.000000000000005  0.000271910686126   \n",
       "4    26.367  0.187296660965373   0.000000000000003  0.000260670997890   \n",
       "\n",
       "               Im(3ω)           Phase(1ω)            Phase(3ω)      Vref  \\\n",
       "0  -0.000072301848385  -0.000000000002307  -13.315917740883085  0.053616   \n",
       "1  -0.000071982511330   0.000000000000054  -13.751947313784402  0.053615   \n",
       "2  -0.000072023187015   0.000000000000707  -14.274237969830605  0.053616   \n",
       "3  -0.000071641859059   0.000000000001647  -14.760591208303117  0.053618   \n",
       "4  -0.000071813837698   0.000000000000871  -15.402672722911191  0.053619   \n",
       "\n",
       "    Current    Re(ΔT) Δ[Re(ΔT)]     Im(ΔT) Δ[Im(ΔT)]     Power Temperature  \n",
       "0  0.005362  0.939509  0.000000  -0.222366  0.010075  0.001004       23.53  \n",
       "1  0.005362  0.904594  0.000000  -0.221385  0.010030  0.001004       23.52  \n",
       "2  0.005362  0.870642  0.000000  -0.221507  0.010036  0.001004       23.51  \n",
       "3  0.005362  0.836238  0.000000  -0.220328  0.009983  0.001004       23.49  \n",
       "4  0.005362  0.801655  0.000000  -0.220853  0.010006  0.001004       23.47  "
      ]
     },
     "execution_count": 81,
     "metadata": {},
     "output_type": "execute_result"
    }
   ],
   "source": [
    "df_sample=CryoTOCS.import_Data(path_sample)\n",
    "df_sample.head()"
   ]
  },
  {
   "cell_type": "markdown",
   "id": "01fb8089-3a4c-41cc-b7b5-a4d8b367e07c",
   "metadata": {},
   "source": [
    "### Parameters fuer die Berechnung"
   ]
  },
  {
   "cell_type": "code",
   "execution_count": 82,
   "id": "a252ccda-ae69-4fa0-8637-7a3180adcfe8",
   "metadata": {},
   "outputs": [
    {
     "name": "stdout",
     "output_type": "stream",
     "text": [
      "0.4711822750888865\n"
     ]
    }
   ],
   "source": [
    "# Geometrie und Bedingungen\n",
    "T_ref=23                 # Room temperature\n",
    "print(dRdT_mess)\n",
    "\n",
    "# Slope dRe(V3w)/dlnf Berechnung\n",
    "v3w = df_sample['Re(3ω)'].values\n",
    "f   = df_sample['Frequency'].values\n",
    "v3w = v3w.astype(float)\n",
    "f   = f.astype(float)\n",
    "\n",
    "## Thermal conductivity Berechnung\n",
    "P_mess = df_sample['Power'].values\n",
    "P_mess = P_mess.astype(float)\n",
    "\n",
    "I_mess = df_sample['Current'].values\n",
    "I_mess = I_mess.astype(float)"
   ]
  },
  {
   "cell_type": "code",
   "execution_count": 83,
   "id": "0ed74cc1-f43a-4bac-98b8-7c7067b1ee94",
   "metadata": {},
   "outputs": [
    {
     "data": {
      "image/png": "[encoded data removed]",
      "text/latex": [
       "$\\displaystyle 3.0039$"
      ],
      "text/plain": [
       "3.0039"
      ]
     },
     "execution_count": 83,
     "metadata": {},
     "output_type": "execute_result"
    }
   ],
   "source": [
    "lambdaSubstrate_mess=CryoTOCS.lambdaSubstrate(T_ref)\n",
    "lambdaSubstrate_mess"
   ]
  },
  {
   "cell_type": "markdown",
   "id": "aefe3299-2f42-41ed-bbc0-4ee680404c4b",
   "metadata": {},
   "source": [
    "### Slope dRe(V3w)/dln(f)"
   ]
  },
  {
   "cell_type": "code",
   "execution_count": 84,
   "id": "29fdcf5f-9583-4884-8e76-32e7e371cf87",
   "metadata": {},
   "outputs": [
    {
     "name": "stdout",
     "output_type": "stream",
     "text": [
      "[0.00030548 0.00029412 0.00028309 0.00027191 0.00026067 0.00024973\n",
      " 0.00023851 0.00022747 0.00021644 0.00020531 0.00019428 0.00018241\n",
      " 0.00017278 0.00016193 0.00015137 0.00014103 0.00013053 0.00012054\n",
      " 0.00011059 0.00010247]\n",
      "[  10.      12.743   16.238   20.691   26.367   33.598   42.813   54.556\n",
      "   69.519   88.587  112.884  143.845  183.298  233.572  297.635  379.269\n",
      "  483.293  615.848  784.76  1000.   ]\n",
      "[2.30258509 2.5449821  2.78735417 3.02969882 3.27211323 3.51446654\n",
      " 3.75684179 3.9992277  4.2416001  4.48398512 4.72636074 4.96873633\n",
      " 5.21111324 5.45349038 5.6958679  5.93824572 6.18062309 6.42300018\n",
      " 6.66537794 6.90775528]\n"
     ]
    }
   ],
   "source": [
    "lnf=np.log(f)\n",
    "print(v3w)\n",
    "print(f)\n",
    "print(lnf)"
   ]
  },
  {
   "cell_type": "code",
   "execution_count": 85,
   "id": "945fce6e-4a21-44a1-b562-259d34d6faf8",
   "metadata": {},
   "outputs": [
    {
     "name": "stdout",
     "output_type": "stream",
     "text": [
      "Slope: -4.459988229619528e-05, Intercept: 0.00040642346171987067\n"
     ]
    },
    {
     "data": {
      "image/png": "[encoded data removed]",
      "text/plain": [
       "<Figure size 640x480 with 1 Axes>"
      ]
     },
     "metadata": {},
     "output_type": "display_data"
    }
   ],
   "source": [
    "dVdf_mess=CryoTOCS.fit_dVdf(lnf,v3w)"
   ]
  },
  {
   "cell_type": "code",
   "execution_count": 86,
   "id": "c7cdd4ba-825b-4549-b96b-7dc8da350137",
   "metadata": {},
   "outputs": [
    {
     "data": {
      "image/png": "[encoded data removed]",
      "text/latex": [
       "$\\displaystyle -4.45998822961953 \\cdot 10^{-5}$"
      ],
      "text/plain": [
       "np.float64(-4.459988229619528e-05)"
      ]
     },
     "execution_count": 86,
     "metadata": {},
     "output_type": "execute_result"
    }
   ],
   "source": [
    "dVdf_mess"
   ]
  },
  {
   "cell_type": "markdown",
   "id": "1158fa75-74d1-4cec-8721-916080d2ed4f",
   "metadata": {},
   "source": [
    "### Thermal conductivity der Probe Berechnung"
   ]
  },
  {
   "cell_type": "markdown",
   "id": "c21da037-77ca-46c1-be6d-9d8f4a9566fe",
   "metadata": {},
   "source": [
    "#### Korrelationsgleichung fuer die Messung"
   ]
  },
  {
   "cell_type": "code",
   "execution_count": 87,
   "id": "77023c17-b318-47c1-bf32-d20c97830c94",
   "metadata": {},
   "outputs": [],
   "source": [
    "# Define variables\n",
    "dRdT = symbols('dR/dT')\n",
    "dVdf= symbols('dV3w/dlnf')\n",
    "dR,dT,L,lambda_sample,lambda_sub,f,P,I = symbols('dR dT L lambda_sample, lambda_sub f P I')"
   ]
  },
  {
   "cell_type": "code",
   "execution_count": 88,
   "id": "d89b65bc-0978-4f9e-828f-0e7f4392d87e",
   "metadata": {},
   "outputs": [],
   "source": [
    "equation_lambdaSample= Eq( (-P*I*dRdT/(4*pi*L))*(dVdf)**(-1)-lambda_sub-lambda_sample,0)"
   ]
  },
  {
   "cell_type": "code",
   "execution_count": 89,
   "id": "1a253a25-d0ff-4c4f-8241-3e67af9ac367",
   "metadata": {},
   "outputs": [
    {
     "data": {
      "image/png": "[encoded data removed]",
      "text/latex": [
       "$\\displaystyle - \\frac{I P dR/dT}{4 \\pi L dV3w/dlnf} - \\lambda_{sample} - \\lambda_{sub} = 0$"
      ],
      "text/plain": [
       "     I⋅P⋅dR/dT                         \n",
       "- ─────────────── - λₛₐₘₚₗₑ - λ_sub = 0\n",
       "  4⋅π⋅L⋅dV3w/dlnf                      "
      ]
     },
     "metadata": {},
     "output_type": "display_data"
    }
   ],
   "source": [
    "display(equation_lambdaSample)"
   ]
  },
  {
   "cell_type": "code",
   "execution_count": 90,
   "id": "f1ea4966-ae84-47b4-ad3c-b99f86894da6",
   "metadata": {},
   "outputs": [
    {
     "name": "stdout",
     "output_type": "stream",
     "text": [
      "0.0010040000000000001\n",
      "0.005362999999999998\n",
      "3.0039\n",
      "0.4711822750888865\n"
     ]
    }
   ],
   "source": [
    "P_mean= np.mean(P_mess)\n",
    "I_mean= np.mean(I_mess)\n",
    "print(P_mean)\n",
    "print(I_mean)\n",
    "print(lambdaSubstrate_mess)\n",
    "print(dRdT_mess)"
   ]
  },
  {
   "cell_type": "code",
   "execution_count": 91,
   "id": "bc8adda7-72b6-477c-9510-d4bdc31fc3a0",
   "metadata": {},
   "outputs": [],
   "source": [
    "substituted_eqLambdaSample = equation_lambdaSample.subs({dRdT:dRdT_mess,P: P_mean, I:I_mean, lambda_sub:lambdaSubstrate_mess,dVdf:dVdf_mess, L:L_mess})"
   ]
  },
  {
   "cell_type": "code",
   "execution_count": 92,
   "id": "04aa267a-ae1a-4bdb-bc84-9480bfc501ee",
   "metadata": {},
   "outputs": [
    {
     "data": {
      "image/png": "[encoded data removed]",
      "text/latex": [
       "$\\displaystyle - \\lambda_{sample} - 3.0039 + \\frac{9.48081105766855}{\\pi} = 0$"
      ],
      "text/plain": [
       "                    9.48081105766855    \n",
       "-λₛₐₘₚₗₑ - 3.0039 + ──────────────── = 0\n",
       "                           π            "
      ]
     },
     "execution_count": 92,
     "metadata": {},
     "output_type": "execute_result"
    }
   ],
   "source": [
    "substituted_eqLambdaSample"
   ]
  },
  {
   "cell_type": "code",
   "execution_count": 93,
   "id": "988a8e9e-c900-4545-a28f-5df0fe224aa0",
   "metadata": {},
   "outputs": [],
   "source": [
    "solSample = solve(substituted_eqLambdaSample, lambda_sample)"
   ]
  },
  {
   "cell_type": "code",
   "execution_count": 94,
   "id": "806501ae-fbb0-40d6-8e73-fa807cfd5953",
   "metadata": {},
   "outputs": [
    {
     "data": {
      "image/png": "[encoded data removed]",
      "text/latex": [
       "$\\displaystyle 0.0139358886965002$"
      ],
      "text/plain": [
       "0.013935888696500207"
      ]
     },
     "execution_count": 94,
     "metadata": {},
     "output_type": "execute_result"
    }
   ],
   "source": [
    "lambdaSample_mess=float(solSample[0])\n",
    "lambdaSample_mess"
   ]
  },
  {
   "cell_type": "code",
   "execution_count": null,
   "id": "f171bce6-fc7e-4d01-a71a-3122efbcb6d3",
   "metadata": {},
   "outputs": [],
   "source": []
  }
 ],
 "metadata": {
  "kernelspec": {
   "display_name": "Python 3 (ipykernel)",
   "language": "python",
   "name": "python3"
  },
  "language_info": {
   "codemirror_mode": {
    "name": "ipython",
    "version": 3
   },
   "file_extension": ".py",
   "mimetype": "text/x-python",
   "name": "python",
   "nbconvert_exporter": "python",
   "pygments_lexer": "ipython3",
   "version": "3.13.0"
  }
 },
 "nbformat": 4,
 "nbformat_minor": 5
}
